{
 "cells": [
  {
   "cell_type": "markdown",
   "id": "52b06be7-c357-4bf0-8448-77f2daf5797f",
   "metadata": {},
   "source": [
    "# some scratch code on the file name matches"
   ]
  },
  {
   "cell_type": "code",
   "execution_count": 51,
   "id": "3297de4f-f26a-4a20-9350-c6ecd5dec36f",
   "metadata": {},
   "outputs": [],
   "source": [
    "import re \n",
    "\n",
    "def get_base_match(fname):\n",
    "    # try one of several patterns, using the first that matches\n",
    "    res =  [# delaware - 697-has zip codes\n",
    "            # zip-code-19947-outcomes_2020-10-19_162302.csv'\n",
    "            # but we will keep these in place, as zip codes are potentially\n",
    "            # semantically meaningful\n",
    "        \n",
    "            # idaho'Sheet_48_Shoshone_2022-02-22_212535.csv'\n",
    "            \"Sheet_\\d{2}_(.*)_\\d{4}-\\d{2}-\\d{2}_\\d{6}.(\\w+)$\",\n",
    "            #VDH-COVID-19-PublicUseDataset-Cases_By-Age-Group2020-05-12_12231589300583.csv\n",
    "            \"(.*)\\d{4}-\\d{2}-\\d{2}\\_\\d+.(\\w+)$\",\n",
    "            # 'DC-COVID-19-Data-for-April-05-2021.xlsx'\n",
    "            \"(.*)-\\w+-\\d{2}-\\d{4}.(\\w+)$\",\n",
    "            #' illinois_demo_race05_20_2022.csv'\n",
    "            \"(.*)\\d{2}_\\d{2}_\\d{4}.(\\w+)$\",\n",
    "            \"(.*)[-_]{0,1}\\d{4}-\\d{2}[-\\s]*\\d{2}\\[_-]\\d+.(\\w+)$\",\n",
    "            \"(.*)_\\d{4}-\\d{2}-\\d{2}_\\d{6,}.(\\w+)$\",\n",
    "            \"(.*)_\\d_\\d_\\d{4}_\\d.(\\w+)$\",\n",
    "            \"(.*)_\\d_\\d_\\d{4}_\\d.(\\w+)$\",\n",
    "            \"(.*)_\\d{1,2}_\\d{1,2}_\\d{4}.(\\w+)$\",\n",
    "            \"(.*)_\\d{1,2}-\\d{1,2}-\\d{2}_corrected.(\\w+)$\",\n",
    "            #COVID-19_OB_weekly_report_7_8_2020_corrected_7-9.xlsx\n",
    "            \"(.*)_\\d{1,2}_\\d{1,2}_\\d{2,4}_corrected_\\d{1,2}-\\d{1,2}.(\\w+)$\",\n",
    "            #covid_outbreak_weekly_report_6-10-20.xlsx,\n",
    "            \"(.*)\\_\\d{1,2}\\-\\d{1,2}\\-\\d{2,4}.(\\w+)$\",\n",
    "            # \"COVID-19_OB_weekly_report_8_20_2020-2.xlsx\"\n",
    "            \"(.*)\\_\\d{1,2}\\_\\d{1,2}\\_\\d{2,4}\\-\\d.(\\w+)$\",\n",
    "            #COVID-19_OB_weekly_report_7_8_2020_corrected_7-9.xlsx            \n",
    "            \"(.*)_\\d{1,2}_\\d{1,2}_\\d{2,4}-corrected_\\d{1,2}.(\\w+)$\",\n",
    "            #covid_outbreak_weekly_report_5-20-20_.xlsx\n",
    "            \"(.*)_\\d{1,2}-\\d{1,2}-\\d{2,4}_.(\\w+)$\",\n",
    "            #colorado_covid-19_outbreaks_2.xlsx\n",
    "            \"(.*)_\\d+.(\\w+)$\",\n",
    "            #COVID-19_OB_weekly_report_8.5.2020.xlsx\n",
    "            \"(.*)_\\d{1,2}.\\d{1,2}.\\d{2,4}.(\\w+)$\",\n",
    "            # syndromic-surveillance-gating-criteria_EXPORT_cases_by_county_covid-19-v2_2020-11-18.csv\n",
    "            \"(.*)_\\d{4}-\\d{2}-\\d{2}.(\\w+)$\",\n",
    "            #\" NYTIMES names start with dates... 20220407_us.csv', \n",
    "            #'20220512_us.csv', '20220512_us-counties.csv', '20220512_us-states.csv'\n",
    "            \"^\\d{8}_([^.]+).(\\w+)$\",\n",
    "            # ***** FIX -ADD \n",
    "            # colorado_covid-19_outbreaks.xlsx   - this one means we'll catch almost anything\n",
    "            \"(.*)\\.(\\w+)$\"\n",
    "           ]\n",
    "\n",
    "    for reg in res:\n",
    "        p = re.compile(reg)\n",
    "        m = p.match(fname)\n",
    "        if m is not None:\n",
    "            break\n",
    "\n",
    "    try: \n",
    "        base_name = m.group(1)\n",
    "        ext = m.group(2)\n",
    "        return (base_name,ext)\n",
    "    except:\n",
    "        print(\"can't match...\"+fname)\n",
    "\n"
   ]
  },
  {
   "cell_type": "code",
   "execution_count": 2,
   "id": "339a0d3a-e6f8-4a79-a480-9ade82f1ea1f",
   "metadata": {},
   "outputs": [],
   "source": [
    "test1 = 'Downloadable_Demographic_2022-02-01_042303.xlsx'\n",
    "test2 = 'zip-code-19947-outcomes_2020-10-19_162302.csv'"
   ]
  },
  {
   "cell_type": "code",
   "execution_count": 3,
   "id": "71ac59c5-065a-4312-a8cd-3051c1d7476c",
   "metadata": {},
   "outputs": [
    {
     "data": {
      "text/plain": [
       "('Downloadable_Demographic', 'xlsx')"
      ]
     },
     "execution_count": 3,
     "metadata": {},
     "output_type": "execute_result"
    }
   ],
   "source": [
    "get_base_match(test1)"
   ]
  },
  {
   "cell_type": "code",
   "execution_count": 4,
   "id": "af991e65-4778-4b02-a143-1dac886fbfa5",
   "metadata": {},
   "outputs": [],
   "source": [
    "reg1 =\"(.*)_\\d{4}-\\d{2}-\\d{2}_\\d{6,}.(\\w+)$\""
   ]
  },
  {
   "cell_type": "code",
   "execution_count": 5,
   "id": "ee611dbd-fd73-497c-a754-d6843e517feb",
   "metadata": {},
   "outputs": [],
   "source": [
    "p = re.compile(reg1)"
   ]
  },
  {
   "cell_type": "code",
   "execution_count": 6,
   "id": "78dd39be-014e-4117-a09a-33f636fff5b7",
   "metadata": {},
   "outputs": [],
   "source": [
    "m = p.match(test1)"
   ]
  },
  {
   "cell_type": "code",
   "execution_count": 7,
   "id": "3316377b-956d-41eb-9978-43f52370d1dd",
   "metadata": {},
   "outputs": [
    {
     "data": {
      "text/plain": [
       "<re.Match object; span=(0, 47), match='Downloadable_Demographic_2022-02-01_042303.xlsx'>"
      ]
     },
     "execution_count": 7,
     "metadata": {},
     "output_type": "execute_result"
    }
   ],
   "source": [
    "m"
   ]
  },
  {
   "cell_type": "code",
   "execution_count": 12,
   "id": "22619ef8-f511-4144-b49a-62ed7e150b94",
   "metadata": {},
   "outputs": [
    {
     "data": {
      "text/plain": [
       "2"
      ]
     },
     "execution_count": 12,
     "metadata": {},
     "output_type": "execute_result"
    }
   ],
   "source": [
    "len(m.groups())"
   ]
  },
  {
   "cell_type": "code",
   "execution_count": 17,
   "id": "480295c6-7fae-4f63-9c8f-43f6accce2fb",
   "metadata": {},
   "outputs": [
    {
     "data": {
      "text/plain": [
       "('Downloadable_Demographic', 'xlsx')"
      ]
     },
     "execution_count": 17,
     "metadata": {},
     "output_type": "execute_result"
    }
   ],
   "source": [
    "m.groups(2)"
   ]
  },
  {
   "cell_type": "code",
   "execution_count": 18,
   "id": "c83dbdd1-d63d-4378-a53d-c5810d2b32c8",
   "metadata": {},
   "outputs": [
    {
     "data": {
      "text/plain": [
       "'Downloadable_Demographic'"
      ]
     },
     "execution_count": 18,
     "metadata": {},
     "output_type": "execute_result"
    }
   ],
   "source": [
    "m.group(1)"
   ]
  },
  {
   "cell_type": "code",
   "execution_count": 19,
   "id": "0043b911-b499-4d31-a9c7-4ad482368df0",
   "metadata": {},
   "outputs": [
    {
     "data": {
      "text/plain": [
       "'xlsx'"
      ]
     },
     "execution_count": 19,
     "metadata": {},
     "output_type": "execute_result"
    }
   ],
   "source": [
    "m.group(2)"
   ]
  },
  {
   "cell_type": "code",
   "execution_count": 20,
   "id": "ce5d087b-3db9-4b78-b95d-bf0191a03b16",
   "metadata": {},
   "outputs": [],
   "source": [
    "reg2='(.*)-\\d{5}-(.*)_\\d{4}-\\d{2}-\\d{2}_\\d{6}.(\\w+)$'"
   ]
  },
  {
   "cell_type": "code",
   "execution_count": 21,
   "id": "fc7f0465-4458-4e8e-acef-23d74ec930a9",
   "metadata": {},
   "outputs": [
    {
     "data": {
      "text/plain": [
       "3"
      ]
     },
     "execution_count": 21,
     "metadata": {},
     "output_type": "execute_result"
    }
   ],
   "source": [
    "p2 = re.compile(reg2)\n",
    "m2 = p2.match(test2)\n",
    "len(m2.groups())"
   ]
  },
  {
   "cell_type": "code",
   "execution_count": 22,
   "id": "8ee10627-b2a6-4f1f-b2d0-fcc9b4d1cabc",
   "metadata": {},
   "outputs": [
    {
     "data": {
      "text/plain": [
       "'zip-code-19947-outcomes_2020-10-19_162302.csv'"
      ]
     },
     "execution_count": 22,
     "metadata": {},
     "output_type": "execute_result"
    }
   ],
   "source": [
    "m2.group(0)"
   ]
  },
  {
   "cell_type": "code",
   "execution_count": 23,
   "id": "47a442e9-73c9-47d0-a339-e58d9ff782c4",
   "metadata": {},
   "outputs": [
    {
     "data": {
      "text/plain": [
       "'zip-code'"
      ]
     },
     "execution_count": 23,
     "metadata": {},
     "output_type": "execute_result"
    }
   ],
   "source": [
    "m2.group(1)"
   ]
  },
  {
   "cell_type": "code",
   "execution_count": 24,
   "id": "bda530e6-1f09-4fe3-ada6-01903fb305b6",
   "metadata": {},
   "outputs": [
    {
     "data": {
      "text/plain": [
       "'zip-code'"
      ]
     },
     "execution_count": 24,
     "metadata": {},
     "output_type": "execute_result"
    }
   ],
   "source": [
    "m2.group(1)"
   ]
  },
  {
   "cell_type": "code",
   "execution_count": 25,
   "id": "1523c800-050b-412c-b5d4-598f9327c412",
   "metadata": {},
   "outputs": [
    {
     "data": {
      "text/plain": [
       "'outcomes'"
      ]
     },
     "execution_count": 25,
     "metadata": {},
     "output_type": "execute_result"
    }
   ],
   "source": [
    "m2.group(2)"
   ]
  },
  {
   "cell_type": "code",
   "execution_count": 26,
   "id": "51980f17-4144-43ba-ad30-efacf1a2c847",
   "metadata": {},
   "outputs": [
    {
     "data": {
      "text/plain": [
       "'csv'"
      ]
     },
     "execution_count": 26,
     "metadata": {},
     "output_type": "execute_result"
    }
   ],
   "source": [
    "m2.group(3)"
   ]
  },
  {
   "cell_type": "code",
   "execution_count": 27,
   "id": "bf0c19eb-233e-46a9-a5f0-ffb7cc4d5448",
   "metadata": {},
   "outputs": [],
   "source": [
    "fname = 'VDH-COVID-19-PublicUseDataset-Cases_By-Age-Group2020-05-12_12231589300583.csv'"
   ]
  },
  {
   "cell_type": "code",
   "execution_count": 28,
   "id": "01d74098-0bca-4236-a4ed-f03b397519ef",
   "metadata": {},
   "outputs": [
    {
     "data": {
      "text/plain": [
       "('VDH-COVID-19-PublicUseDataset-Cases_By-Age-Group2020-05-12', 'csv')"
      ]
     },
     "execution_count": 28,
     "metadata": {},
     "output_type": "execute_result"
    }
   ],
   "source": [
    "get_base_match(fname)"
   ]
  },
  {
   "cell_type": "code",
   "execution_count": 29,
   "id": "1206c3ad-2633-4a20-a5f9-cd488b3dfde1",
   "metadata": {},
   "outputs": [],
   "source": [
    "reg3=r'(.*)\\d{4}-\\d{2}-\\d{2}\\_\\d+.(\\w+)$'"
   ]
  },
  {
   "cell_type": "code",
   "execution_count": 30,
   "id": "8f47035d-ebf9-435e-ace3-f0badf8dcb18",
   "metadata": {},
   "outputs": [],
   "source": [
    "p3=re.compile(reg3)\n",
    "m3 = p3.match(fname)"
   ]
  },
  {
   "cell_type": "code",
   "execution_count": 31,
   "id": "4f1d10be-1759-4b7c-a127-e4debe6967cc",
   "metadata": {},
   "outputs": [
    {
     "data": {
      "text/plain": [
       "<re.Match object; span=(0, 77), match='VDH-COVID-19-PublicUseDataset-Cases_By-Age-Group2>"
      ]
     },
     "execution_count": 31,
     "metadata": {},
     "output_type": "execute_result"
    }
   ],
   "source": [
    "m3"
   ]
  },
  {
   "cell_type": "code",
   "execution_count": 32,
   "id": "571557f4-a201-4e98-95fd-81aaa35efd1d",
   "metadata": {},
   "outputs": [
    {
     "data": {
      "text/plain": [
       "'VDH-COVID-19-PublicUseDataset-Cases_By-Age-Group'"
      ]
     },
     "execution_count": 32,
     "metadata": {},
     "output_type": "execute_result"
    }
   ],
   "source": [
    "m3.group(1)"
   ]
  },
  {
   "cell_type": "code",
   "execution_count": 33,
   "id": "fdacccf3-33a0-4469-9121-96e0e42e9e6c",
   "metadata": {},
   "outputs": [
    {
     "data": {
      "text/plain": [
       "'csv'"
      ]
     },
     "execution_count": 33,
     "metadata": {},
     "output_type": "execute_result"
    }
   ],
   "source": [
    "m3.group(2)"
   ]
  },
  {
   "cell_type": "code",
   "execution_count": 36,
   "id": "a0a9c669-e0dd-4ab3-ba12-b1760646040a",
   "metadata": {},
   "outputs": [],
   "source": [
    "ex='illinois_demo_race05_20_2022.csv'"
   ]
  },
  {
   "cell_type": "code",
   "execution_count": 37,
   "id": "e67332f2-2979-4953-8e4a-d7372fb01f09",
   "metadata": {},
   "outputs": [],
   "source": [
    "p3.match(ex)"
   ]
  },
  {
   "cell_type": "code",
   "execution_count": 43,
   "id": "9f2e5b88-5f4f-41cd-a4d6-c9cc4d08f9e8",
   "metadata": {},
   "outputs": [],
   "source": [
    "reg4=r'(.*)\\d{2}_\\d{2}_\\d{4}.(\\w+)$'\n",
    "p4=re.compile(reg4)"
   ]
  },
  {
   "cell_type": "code",
   "execution_count": 44,
   "id": "81faf961-5e7c-47cd-8ed9-4c5381bf862a",
   "metadata": {},
   "outputs": [],
   "source": [
    "m4=p4.match(ex)"
   ]
  },
  {
   "cell_type": "code",
   "execution_count": 45,
   "id": "a9fe7d01-6435-4cd9-9674-07a2d198c06e",
   "metadata": {},
   "outputs": [
    {
     "data": {
      "text/plain": [
       "2"
      ]
     },
     "execution_count": 45,
     "metadata": {},
     "output_type": "execute_result"
    }
   ],
   "source": [
    "len(m4.groups())"
   ]
  },
  {
   "cell_type": "code",
   "execution_count": 46,
   "id": "70cfa74e-861f-41b1-b403-ea5790088fab",
   "metadata": {},
   "outputs": [
    {
     "data": {
      "text/plain": [
       "'illinois_demo_race'"
      ]
     },
     "execution_count": 46,
     "metadata": {},
     "output_type": "execute_result"
    }
   ],
   "source": [
    "m4.group(1)"
   ]
  },
  {
   "cell_type": "code",
   "execution_count": 47,
   "id": "caefbc06-f94a-4b8b-9668-f9d06bbee27a",
   "metadata": {},
   "outputs": [
    {
     "data": {
      "text/plain": [
       "'csv'"
      ]
     },
     "execution_count": 47,
     "metadata": {},
     "output_type": "execute_result"
    }
   ],
   "source": [
    "m4.group(2)"
   ]
  },
  {
   "cell_type": "code",
   "execution_count": 59,
   "id": "e5cebaa3-429b-44b6-a443-d4dd2508fc7f",
   "metadata": {},
   "outputs": [
    {
     "data": {
      "text/plain": [
       "('Benewah', 'csv')"
      ]
     },
     "execution_count": 59,
     "metadata": {},
     "output_type": "execute_result"
    }
   ],
   "source": [
    "ex ='Sheet_48_Benewah_2022-05-06_212304.csv'\n",
    "get_base_match(ex)"
   ]
  },
  {
   "cell_type": "code",
   "execution_count": 60,
   "id": "fe1b990f-26bb-4833-8ec3-2f50aa8e62a0",
   "metadata": {},
   "outputs": [],
   "source": [
    "re5=r'Sheet_\\d{2}_(.*)_\\d{4}-\\d{2}-\\d{2}_\\d{6}.(\\w+)$'\n",
    "p5=re.compile(re5)\n"
   ]
  },
  {
   "cell_type": "code",
   "execution_count": 61,
   "id": "c629cd51-8cde-40ba-a101-084a929d1ded",
   "metadata": {},
   "outputs": [
    {
     "data": {
      "text/plain": [
       "<re.Match object; span=(0, 38), match='Sheet_48_Benewah_2022-05-06_212304.csv'>"
      ]
     },
     "execution_count": 61,
     "metadata": {},
     "output_type": "execute_result"
    }
   ],
   "source": [
    "p5.match(ex)"
   ]
  },
  {
   "cell_type": "code",
   "execution_count": null,
   "id": "440da5dd-0eb2-4f92-b1d5-0685b32d68c8",
   "metadata": {},
   "outputs": [],
   "source": []
  }
 ],
 "metadata": {
  "kernelspec": {
   "display_name": "py39",
   "language": "python",
   "name": "py39"
  },
  "language_info": {
   "codemirror_mode": {
    "name": "ipython",
    "version": 3
   },
   "file_extension": ".py",
   "mimetype": "text/x-python",
   "name": "python",
   "nbconvert_exporter": "python",
   "pygments_lexer": "ipython3",
   "version": "3.9.7"
  }
 },
 "nbformat": 4,
 "nbformat_minor": 5
}
