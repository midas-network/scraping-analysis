{
 "cells": [
  {
   "cell_type": "markdown",
   "id": "5302d93a-ee0b-4d2e-bb7d-fa6189222b01",
   "metadata": {
    "tags": []
   },
   "source": [
    "# Analyzing data from scrapes...\n",
    "\n",
    "The MIDAS collection of scraped data contains files from a broad range of COVID public health agencies collected starting in 2020. \n",
    "To understand the breadth and variety of tools and practices used, we will analyze these scraped data to understand patterns in data types, file names, and content. Specifically, we will\n",
    "\n",
    "1. Generate descriptive reports of the range of data types used\n",
    "2. analyze file names in an attempt to understand patterns in naming \n",
    "3. for structured (json, csv, xls, etc.) data, review file contents to identify patterns and to attempt to cluster files into common groups\n",
    "\n",
    "# Requirements"
   ]
  },
  {
   "cell_type": "code",
   "execution_count": 44,
   "id": "0fccf748-416a-4b23-9f9c-2fd221e57432",
   "metadata": {},
   "outputs": [],
   "source": [
    "import json\n",
    "import pandas as pd\n",
    "import os\n",
    "import re\n",
    "import itertools\n",
    "import nltk\n",
    "import sklearn\n",
    "from nltk.stem.porter import PorterStemmer\n",
    "from nltk.stem.lancaster import LancasterStemmer\n",
    "from nltk.stem import SnowballStemmer \n",
    "from nltk.corpus import stopwords\n",
    "import matplotlib.pyplot as plt"
   ]
  },
  {
   "cell_type": "code",
   "execution_count": 45,
   "id": "b1b9ff26-234f-48ae-9b52-65534cc0c6df",
   "metadata": {},
   "outputs": [
    {
     "name": "stdout",
     "output_type": "stream",
     "text": [
      "\n",
      "System:\n",
      "    python: 3.9.7 | packaged by conda-forge | (default, Sep 29 2021, 20:33:18)  [Clang 11.1.0 ]\n",
      "executable: /Users/harry/miniconda3/envs/py39/bin/python\n",
      "   machine: macOS-13.0.1-x86_64-i386-64bit\n",
      "\n",
      "Python dependencies:\n",
      "      sklearn: 1.1.2\n",
      "          pip: 22.2.2\n",
      "   setuptools: 65.2.0\n",
      "        numpy: 1.23.2\n",
      "        scipy: 1.9.0\n",
      "       Cython: 0.29.24\n",
      "       pandas: 1.3.3\n",
      "   matplotlib: 3.5.1\n",
      "       joblib: 1.2.0\n",
      "threadpoolctl: 3.1.0\n",
      "\n",
      "Built with OpenMP: True\n",
      "\n",
      "threadpoolctl info:\n",
      "       user_api: blas\n",
      "   internal_api: openblas\n",
      "         prefix: libopenblas\n",
      "       filepath: /Users/harry/miniconda3/envs/py39/lib/libopenblasp-r0.3.21.dylib\n",
      "        version: 0.3.21\n",
      "threading_layer: openmp\n",
      "   architecture: Haswell\n",
      "    num_threads: 16\n",
      "\n",
      "       user_api: openmp\n",
      "   internal_api: openmp\n",
      "         prefix: libomp\n",
      "       filepath: /Users/harry/miniconda3/envs/py39/lib/libomp.dylib\n",
      "        version: None\n",
      "    num_threads: 16\n"
     ]
    }
   ],
   "source": [
    "sklearn.show_versions()"
   ]
  },
  {
   "cell_type": "code",
   "execution_count": 46,
   "id": "86239063-488b-4459-bb84-e04dedd8f81c",
   "metadata": {},
   "outputs": [
    {
     "name": "stdout",
     "output_type": "stream",
     "text": [
      "3.6.5\n"
     ]
    }
   ],
   "source": [
    "print(nltk.__version__)"
   ]
  },
  {
   "cell_type": "code",
   "execution_count": 47,
   "id": "cf326e5d-92a7-42e2-99ff-97cf27c8aec6",
   "metadata": {},
   "outputs": [
    {
     "name": "stdout",
     "output_type": "stream",
     "text": [
      "1.3.3\n"
     ]
    }
   ],
   "source": [
    "print(pd.__version__)"
   ]
  },
  {
   "cell_type": "markdown",
   "id": "dcb0acf9-b70e-4bd5-9916-23c016ab8730",
   "metadata": {},
   "source": [
    "# Build up list of all files. for each, get ID, title, and fileType set\n",
    "\n",
    "Data extracted from the archive represents each scraping dataset in a JSON blob. We are particularly concerned about the ID, title, and the 'fileTypeSet', which contains information on contained files, as a list."
   ]
  },
  {
   "cell_type": "code",
   "execution_count": 48,
   "id": "95af6dc1-b622-4b29-a080-ec9e9a7409f6",
   "metadata": {},
   "outputs": [],
   "source": [
    "def read_file(fname):\n",
    "    with open(fname,'r') as jfile:\n",
    "        data = json.load(jfile)\n",
    "    return data\n",
    "\n",
    "def get_files(path):\n",
    "    files=[]\n",
    "    for file in os.listdir(path):\n",
    "        file =path+\"/\"+file\n",
    "        if file.endswith(\".json\"):\n",
    "            files.append(file) \n",
    "    return files\n",
    "\n",
    "def get_titles(entry):\n",
    "    res ={}\n",
    "    res['fileTypeSet']=entry['fileTypeSet']\n",
    "    res['metadataCollectionId']=entry['metadataCollectionId']\n",
    "    res['titleEnglish']=entry['titleEnglish']\n",
    "    if 'fileSet' in entry:\n",
    "        res['files'] =[fs['filename'] for fs in entry['fileSet']]\n",
    "    return res\n",
    "\n"
   ]
  },
  {
   "cell_type": "markdown",
   "id": "76a2a18a-92b7-40ef-9f60-995df87bdab9",
   "metadata": {},
   "source": [
    "*Note*: As of December 14, we are working with the original \"10_rows\" collection. This should probably be revised to use the more complete \"10_rows_with_zips\" collection"
   ]
  },
  {
   "cell_type": "code",
   "execution_count": 49,
   "id": "031a62bd-d84d-49b4-81f8-7efec5999cf6",
   "metadata": {},
   "outputs": [],
   "source": [
    "entries = [read_file(fname) for fname in get_files(\"../10_rows\")]\n",
    "collection = [get_titles(e) for e in entries]\n"
   ]
  },
  {
   "cell_type": "code",
   "execution_count": 50,
   "id": "394b2bbc-fff1-451e-b543-d60e684dffdb",
   "metadata": {},
   "outputs": [
    {
     "data": {
      "text/plain": [
       "294"
      ]
     },
     "execution_count": 50,
     "metadata": {},
     "output_type": "execute_result"
    }
   ],
   "source": [
    "len(collection)"
   ]
  },
  {
   "cell_type": "code",
   "execution_count": 72,
   "id": "f520cb40-6e35-428f-a0ba-0c707f085ffd",
   "metadata": {},
   "outputs": [
    {
     "data": {
      "text/plain": [
       "354576"
      ]
     },
     "execution_count": 72,
     "metadata": {},
     "output_type": "execute_result"
    }
   ],
   "source": [
    "cnt = 0\n",
    "for f in collection:\n",
    "    if 'files' in f:\n",
    "        cnt = cnt +len(f['files'])\n",
    "cnt"
   ]
  },
  {
   "cell_type": "markdown",
   "id": "6487fe96-47f3-4e4b-b711-1255cfa17a39",
   "metadata": {},
   "source": [
    "Question - how many of these summaries have more than one file type?"
   ]
  },
  {
   "cell_type": "code",
   "execution_count": 51,
   "id": "f6c4a7d6-967f-45cb-9ca7-5581a9c710ef",
   "metadata": {},
   "outputs": [
    {
     "data": {
      "text/html": [
       "<div>\n",
       "<style scoped>\n",
       "    .dataframe tbody tr th:only-of-type {\n",
       "        vertical-align: middle;\n",
       "    }\n",
       "\n",
       "    .dataframe tbody tr th {\n",
       "        vertical-align: top;\n",
       "    }\n",
       "\n",
       "    .dataframe thead th {\n",
       "        text-align: right;\n",
       "    }\n",
       "</style>\n",
       "<table border=\"1\" class=\"dataframe\">\n",
       "  <thead>\n",
       "    <tr style=\"text-align: right;\">\n",
       "      <th></th>\n",
       "      <th>0</th>\n",
       "    </tr>\n",
       "  </thead>\n",
       "  <tbody>\n",
       "    <tr>\n",
       "      <th>1</th>\n",
       "      <td>148</td>\n",
       "    </tr>\n",
       "    <tr>\n",
       "      <th>2</th>\n",
       "      <td>105</td>\n",
       "    </tr>\n",
       "    <tr>\n",
       "      <th>3</th>\n",
       "      <td>34</td>\n",
       "    </tr>\n",
       "    <tr>\n",
       "      <th>4</th>\n",
       "      <td>6</td>\n",
       "    </tr>\n",
       "    <tr>\n",
       "      <th>5</th>\n",
       "      <td>1</td>\n",
       "    </tr>\n",
       "  </tbody>\n",
       "</table>\n",
       "</div>"
      ],
      "text/plain": [
       "     0\n",
       "1  148\n",
       "2  105\n",
       "3   34\n",
       "4    6\n",
       "5    1"
      ]
     },
     "execution_count": 51,
     "metadata": {},
     "output_type": "execute_result"
    }
   ],
   "source": [
    "type_counts=[len(f['fileTypeSet']) for f in collection]\n",
    "tcseries = pd.Series(type_counts)\n",
    "bar  = pd.DataFrame(tcseries.value_counts())\n",
    "bar"
   ]
  },
  {
   "cell_type": "code",
   "execution_count": 52,
   "id": "e33bcb97-b9c1-469a-9777-d1342e9d3535",
   "metadata": {},
   "outputs": [
    {
     "data": {
      "text/plain": [
       "<AxesSubplot:>"
      ]
     },
     "execution_count": 52,
     "metadata": {},
     "output_type": "execute_result"
    },
    {
     "data": {
      "image/png": "[encoded data removed]",
      "text/plain": [
       "<Figure size 640x480 with 1 Axes>"
      ]
     },
     "metadata": {},
     "output_type": "display_data"
    }
   ],
   "source": [
    "bar.plot(kind=\"bar\",rot=0)"
   ]
  },
  {
   "cell_type": "markdown",
   "id": "00b82761-d9ac-48af-a4e5-98aa00e5337d",
   "metadata": {},
   "source": [
    "ok. so 146/294, slightly less than 50% have multiple file types"
   ]
  },
  {
   "cell_type": "markdown",
   "id": "296e1718-985b-4dba-bd91-5388e7144b8c",
   "metadata": {},
   "source": [
    "#### look at type distribution - how many have pdf,json,csv, html,png, etc."
   ]
  },
  {
   "cell_type": "code",
   "execution_count": 53,
   "id": "72e6a6bc-aeda-44ca-a7a9-097f6f884c73",
   "metadata": {},
   "outputs": [],
   "source": [
    "type_sum={}\n",
    "for s in collection:\n",
    "    ftypes = s['fileTypeSet']\n",
    "    for ftype in ftypes:\n",
    "        atype = ftype['fileType']\n",
    "        if atype not in type_sum:\n",
    "            type_sum[atype]=0\n",
    "        type_sum[atype]=type_sum[atype]+1"
   ]
  },
  {
   "cell_type": "code",
   "execution_count": 54,
   "id": "9ff067e9-dca5-43f0-9da4-1792f110c76f",
   "metadata": {},
   "outputs": [
    {
     "data": {
      "text/plain": [
       "{'html': 78,\n",
       " 'xlsx': 28,\n",
       " 'pdf': 47,\n",
       " 'csv': 132,\n",
       " 'png': 114,\n",
       " 'twbx': 5,\n",
       " 'json': 74,\n",
       " 'docx': 1,\n",
       " 'zip': 3,\n",
       " 'tsv': 1,\n",
       " 'xls': 2,\n",
       " 'js': 1,\n",
       " 'ods': 1,\n",
       " 'rds': 1,\n",
       " 'jpg': 1}"
      ]
     },
     "execution_count": 54,
     "metadata": {},
     "output_type": "execute_result"
    }
   ],
   "source": [
    "type_sum"
   ]
  },
  {
   "cell_type": "code",
   "execution_count": 55,
   "id": "1c7cbe40-01b4-4605-8de8-07dd491fbd34",
   "metadata": {},
   "outputs": [
    {
     "data": {
      "text/plain": [
       "[78, 28, 47, 132, 114, 5, 74, 1, 3, 1, 2, 1, 1, 1, 1]"
      ]
     },
     "execution_count": 55,
     "metadata": {},
     "output_type": "execute_result"
    }
   ],
   "source": [
    "counts = list(type_sum.values())\n",
    "counts"
   ]
  },
  {
   "cell_type": "code",
   "execution_count": 56,
   "id": "9376379e-73df-48d1-baec-e0123eceb71e",
   "metadata": {},
   "outputs": [
    {
     "data": {
      "text/plain": [
       "489"
      ]
     },
     "execution_count": 56,
     "metadata": {},
     "output_type": "execute_result"
    }
   ],
   "source": [
    "sum(counts)"
   ]
  },
  {
   "cell_type": "markdown",
   "id": "9342abb0-1ec1-4994-846c-d15f7208a95b",
   "metadata": {},
   "source": [
    "# <span style='color:red'>*TODO*</span> develop some additional descriptives as necessary to clarify insight\n",
    "\n",
    "1. Specifically how many sites using tools like Tableau, ArcGIS, or BI\n",
    "2. How many sites had stayed with one approach vs.  changed over time?\n",
    "3. Common combinations for sites providing multiple data types?\n",
    "4. Anything else?"
   ]
  },
  {
   "cell_type": "markdown",
   "id": "1c0ec6e5-63cf-4841-b323-8f8a074df772",
   "metadata": {},
   "source": [
    "# <span style='color:red'>*TODO*</span> work on identifying and segregating out tableau and other \"dashboard\" file types - arcgis, Microsoft, BI. We should count them and not use them.\n"
   ]
  },
  {
   "cell_type": "markdown",
   "id": "1599348d-7326-47b9-b484-d69cbfff5399",
   "metadata": {},
   "source": [
    "# Filter summaries (and files) by type), then dig into types"
   ]
  },
  {
   "cell_type": "code",
   "execution_count": 57,
   "id": "ee3a816b-8569-4bc6-9c86-7280870fbded",
   "metadata": {},
   "outputs": [],
   "source": [
    "def get_entries_by_types(entries,targets):\n",
    "    res = []\n",
    "    for e in entries:\n",
    "        match = False\n",
    "        fts  = e['fileTypeSet']\n",
    "        for ft in fts:\n",
    "            atype = ft['fileType']\n",
    "            if atype in targets:\n",
    "                match = True\n",
    "        if match == True:\n",
    "            res.append(e)\n",
    "    return res\n",
    "\n",
    "def find_entry_by_id(coll,id):\n",
    "    for ent in coll:\n",
    "        if ent['metadataCollectionId'] == id:\n",
    "            return ent\n",
    "    return None"
   ]
  },
  {
   "cell_type": "markdown",
   "id": "5c34293f-9a38-4b41-871f-7f9a07a17c46",
   "metadata": {},
   "source": [
    "#  Look at included file names?"
   ]
  },
  {
   "cell_type": "code",
   "execution_count": 58,
   "id": "7758bd41-7d97-4269-993c-a03c64e899e6",
   "metadata": {},
   "outputs": [],
   "source": [
    "def get_titles(entry):\n",
    "    res ={}\n",
    "    res['metadataCollectionId']=entry['metadataCollectionId']\n",
    "    res['titleEnglish']=entry['titleEnglish']\n",
    "    if 'fileSet' in entry:\n",
    "        res['files'] =[fs['filename'] for fs in entry['fileSet']]\n",
    "    return res"
   ]
  },
  {
   "cell_type": "markdown",
   "id": "0ac6dca1-dfb7-435c-be43-dab4c51e5556",
   "metadata": {},
   "source": [
    "Note that we can find the scraping catalog entry for these names at https://catalog.midasnetwork.us/scrapecat/id,\n",
    "where id is the medatadataCollectionId. \n",
    "\n",
    "Thus, we have the link for [collection 816](https://catalog.midasnetwork.us/scrapecat/816)"
   ]
  },
  {
   "cell_type": "markdown",
   "id": "c5081aab-5f4e-4265-8598-c5a89ee6be9a",
   "metadata": {},
   "source": [
    "# PLAN: CLUSTERING ON FILE NAMES\n",
    "\n",
    "Each of the 200+ sources has a list of files. Our goal will be to do a lexical analysis so that we can tokenize the files, and then to use those tokens to cluster the files via non-negative matrix factorization. We will then use this to see what we can confirm about commonalities or differences between files.\n",
    "\n",
    "Eventually, we might move from there to do file contents."
   ]
  },
  {
   "cell_type": "markdown",
   "id": "caa0dd5a-6e23-482d-8ed0-5ac841a909d4",
   "metadata": {},
   "source": [
    "Grab all file names\n",
    "\n",
    "2. Tokenize files by Removing dates, spliting on underscores, splitting on camel case,cleaning other patterns that might be messy\n",
    "4. Cluster using non-negative matrix factorization (NNMF)\n",
    "5. Map back from individual items to see what they cluster in\n",
    "6. Look at the diversity of file names contents within each cluster\n",
    "7. Add in column names.\n",
    "\n",
    "For background on NNMF:\n",
    "* https://predictivehacks.com/topic-modelling-with-nmf-in-python/\n",
    "* https://towardsdatascience.com/nmf-a-visual-explainer-and-python-implementation-7ecdd73491f8\n"
   ]
  },
  {
   "cell_type": "code",
   "execution_count": 59,
   "id": "c7ebf827-3de7-4b9b-ad13-c08ca3f95dfc",
   "metadata": {},
   "outputs": [],
   "source": [
    "# ok. Extract name before the date and extension\n",
    "# split name before the date into indivual words separated by underscore. \n",
    "# then further split each by camel case\n",
    "\n",
    "\n",
    "# a list of patterns that will pull out, for each file name, the key informative tokens and the extension.\n",
    "# tokens that are time stamps or are otherwise unhelpful are filtered out.\n",
    "patlist =  [# delaware - 697-has zip codes\n",
    "            # zip-code-19947-outcomes_2020-10-19_162302.csv'\n",
    "            # but we will keep these in place, as zip codes are potentially\n",
    "            # semantically meaningful\n",
    "        \n",
    "            # idaho Sheet_48_Shoshone_2022-02-22_212535.csv\n",
    "            #  or \"Sheet 48\"\n",
    "            \"Sheet[\\s|_]\\d{2}_(.*)_\\d{4}-\\d{2}-\\d{2}_\\d{6}.(\\w+)$\",\n",
    "            #VDH-COVID-19-PublicUseDataset-Cases_By-Age-Group2020-05-12_12231589300583.csv\n",
    "            \"(.*)\\d{4}-\\d{2}-\\d{2}\\_\\d+.(\\w+)$\",\n",
    "            # 'DC-COVID-19-Data-for-April-05-2021.xlsx'\n",
    "            \"(.*)-\\w+-\\d{2}-\\d{4}.(\\w+)$\",\n",
    "            #' illinois_demo_race05_20_2022.csv'\n",
    "            \"(.*)\\d{2}_\\d{2}_\\d{4}.(\\w+)$\",\n",
    "            \"(.*)[-_]{0,1}\\d{4}-\\d{2}[-\\s]*\\d{2}\\[_-]\\d+.(\\w+)$\",\n",
    "            \"(.*)_\\d{4}-\\d{2}-\\d{2}_\\d{6,}.(\\w+)$\",\n",
    "            \"(.*)_\\d_\\d_\\d{4}_\\d.(\\w+)$\",\n",
    "            \"(.*)_\\d_\\d_\\d{4}_\\d.(\\w+)$\",\n",
    "            \"(.*)_\\d{1,2}_\\d{1,2}_\\d{4}.(\\w+)$\",\n",
    "            \"(.*)_\\d{1,2}-\\d{1,2}-\\d{2}_corrected.(\\w+)$\",\n",
    "            #COVID-19_OB_weekly_report_7_8_2020_corrected_7-9.xlsx\n",
    "            \"(.*)_\\d{1,2}_\\d{1,2}_\\d{2,4}_corrected_\\d{1,2}-\\d{1,2}.(\\w+)$\",\n",
    "            #covid_outbreak_weekly_report_6-10-20.xlsx,\n",
    "            \"(.*)\\_\\d{1,2}\\-\\d{1,2}\\-\\d{2,4}.(\\w+)$\",\n",
    "            # \"COVID-19_OB_weekly_report_8_20_2020-2.xlsx\"\n",
    "            \"(.*)\\_\\d{1,2}\\_\\d{1,2}\\_\\d{2,4}\\-\\d.(\\w+)$\",\n",
    "            #COVID-19_OB_weekly_report_7_8_2020_corrected_7-9.xlsx            \n",
    "            \"(.*)_\\d{1,2}_\\d{1,2}_\\d{2,4}-corrected_\\d{1,2}.(\\w+)$\",\n",
    "            #covid_outbreak_weekly_report_5-20-20_.xlsx\n",
    "            \"(.*)_\\d{1,2}-\\d{1,2}-\\d{2,4}_.(\\w+)$\",\n",
    "            #colorado_covid-19_outbreaks_2.xlsx\n",
    "            \"(.*)_\\d+.(\\w+)$\",\n",
    "            #COVID-19_OB_weekly_report_8.5.2020.xlsx\n",
    "            \"(.*)_\\d{1,2}.\\d{1,2}.\\d{2,4}.(\\w+)$\",\n",
    "            # syndromic-surveillance-gating-criteria_EXPORT_cases_by_county_covid-19-v2_2020-11-18.csv\n",
    "            \"(.*)_\\d{4}-\\d{2}-\\d{2}.(\\w+)$\",\n",
    "            #\" NYTIMES names start with dates... 20220407_us.csv', \n",
    "            #'20220512_us.csv', '20220512_us-counties.csv', '20220512_us-states.csv'\n",
    "            \"^\\d{8}_([^.]+).(\\w+)$\",\n",
    "            # ***** FIX -ADD \n",
    "            # colorado_covid-19_outbreaks.xlsx   - this one means we'll catch almost anything\n",
    "            \"(.*)\\.(\\w+)$\"\n",
    "           ]\n",
    "# turn the patterns into regular expressions.\n",
    "\n",
    "def precompile_patterns(patlist):\n",
    "    res = []\n",
    "    for p in patlist:\n",
    "        res.append(re.compile(p))\n",
    "    return res\n",
    "\n",
    "# iterate through the patterns to find match to the file name. Grab the content part of the file name \n",
    "# and the extension\n",
    "def get_base_match(patterns,fname):\n",
    "    # try one of several patterns, using the first that matches\n",
    "\n",
    "    for reg in patterns:\n",
    "        p = re.compile(reg)\n",
    "        m = p.match(fname)\n",
    "        if m is not None:\n",
    "            break\n",
    "\n",
    "    try: \n",
    "        base_name = m.group(1)\n",
    "        ext = m.group(2)\n",
    "        return (base_name,ext)\n",
    "    except:\n",
    "        print(\"can't match...\"+fname)\n",
    "\n",
    "# split camel case entries like \"CovidCases\" into the constiutent words.\n",
    "# Note that I don't understand the regexp completely, but it seems to work.\n",
    "def camel_case_split(str):\n",
    "    # modified from https://www.geeksforgeeks.org/python-split-camelcase-string-to-individual-strings/\n",
    "    res = re.findall(r'[A-Z](?:[a-z0-9\\-]+|[A-Z0-9\\-]*(?=[A-Z0-9\\-]|$))', str)\n",
    "    if len(res) ==0:\n",
    "        res = [str]\n",
    "    return res\n",
    "    \n",
    "def trim_to_alpha_num(s):\n",
    "    return ''.join(c for c in s if c.isalnum())\n",
    "\n",
    "# parse out the tokens and lower-case them\n",
    "def get_tokens(patterns,fname):\n",
    "\n",
    "    fname=fname.replace(\"%20\",\"_\")\n",
    "    (base_name,ext)=get_base_match(patterns,fname)\n",
    "    base_words_no_camel = re.split(r'\\s|_|-',base_name)\n",
    "    # split by camel case, but not for special -case - those that start with 'TableauTemp'\n",
    "    #if base_name.startswith('TableauTemp') == False:\n",
    "    base_words_no_camel = [camel_case_split(bnw) for bnw in base_words_no_camel]\n",
    "    # flatten the list\n",
    "    words = list(itertools.chain(*base_words_no_camel))\n",
    "    # trim to alphanumeric\n",
    "    words = [trim_to_alpha_num(w) for w in words]\n",
    "    # tolower \n",
    "    words = [w.lower() for w in words]\n",
    "    # porter stem to get common routes\n",
    "    return (words,ext)\n",
    "\n",
    "#def process_collection_files(coll):\n",
    "#    if 'files' in coll:\n",
    "#        files = coll['files']\n",
    "#        coll['processed'] = set([get_tokens(f) for f in files])\n",
    "#    return coll\n",
    "\n",
    "# process all of the files in a collection \n",
    "def process_collection_files(patterns,coll):\n",
    "    \n",
    "    res = []\n",
    "    if 'files' in coll:\n",
    "        files = coll['files']\n",
    "       \n",
    "        seen={}\n",
    "        for f in files:\n",
    "            (words,ext)=get_tokens(patterns,f)\n",
    "            # now, we have a list of tokens and an extension. need to see if we have seen this one before.\n",
    "            hash = ''.join(words)+ext\n",
    "            if hash not in seen:\n",
    "                seen[hash]=True\n",
    "                res.append((words,ext))\n",
    "    return res\n",
    "\n",
    "# process evertyhing in a collection \n",
    "def process_collection(patlist,collection):\n",
    "    patterns = precompile_patterns(patlist)\n",
    "    res= []\n",
    "    for coll in collection:\n",
    "        processed = process_collection_files(patterns,coll)\n",
    "        coll['processed']=processed\n",
    "        res.append(coll)\n",
    "    return res"
   ]
  },
  {
   "cell_type": "code",
   "execution_count": 60,
   "id": "786a6267-3b83-4f1f-8361-a68d48e62244",
   "metadata": {},
   "outputs": [],
   "source": [
    "proced = process_collection(patlist,collection)"
   ]
  },
  {
   "cell_type": "code",
   "execution_count": 67,
   "id": "f2dbecc2-5088-42f5-adc5-26fcd9e201df",
   "metadata": {},
   "outputs": [],
   "source": [
    "total =0\n",
    "for p in proced:\n",
    "    if 'processed' in p:\n",
    "        total = total + len(p['processed'])"
   ]
  },
  {
   "cell_type": "code",
   "execution_count": 70,
   "id": "31518e9f-e9c2-4144-b7ac-1b983ca4f66d",
   "metadata": {},
   "outputs": [
    {
     "data": {
      "text/plain": [
       "7496"
      ]
     },
     "execution_count": 70,
     "metadata": {},
     "output_type": "execute_result"
    }
   ],
   "source": [
    "total"
   ]
  },
  {
   "cell_type": "code",
   "execution_count": 73,
   "id": "fb5b5387-3bfd-4f9d-8ded-b22d84269453",
   "metadata": {},
   "outputs": [],
   "source": [
    "ratio = float(total)/float(cnt)"
   ]
  },
  {
   "cell_type": "code",
   "execution_count": 76,
   "id": "16741d87-d369-4248-8e6a-279450947d0e",
   "metadata": {},
   "outputs": [
    {
     "data": {
      "text/plain": [
       "0.021140742746265963"
      ]
     },
     "execution_count": 76,
     "metadata": {},
     "output_type": "execute_result"
    }
   ],
   "source": [
    "ratio"
   ]
  },
  {
   "cell_type": "code",
   "execution_count": 74,
   "id": "f3102499-8223-4272-885d-91d9c3826a92",
   "metadata": {},
   "outputs": [
    {
     "data": {
      "text/plain": [
       "294"
      ]
     },
     "execution_count": 74,
     "metadata": {},
     "output_type": "execute_result"
    }
   ],
   "source": [
    "len(proced)"
   ]
  },
  {
   "cell_type": "markdown",
   "id": "c0c11aaf-ae1c-4865-8ee5-1f3951f7dbeb",
   "metadata": {},
   "source": [
    "ok. so, 7496 unique patterns across 294.\n",
    "\n",
    "This includes the possibility that the same pattern might come across in different collections, so the number of unique patterns is likely smalelr"
   ]
  },
  {
   "cell_type": "code",
   "execution_count": 78,
   "id": "6c7504d1-2ad4-4225-8c4d-d660af0819c8",
   "metadata": {},
   "outputs": [
    {
     "data": {
      "text/plain": [
       "25.496598639455783"
      ]
     },
     "execution_count": 78,
     "metadata": {},
     "output_type": "execute_result"
    }
   ],
   "source": [
    "rate = float(total)/294.0\n",
    "rate"
   ]
  },
  {
   "cell_type": "markdown",
   "id": "dabc8bc2-613e-4cb8-8e24-991b71ebfe2c",
   "metadata": {},
   "source": [
    "average 25.5 items for collection"
   ]
  },
  {
   "cell_type": "markdown",
   "id": "829e77c0-fb50-4ef6-a5c5-b478d0dd6b2a",
   "metadata": {},
   "source": [
    "---- \n",
    "Let's get some descriptive.\n",
    "Frequence of words used?"
   ]
  },
  {
   "cell_type": "code",
   "execution_count": 79,
   "id": "99898102-0f7c-4ad7-aad0-93f2abe08240",
   "metadata": {},
   "outputs": [
    {
     "data": {
      "text/plain": [
       "'vaccin'"
      ]
     },
     "execution_count": 79,
     "metadata": {},
     "output_type": "execute_result"
    }
   ],
   "source": [
    "porter_stemmer = PorterStemmer()\n",
    "porter_stemmer.stem(\"vaccination\")"
   ]
  },
  {
   "cell_type": "code",
   "execution_count": 80,
   "id": "450f761f-20d7-4ec9-bd57-1ec48a8d7abb",
   "metadata": {},
   "outputs": [],
   "source": [
    "def get_frequencies(proced):\n",
    "    porter_stemmer = PorterStemmer()\n",
    "    stop_words = set(stopwords.words('english'))\n",
    "    freqs={}\n",
    "    types={}\n",
    "    for p in proced:\n",
    "        if 'processed' in p:\n",
    "            procs=p['processed']\n",
    "            for ent in procs:\n",
    "                # each one is a pair of words and extensions\n",
    "                (words,ext) = ent\n",
    "                if ext not in types:\n",
    "                    types[ext]=0\n",
    "                types[ext]=types[ext]+1\n",
    "                for w in words:\n",
    "                    if w not in stop_words:\n",
    "                        w = porter_stemmer.stem(w)\n",
    "                        if w not in freqs:\n",
    "                            freqs[w]=0\n",
    "                        freqs[w]=freqs[w]+1\n",
    "    return (freqs,types)"
   ]
  },
  {
   "cell_type": "code",
   "execution_count": 81,
   "id": "592748ff-807d-44ad-a4b8-6feb16978b94",
   "metadata": {},
   "outputs": [],
   "source": [
    "(freqs,types) = get_frequencies(proced)"
   ]
  },
  {
   "cell_type": "code",
   "execution_count": 82,
   "id": "7efa3914-bd55-40b9-a44b-c78928604881",
   "metadata": {},
   "outputs": [
    {
     "data": {
      "text/plain": [
       "3782"
      ]
     },
     "execution_count": 82,
     "metadata": {},
     "output_type": "execute_result"
    }
   ],
   "source": [
    "len(freqs)"
   ]
  },
  {
   "cell_type": "code",
   "execution_count": 83,
   "id": "bc6b63cd-f342-482c-b212-f6e970d594a3",
   "metadata": {},
   "outputs": [
    {
     "data": {
      "text/plain": [
       "5"
      ]
     },
     "execution_count": 83,
     "metadata": {},
     "output_type": "execute_result"
    }
   ],
   "source": [
    "len(types)"
   ]
  },
  {
   "cell_type": "code",
   "execution_count": 84,
   "id": "00593699-7c51-4840-ad62-1dffc9fc1dec",
   "metadata": {},
   "outputs": [
    {
     "data": {
      "text/plain": [
       "{'xlsx': 527, 'csv': 6964, 'tsv': 1, 'xls': 3, 'ods': 1}"
      ]
     },
     "execution_count": 84,
     "metadata": {},
     "output_type": "execute_result"
    }
   ],
   "source": [
    "types"
   ]
  },
  {
   "cell_type": "markdown",
   "id": "781e4752-7e7e-45b0-a7bd-d3477044b64a",
   "metadata": {},
   "source": [
    "ok. what's up with this. should be more types than these? and numbers seem off?"
   ]
  },
  {
   "cell_type": "markdown",
   "id": "6c5aa903-b423-4aad-b468-8c8365887157",
   "metadata": {},
   "source": [
    "write a routine to look for items with given extensions. "
   ]
  },
  {
   "cell_type": "markdown",
   "id": "24324ba7-d724-4ac7-aa6f-7c3b0c62d6e0",
   "metadata": {},
   "source": [
    " # Some utility routines"
   ]
  },
  {
   "cell_type": "code",
   "execution_count": 85,
   "id": "d0160c52-1a39-4526-8b1b-3330050fb343",
   "metadata": {},
   "outputs": [],
   "source": [
    "def find_processed_by_type(procs,type):\n",
    "    res=[]\n",
    "    for p in procs:\n",
    "        if 'processed' in p:\n",
    "            ps = p['processed']\n",
    "            for ent in ps:\n",
    "                (words,ext) =ent\n",
    "                if ext == type:\n",
    "                    res.append(p)\n",
    "    return res\n",
    "\n",
    "\n",
    "def find_initial_by_type(procs,type):\n",
    "    res=[]\n",
    "    for p in procs:\n",
    "        if 'files' in p:\n",
    "            ps = p['files']\n",
    "            for fname in ps:\n",
    "                toks = fname.split(\".\")\n",
    "                if toks[-1] == type:\n",
    "                    res.append(p)\n",
    "    return res\n",
    "\n",
    "def find_processed_by_term(procs,term):\n",
    "    res = []\n",
    "    seen = {}\n",
    "    for p in proced:\n",
    "        if 'processed' in p:\n",
    "            procs=p['processed']\n",
    "            for ent in procs:\n",
    "                # each one is a pair of words and extensions\n",
    "                (words,ext) = ent\n",
    "                for w in words:\n",
    "                    if w == term:\n",
    "                        if p['metadataCollectionId'] not in seen:\n",
    "                            seen[p['metadataCollectionId']] =  True\n",
    "                            res.append(p)\n",
    "    return res\n",
    "\n",
    "def find_tokens_by_term(procs,term):\n",
    "    seen = {}\n",
    "    for p in proced:\n",
    "        if 'processed' in p:\n",
    "            procs=p['processed']\n",
    "            for ent in procs:\n",
    "                # each one is a pair of words and extensions\n",
    "                (words,ext) = ent\n",
    "                for w in words:\n",
    "                    if w == term:\n",
    "                        if p['metadataCollectionId'] not in seen:\n",
    "                            seen[p['metadataCollectionId']]=[]\n",
    "                        seen[p['metadataCollectionId']].append(ent)\n",
    "    return seen\n",
    "\n",
    "def find_initial_by_substring(procs,substring):\n",
    "    seen = {}\n",
    "    for p in proced:\n",
    "        if 'files' in p:\n",
    "            for fname in p['files']:\n",
    "                if fname.find(substring) >=0:\n",
    "                    if p['metadataCollectionId'] not in seen:\n",
    "                        seen[p['metadataCollectionId']]=[]\n",
    "                    seen[p['metadataCollectionId']].append(fname)\n",
    "    return seen"
   ]
  },
  {
   "cell_type": "code",
   "execution_count": null,
   "id": "98cbe32a-5c80-4171-ba1e-2239db78fc09",
   "metadata": {},
   "outputs": [],
   "source": [
    " # Filtering ou"
   ]
  },
  {
   "cell_type": "markdown",
   "id": "c894e1ce-0669-48e3-801d-7b71201a0c81",
   "metadata": {},
   "source": [
    "let's look at descriptives on words"
   ]
  },
  {
   "cell_type": "code",
   "execution_count": 86,
   "id": "3c0dd2b7-bfe7-4da4-b522-527fca4771c8",
   "metadata": {},
   "outputs": [],
   "source": [
    "topfreqs = sorted(freqs.items(),key=lambda x:x[1],reverse=True)\n",
    "sfreqs=dict(topfreqs[:100])"
   ]
  },
  {
   "cell_type": "code",
   "execution_count": 87,
   "id": "ee9e5e01-e5a7-4411-9404-f9467a7de4ae",
   "metadata": {},
   "outputs": [
    {
     "data": {
      "text/plain": [
       "100"
      ]
     },
     "execution_count": 87,
     "metadata": {},
     "output_type": "execute_result"
    }
   ],
   "source": [
    "len(sfreqs)"
   ]
  },
  {
   "cell_type": "code",
   "execution_count": 88,
   "id": "621838d6-0f77-4516-a93a-6e3602ce2816",
   "metadata": {},
   "outputs": [
    {
     "data": {
      "text/plain": [
       "{'': 7349,\n",
       " 'temp': 6127,\n",
       " 'tableau': 3101,\n",
       " 'extract': 2972,\n",
       " 'counti': 1585,\n",
       " 'death': 794,\n",
       " 'age': 781,\n",
       " 'covid': 723,\n",
       " 'data': 678,\n",
       " '19': 666,\n",
       " 'vaccin': 664,\n",
       " 'race': 479,\n",
       " 'peopl': 463,\n",
       " 'demograph': 415,\n",
       " 'date': 377,\n",
       " 'case': 350,\n",
       " 'dc': 312,\n",
       " 'cti': 288,\n",
       " 'gender': 265,\n",
       " 'eth': 237,\n",
       " 'daili': 235,\n",
       " 'pc': 232,\n",
       " 'time': 229,\n",
       " 'test': 226,\n",
       " 'sex': 219,\n",
       " 'seri': 219,\n",
       " 'dose': 216,\n",
       " 'complet': 211,\n",
       " '2021': 205,\n",
       " 'zip': 191,\n",
       " 'curv': 189,\n",
       " 'feder': 181,\n",
       " 'code': 179,\n",
       " 'epi': 178,\n",
       " 'ethnic': 175,\n",
       " 'dashboard': 175,\n",
       " 'rate': 158,\n",
       " 'file': 138,\n",
       " 'booster': 133,\n",
       " 'twb': 132,\n",
       " 'raw': 131,\n",
       " 'pcr': 118,\n",
       " '1': 111,\n",
       " 'onset': 110,\n",
       " '2': 108,\n",
       " 'mortal': 103,\n",
       " '2020': 99,\n",
       " 'new': 77,\n",
       " 'wy': 72,\n",
       " 'rc': 65,\n",
       " 'count': 63,\n",
       " 'total': 63,\n",
       " 'group': 62,\n",
       " 'd9': 62,\n",
       " 'updat': 61,\n",
       " 'state': 60,\n",
       " 'number': 60,\n",
       " 'sqlproxi': 57,\n",
       " 'averag': 57,\n",
       " '22': 57,\n",
       " 'demo': 55,\n",
       " '3': 51,\n",
       " 'posit': 50,\n",
       " '6': 49,\n",
       " '4': 47,\n",
       " 'may': 47,\n",
       " 'd1': 46,\n",
       " 'f1': 46,\n",
       " 'de95cb654114adc9b8ad7ca5347a': 46,\n",
       " 'result': 46,\n",
       " 'adadaa42c5a75dbe52bf8c2ebc': 46,\n",
       " 'fbb11af558784cf89da259bbafd342a6': 46,\n",
       " 'd8': 46,\n",
       " 'ed03d1345f29b0bfec84b1c4656': 46,\n",
       " 'cf205f44a80248ef91625997e6a1ba27': 46,\n",
       " 'st': 46,\n",
       " 'juli': 44,\n",
       " '2022': 44,\n",
       " 'trend': 43,\n",
       " '7': 43,\n",
       " 'vax': 43,\n",
       " '8': 41,\n",
       " '9': 41,\n",
       " 'april': 41,\n",
       " '5': 40,\n",
       " 'unspecifi': 38,\n",
       " 'june': 38,\n",
       " 'tabl': 37,\n",
       " 'chart': 37,\n",
       " 'histo': 36,\n",
       " 'pfizer': 36,\n",
       " 'report': 35,\n",
       " 'march': 35,\n",
       " 'summari': 34,\n",
       " 'map': 34,\n",
       " '21': 34,\n",
       " 'butterfli': 34,\n",
       " 'hospit': 33,\n",
       " 'nc': 32,\n",
       " 'a80': 31}"
      ]
     },
     "execution_count": 88,
     "metadata": {},
     "output_type": "execute_result"
    }
   ],
   "source": [
    "sfreqs"
   ]
  },
  {
   "cell_type": "markdown",
   "id": "1aa0c8df-7714-4d36-bb68-ad52e0945c96",
   "metadata": {},
   "source": [
    "1. Can we do a histogram? \n",
    "2. What's with DE95CB654114ADC9B8AD7CA5347A, ADADAA42C5A75DBE52BF8C2EBC,  or 0crbell165o69810qb23000ksfyl or 10bozup0k69eqi1a0wz3j172f732, etc.?"
   ]
  },
  {
   "cell_type": "code",
   "execution_count": 160,
   "id": "7e3c96c7-1dc4-4714-a5d9-547b4f3fb410",
   "metadata": {},
   "outputs": [
    {
     "data": {
      "text/plain": [
       "0"
      ]
     },
     "execution_count": 160,
     "metadata": {},
     "output_type": "execute_result"
    }
   ],
   "source": [
    "de95s = find_processed_by_term(proced,'DE95CB654114ADC9B8AD7CA5347A')\n",
    "len(de95s)"
   ]
  },
  {
   "cell_type": "markdown",
   "id": "556a9561-2aac-4139-92c4-f59860ba4cbe",
   "metadata": {},
   "source": [
    "DE95... looks like a repeated name..from tableau extracts?"
   ]
  },
  {
   "cell_type": "code",
   "execution_count": 161,
   "id": "11db29d0-014d-43ed-85d0-d7499fba82ad",
   "metadata": {},
   "outputs": [
    {
     "data": {
      "text/plain": [
       "1"
      ]
     },
     "execution_count": 161,
     "metadata": {},
     "output_type": "execute_result"
    }
   ],
   "source": [
    "crbells = find_processed_by_term(proced,'0crbell165o69810qb23000ksfyl')\n",
    "len(crbells)"
   ]
  },
  {
   "cell_type": "markdown",
   "id": "5d626e7b-79ce-402d-8db9-756cc77d99eb",
   "metadata": {},
   "source": [
    "looking into crbell[0] - also looks like tableau"
   ]
  },
  {
   "cell_type": "markdown",
   "id": "0b90d0d5-fadc-4c0e-a17e-7e94177418fa",
   "metadata": {},
   "source": [
    "looks like empty string or '1' could be legit, as some files have '-', and '_1_\"..."
   ]
  },
  {
   "cell_type": "markdown",
   "id": "ecb1c36e-67a6-44ed-9a6a-b224366a5f38",
   "metadata": {},
   "source": [
    "Questions for Anne:\n",
    "    \n",
    "    1. Are the \"07jp3yg1rhy0bj1essrgm1ezzkur\" files legit names from tableau?\n",
    "    2. Did she not give me file names for json, etc? Can i get those json?"
   ]
  },
  {
   "cell_type": "code",
   "execution_count": 162,
   "id": "fdf81ad4-680c-48aa-b914-b01bdb22a97f",
   "metadata": {},
   "outputs": [
    {
     "data": {
      "image/png": "[encoded data removed]",
      "text/plain": [
       "<Figure size 640x480 with 1 Axes>"
      ]
     },
     "metadata": {},
     "output_type": "display_data"
    }
   ],
   "source": [
    "plt.bar(sfreqs.keys(),sfreqs.values())\n",
    "ax = plt.gca()\n",
    "ax.get_xaxis().set_visible(False)\n",
    "plt.show()"
   ]
  },
  {
   "cell_type": "markdown",
   "id": "b378d713-44d3-4dfa-984d-f8d659bb7847",
   "metadata": {},
   "source": [
    "202211281515: Status - there are still many names in the file list with patterns like 20200807 or digits like '22', '18', etc. that should be filtered out before use."
   ]
  },
  {
   "cell_type": "markdown",
   "id": "70cea82d-2b5c-45cc-9aea-4b24ea2f4075",
   "metadata": {},
   "source": [
    "things to look for:\n",
    "    \n",
    "    20201118\n",
    "    20210720\n",
    "    20210210\n",
    "    july72021\n",
    "    20210310\n",
    "    20210708"
   ]
  },
  {
   "cell_type": "code",
   "execution_count": 163,
   "id": "81b270ef-0d6c-4f78-bb63-b9761a83e8a7",
   "metadata": {},
   "outputs": [
    {
     "data": {
      "text/plain": [
       "0"
      ]
     },
     "execution_count": 163,
     "metadata": {},
     "output_type": "execute_result"
    }
   ],
   "source": [
    "t1 = find_processed_by_term(proced,'20201118')\n",
    "len(t1)"
   ]
  },
  {
   "cell_type": "code",
   "execution_count": 164,
   "id": "4173fa11-b2da-4f00-b52f-ec427a4bbd1d",
   "metadata": {},
   "outputs": [
    {
     "data": {
      "text/plain": [
       "[]"
      ]
     },
     "execution_count": 164,
     "metadata": {},
     "output_type": "execute_result"
    }
   ],
   "source": [
    "ids = [p['metadataCollectionId'] for p in t1]\n",
    "ids"
   ]
  },
  {
   "cell_type": "code",
   "execution_count": 165,
   "id": "958736e0-cfc4-4edb-96d8-104f35784f8a",
   "metadata": {},
   "outputs": [],
   "source": [
    "# ok. find file name by id...\n",
    "\n",
    "def get_entry_by_id(plist,id):\n",
    "    for p in plist:\n",
    "        if p['metadataCollectionId'] == id:\n",
    "            return p\n",
    "    return None\n",
    "\n",
    "def get_file_names_by_entry_and_string(plist,id,str_val):\n",
    "    res =[]\n",
    "    ent = get_entry_by_id(plist,id)\n",
    "    if ent is None:\n",
    "        return None\n",
    "    for fname  in ent['files']:\n",
    "        if fname.find(str_val) > 0:\n",
    "            res.append(str_val)\n",
    "    return res\n",
    "    \n",
    "    "
   ]
  },
  {
   "cell_type": "code",
   "execution_count": 166,
   "id": "e9f8f5b7-93d0-4515-ac97-78bba1462590",
   "metadata": {},
   "outputs": [],
   "source": [
    "matches =  get_file_names_by_entry_and_string(proced,704,'20201118')"
   ]
  },
  {
   "cell_type": "code",
   "execution_count": 167,
   "id": "36390ffd-5b19-4526-82f5-18b9b6987c60",
   "metadata": {},
   "outputs": [],
   "source": [
    "e704=get_entry_by_id(proced,704)"
   ]
  },
  {
   "cell_type": "code",
   "execution_count": 168,
   "id": "541c9574-5bef-4303-8e61-99fcee848063",
   "metadata": {},
   "outputs": [],
   "source": [
    "files = [fname for fname in e704['files'] if fname.startswith('syndromic') >0 ]"
   ]
  },
  {
   "cell_type": "code",
   "execution_count": 169,
   "id": "a4b3a782-bd2d-460c-beed-a9412b9768a3",
   "metadata": {},
   "outputs": [
    {
     "data": {
      "text/plain": [
       "['syndromic-surveillance-gating-criteria_EXPORT_hospital_surge_capacity_covid-19-maine_2020-11-18.csv',\n",
       " 'syndromic-surveillance-gating-criteria_EXPORT_cases_by_county_covid-19-v2_2020-11-18.csv']"
      ]
     },
     "execution_count": 169,
     "metadata": {},
     "output_type": "execute_result"
    }
   ],
   "source": [
    "files"
   ]
  },
  {
   "cell_type": "code",
   "execution_count": 170,
   "id": "a0fd77ab-ace0-437f-9dd6-663525c049f9",
   "metadata": {},
   "outputs": [
    {
     "data": {
      "text/plain": [
       "[(['syndromic',\n",
       "   'surveillance',\n",
       "   'gating',\n",
       "   'criteria',\n",
       "   'export',\n",
       "   'hospital',\n",
       "   'surge',\n",
       "   'capacity',\n",
       "   'covid',\n",
       "   '19',\n",
       "   'maine'],\n",
       "  'csv')]"
      ]
     },
     "execution_count": 170,
     "metadata": {},
     "output_type": "execute_result"
    }
   ],
   "source": [
    "e704['processed'][29:30]"
   ]
  },
  {
   "cell_type": "code",
   "execution_count": 171,
   "id": "458722b9-e32d-4f2f-bca8-8ed33e144b08",
   "metadata": {},
   "outputs": [],
   "source": [
    "(samp1,samp2) = files"
   ]
  },
  {
   "cell_type": "markdown",
   "id": "4a28a2af-3ef4-46a3-9d9b-61198c551a03",
   "metadata": {},
   "source": [
    "* those with just 2 digit numbers?  -05, 06, 07\n",
    "* race03\n",
    "* highest50\n",
    "* t07"
   ]
  },
  {
   "cell_type": "code",
   "execution_count": 172,
   "id": "70afbda7-5d79-4ce1-8d04-232aeeb09131",
   "metadata": {},
   "outputs": [
    {
     "data": {
      "text/plain": [
       "1"
      ]
     },
     "execution_count": 172,
     "metadata": {},
     "output_type": "execute_result"
    }
   ],
   "source": [
    "t1 =  find_processed_by_term(proced,'19947')\n",
    "len(t1)"
   ]
  },
  {
   "cell_type": "code",
   "execution_count": 173,
   "id": "dbe7ff65-755d-479c-9ef9-d78947a302fd",
   "metadata": {},
   "outputs": [
    {
     "data": {
      "text/plain": [
       "697"
      ]
     },
     "execution_count": 173,
     "metadata": {},
     "output_type": "execute_result"
    }
   ],
   "source": [
    "t1[0]['metadataCollectionId']"
   ]
  },
  {
   "cell_type": "code",
   "execution_count": 174,
   "id": "434e69c9-730a-48b7-bc15-aed9b6a23977",
   "metadata": {},
   "outputs": [
    {
     "data": {
      "text/plain": [
       "dict_keys(['metadataCollectionId', 'titleEnglish', 'files', 'processed'])"
      ]
     },
     "execution_count": 174,
     "metadata": {},
     "output_type": "execute_result"
    }
   ],
   "source": [
    "t1[0].keys()"
   ]
  },
  {
   "cell_type": "code",
   "execution_count": 175,
   "id": "6531bb2c-8a55-4939-af1e-379bc8add3fd",
   "metadata": {},
   "outputs": [
    {
     "data": {
      "text/plain": [
       "'Archived Data from Delaware Health and Social Services: \"Coronavirus (COVID-19) Data Dashboard - Zipcode Level\"'"
      ]
     },
     "execution_count": 175,
     "metadata": {},
     "output_type": "execute_result"
    }
   ],
   "source": [
    "t1[0]['titleEnglish']"
   ]
  },
  {
   "cell_type": "code",
   "execution_count": 176,
   "id": "5a47017d-b263-4a9b-a0cc-7c1859095d55",
   "metadata": {},
   "outputs": [],
   "source": [
    "files = [fname for fname in t1[0]['files'] if fname.__contains__('19947')]"
   ]
  },
  {
   "cell_type": "code",
   "execution_count": 177,
   "id": "4579d8fd-104f-48a1-b41d-4f51ced80b6e",
   "metadata": {},
   "outputs": [
    {
     "data": {
      "text/plain": [
       "2216"
      ]
     },
     "execution_count": 177,
     "metadata": {},
     "output_type": "execute_result"
    }
   ],
   "source": [
    "len(files)"
   ]
  },
  {
   "cell_type": "code",
   "execution_count": 178,
   "id": "5bcaebd3-647e-4c2d-9aa3-12fedef4039b",
   "metadata": {},
   "outputs": [
    {
     "data": {
      "text/plain": [
       "['zip-code-19947-outcomes_2020-10-19_162302.csv',\n",
       " 'zip-code-19947-outcomes_2020-12-05_122304.csv',\n",
       " 'zip-code-19947-cases_2021-10-30_162304.csv',\n",
       " 'zip-code-19947-overview_2021-08-28_162303.csv',\n",
       " 'zip-code-19947-testing_2021-04-09_162304.csv',\n",
       " 'zip-code-19947-deaths_2021-02-01_122303.csv',\n",
       " 'zip-code-19947-overview_2021-07-31_162303.csv',\n",
       " 'zip-code-19947-cases_2020-12-01_122303.csv',\n",
       " 'zip-code-19947-overview_2020-09-17_162304.csv',\n",
       " 'zip-code-19947-testing_2021-03-30_162317.csv']"
      ]
     },
     "execution_count": 178,
     "metadata": {},
     "output_type": "execute_result"
    }
   ],
   "source": [
    "files[:10]"
   ]
  },
  {
   "cell_type": "code",
   "execution_count": 179,
   "id": "889904a5-f092-4bb3-bfc4-3c5ff212520d",
   "metadata": {},
   "outputs": [
    {
     "data": {
      "text/plain": [
       "1"
      ]
     },
     "execution_count": 179,
     "metadata": {},
     "output_type": "execute_result"
    }
   ],
   "source": [
    "t1 =  find_processed_by_term(proced,'48')\n",
    "len(t1)"
   ]
  },
  {
   "cell_type": "code",
   "execution_count": 180,
   "id": "5a41cb22-2cc3-475d-8e49-c4e43d09a4c5",
   "metadata": {},
   "outputs": [
    {
     "data": {
      "text/plain": [
       "7307"
      ]
     },
     "execution_count": 180,
     "metadata": {},
     "output_type": "execute_result"
    }
   ],
   "source": [
    "files = [fname for fname in t1[0]['files'] if fname.__contains__('48')]\n",
    "len(files)"
   ]
  },
  {
   "cell_type": "code",
   "execution_count": 181,
   "id": "640908a5-e694-4730-9ed1-e4e4d2ff1d07",
   "metadata": {},
   "outputs": [
    {
     "data": {
      "text/plain": [
       "['Sheet_48_Payette_2022-06-27_212307.csv',\n",
       " 'Sheet 48_Fremont_2021-11-15_212759.csv',\n",
       " 'Sheet_48_Shoshone_2022-02-22_212535.csv',\n",
       " 'Sheet_48_Bannock_2022-06-06_212307.csv',\n",
       " 'Sheet 48_Boundary_2021-12-02_212910.csv',\n",
       " 'Sheet_48_Teton_2022-03-23_212308.csv',\n",
       " 'Sheet_48_Benewah_2022-05-06_212304.csv',\n",
       " 'Sheet_48_Idaho_2022-07-13_212305.csv',\n",
       " 'Sheet_48_Adams_2022-03-30_212307.csv',\n",
       " 'Sheet_48_Latah_2022-07-20_212307.csv']"
      ]
     },
     "execution_count": 181,
     "metadata": {},
     "output_type": "execute_result"
    }
   ],
   "source": [
    "files[:10]"
   ]
  },
  {
   "cell_type": "code",
   "execution_count": 182,
   "id": "0f01f451-5940-4df2-8492-505c5a4c37d7",
   "metadata": {},
   "outputs": [
    {
     "data": {
      "text/plain": [
       "'Archived Data from Idaho Department of Health and Welfare: \"Idaho COVID-19 Dashbaord - Cases by County\"'"
      ]
     },
     "execution_count": 182,
     "metadata": {},
     "output_type": "execute_result"
    }
   ],
   "source": [
    "t1[0]['titleEnglish']"
   ]
  },
  {
   "cell_type": "code",
   "execution_count": 183,
   "id": "ce72c2bb-491d-435f-a102-b572334a5bb7",
   "metadata": {},
   "outputs": [
    {
     "data": {
      "text/plain": [
       "('Payette', 'csv')"
      ]
     },
     "execution_count": 183,
     "metadata": {},
     "output_type": "execute_result"
    }
   ],
   "source": [
    "patterns = precompile_patterns(patlist)\n",
    "get_base_match(patterns,files[0])"
   ]
  },
  {
   "cell_type": "code",
   "execution_count": 184,
   "id": "74d30f9e-ad0a-4b09-8691-1d68f8e3f10b",
   "metadata": {},
   "outputs": [
    {
     "data": {
      "text/plain": [
       "(['fremont'], 'csv')"
      ]
     },
     "execution_count": 184,
     "metadata": {},
     "output_type": "execute_result"
    }
   ],
   "source": [
    "get_tokens(patterns,files[1])"
   ]
  },
  {
   "cell_type": "code",
   "execution_count": 185,
   "id": "e159349f-29f0-4e09-80ff-a18b7d6e4402",
   "metadata": {},
   "outputs": [
    {
     "data": {
      "text/plain": [
       "2"
      ]
     },
     "execution_count": 185,
     "metadata": {},
     "output_type": "execute_result"
    }
   ],
   "source": [
    "t1 =  find_processed_by_term(proced,'t12')\n",
    "len(t1)"
   ]
  },
  {
   "cell_type": "code",
   "execution_count": 188,
   "id": "52857a27-af3b-4d6c-9902-ce733fa3667e",
   "metadata": {},
   "outputs": [
    {
     "data": {
      "text/plain": [
       "{836: [(['tableau',\n",
       "    'temp',\n",
       "    'temp',\n",
       "    '0crbell165o69810qb23000ksfyl',\n",
       "    '',\n",
       "    'a561',\n",
       "    'e12',\n",
       "    'f30',\n",
       "    'd144',\n",
       "    'd7',\n",
       "    'bae479139647f319',\n",
       "    ''],\n",
       "   'csv'),\n",
       "  (['new',\n",
       "    'dashboard',\n",
       "    'extract',\n",
       "    'new',\n",
       "    'dashboard',\n",
       "    'data',\n",
       "    '',\n",
       "    'a561',\n",
       "    'e12',\n",
       "    'f30',\n",
       "    'd144',\n",
       "    'd7',\n",
       "    'bae479139647f319',\n",
       "    ''],\n",
       "   'csv'),\n",
       "  (['tableau',\n",
       "    'temp',\n",
       "    'temp',\n",
       "    '0zc5ris00zoail189kj1g1dby17z',\n",
       "    '',\n",
       "    'a561',\n",
       "    'e12',\n",
       "    'f30',\n",
       "    'd144',\n",
       "    'd7',\n",
       "    'bae479139647f319',\n",
       "    ''],\n",
       "   'csv'),\n",
       "  (['tableau',\n",
       "    'temp',\n",
       "    'temp',\n",
       "    '0o8mdh91840tc515x9g910is6eam',\n",
       "    '',\n",
       "    'a561',\n",
       "    'e12',\n",
       "    'f30',\n",
       "    'd144',\n",
       "    'd7',\n",
       "    'bae479139647f319',\n",
       "    ''],\n",
       "   'csv'),\n",
       "  (['tableau',\n",
       "    'temp',\n",
       "    'temp',\n",
       "    '0y76x9y1mm0ebe17r5huj10lvlsf',\n",
       "    '',\n",
       "    'a561',\n",
       "    'e12',\n",
       "    'f30',\n",
       "    'd144',\n",
       "    'd7',\n",
       "    'bae479139647f319',\n",
       "    ''],\n",
       "   'csv'),\n",
       "  (['tableau',\n",
       "    'temp',\n",
       "    'temp',\n",
       "    '087e4bu1m04dtn17wfyym1cy4inn',\n",
       "    '',\n",
       "    'a561',\n",
       "    'e12',\n",
       "    'f30',\n",
       "    'd144',\n",
       "    'd7',\n",
       "    'bae479139647f319',\n",
       "    ''],\n",
       "   'csv'),\n",
       "  (['tableau',\n",
       "    'temp',\n",
       "    'temp',\n",
       "    '0ads6zq0wa0oen13dbm880zcdymr',\n",
       "    '',\n",
       "    'a561',\n",
       "    'e12',\n",
       "    'f30',\n",
       "    'd144',\n",
       "    'd7',\n",
       "    'bae479139647f319',\n",
       "    ''],\n",
       "   'csv'),\n",
       "  (['tableau',\n",
       "    'temp',\n",
       "    'temp',\n",
       "    '1i78ap019xhvk616b29vv16pwiq6',\n",
       "    '',\n",
       "    'a561',\n",
       "    'e12',\n",
       "    'f30',\n",
       "    'd144',\n",
       "    'd7',\n",
       "    'bae479139647f319',\n",
       "    ''],\n",
       "   'csv'),\n",
       "  (['tableau',\n",
       "    'temp',\n",
       "    'temp',\n",
       "    '027b0791avr5v0148h00l08uxda6',\n",
       "    '',\n",
       "    'a561',\n",
       "    'e12',\n",
       "    'f30',\n",
       "    'd144',\n",
       "    'd7',\n",
       "    'bae479139647f319',\n",
       "    ''],\n",
       "   'csv'),\n",
       "  (['tableau',\n",
       "    'temp',\n",
       "    'temp',\n",
       "    '1s716py1xqrodj17ykezv00nhq5c',\n",
       "    '',\n",
       "    'a561',\n",
       "    'e12',\n",
       "    'f30',\n",
       "    'd144',\n",
       "    'd7',\n",
       "    'bae479139647f319',\n",
       "    ''],\n",
       "   'csv'),\n",
       "  (['tableau',\n",
       "    'temp',\n",
       "    'temp',\n",
       "    '14dhh920e3ra6q13bovo60b8hlgt',\n",
       "    '',\n",
       "    'a561',\n",
       "    'e12',\n",
       "    'f30',\n",
       "    'd144',\n",
       "    'd7',\n",
       "    'bae479139647f319',\n",
       "    ''],\n",
       "   'csv'),\n",
       "  (['tableau',\n",
       "    'temp',\n",
       "    'temp',\n",
       "    '18v0jkw02ige5f10yr8641q21h2n',\n",
       "    '',\n",
       "    'a561',\n",
       "    'e12',\n",
       "    'f30',\n",
       "    'd144',\n",
       "    'd7',\n",
       "    'bae479139647f319',\n",
       "    ''],\n",
       "   'csv'),\n",
       "  (['tableau',\n",
       "    'temp',\n",
       "    'temp',\n",
       "    '1xvdus419186vv1fkftmw1yqjdr5',\n",
       "    '',\n",
       "    'a561',\n",
       "    'e12',\n",
       "    'f30',\n",
       "    'd144',\n",
       "    'd7',\n",
       "    'bae479139647f319',\n",
       "    ''],\n",
       "   'csv'),\n",
       "  (['tableau',\n",
       "    'totals',\n",
       "    'dashboard',\n",
       "    'data',\n",
       "    '',\n",
       "    'a561',\n",
       "    'e12',\n",
       "    'f30',\n",
       "    'd144',\n",
       "    'd7',\n",
       "    'bae479139647f319',\n",
       "    ''],\n",
       "   'csv'),\n",
       "  (['tableau',\n",
       "    'temp',\n",
       "    'temp',\n",
       "    '1pl1fir12odv4x10j5dex0mjkdnh',\n",
       "    '',\n",
       "    'a561',\n",
       "    'e12',\n",
       "    'f30',\n",
       "    'd144',\n",
       "    'd7',\n",
       "    'bae479139647f319',\n",
       "    ''],\n",
       "   'csv')]}"
      ]
     },
     "execution_count": 188,
     "metadata": {},
     "output_type": "execute_result"
    }
   ],
   "source": [
    "d7s= find_tokens_by_term(proced,'d7')\n",
    "d7s"
   ]
  },
  {
   "cell_type": "code",
   "execution_count": null,
   "id": "9969d5e7-1447-4678-8cc3-fe676034718f",
   "metadata": {},
   "outputs": [],
   "source": [
    "d7sinit = find_initial_by_substring(proced,'d7')\n",
    "d7sinit.keys()"
   ]
  },
  {
   "cell_type": "code",
   "execution_count": null,
   "id": "a2a9a76a-7619-42fb-874d-9612288afdd9",
   "metadata": {},
   "outputs": [],
   "source": [
    "d7sinit[762]"
   ]
  },
  {
   "cell_type": "code",
   "execution_count": null,
   "id": "db94ba3d-8384-40bc-b846-5485ef638801",
   "metadata": {},
   "outputs": [],
   "source": [
    "edge_case = find_initial_by_substring(proced,'0o8mdh91840tc515')\n",
    "edge_case"
   ]
  },
  {
   "cell_type": "markdown",
   "id": "66f2e5cd-cfd9-4d26-9a37-9d19af914e2e",
   "metadata": {},
   "source": [
    "so some of these are getting butchered."
   ]
  },
  {
   "cell_type": "code",
   "execution_count": null,
   "id": "b30e1c27-8cec-49d2-83b2-1cb2a653d582",
   "metadata": {},
   "outputs": [],
   "source": [
    "samp = edge_case[836][0]\n",
    "get_base_match(patterns, edge_case)"
   ]
  },
  {
   "cell_type": "code",
   "execution_count": null,
   "id": "2f14c75b-7036-491c-acd0-a8922cf840ef",
   "metadata": {},
   "outputs": [],
   "source": [
    "(base_name,ext)=get_base_match(patterns,samp)\n",
    "base_name_words = re.split(r'\\s|_|-',base_name)"
   ]
  },
  {
   "cell_type": "code",
   "execution_count": null,
   "id": "9460323f-4ad6-490a-ab15-c5bb976c86ad",
   "metadata": {},
   "outputs": [],
   "source": [
    "base_name_words"
   ]
  },
  {
   "cell_type": "code",
   "execution_count": null,
   "id": "b4e98ddd-354e-42fc-bafc-3e20f3149f18",
   "metadata": {},
   "outputs": [],
   "source": [
    "base_words_no_camel = [camel_case_split(bnw) for bnw in base_name_words]"
   ]
  },
  {
   "cell_type": "code",
   "execution_count": null,
   "id": "494b2b17-3370-4f9c-a210-240c2cd76f5d",
   "metadata": {},
   "outputs": [],
   "source": [
    "base_words_no_camel"
   ]
  },
  {
   "cell_type": "markdown",
   "id": "cb03b6e3-12c8-4b85-96f5-a214e7f877ce",
   "metadata": {},
   "source": [
    "ok. so, these strings break camel case. consider not camel case-splitting if start with 'TableauTemp'"
   ]
  },
  {
   "cell_type": "markdown",
   "id": "22c81057-4208-40c3-b70d-d301a43140ac",
   "metadata": {},
   "source": [
    "----\n",
    "# Summary of patterns\n",
    "*  \"zip-code-19947-outcomes_2020-10-19_162302.csv\" - we will keep the zip code (\"19947\") as a semantically-meaningful component\n",
    "* Idaho has \"sheet_48\" patterns - Sheet_48_Teton_2022-03-23_212308.csv  - filter those out.\n",
    "\n"
   ]
  },
  {
   "cell_type": "code",
   "execution_count": null,
   "id": "848e3147-8668-4562-9a34-fe0493c4035e",
   "metadata": {},
   "outputs": [],
   "source": []
  },
  {
   "cell_type": "code",
   "execution_count": null,
   "id": "0dd23cf0-20e3-4e9a-acb9-f7138e7e72ed",
   "metadata": {},
   "outputs": [],
   "source": []
  },
  {
   "cell_type": "code",
   "execution_count": null,
   "id": "08635b91-5d57-4084-97df-97e1b98d2992",
   "metadata": {},
   "outputs": [],
   "source": []
  }
 ],
 "metadata": {
  "kernelspec": {
   "display_name": "py39",
   "language": "python",
   "name": "py39"
  },
  "language_info": {
   "codemirror_mode": {
    "name": "ipython",
    "version": 3
   },
   "file_extension": ".py",
   "mimetype": "text/x-python",
   "name": "python",
   "nbconvert_exporter": "python",
   "pygments_lexer": "ipython3",
   "version": "3.9.7"
  }
 },
 "nbformat": 4,
 "nbformat_minor": 5
}
