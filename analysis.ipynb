{
 "cells": [
  {
   "cell_type": "markdown",
   "id": "5302d93a-ee0b-4d2e-bb7d-fa6189222b01",
   "metadata": {},
   "source": [
    "# analyzing data from scrapes..."
   ]
  },
  {
   "cell_type": "code",
   "execution_count": 1,
   "id": "0fccf748-416a-4b23-9f9c-2fd221e57432",
   "metadata": {},
   "outputs": [],
   "source": [
    "import json\n",
    "import pandas as pd\n",
    "import os\n",
    "import re\n",
    "import itertools\n",
    "import nltk\n",
    "import sklearn\n",
    "from nltk.stem.porter import PorterStemmer\n",
    "from nltk.stem.lancaster import LancasterStemmer\n",
    "from nltk.stem import SnowballStemmer \n",
    "from nltk.corpus import stopwords\n",
    "import matplotlib.pyplot as plt"
   ]
  },
  {
   "cell_type": "code",
   "execution_count": 2,
   "id": "b1b9ff26-234f-48ae-9b52-65534cc0c6df",
   "metadata": {},
   "outputs": [
    {
     "name": "stdout",
     "output_type": "stream",
     "text": [
      "\n",
      "System:\n",
      "    python: 3.9.7 | packaged by conda-forge | (default, Sep 29 2021, 20:33:18)  [Clang 11.1.0 ]\n",
      "executable: /Users/harry/miniconda3/envs/py39/bin/python\n",
      "   machine: macOS-13.0.1-x86_64-i386-64bit\n",
      "\n",
      "Python dependencies:\n",
      "      sklearn: 1.1.2\n",
      "          pip: 22.2.2\n",
      "   setuptools: 65.2.0\n",
      "        numpy: 1.23.2\n",
      "        scipy: 1.9.0\n",
      "       Cython: 0.29.24\n",
      "       pandas: 1.3.3\n",
      "   matplotlib: 3.5.1\n",
      "       joblib: 1.1.0\n",
      "threadpoolctl: 3.1.0\n",
      "\n",
      "Built with OpenMP: True\n",
      "\n",
      "threadpoolctl info:\n",
      "       user_api: blas\n",
      "   internal_api: openblas\n",
      "         prefix: libopenblas\n",
      "       filepath: /Users/harry/miniconda3/envs/py39/lib/libopenblasp-r0.3.21.dylib\n",
      "        version: 0.3.21\n",
      "threading_layer: openmp\n",
      "   architecture: Haswell\n",
      "    num_threads: 16\n",
      "\n",
      "       user_api: openmp\n",
      "   internal_api: openmp\n",
      "         prefix: libomp\n",
      "       filepath: /Users/harry/miniconda3/envs/py39/lib/libomp.dylib\n",
      "        version: None\n",
      "    num_threads: 16\n"
     ]
    }
   ],
   "source": [
    "sklearn.show_versions()"
   ]
  },
  {
   "cell_type": "code",
   "execution_count": 3,
   "id": "86239063-488b-4459-bb84-e04dedd8f81c",
   "metadata": {},
   "outputs": [
    {
     "name": "stdout",
     "output_type": "stream",
     "text": [
      "3.6.5\n"
     ]
    }
   ],
   "source": [
    "print(nltk.__version__)"
   ]
  },
  {
   "cell_type": "code",
   "execution_count": 4,
   "id": "cf326e5d-92a7-42e2-99ff-97cf27c8aec6",
   "metadata": {},
   "outputs": [
    {
     "name": "stdout",
     "output_type": "stream",
     "text": [
      "1.3.3\n"
     ]
    }
   ],
   "source": [
    "print(pd.__version__)"
   ]
  },
  {
   "cell_type": "markdown",
   "id": "dcb0acf9-b70e-4bd5-9916-23c016ab8730",
   "metadata": {},
   "source": [
    "# ok. build up list of all files. for each, get ID, title, and fileType set"
   ]
  },
  {
   "cell_type": "code",
   "execution_count": 5,
   "id": "95af6dc1-b622-4b29-a080-ec9e9a7409f6",
   "metadata": {},
   "outputs": [],
   "source": [
    "def read_file(fname):\n",
    "    with open(fname,'r') as jfile:\n",
    "        data = json.load(jfile)\n",
    "    return data\n",
    "\n",
    "# this next routine really isn't used...\n",
    "def get_summary(fname):\n",
    "    data = read_file(fname)\n",
    "    res={}\n",
    "    res['metadataCollectionId']=data['metadataCollectionId']\n",
    "    res['titleEnglish']=data['titleEnglish']\n",
    "    res['fileTypeSet']=data['fileTypeSet']\n",
    "    return res\n",
    "\n",
    "def get_files(path):\n",
    "    files=[]\n",
    "    for file in os.listdir(path):\n",
    "        file =path+\"/\"+file\n",
    "        if file.endswith(\".json\"):\n",
    "            files.append(file) \n",
    "    return files"
   ]
  },
  {
   "cell_type": "code",
   "execution_count": 6,
   "id": "031a62bd-d84d-49b4-81f8-7efec5999cf6",
   "metadata": {},
   "outputs": [],
   "source": [
    "summaries = [read_file(fname) for fname in get_files(\"../10_rows\")]"
   ]
  },
  {
   "cell_type": "code",
   "execution_count": 7,
   "id": "394b2bbc-fff1-451e-b543-d60e684dffdb",
   "metadata": {},
   "outputs": [
    {
     "data": {
      "text/plain": [
       "294"
      ]
     },
     "execution_count": 7,
     "metadata": {},
     "output_type": "execute_result"
    }
   ],
   "source": [
    "len(summaries)"
   ]
  },
  {
   "cell_type": "code",
   "execution_count": 8,
   "id": "69fd44af-3438-495b-b1c2-38013bb07ec4",
   "metadata": {},
   "outputs": [],
   "source": [
    "## Question - how many of these summaries have more than one file type?"
   ]
  },
  {
   "cell_type": "code",
   "execution_count": 9,
   "id": "8e353fe6-9670-4493-b64d-8654bd9fc85e",
   "metadata": {},
   "outputs": [],
   "source": [
    "multi_files = [f for f in summaries if len(f['fileTypeSet']) > 1]"
   ]
  },
  {
   "cell_type": "code",
   "execution_count": 10,
   "id": "e08705d0-323c-42d5-91eb-67b010f996fe",
   "metadata": {},
   "outputs": [
    {
     "data": {
      "text/plain": [
       "146"
      ]
     },
     "execution_count": 10,
     "metadata": {},
     "output_type": "execute_result"
    }
   ],
   "source": [
    "len(multi_files)"
   ]
  },
  {
   "cell_type": "code",
   "execution_count": 11,
   "id": "697e1302-680f-4542-a98a-b43e3bffe0d8",
   "metadata": {},
   "outputs": [
    {
     "data": {
      "text/plain": [
       "41"
      ]
     },
     "execution_count": 11,
     "metadata": {},
     "output_type": "execute_result"
    }
   ],
   "source": [
    "three_fer = [f for f in summaries if len(f['fileTypeSet'])>2]\n",
    "len(three_fer)"
   ]
  },
  {
   "cell_type": "code",
   "execution_count": 12,
   "id": "bcd13693-0b1e-43c1-b500-f20712ecf21a",
   "metadata": {},
   "outputs": [
    {
     "data": {
      "text/plain": [
       "7"
      ]
     },
     "execution_count": 12,
     "metadata": {},
     "output_type": "execute_result"
    }
   ],
   "source": [
    "four_fer = [f for f in summaries if len(f['fileTypeSet'])>3]\n",
    "len(four_fer)"
   ]
  },
  {
   "cell_type": "code",
   "execution_count": 13,
   "id": "f6c4a7d6-967f-45cb-9ca7-5581a9c710ef",
   "metadata": {},
   "outputs": [],
   "source": [
    "type_counts=[len(f['fileTypeSet']) for f in summaries]"
   ]
  },
  {
   "cell_type": "markdown",
   "id": "ea764346-5647-4057-aee7-d915491280bc",
   "metadata": {},
   "source": [
    "ok. how to get them to spread out a bit and to center on value?"
   ]
  },
  {
   "cell_type": "code",
   "execution_count": 14,
   "id": "d18bb3d2-fe37-42cc-b06e-cb35cb4b8bd1",
   "metadata": {},
   "outputs": [],
   "source": [
    "tcseries = pd.Series(type_counts)"
   ]
  },
  {
   "cell_type": "code",
   "execution_count": 15,
   "id": "4be1c3c6-9854-4146-84b8-07d5a2b9ff06",
   "metadata": {},
   "outputs": [
    {
     "data": {
      "text/html": [
       "<div>\n",
       "<style scoped>\n",
       "    .dataframe tbody tr th:only-of-type {\n",
       "        vertical-align: middle;\n",
       "    }\n",
       "\n",
       "    .dataframe tbody tr th {\n",
       "        vertical-align: top;\n",
       "    }\n",
       "\n",
       "    .dataframe thead th {\n",
       "        text-align: right;\n",
       "    }\n",
       "</style>\n",
       "<table border=\"1\" class=\"dataframe\">\n",
       "  <thead>\n",
       "    <tr style=\"text-align: right;\">\n",
       "      <th></th>\n",
       "      <th>0</th>\n",
       "    </tr>\n",
       "  </thead>\n",
       "  <tbody>\n",
       "    <tr>\n",
       "      <th>1</th>\n",
       "      <td>148</td>\n",
       "    </tr>\n",
       "    <tr>\n",
       "      <th>2</th>\n",
       "      <td>105</td>\n",
       "    </tr>\n",
       "    <tr>\n",
       "      <th>3</th>\n",
       "      <td>34</td>\n",
       "    </tr>\n",
       "    <tr>\n",
       "      <th>4</th>\n",
       "      <td>6</td>\n",
       "    </tr>\n",
       "    <tr>\n",
       "      <th>5</th>\n",
       "      <td>1</td>\n",
       "    </tr>\n",
       "  </tbody>\n",
       "</table>\n",
       "</div>"
      ],
      "text/plain": [
       "     0\n",
       "1  148\n",
       "2  105\n",
       "3   34\n",
       "4    6\n",
       "5    1"
      ]
     },
     "execution_count": 15,
     "metadata": {},
     "output_type": "execute_result"
    }
   ],
   "source": [
    "bar  = pd.DataFrame(tcseries.value_counts())\n",
    "bar"
   ]
  },
  {
   "cell_type": "code",
   "execution_count": 16,
   "id": "e33bcb97-b9c1-469a-9777-d1342e9d3535",
   "metadata": {},
   "outputs": [
    {
     "data": {
      "text/plain": [
       "<AxesSubplot:>"
      ]
     },
     "execution_count": 16,
     "metadata": {},
     "output_type": "execute_result"
    },
    {
     "data": {
      "image/png": "[encoded data removed]",
      "text/plain": [
       "<Figure size 640x480 with 1 Axes>"
      ]
     },
     "metadata": {},
     "output_type": "display_data"
    }
   ],
   "source": [
    "bar.plot(kind=\"bar\",rot=0)"
   ]
  },
  {
   "cell_type": "markdown",
   "id": "00b82761-d9ac-48af-a4e5-98aa00e5337d",
   "metadata": {},
   "source": [
    "ok. so 146/294, slightly less than 50% have multiple file types"
   ]
  },
  {
   "cell_type": "markdown",
   "id": "296e1718-985b-4dba-bd91-5388e7144b8c",
   "metadata": {},
   "source": [
    "#### look at type distribution - how many have pdf,json,csv, html,png, etc."
   ]
  },
  {
   "cell_type": "code",
   "execution_count": 17,
   "id": "72e6a6bc-aeda-44ca-a7a9-097f6f884c73",
   "metadata": {},
   "outputs": [],
   "source": [
    "type_sum={}\n",
    "for s in summaries:\n",
    "    ftypes = s['fileTypeSet']\n",
    "    for ftype in ftypes:\n",
    "        atype = ftype['fileType']\n",
    "        if atype not in type_sum:\n",
    "            type_sum[atype]=0\n",
    "        type_sum[atype]=type_sum[atype]+1"
   ]
  },
  {
   "cell_type": "code",
   "execution_count": 18,
   "id": "9ff067e9-dca5-43f0-9da4-1792f110c76f",
   "metadata": {},
   "outputs": [
    {
     "data": {
      "text/plain": [
       "{'html': 78,\n",
       " 'xlsx': 28,\n",
       " 'pdf': 47,\n",
       " 'csv': 132,\n",
       " 'png': 114,\n",
       " 'twbx': 5,\n",
       " 'json': 74,\n",
       " 'docx': 1,\n",
       " 'zip': 3,\n",
       " 'tsv': 1,\n",
       " 'xls': 2,\n",
       " 'js': 1,\n",
       " 'ods': 1,\n",
       " 'rds': 1,\n",
       " 'jpg': 1}"
      ]
     },
     "execution_count": 18,
     "metadata": {},
     "output_type": "execute_result"
    }
   ],
   "source": [
    "type_sum"
   ]
  },
  {
   "cell_type": "code",
   "execution_count": 19,
   "id": "1c7cbe40-01b4-4605-8de8-07dd491fbd34",
   "metadata": {},
   "outputs": [
    {
     "data": {
      "text/plain": [
       "[78, 28, 47, 132, 114, 5, 74, 1, 3, 1, 2, 1, 1, 1, 1]"
      ]
     },
     "execution_count": 19,
     "metadata": {},
     "output_type": "execute_result"
    }
   ],
   "source": [
    "counts = list(type_sum.values())\n",
    "counts"
   ]
  },
  {
   "cell_type": "code",
   "execution_count": 20,
   "id": "9376379e-73df-48d1-baec-e0123eceb71e",
   "metadata": {},
   "outputs": [
    {
     "data": {
      "text/plain": [
       "489"
      ]
     },
     "execution_count": 20,
     "metadata": {},
     "output_type": "execute_result"
    }
   ],
   "source": [
    "sum(counts)"
   ]
  },
  {
   "cell_type": "markdown",
   "id": "d7acc2e2-56c1-41ce-8edf-f27ac46114ec",
   "metadata": {},
   "source": [
    "## ok. write a routine to filter summaries (and files) by type), then dig into types"
   ]
  },
  {
   "cell_type": "code",
   "execution_count": 21,
   "id": "ee3a816b-8569-4bc6-9c86-7280870fbded",
   "metadata": {},
   "outputs": [],
   "source": [
    "def get_summaries_by_type(summaries,target):\n",
    "    res = []\n",
    "    for s in summaries:\n",
    "        match = False\n",
    "        fts  = s['fileTypeSet']\n",
    "        for ft in fts:\n",
    "            atype = ft['fileType']\n",
    "            if atype == target:\n",
    "                match = True\n",
    "        if match == True:\n",
    "            res.append(s)\n",
    "    return res"
   ]
  },
  {
   "cell_type": "code",
   "execution_count": 22,
   "id": "d4d9a945-425f-4be0-a4c6-a665fe02ac63",
   "metadata": {},
   "outputs": [
    {
     "data": {
      "text/plain": [
       "74"
      ]
     },
     "execution_count": 22,
     "metadata": {},
     "output_type": "execute_result"
    }
   ],
   "source": [
    "jsons = get_summaries_by_type(summaries,'json')\n",
    "len(jsons)"
   ]
  },
  {
   "cell_type": "code",
   "execution_count": 23,
   "id": "c95ea660-978c-46e3-b91d-73e4459af902",
   "metadata": {},
   "outputs": [
    {
     "data": {
      "text/plain": [
       "78"
      ]
     },
     "execution_count": 23,
     "metadata": {},
     "output_type": "execute_result"
    }
   ],
   "source": [
    "htmls=get_summaries_by_type(summaries,'html')\n",
    "len(htmls)"
   ]
  },
  {
   "cell_type": "code",
   "execution_count": 24,
   "id": "76e212c3-001c-47fa-960d-215495186858",
   "metadata": {},
   "outputs": [],
   "source": [
    "xlsx = get_summaries_by_type(summaries,'xlsx')"
   ]
  },
  {
   "cell_type": "code",
   "execution_count": 25,
   "id": "5216e29c-f3cd-4e52-8b2a-21f78a8c4aac",
   "metadata": {},
   "outputs": [
    {
     "data": {
      "text/plain": [
       "28"
      ]
     },
     "execution_count": 25,
     "metadata": {},
     "output_type": "execute_result"
    }
   ],
   "source": [
    "len(xlsx)"
   ]
  },
  {
   "cell_type": "markdown",
   "id": "58410c1b-45b0-4d04-94b9-8f72995dc3e1",
   "metadata": {},
   "source": [
    "#### try some easy ones - pdf and png"
   ]
  },
  {
   "cell_type": "code",
   "execution_count": 26,
   "id": "bf7460ce-0aca-4366-8048-820c6535fc7a",
   "metadata": {},
   "outputs": [],
   "source": [
    "pdfs = get_summaries_by_type(summaries,'pdf')"
   ]
  },
  {
   "cell_type": "code",
   "execution_count": 27,
   "id": "e7540471-3d56-4dad-8425-04ca2bbab865",
   "metadata": {},
   "outputs": [
    {
     "data": {
      "text/plain": [
       "47"
      ]
     },
     "execution_count": 27,
     "metadata": {},
     "output_type": "execute_result"
    }
   ],
   "source": [
    "len(pdfs)"
   ]
  },
  {
   "cell_type": "code",
   "execution_count": 28,
   "id": "4a7172c0-fbf2-4542-8a78-9601cafe2334",
   "metadata": {},
   "outputs": [
    {
     "data": {
      "text/plain": [
       "{'metadataCollectionId': 683,\n",
       " 'titleEnglish': 'Archived Data from New Jersey Department of Health: \"New Jersey Department of Health COVID-19 Confirmed Case Summary \"',\n",
       " 'fileTypeSet': [{'fileType': 'pdf', 'fileCount': 60}]}"
      ]
     },
     "execution_count": 28,
     "metadata": {},
     "output_type": "execute_result"
    }
   ],
   "source": [
    "pdfs[0]"
   ]
  },
  {
   "cell_type": "code",
   "execution_count": 29,
   "id": "b11efbba-cb5f-44fe-b5a9-57d34020dedc",
   "metadata": {},
   "outputs": [
    {
     "data": {
      "text/plain": [
       "[{'fileType': 'pdf', 'fileCount': 2158},\n",
       " {'fileType': 'csv', 'fileCount': 269},\n",
       " {'fileType': 'png', 'fileCount': 304}]"
      ]
     },
     "execution_count": 29,
     "metadata": {},
     "output_type": "execute_result"
    }
   ],
   "source": [
    "pdfs[1]['fileTypeSet']"
   ]
  },
  {
   "cell_type": "code",
   "execution_count": 30,
   "id": "47750173-e100-4fcf-9ead-80d7daac5eaf",
   "metadata": {},
   "outputs": [
    {
     "data": {
      "text/plain": [
       "dict_keys(['metadataCollectionId', 'titleEnglish', 'fileTypeSet', 'fileSet'])"
      ]
     },
     "execution_count": 30,
     "metadata": {},
     "output_type": "execute_result"
    }
   ],
   "source": [
    "pdfs[1].keys()"
   ]
  },
  {
   "cell_type": "code",
   "execution_count": 31,
   "id": "34e00839-11da-4d5d-8f8d-093fc8e7bad4",
   "metadata": {},
   "outputs": [
    {
     "data": {
      "text/plain": [
       "269"
      ]
     },
     "execution_count": 31,
     "metadata": {},
     "output_type": "execute_result"
    }
   ],
   "source": [
    "len(pdfs[1]['fileSet'])"
   ]
  },
  {
   "cell_type": "code",
   "execution_count": 32,
   "id": "6ceaf477-93b0-46f2-afb6-a2d0f45bc3f1",
   "metadata": {},
   "outputs": [],
   "source": [
    "pdfs1_fsnames = [f['filename'] for f in pdfs[1]['fileSet']]\n"
   ]
  },
  {
   "cell_type": "code",
   "execution_count": 33,
   "id": "819b23d5-1f30-4c40-b303-755d8547c170",
   "metadata": {},
   "outputs": [
    {
     "data": {
      "text/plain": [
       "{'metadataCollectionId': 861,\n",
       " 'titleEnglish': 'Archived Data from Oklahoma State Department of Health: \"Oklahoma Response to Coronavirus Disease 2019 (COVID-19)\"',\n",
       " 'fileTypeSet': [{'fileType': 'pdf', 'fileCount': 294},\n",
       "  {'fileType': 'html', 'fileCount': 165}]}"
      ]
     },
     "execution_count": 33,
     "metadata": {},
     "output_type": "execute_result"
    }
   ],
   "source": [
    "pdfs[5]"
   ]
  },
  {
   "cell_type": "code",
   "execution_count": 34,
   "id": "cf3cdf3b-06a9-4fab-9ea6-aa36f9ad38df",
   "metadata": {},
   "outputs": [],
   "source": [
    "pngs = get_summaries_by_type(summaries,'png')"
   ]
  },
  {
   "cell_type": "code",
   "execution_count": 35,
   "id": "6574f5ed-9288-4da5-8287-e27e896bc766",
   "metadata": {},
   "outputs": [
    {
     "data": {
      "text/plain": [
       "dict_keys(['metadataCollectionId', 'titleEnglish', 'fileTypeSet', 'fileSet'])"
      ]
     },
     "execution_count": 35,
     "metadata": {},
     "output_type": "execute_result"
    }
   ],
   "source": [
    "pngs[0].keys()"
   ]
  },
  {
   "cell_type": "code",
   "execution_count": 36,
   "id": "c0d56763-c600-4b00-8627-ff8e2aea243c",
   "metadata": {},
   "outputs": [
    {
     "data": {
      "text/plain": [
       "[{'fileType': 'pdf', 'fileCount': 2158},\n",
       " {'fileType': 'csv', 'fileCount': 269},\n",
       " {'fileType': 'png', 'fileCount': 304}]"
      ]
     },
     "execution_count": 36,
     "metadata": {},
     "output_type": "execute_result"
    }
   ],
   "source": [
    "pngs[0]['fileTypeSet']"
   ]
  },
  {
   "cell_type": "code",
   "execution_count": 37,
   "id": "3b4a4b98-ad35-47c1-9eb9-4d9078b53949",
   "metadata": {},
   "outputs": [
    {
     "data": {
      "text/plain": [
       "269"
      ]
     },
     "execution_count": 37,
     "metadata": {},
     "output_type": "execute_result"
    }
   ],
   "source": [
    "len(pngs[0]['fileSet'])"
   ]
  },
  {
   "cell_type": "code",
   "execution_count": 38,
   "id": "ea88ee07-abd6-4de6-897f-220a866e1c2b",
   "metadata": {},
   "outputs": [
    {
     "data": {
      "text/plain": [
       "{'filename': 'county_vaccine_2021-12-08_162510.csv',\n",
       " 'data': [{'sheetData': [['County', 'Date', 'Vaccine', 'Administrations'],\n",
       "    [None, '12/14/2020', 'Pfizer', '1'],\n",
       "    [None, '12/15/2020', 'Pfizer', '4'],\n",
       "    [None, '12/15/2020', 'Unspecified', '1'],\n",
       "    [None, '12/16/2020', 'Pfizer', '84'],\n",
       "    [None, '12/17/2020', 'Pfizer', '100'],\n",
       "    [None, '12/18/2020', 'Pfizer', '296'],\n",
       "    [None, '12/18/2020', 'Unspecified', '2'],\n",
       "    [None, '12/19/2020', 'Pfizer', '125'],\n",
       "    [None, '12/19/2020', 'Unspecified', '1']]}]}"
      ]
     },
     "execution_count": 38,
     "metadata": {},
     "output_type": "execute_result"
    }
   ],
   "source": [
    "pngs[0]['fileSet'][93]"
   ]
  },
  {
   "cell_type": "markdown",
   "id": "4cb2a8bf-65a9-4866-857b-27828a49d941",
   "metadata": {},
   "source": [
    "#### ok. look at twbx and zip"
   ]
  },
  {
   "cell_type": "code",
   "execution_count": 39,
   "id": "1b89a792-7642-42f2-9709-a8e3a3a94858",
   "metadata": {},
   "outputs": [],
   "source": [
    "twbx = get_summaries_by_type(summaries,'twbx')"
   ]
  },
  {
   "cell_type": "code",
   "execution_count": 40,
   "id": "2ba838bc-85e7-44f4-89fc-9701d113e7a9",
   "metadata": {},
   "outputs": [
    {
     "data": {
      "text/plain": [
       "5"
      ]
     },
     "execution_count": 40,
     "metadata": {},
     "output_type": "execute_result"
    }
   ],
   "source": [
    "len(twbx)"
   ]
  },
  {
   "cell_type": "markdown",
   "id": "1a44bf60-c113-487a-9d34-b61e07a0cf30",
   "metadata": {},
   "source": [
    "all also have csv"
   ]
  },
  {
   "cell_type": "code",
   "execution_count": 41,
   "id": "efbc77ca-7d60-4a11-9c0b-0ec0c603555e",
   "metadata": {},
   "outputs": [],
   "source": [
    "jsons = get_summaries_by_type(summaries,'json')"
   ]
  },
  {
   "cell_type": "code",
   "execution_count": 42,
   "id": "2df77425-c44b-455e-9403-ed54429f573b",
   "metadata": {},
   "outputs": [
    {
     "data": {
      "text/plain": [
       "6"
      ]
     },
     "execution_count": 42,
     "metadata": {},
     "output_type": "execute_result"
    }
   ],
   "source": [
    "len(jsons[1]['fileSet'])"
   ]
  },
  {
   "cell_type": "code",
   "execution_count": 43,
   "id": "226443e1-e8ec-46c9-9f46-18e409dea23e",
   "metadata": {},
   "outputs": [],
   "source": [
    "js1fs=jsons[1]['fileSet']"
   ]
  },
  {
   "cell_type": "code",
   "execution_count": 44,
   "id": "f8d742cd-d334-419e-a9bf-fe5f60341fa1",
   "metadata": {},
   "outputs": [],
   "source": [
    "js1js= [f  for f in js1fs if f['filename'].endswith('json')]"
   ]
  },
  {
   "cell_type": "code",
   "execution_count": 45,
   "id": "f25ae752-815a-4e63-bca3-4ac396ad8dce",
   "metadata": {},
   "outputs": [
    {
     "data": {
      "text/plain": [
       "[]"
      ]
     },
     "execution_count": 45,
     "metadata": {},
     "output_type": "execute_result"
    }
   ],
   "source": [
    "js1js"
   ]
  },
  {
   "cell_type": "markdown",
   "id": "91eb08e5-a1a8-4176-bab3-8149eb54455f",
   "metadata": {},
   "source": [
    "all also have csv!"
   ]
  },
  {
   "cell_type": "markdown",
   "id": "186790be-4c39-4972-af75-e9aa5ad1050c",
   "metadata": {},
   "source": [
    "# Ok,new routine to get any who have one of several types"
   ]
  },
  {
   "cell_type": "code",
   "execution_count": 46,
   "id": "b43cc9b3-9416-4328-b837-0f40673f9ace",
   "metadata": {},
   "outputs": [],
   "source": [
    "def get_entries_by_types(entries,targets):\n",
    "    res = []\n",
    "    for e in entries:\n",
    "        match = False\n",
    "        fts  = e['fileTypeSet']\n",
    "        for ft in fts:\n",
    "            atype = ft['fileType']\n",
    "            if atype in targets:\n",
    "                match = True\n",
    "        if match == True:\n",
    "            res.append(e)\n",
    "    return res"
   ]
  },
  {
   "cell_type": "code",
   "execution_count": 47,
   "id": "97b8e8a6-fd36-4375-a93d-b68cd44024f2",
   "metadata": {},
   "outputs": [],
   "source": [
    "spreadsheets = get_entries_by_types(summaries,['csv','xlsx','tsv','xlsx','json','ods'])"
   ]
  },
  {
   "cell_type": "code",
   "execution_count": 48,
   "id": "f4f70985-e957-4d00-a330-9192451aed51",
   "metadata": {},
   "outputs": [
    {
     "data": {
      "text/plain": [
       "204"
      ]
     },
     "execution_count": 48,
     "metadata": {},
     "output_type": "execute_result"
    }
   ],
   "source": [
    "len(spreadsheets)"
   ]
  },
  {
   "cell_type": "code",
   "execution_count": 49,
   "id": "83845050-3810-42ae-9f78-70e6800271de",
   "metadata": {},
   "outputs": [
    {
     "data": {
      "text/plain": [
       "{'html': 78,\n",
       " 'xlsx': 28,\n",
       " 'pdf': 47,\n",
       " 'csv': 132,\n",
       " 'png': 114,\n",
       " 'twbx': 5,\n",
       " 'json': 74,\n",
       " 'docx': 1,\n",
       " 'zip': 3,\n",
       " 'tsv': 1,\n",
       " 'xls': 2,\n",
       " 'js': 1,\n",
       " 'ods': 1,\n",
       " 'rds': 1,\n",
       " 'jpg': 1}"
      ]
     },
     "execution_count": 49,
     "metadata": {},
     "output_type": "execute_result"
    }
   ],
   "source": [
    "type_sum"
   ]
  },
  {
   "cell_type": "code",
   "execution_count": 50,
   "id": "0afb577d-e140-4d15-9e0f-4efa1ba95db8",
   "metadata": {},
   "outputs": [
    {
     "data": {
      "text/plain": [
       "163"
      ]
     },
     "execution_count": 50,
     "metadata": {},
     "output_type": "execute_result"
    }
   ],
   "source": [
    "type_sum['xlsx']+type_sum['csv']+type_sum['tsv']+type_sum['xls']"
   ]
  },
  {
   "cell_type": "markdown",
   "id": "a4b1dffa-82de-4c78-b368-b97e11de9e2d",
   "metadata": {},
   "source": [
    "# Starting to look inside the spreadsheets"
   ]
  },
  {
   "cell_type": "code",
   "execution_count": 51,
   "id": "a9b8d696-70fc-4e7b-af6a-bee156b800a6",
   "metadata": {},
   "outputs": [],
   "source": [
    "s0=spreadsheets[0]"
   ]
  },
  {
   "cell_type": "code",
   "execution_count": 52,
   "id": "d20a24e4-9222-4828-bc5c-8e7b943fd8f6",
   "metadata": {},
   "outputs": [
    {
     "data": {
      "text/plain": [
       "dict_keys(['metadataCollectionId', 'titleEnglish', 'fileTypeSet', 'fileSet'])"
      ]
     },
     "execution_count": 52,
     "metadata": {},
     "output_type": "execute_result"
    }
   ],
   "source": [
    "s0.keys()"
   ]
  },
  {
   "cell_type": "code",
   "execution_count": 53,
   "id": "3040d370-cf0d-4733-84a3-24e161b850bf",
   "metadata": {},
   "outputs": [
    {
     "data": {
      "text/plain": [
       "729"
      ]
     },
     "execution_count": 53,
     "metadata": {},
     "output_type": "execute_result"
    }
   ],
   "source": [
    "s0['metadataCollectionId']"
   ]
  },
  {
   "cell_type": "code",
   "execution_count": 54,
   "id": "0bc4d42b-5b2e-4bb0-a293-535013b10ce2",
   "metadata": {},
   "outputs": [],
   "source": [
    "s0fs0=s0['fileSet'][0]"
   ]
  },
  {
   "cell_type": "code",
   "execution_count": 55,
   "id": "3b14d46c-5c9c-45e9-8772-11c328069e5d",
   "metadata": {},
   "outputs": [
    {
     "data": {
      "text/plain": [
       "{'filename': 'Downloadable_Demographic_2022-02-01_042303.xlsx',\n",
       " 'data': [{'sheetName': 'Cases', 'sheetData': [['County']]},\n",
       "  {'sheetName': 'Hospitalizations-State', 'sheetData': [['County']]},\n",
       "  {'sheetName': 'Hospitalizations-County', 'sheetData': [['County']]},\n",
       "  {'sheetName': 'Testing', 'sheetData': [['County']]},\n",
       "  {'sheetName': 'Data Dictionary', 'sheetData': [['Variable']]}]}"
      ]
     },
     "execution_count": 55,
     "metadata": {},
     "output_type": "execute_result"
    }
   ],
   "source": [
    "s0fs0"
   ]
  },
  {
   "cell_type": "code",
   "execution_count": 56,
   "id": "205971db-5288-4243-97ba-485aab66622e",
   "metadata": {},
   "outputs": [
    {
     "data": {
      "text/plain": [
       "{'filename': 'EpiCurve_Count_Cases_Hospitalizations_Deaths_2022-07-07_042304.xlsx',\n",
       " 'data': [{'sheetName': 'Cases',\n",
       "   'sheetData': [['Earliest Specimen Collection Date']]},\n",
       "  {'sheetName': 'Hospitalizations',\n",
       "   'sheetData': [['Hospital Admission Date']]},\n",
       "  {'sheetName': 'Deaths',\n",
       "   'sheetData': [['Earliest Specimen Collection Date']]},\n",
       "  {'sheetName': 'Data Dictionary', 'sheetData': [['Variable Name']]}]}"
      ]
     },
     "execution_count": 56,
     "metadata": {},
     "output_type": "execute_result"
    }
   ],
   "source": [
    "s0['fileSet'][1]"
   ]
  },
  {
   "cell_type": "code",
   "execution_count": 57,
   "id": "29e04c53-272a-48e6-b367-ebf1833c2d78",
   "metadata": {},
   "outputs": [
    {
     "data": {
      "text/plain": [
       "{'filename': 'Downloadable_RaceEthnicity_2022-05-26_042302.xlsx',\n",
       " 'data': [{'sheetName': 'Cases', 'sheetData': [['Statewide']]},\n",
       "  {'sheetName': 'Hospitalizations', 'sheetData': [['Statewide']]},\n",
       "  {'sheetName': 'Testing', 'sheetData': [['Statewide']]},\n",
       "  {'sheetName': 'Data Dictionary', 'sheetData': [['Variable Name']]}]}"
      ]
     },
     "execution_count": 57,
     "metadata": {},
     "output_type": "execute_result"
    }
   ],
   "source": [
    "s0['fileSet'][2]"
   ]
  },
  {
   "cell_type": "code",
   "execution_count": 58,
   "id": "914d181a-ee7b-434f-b159-533c9729e447",
   "metadata": {},
   "outputs": [
    {
     "data": {
      "text/plain": [
       "{'filename': 'Downloadable_RaceEthnicity_2022-03-03_042303.xlsx',\n",
       " 'data': [{'sheetName': 'Cases', 'sheetData': [['Statewide']]},\n",
       "  {'sheetName': 'Hospitalizations', 'sheetData': [['Statewide']]},\n",
       "  {'sheetName': 'Testing', 'sheetData': [['Statewide']]},\n",
       "  {'sheetName': 'Data Dictionary', 'sheetData': [['Variable Name']]}]}"
      ]
     },
     "execution_count": 58,
     "metadata": {},
     "output_type": "execute_result"
    }
   ],
   "source": [
    "s0['fileSet'][3]"
   ]
  },
  {
   "cell_type": "code",
   "execution_count": 59,
   "id": "58ce07e9-13fd-4b6b-8d87-e6d3f165697e",
   "metadata": {},
   "outputs": [
    {
     "data": {
      "text/plain": [
       "{'filename': 'Downloadable_Demographic_2022-06-09_042302.xlsx',\n",
       " 'data': [{'sheetName': 'Cases', 'sheetData': [['County']]},\n",
       "  {'sheetName': 'Hospitalizations-State', 'sheetData': [['County']]},\n",
       "  {'sheetName': 'Hospitalizations-County', 'sheetData': [['County']]},\n",
       "  {'sheetName': 'Testing', 'sheetData': [['County']]},\n",
       "  {'sheetName': 'Data Dictionary', 'sheetData': [['Variable Name']]}]}"
      ]
     },
     "execution_count": 59,
     "metadata": {},
     "output_type": "execute_result"
    }
   ],
   "source": [
    "s0['fileSet'][4]"
   ]
  },
  {
   "cell_type": "code",
   "execution_count": 60,
   "id": "dc553c3d-54c9-419f-a5e9-aeb7ec5f5883",
   "metadata": {},
   "outputs": [
    {
     "data": {
      "text/plain": [
       "{'filename': 'EpiCurve_Count_Cases_Hospitalizations_Deaths_2022-02-19_042303.xlsx',\n",
       " 'data': [{'sheetName': 'Cases',\n",
       "   'sheetData': [['Earliest Specimen Collection Date']]},\n",
       "  {'sheetName': 'Hospitalizations',\n",
       "   'sheetData': [['Hospital Admission Date']]},\n",
       "  {'sheetName': 'Deaths',\n",
       "   'sheetData': [['Earliest Specimen Collection Date']]},\n",
       "  {'sheetName': 'Data Dictionary', 'sheetData': [['VariableName']]}]}"
      ]
     },
     "execution_count": 60,
     "metadata": {},
     "output_type": "execute_result"
    }
   ],
   "source": [
    "s0['fileSet'][5]"
   ]
  },
  {
   "cell_type": "code",
   "execution_count": 61,
   "id": "5338c96a-538f-42e3-b01f-dadb31aaf384",
   "metadata": {},
   "outputs": [
    {
     "data": {
      "text/plain": [
       "{'filename': 'WA_COVID19_Cases_Hospitalizations_Deaths_2021-03-30_122302.xlsx',\n",
       " 'data': [{'sheetName': 'Cases', 'sheetData': [['County']]},\n",
       "  {'sheetName': 'Hospitalizations', 'sheetData': [['County']]},\n",
       "  {'sheetName': 'Deaths', 'sheetData': [['County']]},\n",
       "  {'sheetName': 'DataDictionary', 'sheetData': [['Variable Name']]}]}"
      ]
     },
     "execution_count": 61,
     "metadata": {},
     "output_type": "execute_result"
    }
   ],
   "source": [
    "s0['fileSet'][6]"
   ]
  },
  {
   "cell_type": "code",
   "execution_count": 62,
   "id": "f518907b-d1cc-4ec6-965b-d77171131928",
   "metadata": {},
   "outputs": [
    {
     "data": {
      "text/plain": [
       "{'filename': 'PUBLIC_CDC_Event_Date_SARS_2020-08-30_202303.xlsx',\n",
       " 'data': [{'sheetName': 'Cases',\n",
       "   'sheetData': [['County',\n",
       "     'WeekStartDate',\n",
       "     'NewPos_All',\n",
       "     'Age 0-19',\n",
       "     'Age 20-39',\n",
       "     'Age 40-59',\n",
       "     'Age 60-79',\n",
       "     'Age 80+',\n",
       "     'Positive UnkAge',\n",
       "     'dtm_updated'],\n",
       "    ['Adams County', '2020-03-08', 4, 0, 1, 1, 2, 0, 0, 1598793378678],\n",
       "    ['Adams County', '2020-03-15', 3, 0, 0, 3, 0, 0, 0, 1598793378678],\n",
       "    ['Adams County', '2020-03-22', 9, 0, 1, 4, 4, 0, 0, 1598793378678],\n",
       "    ['Adams County', '2020-03-29', 17, 2, 8, 4, 3, 0, 0, 1598793378678],\n",
       "    ['Adams County', '2020-04-05', 8, 1, 2, 4, 1, 0, 0, 1598793378678],\n",
       "    ['Adams County', '2020-04-12', 2, 0, 1, 1, 0, 0, 0, 1598793378678],\n",
       "    ['Adams County', '2020-04-19', 4, 0, 4, 0, 0, 0, 0, 1598793378678],\n",
       "    ['Adams County', '2020-04-26', 2, 0, 1, 1, 0, 0, 0, 1598793378678],\n",
       "    ['Adams County', '2020-05-03', 1, 1, 0, 0, 0, 0, 0, 1598793378678]]},\n",
       "  {'sheetName': 'Hospitalizations',\n",
       "   'sheetData': [['County',\n",
       "     'WeekStartDate',\n",
       "     'Hospitalizations',\n",
       "     'Age 0-19',\n",
       "     'Age 20-39',\n",
       "     'Age 40-59',\n",
       "     'Age 60-79',\n",
       "     'Age 80+',\n",
       "     'Positive UnkAge',\n",
       "     'dtm_updated'],\n",
       "    ['Adams County', '2020-03-15', 1, 0, 0, 1, 0, 0, 0, 1598793378678],\n",
       "    ['Adams County', '2020-03-22', 4, 0, 0, 1, 3, 0, 0, 1598793378678],\n",
       "    ['Adams County', '2020-04-05', 1, 0, 0, 1, 0, 0, 0, 1598793378678],\n",
       "    ['Adams County', '2020-06-07', 1, 0, 0, 1, 0, 0, 0, 1598793378678],\n",
       "    ['Adams County', '2020-06-14', 1, 0, 0, 1, 0, 0, 0, 1598793378678],\n",
       "    ['Adams County', '2020-06-21', 1, 0, 0, 0, 1, 0, 0, 1598793378678],\n",
       "    ['Adams County', '2020-07-05', 1, 0, 0, 0, 0, 1, 0, 1598793378678],\n",
       "    ['Adams County', '2020-07-12', 4, 0, 1, 1, 2, 0, 0, 1598793378678],\n",
       "    ['Adams County', '2020-07-19', 4, 0, 1, 1, 1, 1, 0, 1598793378678]]},\n",
       "  {'sheetName': 'Deaths',\n",
       "   'sheetData': [['County',\n",
       "     'WeekStartDate',\n",
       "     'Deaths',\n",
       "     'Age 0-19',\n",
       "     'Age 20-39',\n",
       "     'Age 40-59',\n",
       "     'Age 60-79',\n",
       "     'Age 80+',\n",
       "     'Positive UnkAge',\n",
       "     'dtm_updated'],\n",
       "    ['Adams County', '2020-07-12', 2, 0, 0, 0, 1, 1, 0, 1598793378678],\n",
       "    ['Adams County', '2020-07-19', 3, 0, 0, 0, 1, 2, 0, 1598793378678],\n",
       "    ['Adams County', '2020-08-02', 1, 0, 0, 1, 0, 0, 0, 1598793378678],\n",
       "    ['Adams County', '2020-08-16', 1, 0, 0, 0, 0, 1, 0, 1598793378678],\n",
       "    ['Asotin County', '2020-03-15', 1, 0, 0, 0, 1, 0, 0, 1598793378678],\n",
       "    ['Asotin County', '2020-04-05', 1, 0, 0, 0, 0, 1, 0, 1598793378678],\n",
       "    ['Benton County', '2020-03-01', 3, 0, 0, 0, 1, 2, 0, 1598793378678],\n",
       "    ['Benton County', '2020-03-08', 4, 0, 0, 0, 3, 1, 0, 1598793378678],\n",
       "    ['Benton County', '2020-03-15', 8, 0, 0, 0, 5, 3, 0, 1598793378678]]},\n",
       "  {'sheetName': 'DataDictionary',\n",
       "   'sheetData': [['Variable Name', 'Definition'],\n",
       "    ['County', 'County of residence'],\n",
       "    ['WeekStartDate',\n",
       "     'The first date of the week associated with symptom onset, or the closest available date. This date is assigned based on a hierarchy of dates. If a date is not available the next step in the hierarchy is used: 1) Symptom onset date, 2) Diagnosis date, 3) Positive defining lab date, 4) Local health notification date, 5) Record creation date. Weeks are defined as Sunday through Saturday.'],\n",
       "    ['NewPos_All', 'Total number of cases assigned to that day'],\n",
       "    ['Deaths', 'Total number of deaths assigned to that day'],\n",
       "    ['Age 0-19', 'Total number of cases or deaths between 0 and 19 years old'],\n",
       "    ['Age 20-39',\n",
       "     'Total number of cases or deaths between 20 and 39 years old'],\n",
       "    ['Age 40-59',\n",
       "     'Total number of cases or deaths between 40 and 59 years old'],\n",
       "    ['Age 60-79',\n",
       "     'Total number of cases or deaths between 60 and 79 years old'],\n",
       "    ['Age 80+', 'Total number of cases or deaths 80 years old or older']]}]}"
      ]
     },
     "execution_count": 62,
     "metadata": {},
     "output_type": "execute_result"
    }
   ],
   "source": [
    "s0['fileSet'][7]"
   ]
  },
  {
   "cell_type": "markdown",
   "id": "59cbfab5-5fb3-4cd2-b39e-3a09860b0160",
   "metadata": {},
   "source": [
    "There's a great deal here to dig into. Let's take a step back first and look at the file names.\n",
    "---"
   ]
  },
  {
   "cell_type": "markdown",
   "id": "5c34293f-9a38-4b41-871f-7f9a07a17c46",
   "metadata": {},
   "source": [
    "#  Look at included file names?"
   ]
  },
  {
   "cell_type": "code",
   "execution_count": 63,
   "id": "7758bd41-7d97-4269-993c-a03c64e899e6",
   "metadata": {},
   "outputs": [],
   "source": [
    "def get_titles(entry):\n",
    "    res ={}\n",
    "    res['metadataCollectionId']=entry['metadataCollectionId']\n",
    "    res['titleEnglish']=entry['titleEnglish']\n",
    "    if 'fileSet' in entry:\n",
    "        res['files'] =[fs['filename'] for fs in entry['fileSet']]\n",
    "    return res"
   ]
  },
  {
   "cell_type": "code",
   "execution_count": 64,
   "id": "e4343cb8-2026-4009-9e63-e1abeb935245",
   "metadata": {},
   "outputs": [],
   "source": [
    "titles = [get_titles(ss) for ss in spreadsheets]"
   ]
  },
  {
   "cell_type": "code",
   "execution_count": 65,
   "id": "1cdcd8fc-9ec1-4211-b520-1cf3dbbf1a2c",
   "metadata": {},
   "outputs": [
    {
     "data": {
      "text/plain": [
       "1400"
      ]
     },
     "execution_count": 65,
     "metadata": {},
     "output_type": "execute_result"
    }
   ],
   "source": [
    "len(titles[3]['files'])"
   ]
  },
  {
   "cell_type": "code",
   "execution_count": 66,
   "id": "9c46c02c-5c46-4d19-9b9b-9764bad72aff",
   "metadata": {},
   "outputs": [],
   "source": [
    "pdfs = get_entries_by_types(summaries,['pdf'])"
   ]
  },
  {
   "cell_type": "code",
   "execution_count": 67,
   "id": "6b9fe2ad-f3d2-4485-a1d9-22b7e85c9f96",
   "metadata": {},
   "outputs": [
    {
     "data": {
      "text/plain": [
       "47"
      ]
     },
     "execution_count": 67,
     "metadata": {},
     "output_type": "execute_result"
    }
   ],
   "source": [
    "len(pdfs)"
   ]
  },
  {
   "cell_type": "code",
   "execution_count": 68,
   "id": "fdbe20e7-a322-4a51-a61b-3a71564d10f4",
   "metadata": {},
   "outputs": [
    {
     "data": {
      "text/plain": [
       "816"
      ]
     },
     "execution_count": 68,
     "metadata": {},
     "output_type": "execute_result"
    }
   ],
   "source": [
    "pdfs[1]['metadataCollectionId']"
   ]
  },
  {
   "cell_type": "code",
   "execution_count": 69,
   "id": "f8b9b6c4-9909-4c95-8f27-902d9d30c14a",
   "metadata": {},
   "outputs": [],
   "source": [
    "def find_entry_by_id(coll,id):\n",
    "    for ent in coll:\n",
    "        if ent['metadataCollectionId'] == id:\n",
    "            return ent\n",
    "    return None"
   ]
  },
  {
   "cell_type": "code",
   "execution_count": 70,
   "id": "d2f8d555-097e-4793-be73-c16bf5791320",
   "metadata": {},
   "outputs": [],
   "source": [
    "ent = find_entry_by_id(summaries,816)"
   ]
  },
  {
   "cell_type": "markdown",
   "id": "0ac6dca1-dfb7-435c-be43-dab4c51e5556",
   "metadata": {},
   "source": [
    "Note that we can find the scraping catalog entry for these names at https://catalog.midasnetwork.us/scrapecat/id,\n",
    "where id is the medatadataCollectionId. \n",
    "\n",
    "Thus, we have the link for [collection 816](https://catalog.midasnetwork.us/scrapecat/816)"
   ]
  },
  {
   "cell_type": "markdown",
   "id": "c5081aab-5f4e-4265-8598-c5a89ee6be9a",
   "metadata": {},
   "source": [
    "# PLAN: CLUSTERING ON FILE NAMES\n",
    "\n",
    "Each of the 200+ sources has a list of files. Our goal will be to do a lexical analysis so that we can tokenize the files, and then to use those tokens to cluster the files via non-negative matrix factorization. We will then use this to see what we can confirm about commonalities or differences between files.\n",
    "\n",
    "Eventually, we might move from there to do file contents."
   ]
  },
  {
   "cell_type": "markdown",
   "id": "caa0dd5a-6e23-482d-8ed0-5ac841a909d4",
   "metadata": {},
   "source": [
    "Grab all file names\n",
    "\n",
    "1. characterize - who has dates.\n",
    "2. Tokenize those files by Removing dates, spliting on underscores, splitting on camel case,cleaning other patterns that might be messy\n",
    "3. Map the tokens to tf-idf\n",
    "4. Cluster \n",
    "5. Map back from individual items to see what they cluster in\n",
    "6. Look at the diversity of file names contents within each cluster\n",
    "7. Add in column names.\n",
    "\n"
   ]
  },
  {
   "cell_type": "code",
   "execution_count": 71,
   "id": "de81f86a-48d4-4888-beee-6e4bd4821848",
   "metadata": {},
   "outputs": [],
   "source": [
    "collection = [get_titles(ss) for ss in summaries]"
   ]
  },
  {
   "cell_type": "code",
   "execution_count": 72,
   "id": "e5f771b8-7d67-4584-b975-33e44c68d3f4",
   "metadata": {},
   "outputs": [],
   "source": [
    "ent2 = find_entry_by_id(collection,816)"
   ]
  },
  {
   "cell_type": "code",
   "execution_count": 73,
   "id": "bd26d713-b87d-4633-9389-ab09a4e127b9",
   "metadata": {},
   "outputs": [
    {
     "data": {
      "text/plain": [
       "294"
      ]
     },
     "execution_count": 73,
     "metadata": {},
     "output_type": "execute_result"
    }
   ],
   "source": [
    "len(collection)"
   ]
  },
  {
   "cell_type": "code",
   "execution_count": 74,
   "id": "cbf343e6-db70-4245-b0ca-ed1277c81094",
   "metadata": {},
   "outputs": [
    {
     "data": {
      "text/plain": [
       "dict_keys(['metadataCollectionId', 'titleEnglish', 'files'])"
      ]
     },
     "execution_count": 74,
     "metadata": {},
     "output_type": "execute_result"
    }
   ],
   "source": [
    "collection[0].keys()"
   ]
  },
  {
   "cell_type": "code",
   "execution_count": 75,
   "id": "c051f3b8-9462-4ff1-9e9c-2f33502cc381",
   "metadata": {},
   "outputs": [
    {
     "data": {
      "text/plain": [
       "354576"
      ]
     },
     "execution_count": 75,
     "metadata": {},
     "output_type": "execute_result"
    }
   ],
   "source": [
    "cnt = 0\n",
    "for f in collection:\n",
    "    if 'files' in f:\n",
    "        cnt = cnt +len(f['files'])\n",
    "cnt"
   ]
  },
  {
   "cell_type": "markdown",
   "id": "df806823-43b7-4d47-9640-e2232ace6dbe",
   "metadata": {},
   "source": [
    "ok. more than 350K files!"
   ]
  },
  {
   "cell_type": "code",
   "execution_count": 76,
   "id": "0fff3165-2b14-49fc-9326-55c7b64b541d",
   "metadata": {},
   "outputs": [
    {
     "data": {
      "text/plain": [
       "['Downloadable_Demographic_2022-02-01_042303.xlsx',\n",
       " 'EpiCurve_Count_Cases_Hospitalizations_Deaths_2022-07-07_042304.xlsx',\n",
       " 'Downloadable_RaceEthnicity_2022-05-26_042302.xlsx',\n",
       " 'Downloadable_RaceEthnicity_2022-03-03_042303.xlsx',\n",
       " 'Downloadable_Demographic_2022-06-09_042302.xlsx',\n",
       " 'EpiCurve_Count_Cases_Hospitalizations_Deaths_2022-02-19_042303.xlsx',\n",
       " 'WA_COVID19_Cases_Hospitalizations_Deaths_2021-03-30_122302.xlsx',\n",
       " 'PUBLIC_CDC_Event_Date_SARS_2020-08-30_202303.xlsx',\n",
       " 'Downloadable_RaceEthnicity_2022-04-19_042302.xlsx',\n",
       " 'Downloadable_Demographic_2022-07-12_042303.xlsx']"
      ]
     },
     "execution_count": 76,
     "metadata": {},
     "output_type": "execute_result"
    }
   ],
   "source": [
    "collection[0]['files'][:10]"
   ]
  },
  {
   "cell_type": "code",
   "execution_count": 77,
   "id": "dd965a9c-75b6-485a-babe-9e6475b3bdc9",
   "metadata": {},
   "outputs": [
    {
     "data": {
      "text/plain": [
       "['T1._Hosp_Sex_2022-04-15_061646.csv',\n",
       " 'T2._Hosp_Age_2022-05-06_062609.csv',\n",
       " 'T7._Deaths_Race_2022-02-24_213254.csv',\n",
       " 'Deaths_Ethnicity_2022-01-13_173706.csv',\n",
       " 'Hosp Age_2021-12-09_173957.csv',\n",
       " 'T1._Hosp_Sex_2022-05-27_071043.csv',\n",
       " 'Hosp_Sex_2022-02-10_133308.csv',\n",
       " 'Deaths_Ethnicity_2022-01-06_173240.csv',\n",
       " 'T7._Deaths_Race_2022-05-06_062609.csv',\n",
       " 'T3._Hosp_Race_2022-04-15_061646.csv']"
      ]
     },
     "execution_count": 77,
     "metadata": {},
     "output_type": "execute_result"
    }
   ],
   "source": [
    "collection[11]['files'][30:40]"
   ]
  },
  {
   "cell_type": "markdown",
   "id": "132456bc-826f-4f5c-854f-f7d34b9f8f47",
   "metadata": {},
   "source": [
    "All have dates. Must remove."
   ]
  },
  {
   "cell_type": "code",
   "execution_count": 78,
   "id": "3571bb52-d652-47a9-a8c5-722444bcad15",
   "metadata": {},
   "outputs": [
    {
     "data": {
      "text/plain": [
       "['Downloadable_Demographic_2022-02-01_042303.xlsx',\n",
       " 'EpiCurve_Count_Cases_Hospitalizations_Deaths_2022-07-07_042304.xlsx',\n",
       " 'Downloadable_RaceEthnicity_2022-05-26_042302.xlsx',\n",
       " 'Downloadable_RaceEthnicity_2022-03-03_042303.xlsx',\n",
       " 'Downloadable_Demographic_2022-06-09_042302.xlsx',\n",
       " 'EpiCurve_Count_Cases_Hospitalizations_Deaths_2022-02-19_042303.xlsx',\n",
       " 'WA_COVID19_Cases_Hospitalizations_Deaths_2021-03-30_122302.xlsx',\n",
       " 'PUBLIC_CDC_Event_Date_SARS_2020-08-30_202303.xlsx',\n",
       " 'Downloadable_RaceEthnicity_2022-04-19_042302.xlsx',\n",
       " 'Downloadable_Demographic_2022-07-12_042303.xlsx']"
      ]
     },
     "execution_count": 78,
     "metadata": {},
     "output_type": "execute_result"
    }
   ],
   "source": [
    "f = collection[0]\n",
    "f['files'][:10]"
   ]
  },
  {
   "cell_type": "code",
   "execution_count": 79,
   "id": "a749b386-7a21-4e6b-a4a1-2bea26344de6",
   "metadata": {},
   "outputs": [
    {
     "data": {
      "text/plain": [
       "'EpiCurve_Count_Cases_Hospitalizations_Deaths_2022-07-07_042304.xlsx'"
      ]
     },
     "execution_count": 79,
     "metadata": {},
     "output_type": "execute_result"
    }
   ],
   "source": [
    "sampfile = f['files'][1]\n",
    "sampfile"
   ]
  },
  {
   "cell_type": "markdown",
   "id": "77037f56-a145-4aa3-84b3-5742c974684d",
   "metadata": {},
   "source": [
    "Most files have dates as appended by MIDAS. However, there are many other patterns that appear. We'll attempt to clean them as best possible"
   ]
  },
  {
   "cell_type": "code",
   "execution_count": 134,
   "id": "c7ebf827-3de7-4b9b-ad13-c08ca3f95dfc",
   "metadata": {},
   "outputs": [],
   "source": [
    "# ok. Extract name before the date and extension\n",
    "# split name before the date into indivual words separated by underscore. \n",
    "# then further split each by camel case\n",
    "\n",
    "patlist =  [# delaware - 697-has zip codes\n",
    "            # zip-code-19947-outcomes_2020-10-19_162302.csv'\n",
    "            # but we will keep these in place, as zip codes are potentially\n",
    "            # semantically meaningful\n",
    "        \n",
    "            # idaho Sheet_48_Shoshone_2022-02-22_212535.csv\n",
    "            #  or \"Sheet 48\"\n",
    "            \"Sheet[\\s|_]\\d{2}_(.*)_\\d{4}-\\d{2}-\\d{2}_\\d{6}.(\\w+)$\",\n",
    "            #VDH-COVID-19-PublicUseDataset-Cases_By-Age-Group2020-05-12_12231589300583.csv\n",
    "            \"(.*)\\d{4}-\\d{2}-\\d{2}\\_\\d+.(\\w+)$\",\n",
    "            # 'DC-COVID-19-Data-for-April-05-2021.xlsx'\n",
    "            \"(.*)-\\w+-\\d{2}-\\d{4}.(\\w+)$\",\n",
    "            #' illinois_demo_race05_20_2022.csv'\n",
    "            \"(.*)\\d{2}_\\d{2}_\\d{4}.(\\w+)$\",\n",
    "            \"(.*)[-_]{0,1}\\d{4}-\\d{2}[-\\s]*\\d{2}\\[_-]\\d+.(\\w+)$\",\n",
    "            \"(.*)_\\d{4}-\\d{2}-\\d{2}_\\d{6,}.(\\w+)$\",\n",
    "            \"(.*)_\\d_\\d_\\d{4}_\\d.(\\w+)$\",\n",
    "            \"(.*)_\\d_\\d_\\d{4}_\\d.(\\w+)$\",\n",
    "            \"(.*)_\\d{1,2}_\\d{1,2}_\\d{4}.(\\w+)$\",\n",
    "            \"(.*)_\\d{1,2}-\\d{1,2}-\\d{2}_corrected.(\\w+)$\",\n",
    "            #COVID-19_OB_weekly_report_7_8_2020_corrected_7-9.xlsx\n",
    "            \"(.*)_\\d{1,2}_\\d{1,2}_\\d{2,4}_corrected_\\d{1,2}-\\d{1,2}.(\\w+)$\",\n",
    "            #covid_outbreak_weekly_report_6-10-20.xlsx,\n",
    "            \"(.*)\\_\\d{1,2}\\-\\d{1,2}\\-\\d{2,4}.(\\w+)$\",\n",
    "            # \"COVID-19_OB_weekly_report_8_20_2020-2.xlsx\"\n",
    "            \"(.*)\\_\\d{1,2}\\_\\d{1,2}\\_\\d{2,4}\\-\\d.(\\w+)$\",\n",
    "            #COVID-19_OB_weekly_report_7_8_2020_corrected_7-9.xlsx            \n",
    "            \"(.*)_\\d{1,2}_\\d{1,2}_\\d{2,4}-corrected_\\d{1,2}.(\\w+)$\",\n",
    "            #covid_outbreak_weekly_report_5-20-20_.xlsx\n",
    "            \"(.*)_\\d{1,2}-\\d{1,2}-\\d{2,4}_.(\\w+)$\",\n",
    "            #colorado_covid-19_outbreaks_2.xlsx\n",
    "            \"(.*)_\\d+.(\\w+)$\",\n",
    "            #COVID-19_OB_weekly_report_8.5.2020.xlsx\n",
    "            \"(.*)_\\d{1,2}.\\d{1,2}.\\d{2,4}.(\\w+)$\",\n",
    "            # syndromic-surveillance-gating-criteria_EXPORT_cases_by_county_covid-19-v2_2020-11-18.csv\n",
    "            \"(.*)_\\d{4}-\\d{2}-\\d{2}.(\\w+)$\",\n",
    "            #\" NYTIMES names start with dates... 20220407_us.csv', \n",
    "            #'20220512_us.csv', '20220512_us-counties.csv', '20220512_us-states.csv'\n",
    "            \"^\\d{8}_([^.]+).(\\w+)$\",\n",
    "            # ***** FIX -ADD \n",
    "            # colorado_covid-19_outbreaks.xlsx   - this one means we'll catch almost anything\n",
    "            \"(.*)\\.(\\w+)$\"\n",
    "           ]\n",
    "\n",
    "def precompile_patterns(patlist):\n",
    "    res = []\n",
    "    for p in patlist:\n",
    "        res.append(re.compile(p))\n",
    "    return res\n",
    "\n",
    "def get_base_match(patterns,fname):\n",
    "    # try one of several patterns, using the first that matches\n",
    "\n",
    "    for reg in patterns:\n",
    "        p = re.compile(reg)\n",
    "        m = p.match(fname)\n",
    "        if m is not None:\n",
    "            break\n",
    "\n",
    "    try: \n",
    "        base_name = m.group(1)\n",
    "        ext = m.group(2)\n",
    "        return (base_name,ext)\n",
    "    except:\n",
    "        print(\"can't match...\"+fname)\n",
    "\n",
    "# split camel case entries like \"CovidCases\" into the constiutent words.\n",
    "def camel_case_split(str):\n",
    "    # modified from https://www.geeksforgeeks.org/python-split-camelcase-string-to-individual-strings/\n",
    "    res = re.findall(r'[A-Z](?:[a-z0-9\\-]+|[A-Z0-9\\-]*(?=[A-Z0-9\\-]|$))', str)\n",
    "    if len(res) ==0:\n",
    "        res = [str]\n",
    "    return res\n",
    "    \n",
    "def trim_to_alpha_num(s):\n",
    "    return ''.join(c for c in s if c.isalnum())\n",
    "\n",
    "def get_tokens(patterns,fname):\n",
    "\n",
    "    fname=fname.replace(\"%20\",\"_\")\n",
    "    (base_name,ext)=get_base_match(patterns,fname)\n",
    "    base_words_no_camel = re.split(r'\\s|_|-',base_name)\n",
    "    # split by camel case, but not for special -case - those that start with 'TableauTemp'\n",
    "    #if base_name.startswith('TableauTemp') == False:\n",
    "    base_words_no_camel = [camel_case_split(bnw) for bnw in base_words_no_camel]\n",
    "    # flatten the list\n",
    "    words = list(itertools.chain(*base_words_no_camel))\n",
    "    # trim to alphanumeric\n",
    "    words = [trim_to_alpha_num(w) for w in words]\n",
    "    # tolower \n",
    "    words = [w.lower() for w in words]\n",
    "    # porter stem to get common routes\n",
    "    return (words,ext)"
   ]
  },
  {
   "cell_type": "code",
   "execution_count": 135,
   "id": "0c66a2ed-32db-43c9-8160-d7aad8cd35e7",
   "metadata": {},
   "outputs": [
    {
     "data": {
      "text/plain": [
       "dict_keys(['metadataCollectionId', 'titleEnglish', 'files', 'processed'])"
      ]
     },
     "execution_count": 135,
     "metadata": {},
     "output_type": "execute_result"
    }
   ],
   "source": [
    "collection[0].keys()"
   ]
  },
  {
   "cell_type": "code",
   "execution_count": 136,
   "id": "e0a9e3f2-bac7-4d95-a9a0-c16389dfc3ad",
   "metadata": {},
   "outputs": [],
   "source": [
    "#def process_collection_files(coll):\n",
    "#    if 'files' in coll:\n",
    "#        files = coll['files']\n",
    "#        coll['processed'] = set([get_tokens(f) for f in files])\n",
    "#    return coll\n",
    "\n",
    "def process_collection_files(patterns,coll):\n",
    "    \n",
    "    \n",
    "    res = []\n",
    "    if 'files' in coll:\n",
    "        files = coll['files']\n",
    "       \n",
    "        seen={}\n",
    "        for f in files:\n",
    "            (words,ext)=get_tokens(patterns,f)\n",
    "            # now, we have a list of tokens and an extension. need to see if we have seen this one before.\n",
    "            hash = ''.join(words)+ext\n",
    "            if hash not in seen:\n",
    "                seen[hash]=True\n",
    "                res.append((words,ext))\n",
    "    return res\n",
    "    \n",
    "def process_collection(patlist,collection):\n",
    "    patterns = precompile_patterns(patlist)\n",
    "    res= []\n",
    "    for coll in collection:\n",
    "        processed = process_collection_files(patterns,coll)\n",
    "        coll['processed']=processed\n",
    "        res.append(coll)\n",
    "    return res"
   ]
  },
  {
   "cell_type": "code",
   "execution_count": 137,
   "id": "786a6267-3b83-4f1f-8361-a68d48e62244",
   "metadata": {},
   "outputs": [],
   "source": [
    "proced = process_collection(patlist,collection)"
   ]
  },
  {
   "cell_type": "code",
   "execution_count": 138,
   "id": "525b87a0-44a8-47ad-b030-7f6da85cd637",
   "metadata": {},
   "outputs": [
    {
     "data": {
      "text/plain": [
       "[(['downloadable', 'demographic', ''], 'xlsx'),\n",
       " (['epi', 'curve', 'count', 'cases', 'hospitalizations', 'deaths', ''],\n",
       "  'xlsx'),\n",
       " (['downloadable', 'race', 'ethnicity', ''], 'xlsx'),\n",
       " (['wa', 'covid19', 'cases', 'hospitalizations', 'deaths', ''], 'xlsx'),\n",
       " (['public', 'cdc', 'event', 'date', 'sars', ''], 'xlsx')]"
      ]
     },
     "execution_count": 138,
     "metadata": {},
     "output_type": "execute_result"
    }
   ],
   "source": [
    "proced[0]['processed']"
   ]
  },
  {
   "cell_type": "code",
   "execution_count": 139,
   "id": "39ebce06-5ba8-4465-bccc-f471daabcfe7",
   "metadata": {},
   "outputs": [
    {
     "data": {
      "text/plain": [
       "[]"
      ]
     },
     "execution_count": 139,
     "metadata": {},
     "output_type": "execute_result"
    }
   ],
   "source": [
    "proced[1]['processed']"
   ]
  },
  {
   "cell_type": "code",
   "execution_count": 140,
   "id": "653ecb0a-2e7b-409a-bdc6-a569786274d8",
   "metadata": {},
   "outputs": [
    {
     "data": {
      "text/plain": [
       "{'metadataCollectionId': 683,\n",
       " 'titleEnglish': 'Archived Data from New Jersey Department of Health: \"New Jersey Department of Health COVID-19 Confirmed Case Summary \"',\n",
       " 'processed': []}"
      ]
     },
     "execution_count": 140,
     "metadata": {},
     "output_type": "execute_result"
    }
   ],
   "source": [
    "proced[1]"
   ]
  },
  {
   "cell_type": "code",
   "execution_count": 141,
   "id": "4931683a-3653-462b-b6cc-814bb612fbcf",
   "metadata": {},
   "outputs": [
    {
     "data": {
      "text/plain": [
       "[(['county', 'vaccine', ''], 'csv')]"
      ]
     },
     "execution_count": 141,
     "metadata": {},
     "output_type": "execute_result"
    }
   ],
   "source": [
    "proced[2]['processed']"
   ]
  },
  {
   "cell_type": "code",
   "execution_count": 142,
   "id": "b66e90a5-c011-409c-98d6-afb4acb50e76",
   "metadata": {},
   "outputs": [
    {
     "data": {
      "text/plain": [
       "[(['demographic', 'data', 'county', ''], 'csv'),\n",
       " (['demographic', 'data', 'county', 'and', 'sex', ''], 'csv'),\n",
       " (['county', 'ethnicity', ''], 'csv'),\n",
       " (['county', 'race', ''], 'csv'),\n",
       " (['demographic', 'data', 'county', 'and', 'age', ''], 'csv'),\n",
       " (['demographic', 'data', 'county', 'and', 'ethnicity', ''], 'csv'),\n",
       " (['county', 'age', ''], 'csv'),\n",
       " (['demographic', 'data', 'county', 'and', 'race', ''], 'csv'),\n",
       " (['county', 'sex', ''], 'csv'),\n",
       " (['vaccinated', 'wisconsin', 'administered', ''], 'csv'),\n",
       " (['vaccinated', 'wisconsin', 'allocated', ''], 'csv'),\n",
       " (['vaccinated', 'wisconsin', 'county', ''], 'csv'),\n",
       " (['extracts', 'federated', '16wehl60l6mj1414c0u1n1', 'extract', ''], 'csv'),\n",
       " (['demographic', 'data', ''], 'csv')]"
      ]
     },
     "execution_count": 142,
     "metadata": {},
     "output_type": "execute_result"
    }
   ],
   "source": [
    "proced[3]['processed']"
   ]
  },
  {
   "cell_type": "code",
   "execution_count": 143,
   "id": "f2dbecc2-5088-42f5-adc5-26fcd9e201df",
   "metadata": {},
   "outputs": [],
   "source": [
    "total =0\n",
    "for p in proced:\n",
    "    if 'processed' in p:\n",
    "        total = total + len(p['processed'])"
   ]
  },
  {
   "cell_type": "code",
   "execution_count": 144,
   "id": "31518e9f-e9c2-4144-b7ac-1b983ca4f66d",
   "metadata": {},
   "outputs": [
    {
     "data": {
      "text/plain": [
       "7496"
      ]
     },
     "execution_count": 144,
     "metadata": {},
     "output_type": "execute_result"
    }
   ],
   "source": [
    "total"
   ]
  },
  {
   "cell_type": "code",
   "execution_count": 145,
   "id": "fb5b5387-3bfd-4f9d-8ded-b22d84269453",
   "metadata": {},
   "outputs": [],
   "source": [
    "ratio = float(total)/float(cnt)"
   ]
  },
  {
   "cell_type": "code",
   "execution_count": 146,
   "id": "16741d87-d369-4248-8e6a-279450947d0e",
   "metadata": {},
   "outputs": [
    {
     "data": {
      "text/plain": [
       "0.021140742746265963"
      ]
     },
     "execution_count": 146,
     "metadata": {},
     "output_type": "execute_result"
    }
   ],
   "source": [
    "ratio"
   ]
  },
  {
   "cell_type": "code",
   "execution_count": 147,
   "id": "f3102499-8223-4272-885d-91d9c3826a92",
   "metadata": {},
   "outputs": [
    {
     "data": {
      "text/plain": [
       "294"
      ]
     },
     "execution_count": 147,
     "metadata": {},
     "output_type": "execute_result"
    }
   ],
   "source": [
    "len(proced)"
   ]
  },
  {
   "cell_type": "markdown",
   "id": "c0c11aaf-ae1c-4865-8ee5-1f3951f7dbeb",
   "metadata": {},
   "source": [
    "ok. so, 12,166 patterns across 294"
   ]
  },
  {
   "cell_type": "code",
   "execution_count": 148,
   "id": "6c7504d1-2ad4-4225-8c4d-d660af0819c8",
   "metadata": {},
   "outputs": [
    {
     "data": {
      "text/plain": [
       "25.496598639455783"
      ]
     },
     "execution_count": 148,
     "metadata": {},
     "output_type": "execute_result"
    }
   ],
   "source": [
    "rate = float(total)/294.0\n",
    "rate"
   ]
  },
  {
   "cell_type": "markdown",
   "id": "dabc8bc2-613e-4cb8-8e24-991b71ebfe2c",
   "metadata": {},
   "source": [
    "average 41.4 items for collection"
   ]
  },
  {
   "cell_type": "markdown",
   "id": "829e77c0-fb50-4ef6-a5c5-b478d0dd6b2a",
   "metadata": {},
   "source": [
    "---- \n",
    "Let's get some descriptive.\n",
    "Frequence of words used?"
   ]
  },
  {
   "cell_type": "code",
   "execution_count": 149,
   "id": "99898102-0f7c-4ad7-aad0-93f2abe08240",
   "metadata": {},
   "outputs": [
    {
     "data": {
      "text/plain": [
       "'vaccin'"
      ]
     },
     "execution_count": 149,
     "metadata": {},
     "output_type": "execute_result"
    }
   ],
   "source": [
    "porter_stemmer = PorterStemmer()\n",
    "porter_stemmer.stem(\"vaccination\")"
   ]
  },
  {
   "cell_type": "code",
   "execution_count": 150,
   "id": "450f761f-20d7-4ec9-bd57-1ec48a8d7abb",
   "metadata": {},
   "outputs": [],
   "source": [
    "def get_frequencies(proced):\n",
    "    porter_stemmer = PorterStemmer()\n",
    "    stop_words = set(stopwords.words('english'))\n",
    "    freqs={}\n",
    "    types={}\n",
    "    for p in proced:\n",
    "        if 'processed' in p:\n",
    "            procs=p['processed']\n",
    "            for ent in procs:\n",
    "                # each one is a pair of words and extensions\n",
    "                (words,ext) = ent\n",
    "                if ext not in types:\n",
    "                    types[ext]=0\n",
    "                types[ext]=types[ext]+1\n",
    "                for w in words:\n",
    "                    if w not in stop_words:\n",
    "                        w = porter_stemmer.stem(w)\n",
    "                        if w not in freqs:\n",
    "                            freqs[w]=0\n",
    "                        freqs[w]=freqs[w]+1\n",
    "    return (freqs,types)"
   ]
  },
  {
   "cell_type": "code",
   "execution_count": 151,
   "id": "592748ff-807d-44ad-a4b8-6feb16978b94",
   "metadata": {},
   "outputs": [],
   "source": [
    "(freqs,types) = get_frequencies(proced)"
   ]
  },
  {
   "cell_type": "code",
   "execution_count": 152,
   "id": "7efa3914-bd55-40b9-a44b-c78928604881",
   "metadata": {},
   "outputs": [
    {
     "data": {
      "text/plain": [
       "3782"
      ]
     },
     "execution_count": 152,
     "metadata": {},
     "output_type": "execute_result"
    }
   ],
   "source": [
    "len(freqs)"
   ]
  },
  {
   "cell_type": "code",
   "execution_count": 153,
   "id": "bc6b63cd-f342-482c-b212-f6e970d594a3",
   "metadata": {},
   "outputs": [
    {
     "data": {
      "text/plain": [
       "5"
      ]
     },
     "execution_count": 153,
     "metadata": {},
     "output_type": "execute_result"
    }
   ],
   "source": [
    "len(types)"
   ]
  },
  {
   "cell_type": "code",
   "execution_count": 154,
   "id": "00593699-7c51-4840-ad62-1dffc9fc1dec",
   "metadata": {},
   "outputs": [
    {
     "data": {
      "text/plain": [
       "{'xlsx': 527, 'csv': 6964, 'tsv': 1, 'xls': 3, 'ods': 1}"
      ]
     },
     "execution_count": 154,
     "metadata": {},
     "output_type": "execute_result"
    }
   ],
   "source": [
    "types"
   ]
  },
  {
   "cell_type": "markdown",
   "id": "781e4752-7e7e-45b0-a7bd-d3477044b64a",
   "metadata": {},
   "source": [
    "ok. what's up with this. should be more types than these? and numbers seem off?"
   ]
  },
  {
   "cell_type": "markdown",
   "id": "6c5aa903-b423-4aad-b468-8c8365887157",
   "metadata": {},
   "source": [
    "write a routine to look for items with given extensions. "
   ]
  },
  {
   "cell_type": "code",
   "execution_count": 155,
   "id": "d0160c52-1a39-4526-8b1b-3330050fb343",
   "metadata": {},
   "outputs": [],
   "source": [
    "def find_processed_by_type(procs,type):\n",
    "    res=[]\n",
    "    for p in procs:\n",
    "        if 'processed' in p:\n",
    "            ps = p['processed']\n",
    "            for ent in ps:\n",
    "                (words,ext) =ent\n",
    "                if ext == type:\n",
    "                    res.append(p)\n",
    "    return res\n",
    "\n",
    "\n",
    "def find_initial_by_type(procs,type):\n",
    "    res=[]\n",
    "    for p in procs:\n",
    "        if 'files' in p:\n",
    "            ps = p['files']\n",
    "            for fname in ps:\n",
    "                toks = fname.split(\".\")\n",
    "                if toks[-1] == type:\n",
    "                    res.append(p)\n",
    "    return res\n",
    "\n",
    "def find_processed_by_term(procs,term):\n",
    "    res = []\n",
    "    seen = {}\n",
    "    for p in proced:\n",
    "        if 'processed' in p:\n",
    "            procs=p['processed']\n",
    "            for ent in procs:\n",
    "                # each one is a pair of words and extensions\n",
    "                (words,ext) = ent\n",
    "                for w in words:\n",
    "                    if w == term:\n",
    "                        if p['metadataCollectionId'] not in seen:\n",
    "                            seen[p['metadataCollectionId']] =  True\n",
    "                            res.append(p)\n",
    "    return res\n",
    "\n",
    "def find_tokens_by_term(procs,term):\n",
    "    seen = {}\n",
    "    for p in proced:\n",
    "        if 'processed' in p:\n",
    "            procs=p['processed']\n",
    "            for ent in procs:\n",
    "                # each one is a pair of words and extensions\n",
    "                (words,ext) = ent\n",
    "                for w in words:\n",
    "                    if w == term:\n",
    "                        if p['metadataCollectionId'] not in seen:\n",
    "                            seen[p['metadataCollectionId']]=[]\n",
    "                        seen[p['metadataCollectionId']].append(ent)\n",
    "    return seen\n",
    "\n",
    "def find_initial_by_substring(procs,substring):\n",
    "    seen = {}\n",
    "    for p in proced:\n",
    "        if 'files' in p:\n",
    "            for fname in p['files']:\n",
    "                if fname.find(substring) >=0:\n",
    "                    if p['metadataCollectionId'] not in seen:\n",
    "                        seen[p['metadataCollectionId']]=[]\n",
    "                    seen[p['metadataCollectionId']].append(fname)\n",
    "    return seen"
   ]
  },
  {
   "cell_type": "markdown",
   "id": "7609d99b-5925-4892-93c3-2409f428c455",
   "metadata": {},
   "source": [
    "I think Anne didn't me file names for pdf, json, etc... confirm."
   ]
  },
  {
   "cell_type": "markdown",
   "id": "c894e1ce-0669-48e3-801d-7b71201a0c81",
   "metadata": {},
   "source": [
    "let's look at descriptives on words"
   ]
  },
  {
   "cell_type": "code",
   "execution_count": 156,
   "id": "3c0dd2b7-bfe7-4da4-b522-527fca4771c8",
   "metadata": {},
   "outputs": [],
   "source": [
    "topfreqs = sorted(freqs.items(),key=lambda x:x[1],reverse=True)\n",
    "sfreqs=dict(topfreqs[:100])"
   ]
  },
  {
   "cell_type": "code",
   "execution_count": 157,
   "id": "ee9e5e01-e5a7-4411-9404-f9467a7de4ae",
   "metadata": {},
   "outputs": [
    {
     "data": {
      "text/plain": [
       "100"
      ]
     },
     "execution_count": 157,
     "metadata": {},
     "output_type": "execute_result"
    }
   ],
   "source": [
    "len(sfreqs)"
   ]
  },
  {
   "cell_type": "code",
   "execution_count": 158,
   "id": "621838d6-0f77-4516-a93a-6e3602ce2816",
   "metadata": {},
   "outputs": [
    {
     "data": {
      "text/plain": [
       "{'': 7349,\n",
       " 'temp': 6127,\n",
       " 'tableau': 3101,\n",
       " 'extract': 2972,\n",
       " 'counti': 1585,\n",
       " 'death': 794,\n",
       " 'age': 781,\n",
       " 'covid': 723,\n",
       " 'data': 678,\n",
       " '19': 666,\n",
       " 'vaccin': 664,\n",
       " 'race': 479,\n",
       " 'peopl': 463,\n",
       " 'demograph': 415,\n",
       " 'date': 377,\n",
       " 'case': 350,\n",
       " 'dc': 312,\n",
       " 'cti': 288,\n",
       " 'gender': 265,\n",
       " 'eth': 237,\n",
       " 'daili': 235,\n",
       " 'pc': 232,\n",
       " 'time': 229,\n",
       " 'test': 226,\n",
       " 'sex': 219,\n",
       " 'seri': 219,\n",
       " 'dose': 216,\n",
       " 'complet': 211,\n",
       " '2021': 205,\n",
       " 'zip': 191,\n",
       " 'curv': 189,\n",
       " 'feder': 181,\n",
       " 'code': 179,\n",
       " 'epi': 178,\n",
       " 'ethnic': 175,\n",
       " 'dashboard': 175,\n",
       " 'rate': 158,\n",
       " 'file': 138,\n",
       " 'booster': 133,\n",
       " 'twb': 132,\n",
       " 'raw': 131,\n",
       " 'pcr': 118,\n",
       " '1': 111,\n",
       " 'onset': 110,\n",
       " '2': 108,\n",
       " 'mortal': 103,\n",
       " '2020': 99,\n",
       " 'new': 77,\n",
       " 'wy': 72,\n",
       " 'rc': 65,\n",
       " 'count': 63,\n",
       " 'total': 63,\n",
       " 'group': 62,\n",
       " 'd9': 62,\n",
       " 'updat': 61,\n",
       " 'state': 60,\n",
       " 'number': 60,\n",
       " 'sqlproxi': 57,\n",
       " 'averag': 57,\n",
       " '22': 57,\n",
       " 'demo': 55,\n",
       " '3': 51,\n",
       " 'posit': 50,\n",
       " '6': 49,\n",
       " '4': 47,\n",
       " 'may': 47,\n",
       " 'd1': 46,\n",
       " 'f1': 46,\n",
       " 'de95cb654114adc9b8ad7ca5347a': 46,\n",
       " 'result': 46,\n",
       " 'adadaa42c5a75dbe52bf8c2ebc': 46,\n",
       " 'fbb11af558784cf89da259bbafd342a6': 46,\n",
       " 'd8': 46,\n",
       " 'ed03d1345f29b0bfec84b1c4656': 46,\n",
       " 'cf205f44a80248ef91625997e6a1ba27': 46,\n",
       " 'st': 46,\n",
       " 'juli': 44,\n",
       " '2022': 44,\n",
       " 'trend': 43,\n",
       " '7': 43,\n",
       " 'vax': 43,\n",
       " '8': 41,\n",
       " '9': 41,\n",
       " 'april': 41,\n",
       " '5': 40,\n",
       " 'unspecifi': 38,\n",
       " 'june': 38,\n",
       " 'tabl': 37,\n",
       " 'chart': 37,\n",
       " 'histo': 36,\n",
       " 'pfizer': 36,\n",
       " 'report': 35,\n",
       " 'march': 35,\n",
       " 'summari': 34,\n",
       " 'map': 34,\n",
       " '21': 34,\n",
       " 'butterfli': 34,\n",
       " 'hospit': 33,\n",
       " 'nc': 32,\n",
       " 'a80': 31}"
      ]
     },
     "execution_count": 158,
     "metadata": {},
     "output_type": "execute_result"
    }
   ],
   "source": [
    "sfreqs"
   ]
  },
  {
   "cell_type": "code",
   "execution_count": 159,
   "id": "84ffbfbd-d942-4349-b5f5-a4bf774b1619",
   "metadata": {},
   "outputs": [
    {
     "data": {
      "text/plain": [
       "[('', 7349),\n",
       " ('temp', 6127),\n",
       " ('tableau', 3101),\n",
       " ('extract', 2972),\n",
       " ('counti', 1585),\n",
       " ('death', 794),\n",
       " ('age', 781),\n",
       " ('covid', 723),\n",
       " ('data', 678),\n",
       " ('19', 666),\n",
       " ('vaccin', 664),\n",
       " ('race', 479),\n",
       " ('peopl', 463),\n",
       " ('demograph', 415),\n",
       " ('date', 377),\n",
       " ('case', 350),\n",
       " ('dc', 312),\n",
       " ('cti', 288),\n",
       " ('gender', 265),\n",
       " ('eth', 237),\n",
       " ('daili', 235),\n",
       " ('pc', 232),\n",
       " ('time', 229),\n",
       " ('test', 226),\n",
       " ('sex', 219),\n",
       " ('seri', 219),\n",
       " ('dose', 216),\n",
       " ('complet', 211),\n",
       " ('2021', 205),\n",
       " ('zip', 191),\n",
       " ('curv', 189),\n",
       " ('feder', 181),\n",
       " ('code', 179),\n",
       " ('epi', 178),\n",
       " ('ethnic', 175),\n",
       " ('dashboard', 175),\n",
       " ('rate', 158),\n",
       " ('file', 138),\n",
       " ('booster', 133),\n",
       " ('twb', 132),\n",
       " ('raw', 131),\n",
       " ('pcr', 118),\n",
       " ('1', 111),\n",
       " ('onset', 110),\n",
       " ('2', 108),\n",
       " ('mortal', 103),\n",
       " ('2020', 99),\n",
       " ('new', 77),\n",
       " ('wy', 72),\n",
       " ('rc', 65),\n",
       " ('count', 63),\n",
       " ('total', 63),\n",
       " ('group', 62),\n",
       " ('d9', 62),\n",
       " ('updat', 61),\n",
       " ('state', 60),\n",
       " ('number', 60),\n",
       " ('sqlproxi', 57),\n",
       " ('averag', 57),\n",
       " ('22', 57),\n",
       " ('demo', 55),\n",
       " ('3', 51),\n",
       " ('posit', 50),\n",
       " ('6', 49),\n",
       " ('4', 47),\n",
       " ('may', 47),\n",
       " ('d1', 46),\n",
       " ('f1', 46),\n",
       " ('de95cb654114adc9b8ad7ca5347a', 46),\n",
       " ('result', 46),\n",
       " ('adadaa42c5a75dbe52bf8c2ebc', 46),\n",
       " ('fbb11af558784cf89da259bbafd342a6', 46),\n",
       " ('d8', 46),\n",
       " ('ed03d1345f29b0bfec84b1c4656', 46),\n",
       " ('cf205f44a80248ef91625997e6a1ba27', 46),\n",
       " ('st', 46),\n",
       " ('juli', 44),\n",
       " ('2022', 44),\n",
       " ('trend', 43),\n",
       " ('7', 43),\n",
       " ('vax', 43),\n",
       " ('8', 41),\n",
       " ('9', 41),\n",
       " ('april', 41),\n",
       " ('5', 40),\n",
       " ('unspecifi', 38),\n",
       " ('june', 38),\n",
       " ('tabl', 37),\n",
       " ('chart', 37),\n",
       " ('histo', 36),\n",
       " ('pfizer', 36),\n",
       " ('report', 35),\n",
       " ('march', 35),\n",
       " ('summari', 34),\n",
       " ('map', 34),\n",
       " ('21', 34),\n",
       " ('butterfli', 34),\n",
       " ('hospit', 33),\n",
       " ('nc', 32),\n",
       " ('a80', 31),\n",
       " ('fc6f1d746afa756acac09363765', 31),\n",
       " ('c6', 31),\n",
       " ('a3', 31),\n",
       " ('fcae8a4d70ae052bca5c26b172', 31),\n",
       " ('aa2625d8d847a396710618530db221', 31),\n",
       " ('a85', 31),\n",
       " ('fbe4536b4b66b6073847d0aaea9a', 31),\n",
       " ('ba54e48c8a06267fff05d6187', 31),\n",
       " ('aa38b39fdd64560a58fa933a92eb0bf', 31),\n",
       " ('f5', 31),\n",
       " ('ef8b2671f04d0b9c3a40e67f49e4f', 31),\n",
       " ('jefferson', 31),\n",
       " ('februari', 31),\n",
       " ('washington', 30),\n",
       " ('12', 29),\n",
       " ('public', 27),\n",
       " ('percent', 27),\n",
       " ('be7f7e5b1e406b8834dabf1bbe1144', 27),\n",
       " ('outcom', 27),\n",
       " ('variant', 26),\n",
       " ('a546709', 26),\n",
       " ('b46', 26),\n",
       " ('eda3eb15e2c2c6b6d6', 26),\n",
       " ('ae84d13b2e42b79881bc04530598f0', 26),\n",
       " ('idaho', 26),\n",
       " ('download', 25),\n",
       " ('overview', 25),\n",
       " ('dph', 25),\n",
       " ('septemb', 25),\n",
       " ('lincoln', 24),\n",
       " ('dem', 24),\n",
       " ('franklin', 23),\n",
       " ('statewid', 22),\n",
       " ('montgomeri', 22),\n",
       " ('august', 22),\n",
       " ('covid19', 21),\n",
       " ('oregon', 21),\n",
       " ('hosp', 21),\n",
       " ('decemb', 21),\n",
       " ('level', 20),\n",
       " ('graham', 20),\n",
       " ('yuma', 20),\n",
       " ('ncdhh', 20),\n",
       " ('use', 20),\n",
       " ('marion', 20),\n",
       " ('jackson', 20),\n",
       " ('dougla', 20),\n",
       " ('one', 19),\n",
       " ('linn', 19),\n",
       " ('lab', 18),\n",
       " ('11', 18),\n",
       " ('madison', 18),\n",
       " ('lewi', 18),\n",
       " ('putnam', 18),\n",
       " ('columbia', 18),\n",
       " ('schuyler', 18),\n",
       " ('januari', 18),\n",
       " ('octob', 18),\n",
       " ('green', 17),\n",
       " ('monro', 17),\n",
       " ('livingston', 17),\n",
       " ('clinton', 17),\n",
       " ('sullivan', 17),\n",
       " ('warren', 17),\n",
       " ('york', 17),\n",
       " ('lawrenc', 17),\n",
       " ('wayn', 17),\n",
       " ('export', 17),\n",
       " ('high', 17),\n",
       " ('risk', 17),\n",
       " ('comorb', 17),\n",
       " ('pima', 17),\n",
       " ('maricopa', 17),\n",
       " ('brand', 17),\n",
       " ('administ', 16),\n",
       " ('popul', 16),\n",
       " ('johnson', 16),\n",
       " ('10', 16),\n",
       " ('hamilton', 16),\n",
       " ('santa', 16),\n",
       " ('cruz', 16),\n",
       " ('mohav', 16),\n",
       " ('cochis', 16),\n",
       " ('pinal', 16),\n",
       " ('gila', 16),\n",
       " ('la', 16),\n",
       " ('paz', 16),\n",
       " ('yavapai', 16),\n",
       " ('coconino', 16),\n",
       " ('navajo', 16),\n",
       " ('greenle', 16),\n",
       " ('apach', 16),\n",
       " ('vacc', 16),\n",
       " ('yamhil', 16),\n",
       " ('cnti', 16),\n",
       " ('novemb', 16),\n",
       " ('vdh', 16),\n",
       " ('dataset', 16),\n",
       " ('least', 15),\n",
       " ('albani', 15),\n",
       " ('a561', 15),\n",
       " ('e12', 15),\n",
       " ('f30', 15),\n",
       " ('d144', 15),\n",
       " ('d7', 15),\n",
       " ('bae479139647f319', 15),\n",
       " ('cc730fe2c75741f6a263610099dcd628', 15),\n",
       " ('texa', 15),\n",
       " ('polk', 15),\n",
       " ('benton', 15),\n",
       " ('dictionari', 14),\n",
       " ('1pl1fir12odv4x10j5dex0mjkdnh', 14),\n",
       " ('14', 14),\n",
       " ('1xvdus419186vv1fkftmw1yqjdr5', 14),\n",
       " ('citi', 14),\n",
       " ('chautauqua', 14),\n",
       " ('v2', 14),\n",
       " ('provid', 14),\n",
       " ('loui', 14),\n",
       " ('two', 14),\n",
       " ('fulli', 13),\n",
       " ('16', 13),\n",
       " ('week', 13),\n",
       " ('perform', 13),\n",
       " ('publish', 13),\n",
       " ('clark', 13),\n",
       " ('cumul', 12),\n",
       " ('first', 12),\n",
       " ('crook', 12),\n",
       " ('0crbell165o69810qb23000ksfyl', 12),\n",
       " ('087e4bu1m04dtn17wfyym1cy4inn', 12),\n",
       " ('0zc5ris00zoail189kj1g1dby17z', 12),\n",
       " ('1s716py1xqrodj17ykezv00nhq5c', 12),\n",
       " ('027b0791avr5v0148h00l08uxda6', 12),\n",
       " ('0otnitj03av1b818vb16710px1i3', 12),\n",
       " ('0o8mdh91840tc515x9g910is6eam', 12),\n",
       " ('14dhh920e3ra6q13bovo60b8hlgt', 12),\n",
       " ('0ads6zq0wa0oen13dbm880zcdymr', 12),\n",
       " ('0y76x9y1mm0ebe17r5huj10lvlsf', 12),\n",
       " ('histor', 12),\n",
       " ('town', 12),\n",
       " ('lake', 12),\n",
       " ('barton', 12),\n",
       " ('clay', 12),\n",
       " ('crawford', 12),\n",
       " ('butler', 12),\n",
       " ('salin', 12),\n",
       " ('atchison', 12),\n",
       " ('sherman', 12),\n",
       " ('grant', 12),\n",
       " ('lane', 12),\n",
       " ('platt', 11),\n",
       " ('breakthroughbyco', 11),\n",
       " ('20', 11),\n",
       " ('1aisq5u10j7en116wyyy30ef9si0', 11),\n",
       " ('18', 11),\n",
       " ('oneida', 11),\n",
       " ('chemung', 11),\n",
       " ('copi', 11),\n",
       " ('osag', 11),\n",
       " ('scott', 11),\n",
       " ('statu', 10),\n",
       " ('0pbec4d0qabp6s1012fa91du5r8j', 10),\n",
       " ('0tqcwx00swa69f1bc9afr16t7df', 10),\n",
       " ('164pvsf1trx984189yi8y1wto8ta', 10),\n",
       " ('0y50uhj1yomxkq1gxnazt16nomgb', 10),\n",
       " ('0ry4lzf1sndt76109l6qf08yj90x', 10),\n",
       " ('1eiesyh006srq213ouwv90zdn4av', 10),\n",
       " ('0nxitbu17aydln13koxtd1y3lemc', 10),\n",
       " ('1cmfd5o0jqm5m8109luxg06rw4bt', 10),\n",
       " ('02prrdl03205sr1cpdonc0jva2fw', 10),\n",
       " ('1nxftb60owgkmg1f5yczy0ywhl7o', 10),\n",
       " ('0snvj5r17zj928109adsa0ymm9cg', 10),\n",
       " ('schenectadi', 10),\n",
       " ('ulster', 10),\n",
       " ('otsego', 10),\n",
       " ('saratoga', 10),\n",
       " ('nassau', 10),\n",
       " ('cayuga', 10),\n",
       " ('oswego', 10),\n",
       " ('yate', 10),\n",
       " ('wyom', 10),\n",
       " ('essex', 10),\n",
       " ('dutchess', 10),\n",
       " ('king', 10),\n",
       " ('ontario', 10),\n",
       " ('bronx', 10),\n",
       " ('fulton', 10),\n",
       " ('renssela', 10),\n",
       " ('queen', 10),\n",
       " ('broom', 10),\n",
       " ('cattaraugu', 10),\n",
       " ('allegani', 10),\n",
       " ('schohari', 10),\n",
       " ('onondaga', 10),\n",
       " ('steuben', 10),\n",
       " ('orang', 10),\n",
       " ('tioga', 10),\n",
       " ('suffolk', 10),\n",
       " ('seneca', 10),\n",
       " ('chenango', 10),\n",
       " ('tompkin', 10),\n",
       " ('orlean', 10),\n",
       " ('eri', 10),\n",
       " ('rockland', 10),\n",
       " ('herkim', 10),\n",
       " ('cortland', 10),\n",
       " ('westchest', 10),\n",
       " ('richmond', 10),\n",
       " ('genese', 10),\n",
       " ('delawar', 10),\n",
       " ('niagara', 10),\n",
       " ('health', 10),\n",
       " ('second', 10),\n",
       " ('wasco', 10),\n",
       " ('23', 9),\n",
       " ('18v0jkw02ige5f10yr8641q21h2n', 9),\n",
       " ('elr', 9),\n",
       " ('27', 9),\n",
       " ('sheridan', 8),\n",
       " ('last', 8),\n",
       " ('0dvm9mf03s3umb138rchk1403oq8', 8),\n",
       " ('1i78ap019xhvk616b29vv16pwiq6', 8),\n",
       " ('13', 8),\n",
       " ('harrison', 8),\n",
       " ('knox', 8),\n",
       " ('wright', 8),\n",
       " ('clair', 8),\n",
       " ('lacled', 8),\n",
       " ('worth', 8),\n",
       " ('holt', 8),\n",
       " ('coo', 8),\n",
       " ('clatsop', 8),\n",
       " ('curri', 8),\n",
       " ('baker', 8),\n",
       " ('klamath', 8),\n",
       " ('union', 8),\n",
       " ('clackama', 8),\n",
       " ('wallowa', 8),\n",
       " ('gilliam', 8),\n",
       " ('tillamook', 8),\n",
       " ('malheur', 8),\n",
       " ('morrow', 8),\n",
       " ('deschut', 8),\n",
       " ('umatilla', 8),\n",
       " ('josephin', 8),\n",
       " ('multnomah', 8),\n",
       " ('wheeler', 8),\n",
       " ('harney', 8),\n",
       " ('hood', 8),\n",
       " ('river', 8),\n",
       " ('j', 8),\n",
       " ('initi', 8),\n",
       " ('24', 8),\n",
       " ('wisconsin', 7),\n",
       " ('metadata', 7),\n",
       " ('agegroup', 7),\n",
       " ('bt', 7),\n",
       " ('17bd4tl1o0f7r91cc0ic01cavfjz', 7),\n",
       " ('068t98j0poa42r1g5bg3n1xrxrdp', 7),\n",
       " ('15', 7),\n",
       " ('datasourc', 7),\n",
       " ('integr', 7),\n",
       " ('20210322', 7),\n",
       " ('provision', 7),\n",
       " ('audrain', 7),\n",
       " ('chariton', 7),\n",
       " ('dunklin', 7),\n",
       " ('carrol', 7),\n",
       " ('howard', 7),\n",
       " ('shannon', 7),\n",
       " ('buchanan', 7),\n",
       " ('nodaway', 7),\n",
       " ('christian', 7),\n",
       " ('moniteau', 7),\n",
       " ('charl', 7),\n",
       " ('cooper', 7),\n",
       " ('gasconad', 7),\n",
       " ('mcdonald', 7),\n",
       " ('taney', 7),\n",
       " ('pemiscot', 7),\n",
       " ('grundi', 7),\n",
       " ('ripley', 7),\n",
       " ('cape', 7),\n",
       " ('girardeau', 7),\n",
       " ('rall', 7),\n",
       " ('cole', 7),\n",
       " ('francoi', 7),\n",
       " ('gentri', 7),\n",
       " ('vernon', 7),\n",
       " ('hickori', 7),\n",
       " ('ste', 7),\n",
       " ('geneviev', 7),\n",
       " ('andrew', 7),\n",
       " ('perri', 7),\n",
       " ('miller', 7),\n",
       " ('jasper', 7),\n",
       " ('camden', 7),\n",
       " ('madrid', 7),\n",
       " ('iron', 7),\n",
       " ('henri', 7),\n",
       " ('cass', 7),\n",
       " ('scotland', 7),\n",
       " ('macon', 7),\n",
       " ('dade', 7),\n",
       " ('petti', 7),\n",
       " ('mississippi', 7),\n",
       " ('bolling', 7),\n",
       " ('dalla', 7),\n",
       " ('caldwel', 7),\n",
       " ('ozark', 7),\n",
       " ('stone', 7),\n",
       " ('newton', 7),\n",
       " ('webster', 7),\n",
       " ('phelp', 7),\n",
       " ('howel', 7),\n",
       " ('adair', 7),\n",
       " ('mari', 7),\n",
       " ('barri', 7),\n",
       " ('boon', 7),\n",
       " ('dent', 7),\n",
       " ('callaway', 7),\n",
       " ('cedar', 7),\n",
       " ('shelbi', 7),\n",
       " ('pike', 7),\n",
       " ('morgan', 7),\n",
       " ('ray', 7),\n",
       " ('bate', 7),\n",
       " ('daviess', 7),\n",
       " ('reynold', 7),\n",
       " ('pulaski', 7),\n",
       " ('stoddard', 7),\n",
       " ('dekalb', 7),\n",
       " ('lafayett', 7),\n",
       " ('carter', 7),\n",
       " ('19947', 7),\n",
       " ('19958', 7),\n",
       " ('19734', 7),\n",
       " ('19901', 7),\n",
       " ('19973', 7),\n",
       " ('19952', 7),\n",
       " ('19968', 7),\n",
       " ('19933', 7),\n",
       " ('19943', 7),\n",
       " ('19963', 7),\n",
       " ('19904', 7),\n",
       " ('19940', 7),\n",
       " ('19977', 7),\n",
       " ('19950', 7),\n",
       " ('19709', 7),\n",
       " ('19945', 7),\n",
       " ('19966', 7),\n",
       " ('19956', 7),\n",
       " ('19938', 7),\n",
       " ('19934', 7),\n",
       " ('30', 7),\n",
       " ('diseas', 6),\n",
       " ('underli', 6),\n",
       " ('condit', 6),\n",
       " ('vs', 6),\n",
       " ('current', 6),\n",
       " ('confirm', 6),\n",
       " ('17', 6),\n",
       " ('weekli', 6),\n",
       " ('sussex', 6),\n",
       " ('kent', 6),\n",
       " ('castl', 6),\n",
       " ('region', 6),\n",
       " ('agregroup', 6),\n",
       " ('raceethn', 6),\n",
       " ('randolph', 6),\n",
       " ('mercer', 6),\n",
       " ('cowley', 6),\n",
       " ('link', 6),\n",
       " ('28129', 6),\n",
       " ('28', 6),\n",
       " ('cdc', 5),\n",
       " ('symptom', 5),\n",
       " ('datadictionari', 5),\n",
       " ('fremont', 5),\n",
       " ('0e3hvpr1iqzksh1gv2ay80f3v2d8', 5),\n",
       " ('teton', 5),\n",
       " ('02l4nht0s13rx71ao8kee09ta2vm', 5),\n",
       " ('05i1io61hk58re10dkkgc01d8sh8', 5),\n",
       " ('0bn23q01q8onup1g5etu40dzkim2', 5),\n",
       " ('0mlwva10flspls17iycd21kyjnfg', 5),\n",
       " ('01m9nzu1enqews13hg7lz1dp3s89', 5),\n",
       " ('0pahcos1vw7c9015mc9ad0r099xd', 5),\n",
       " ('0b3jl5m042buod1ad1me61wjri3t', 5),\n",
       " ('0u9heyh0egmtv60zqpyxw05v1ht1', 5),\n",
       " ('0q8qrjh0iipwvm16jo2ks0oxw4wx', 5),\n",
       " ('0qr6ox21jp614110jb08t0ycih4g', 5),\n",
       " ('1s35rnw04d966c16pk52f1puayfj', 5),\n",
       " ('1jc621d0hs6r341g5lqqz1jtwlal', 5),\n",
       " ('0bs5i1a0wllwuu1apd4jf0r7byiv', 5),\n",
       " ('1ijdoyg1rystg2185pgpe03g6y1l', 5),\n",
       " ('1uhz36n0g2rrsa142crif122lomq', 5),\n",
       " ('08lseqp04vtryh11kf4fx100niv4', 5),\n",
       " ('1yovzny03910121betqv10k0zkwi', 5),\n",
       " ('0caoils1bjh65j1e9ee731f15xvq', 5),\n",
       " ('07ai74c0m5pdaf12jbdk419y4278', 5),\n",
       " ('1tlkw0b0hpkl3c12l77cj1o16lgb', 5),\n",
       " ('0ie8ed516y6z8611llcnw0hf351g', 5),\n",
       " ('0ik9bg11qfv30f1gzhm3c0lqevxn', 5),\n",
       " ('0j8012l1mv0ula14dqo0l02ljy7t', 5),\n",
       " ('0touy9z15ujudg12h0iqf1qpdhvt', 5),\n",
       " ('1bfmba11v28jve17fswsf046t4o', 5),\n",
       " ('0vfs2nt0l5q92p19topaj1c62i2z', 5),\n",
       " ('0b7oluu055dyjd1527jso0cz2ng', 5),\n",
       " ('056ytoc18jmpbu18lvmpn1s2y4l8', 5),\n",
       " ('0if4yca1t593po15eiocb128zka7', 5),\n",
       " ('1rt4vlw17ny1z01dc2d9z1pt8tm0', 5),\n",
       " ('1ueodwt1hvm92114qc7xb0pecuhj', 5),\n",
       " ('cdphe', 5),\n",
       " ('icu', 5),\n",
       " ('header', 5),\n",
       " ('v1', 5),\n",
       " ('censu', 5),\n",
       " ('immun', 5),\n",
       " ('curren', 5),\n",
       " ('wn', 5),\n",
       " ('l', 5),\n",
       " ('hspitiz', 5),\n",
       " ('con', 5),\n",
       " ('us', 5),\n",
       " ('riley', 5),\n",
       " ('wyandott', 5),\n",
       " ('harvey', 5),\n",
       " ('shawne', 5),\n",
       " ('dickinson', 5),\n",
       " ('hodgeman', 5),\n",
       " ('kingman', 5),\n",
       " ('ford', 5),\n",
       " ('cloud', 5),\n",
       " ('sedgwick', 5),\n",
       " ('geari', 5),\n",
       " ('elk', 5),\n",
       " ('reno', 5),\n",
       " ('bourbon', 5),\n",
       " ('russel', 5),\n",
       " ('neosho', 5),\n",
       " ('elli', 5),\n",
       " ('lyon', 5),\n",
       " ('labett', 5),\n",
       " ('allen', 5),\n",
       " ('seward', 5),\n",
       " ('finney', 5),\n",
       " ('comanch', 5),\n",
       " ('leavenworth', 5),\n",
       " ('chase', 5),\n",
       " ('brown', 5),\n",
       " ('wilson', 5),\n",
       " ('sumner', 5),\n",
       " ('marshal', 5),\n",
       " ('kearni', 5),\n",
       " ('coffey', 5),\n",
       " ('mc', 5),\n",
       " ('pherson', 5),\n",
       " ('cheroke', 5),\n",
       " ('anderson', 5),\n",
       " ('pottawatomi', 5),\n",
       " ('gove', 5),\n",
       " ('greenwood', 5),\n",
       " ('miami', 5),\n",
       " ('decatur', 5),\n",
       " ('nemaha', 5),\n",
       " ('ellsworth', 5),\n",
       " ('kiowa', 5),\n",
       " ('thoma', 5),\n",
       " ('greeley', 5),\n",
       " ('barber', 5),\n",
       " ('cheyenn', 5),\n",
       " ('2800229', 5),\n",
       " ('sever', 4),\n",
       " ('fatal', 4),\n",
       " ('addit', 4),\n",
       " ('goshen', 4),\n",
       " ('niobrara', 4),\n",
       " ('probabl', 4),\n",
       " ('convers', 4),\n",
       " ('washaki', 4),\n",
       " ('natrona', 4),\n",
       " ('weston', 4),\n",
       " ('campbel', 4),\n",
       " ('carbon', 4),\n",
       " ('hot', 4),\n",
       " ('spring', 4),\n",
       " ('statist', 4),\n",
       " ('big', 4),\n",
       " ('horn', 4),\n",
       " ('sublett', 4),\n",
       " ('larami', 4),\n",
       " ('sweetwat', 4),\n",
       " ('uinta', 4),\n",
       " ('b9', 4),\n",
       " ('a90648554', 4),\n",
       " ('bf594a870457456b45b', 4),\n",
       " ('park', 4),\n",
       " ('breakthroughcurv', 4),\n",
       " ('c873', 4),\n",
       " ('ed646c4985f05071f5fdb9b', 4),\n",
       " ('hospbi', 4),\n",
       " ('ea718fb841d58bf06f8e79896b23', 4),\n",
       " ('d7266', 4),\n",
       " ('b541', 4),\n",
       " ('c43578', 4),\n",
       " ('af375c31f203ff0', 4),\n",
       " ('outbreak', 4),\n",
       " ('long', 4),\n",
       " ('stat', 4),\n",
       " ('email', 4),\n",
       " ('metric', 4),\n",
       " ('boundari', 4),\n",
       " ('imm', 4),\n",
       " ('20210318', 4),\n",
       " ('island', 4),\n",
       " ('day', 4),\n",
       " ('smith', 4),\n",
       " ('gray', 4),\n",
       " ('morton', 4),\n",
       " ('pratt', 4),\n",
       " ('edward', 4),\n",
       " ('stafford', 4),\n",
       " ('morri', 4),\n",
       " ('woodson', 4),\n",
       " ('harper', 4),\n",
       " ('rice', 4),\n",
       " ('mead', 4),\n",
       " ('mitchel', 4),\n",
       " ('norton', 4),\n",
       " ('ottawa', 4),\n",
       " ('logan', 4),\n",
       " ('doniphan', 4),\n",
       " ('rook', 4),\n",
       " ('steven', 4),\n",
       " ('rawlin', 4),\n",
       " ('phillip', 4),\n",
       " ('haskel', 4),\n",
       " ('pawne', 4),\n",
       " ('wabaunse', 4),\n",
       " ('ness', 4),\n",
       " ('republ', 4),\n",
       " ('osborn', 4),\n",
       " ('year', 4),\n",
       " ('pop', 4),\n",
       " ('progress', 4),\n",
       " ('primari', 4),\n",
       " ('district', 4),\n",
       " ('29', 4),\n",
       " ('output', 3),\n",
       " ('crosstab', 3),\n",
       " ('stamp', 3),\n",
       " ('vaccinationsbi', 3),\n",
       " ('sheet', 3),\n",
       " ('today', 3),\n",
       " ('recov', 3),\n",
       " ('deathsbi', 3),\n",
       " ('cb64a7aa5a2a45ffa26fdea1faaa0134', 3),\n",
       " ('016dniy110kh9717ubpa70s7cyt7', 3),\n",
       " ('10bozup0k69eqi1a0wz3j172f732', 3),\n",
       " ('breakthroughtest', 3),\n",
       " ('ob', 3),\n",
       " ('timebi', 3),\n",
       " ('max', 3),\n",
       " ('histori', 3),\n",
       " ('note', 3),\n",
       " ('ventil', 3),\n",
       " ('draft08052021', 3),\n",
       " ('covid1', 3),\n",
       " ('person', 3),\n",
       " ('author', 3),\n",
       " ('01', 3),\n",
       " ('hist', 3),\n",
       " ('onedos', 3),\n",
       " ('k', 3),\n",
       " ('resid', 3),\n",
       " ('illinoi', 3),\n",
       " ('valley', 3),\n",
       " ('capit', 3),\n",
       " ('finger', 3),\n",
       " ('dataupd', 3),\n",
       " ('bar', 3),\n",
       " ('titl', 3),\n",
       " ('categori', 3),\n",
       " ('aggreg', 3),\n",
       " ('pneu', 3),\n",
       " ('cov', 3),\n",
       " ('trego', 3),\n",
       " ('rush', 3),\n",
       " ('stanton', 3),\n",
       " ('jewel', 3),\n",
       " ('wichita', 3),\n",
       " ('wallac', 3),\n",
       " ('gener', 3),\n",
       " ('26', 3),\n",
       " ('25', 3),\n",
       " ('revis', 3),\n",
       " ('0xdr3m51337laq1202o1v1', 2),\n",
       " ('1irtb821im87r4104vf7x0', 2),\n",
       " ('0teyvbs1spubat1boz3zb1', 2),\n",
       " ('per', 2),\n",
       " ('highest50', 2),\n",
       " ('t6', 2),\n",
       " ('t7', 2),\n",
       " ('t1', 2),\n",
       " ('t5', 2),\n",
       " ('cat', 2),\n",
       " ('t12', 2),\n",
       " ('t11', 2),\n",
       " ('sheet1', 2),\n",
       " ('0jjq6l40802zp0197feek1110ew0', 2),\n",
       " ('colorado', 2),\n",
       " ('tsa', 2),\n",
       " ('care', 2),\n",
       " ('agegrp', 2),\n",
       " ('median', 2),\n",
       " ('main', 2),\n",
       " ('0wh88l70lul08t1ghuzn71', 2),\n",
       " ('syndrom', 2),\n",
       " ('surveil', 2),\n",
       " ('gate', 2),\n",
       " ('criteria', 2),\n",
       " ('casesbyzip', 2),\n",
       " ('f4417382', 2),\n",
       " ('cdb74144b95ff7e18759e8bd', 2),\n",
       " ('196w4df05hvf3i19178j40fcp55a', 2),\n",
       " ('joe', 2),\n",
       " ('inform', 2),\n",
       " ('bed', 2),\n",
       " ('er', 2),\n",
       " ('visit', 2),\n",
       " ('1j3zp5512q6fjs1bsuytq1', 2),\n",
       " ('el', 2),\n",
       " ('rs', 2),\n",
       " ('1f98y8e1oph12916kxvg70', 2),\n",
       " ('tract', 2),\n",
       " ('sheet2', 2),\n",
       " ('2162021', 2),\n",
       " ('enter', 2),\n",
       " ('20210215', 2),\n",
       " ('20210312', 2),\n",
       " ('latest', 2),\n",
       " ('20210309', 2),\n",
       " ('20210308', 2),\n",
       " ('1xpbywv16zzna51efej421d3ki03', 2),\n",
       " ('1021', 2),\n",
       " ('per10', 2),\n",
       " ('byzip', 2),\n",
       " ('mohawk', 2),\n",
       " ('central', 2),\n",
       " ('north', 2),\n",
       " ('countri', 2),\n",
       " ('western', 2),\n",
       " ('mid', 2),\n",
       " ('hudson', 2),\n",
       " ('southern', 2),\n",
       " ('tier', 2),\n",
       " ('open', 2),\n",
       " ('repositori', 2),\n",
       " ('vac', 2),\n",
       " ('birth', 2),\n",
       " ('util', 2),\n",
       " ('coronaviru', 2),\n",
       " ('statewidetestcasedeathtrend', 2),\n",
       " ('florida', 2),\n",
       " ('line', 2),\n",
       " ('pct', 2),\n",
       " ('graphic', 2),\n",
       " ('move', 2),\n",
       " ('vt', 2),\n",
       " ('admin', 2),\n",
       " ('rhode', 2),\n",
       " ('hidden', 2),\n",
       " ('diagnos', 2),\n",
       " ('incid', 2),\n",
       " ('web', 2),\n",
       " ('unknown', 2),\n",
       " ('osdh', 2),\n",
       " ('28229', 2),\n",
       " ('31', 2),\n",
       " ('hospdat', 2),\n",
       " ('0', 2),\n",
       " ('tablet', 2),\n",
       " ('wa', 1),\n",
       " ('event', 1),\n",
       " ('sar', 1),\n",
       " ('alloc', 1),\n",
       " ('16wehl60l6mj1414c0u1n1', 1),\n",
       " ('07jp3yg1rhy0bj1essrgm1ezzkur', 1),\n",
       " ('157vgxr0ovn0lh14zeiwo1xos3ym', 1),\n",
       " ('0s95us61h3bvv11c5jbqa0lvu3do', 1),\n",
       " ('1mkkqhk1daex501donend1rkmqpm', 1),\n",
       " ('0vve70j0pkdlxj107ju5o10775ap', 1),\n",
       " ('0nhc9ak10hn7tq12rcixg0vru3r9', 1),\n",
       " ('1pe3ovq1wan3m01es0ufq0kahuz1', 1),\n",
       " ('1ehzvyx1q20g5j146wyjk189i51i', 1),\n",
       " ('12of1b51nteclt1365fnk1mn1whp', 1),\n",
       " ('1e9rjrh0alkn9t1e57g3216cpcsu', 1),\n",
       " ('1g6ptsm1rg2les185f3341e19jsm', 1),\n",
       " ('18ml5dd1jpveea10d4ijz05ktkci', 1),\n",
       " ('1dmqhd407084uk1b70z9m1ufynam', 1),\n",
       " ('1kk0xe81g4ybre140ozqc08u7yeh', 1),\n",
       " ('1eonk641ddqaqe12atnk11iqqz1v', 1),\n",
       " ('0mjd9ev06f70eq110z0v203tr89j', 1),\n",
       " ('1dxng6i0xzphj50zzru5j1ukp70', 1),\n",
       " ('0n2mwzn1eos9ww1cryaiv1hp51ml', 1),\n",
       " ('0t3t99m0wt97a618fwxaw0wonvph', 1),\n",
       " ('1dddti601nv4uv1b1vlga1r10pji', 1),\n",
       " ('0yw58ne1wybpqt18c3z4m1s747nz', 1),\n",
       " ('18w5twf02oqilo0zxmxyq01wuol8', 1),\n",
       " ('die', 1),\n",
       " ('02qflbm11o6ay1110bzdb0kn8esv', 1),\n",
       " ('1vo8c8k1x2gmc414yo79l11zsgqz', 1),\n",
       " ('0rsgc1p0avwtxu1ayj11y0jd509q', 1),\n",
       " ('19e3rbn0g2xcs9103dlmu15updri', 1),\n",
       " ('01ziwg201atz8i118ibus1rvxcr6', 1),\n",
       " ('1hkcmnj1i0t1i71a26szu0y8hspm', 1),\n",
       " ('11k3gh31wlx28l177e2bp0fp46rl', 1),\n",
       " ('0ge26q51ak1ptv0ziltlo0orq4h', 1),\n",
       " ('1c1u5ty0puhdsc18j8e6h1e8dh3w', 1),\n",
       " ('1ml4j0d0j9ojf118dxb9q0mkxujl', 1),\n",
       " ('14i9olu13p506l146o4a012p6pet', 1),\n",
       " ('0wgsnfe1nfgwc31ef9n2i12kyw97', 1),\n",
       " ('0sni0a10ak60eo1fsfhzv12nc8w1', 1),\n",
       " ('14xo0wh0bjinbn13p5q5m0oqyegi', 1),\n",
       " ('1iyne8s0uey3iv19zgfm6017ugcl', 1),\n",
       " ('1776mnp0jp4r6m13vcsrb1q7384x', 1),\n",
       " ('0vqgjpc0pifbzi165g5c51xyoef6', 1),\n",
       " ('1l7arlf060n2hu18wlajg1163w9i', 1),\n",
       " ('1x89ajz02493ta141v8fh0st77np', 1),\n",
       " ('1iu3p2m11s45ad1bbljhw0zlro5', 1),\n",
       " ('1emipm21hda09w1avmkov01r5wy4', 1),\n",
       " ('1pskd501d94kgn1bzl9vy0fve4nk', 1),\n",
       " ('0i7vua61nkjj3710g7rvd04ciqil', 1),\n",
       " ('1119v0a1xwjlqu134dctw15au8o0', 1),\n",
       " ('16bld4t1tvo48r17341ws1h7jlav', 1),\n",
       " ('1fmqmbi0kynysk159rx2v0u055p', 1),\n",
       " ('1wtp4za0aof53v1enqs531lb8cek', 1),\n",
       " ('0wp40471b4aqa21fidl7b0tj666', 1),\n",
       " ('1i3b9w703x0uql16khwjr0dekadc', 1),\n",
       " ('168ohlu103y52711h16du0owsor0', 1),\n",
       " ('1eyegif0vao2s716uobyc03wcodu', 1),\n",
       " ('1izdvf90v25vbr16k74oi1xasmza', 1),\n",
       " ('0695hy408o4ahg1fe42vv061wnrv', 1),\n",
       " ('1p5og5701s2ur01b7bqtq1sy6qj9', 1),\n",
       " ('02xup280h0socw1cb0unw0q7ap8c', 1),\n",
       " ('1ieaeuk04058wy1a0chz112clslt', 1),\n",
       " ('14tlb680nbszw01fbjabk1ady8tz', 1),\n",
       " ('0owl81f00d5spa1a6mvt31dkspnl', 1),\n",
       " ('0p0y4291iy60501h06zsj0s8gf', 1),\n",
       " ('16eh4nb0pnax7f19irxzd0buy2p', 1),\n",
       " ('1cjbu6s0toubeu1d8n4ab0rr7koc', 1),\n",
       " ('0mlp7ms0xn3r6a165tnc113uxiot', 1),\n",
       " ('1j0nzov180whaw1bov28y0a0xe95', 1),\n",
       " ('1i96asl015izmy141qeja0pbmc', 1),\n",
       " ('0rzcasn0x72fn91fvbmfu1wgqfka', 1),\n",
       " ('0ei4n1y0druv1i1ay7aej1hfyhv', 1),\n",
       " ('0ukuwik16ye06y18e1g1j0zjpxja', 1),\n",
       " ('0e6btcs09xnice0zwqesy17npe00', 1),\n",
       " ('1sqdtnm0g5i52y19in04h0smosc1', 1),\n",
       " ('0hxca9b13ni2bk10yrt2u1q1gnbx', 1),\n",
       " ('1m9ni9t06z4ujy150b3rg0do1rbx', 1),\n",
       " ('001zz1i1y0sqiy15i9bkm0irt66w', 1),\n",
       " ('0gei3u002vstor1gxqgwy1208ab4', 1),\n",
       " ('12h73nm0gkwy5n195v0jb14p6qz', 1),\n",
       " ('10q0wau131ht2e14xhcrs1risgsk', 1),\n",
       " ('1bwwtw219h3u8c1d0nnvv0kj8u27', 1),\n",
       " ('prod', 1),\n",
       " ('0fa25xr17vh65n17ax46u0hx2uzm', 1),\n",
       " ('11szw7e11v9ywt1b4kqoe0srxwct', 1),\n",
       " ('0uitnq90y2v8us1g4996n1', 1),\n",
       " ('0c91g1m0pwwhyl17jr2hm0a6pgrm', 1),\n",
       " ('1pv7m8n0xn577r14jk53v0lm5a79', 1),\n",
       " ('05795mw0eex15m1aeuytz0w2mqfn', 1),\n",
       " ('0glbv5a1in0av119472qr1fh0x42', 1),\n",
       " ('1k3nzcw121pp2114e71af0zaqp8g', 1),\n",
       " ('0ipjpnp1ajb2411f7v2wu0sjg9pi', 1),\n",
       " ('1pyr78513hgbka1ayweqy1meobua', 1),\n",
       " ('0041dj707ffyxg19s3f2g03dcjf2', 1),\n",
       " ('1sqjcg41qb3qzj161rkpg0plf6sv', 1),\n",
       " ('0qj9wup0c4qsz01ghsanr0d2rniu', 1),\n",
       " ('1f1mo880fs8k3f1dj59pe1m2q7gm', 1),\n",
       " ('0ksd4h41gsy6th13adjke1i18uua', 1),\n",
       " ('1q950fl1i32iap1fypau002ju7', 1),\n",
       " ('13g7gue09mx98q14jweef08qp1zu', 1),\n",
       " ('0mfn1ku1capmww15f0rx3141kur9', 1),\n",
       " ('1m5sge61e6ix1619wjzzj0u8s0q', 1),\n",
       " ('1b8mu6s180icsa12xuz6a0l0ta0i', 1),\n",
       " ('1t2luoc1hglgvp15hmri413kzw25', 1),\n",
       " ('0ia6fjw1eqnrcm1au9xdf0pptqiu', 1),\n",
       " ('13jopb71tpqm7q1cicvuj0aqxl55', 1),\n",
       " ('1ukcd9q1xcrfh61fgws4i156kpi2', 1),\n",
       " ('1218lfr0cozuyc199gnpy1aj4553', 1),\n",
       " ('1m6mhio0cfwhu917l8b3v0eq4raz', 1),\n",
       " ('066zz05137w6f5190q8sq02nairk', 1),\n",
       " ('0trhzi60t1uyy61abxrh71khg9bu', 1),\n",
       " ('1fcu7ng1sft9ke13gtu0d1qcllh4', 1),\n",
       " ('0fh7q5i1nih1ko14c4ti906hayjf', 1),\n",
       " ('0n5gklf1jo2r7j159m8zw0rzkpdk', 1),\n",
       " ('1knpja21upk2d81cbgsqh0jnus4a', 1),\n",
       " ('16l58yg0rsznq71175d9p1kczknx', 1),\n",
       " ('1op236j1hsato7156a3xz1t4vt5b', 1),\n",
       " ('05a9avf0o7lrbr12fsysi11c4kcm', 1),\n",
       " ('158w0kz1d32s1w1h03unw19n421u', 1),\n",
       " ('0z6zqsb18f7wsx1f3crvi0zn2enw', 1),\n",
       " ('0grfky20pynpe812vwf840xlt7q5', 1),\n",
       " ('0gyclk50l8qfc812o9nyv0l62594', 1),\n",
       " ('0yw3ttn1b7xcl418qfff619gt27o', 1),\n",
       " ('0k2esfn1o0185a11kjv0y14ypm9g', 1),\n",
       " ('1fuhg2h1iazpke0zn8ku81eydnob', 1),\n",
       " ('1qpv2520hmankb1er2bwd0dwx6ui', 1),\n",
       " ('1act4kd09y76st1bmhc2k0p2a9rp', 1),\n",
       " ('19z367v0qce4ms1cmiptq0y1u1mr', 1),\n",
       " ('16wocto1wkfoj6145agc21596omp', 1),\n",
       " ('0xw6yk81y8r7vf130znul0pjvggf', 1),\n",
       " ('0lkn69r0wfzmhp1gshmd30e3zn7b', 1),\n",
       " ('118yui816w5zsr171qco90a62k7p', 1),\n",
       " ('0m06pv80rodvow12tt6710yih1fa', 1),\n",
       " ('0g7v8it0y8ycbe1fr3xft11xfy3x', 1),\n",
       " ('0m27vov0eb201o1gp4p6c03qrzp1', 1),\n",
       " ('0xwd7ry11tabkc13it69k0w02dy8', 1),\n",
       " ('t4', 1),\n",
       " ('t8', 1),\n",
       " ('t3', 1),\n",
       " ('t2', 1),\n",
       " ('hospitalizaton', 1),\n",
       " ('100000', 1),\n",
       " ('t10', 1),\n",
       " ('t9', 1),\n",
       " ('vacccinationsbi', 1),\n",
       " ('44', 1),\n",
       " ('bottom', 1),\n",
       " ('top', 1),\n",
       " ('data2', 1),\n",
       " ('0il5prf0e01u8m17ly5og0viu6w9', 1),\n",
       " ('1m1o2ef1lwq6tz1br0cum0a15mtk', 1),\n",
       " ('1qyfzv317c8oen0zukmos061znn6', 1),\n",
       " ('13whawq0crkiek11szr7r0sq96tf', 1),\n",
       " ('0oufl2s0dp0cag12arynl1reyq', 1),\n",
       " ('button', 1),\n",
       " ('0sbi0q31xf3pfp1amr92e0z61qh2', 1),\n",
       " ('00qv5vz1346qq714io5001b26a7', 1),\n",
       " ('0w1grn417dg9vx1g817s41jt8eua', 1),\n",
       " ('1iz8xjg1ignbck14lf3fm1m02dy', 1),\n",
       " ('04dso0v1djxo7514h1dyv11h3358', 1),\n",
       " ('ln00186', 1),\n",
       " ('20200501', 1),\n",
       " ('1405', 1),\n",
       " ('1y18ej51noae1k13k41tv0m6g2xa', 1),\n",
       " ('1t7f7j61fln1i5171tc4r1xk4h94', 1),\n",
       " ('0etc46811ef3dn1dhtufg1mnnc7i', 1),\n",
       " ('1dxhf7d1d818bp1ej4sik0yeo4rb', 1),\n",
       " ('0ar6pwx0p17x4117p4t2j1noklvk', 1),\n",
       " ('0mnermn051g3xi1bi8w360waj24i', 1),\n",
       " ('04iq25p15rco7g10zv5hi0y7jnz0', 1),\n",
       " ('0927m7n0p1dkem17hc49h0piseuu', 1),\n",
       " ('0i8hoy21vnxkz31atui550zivyc9', 1),\n",
       " ('0x58v8d1pnrqq71aa0qhw0f0sq99', 1),\n",
       " ('covi', 1),\n",
       " ('dtest', 1),\n",
       " ('1qghwr60uim2lw1c07ktn07v6hng', 1),\n",
       " ('189pz30026tsuo1e2qu0j0rbq3nx', 1),\n",
       " ('summar', 1),\n",
       " ('ea9637d4e18d439b9cd0b79462b770d5', 1),\n",
       " ('0ztpuaa06gd4x21fi13s516ddv70', 1),\n",
       " ('0fmrwm61uuify819wwb3d0sazpjp', 1),\n",
       " ('1kjs0rl0wb421o153jn490z36ilq', 1),\n",
       " ('0mjsbh70jocopn1fs9as8064bmf1', 1),\n",
       " ('0xaae2m1vkyugd0zlb7gv0a4vwhr', 1),\n",
       " ('1cn7ws409zerj41guvzt50qvcph9', 1),\n",
       " ('18sss9c0u003521e0rz7q0w2f8h7', 1),\n",
       " ('14knryk1l1xwwn1ccta881aek3qq', 1),\n",
       " ('1qzl82h10ajll51blzo751ks5erh', 1),\n",
       " ('07cdy4z0hv8av7144bkdl19ni8xd', 1),\n",
       " ('c46', 1),\n",
       " ('c008036', 1),\n",
       " ('e4468', 1),\n",
       " ('d90', 1),\n",
       " ('a8055', 1),\n",
       " ('ea7218db0', 1),\n",
       " ('1sh1b571gs4qs1107ymjn112gdfj', 1),\n",
       " ('0ly3cet15rs5eb12oe8qy1i0fi6w', 1),\n",
       " ('13oeruu0tosx0c10xfh5n0mcw5i8', 1),\n",
       " ('16ja8ja0hd7d8r1fokg6c0c7ek4p', 1),\n",
       " ('191dlba18im59p12ptfrn01gl8v5', 1),\n",
       " ('0skd7wb1c3udpi16eku4w1snvmxb', 1),\n",
       " ('0d0oglp127ygl3112db3o1638adv', 1),\n",
       " ('0ch12j61sglead1fqxdeo04l2fqg', 1),\n",
       " ('00yyicj1fqbn0k1b21tur0mlohlw', 1),\n",
       " ('1tpgil70sl07im10997tv1xpqtwu', 1),\n",
       " ('0q11am109r7ro7169xu420bdwd', 1),\n",
       " ('19rvrjb181epxt19cthmv0x4rcp7', 1),\n",
       " ('12274ma1t1qpe910xckc70qhe5bb', 1),\n",
       " ('1l7ymlm1bj5z3d13bun0l0yhj59c', 1),\n",
       " ('ae9b6504b1f34084a3a0678ba21cd152', 1),\n",
       " ('1i19r1d1tbkob217yv7ue0zq5lqo', 1),\n",
       " ('1qzqq3716mx2ab13qhqgp0j42wcw', 1),\n",
       " ('0li2iho1t12uj51cu8j511m174au', 1),\n",
       " ('0dpus6v0bqdwqa10lk49b1fn7245', 1),\n",
       " ('1x76yzt0oqj15z0zw4d50072n2g8', 1),\n",
       " ...]"
      ]
     },
     "execution_count": 159,
     "metadata": {},
     "output_type": "execute_result"
    }
   ],
   "source": [
    "topfreqs"
   ]
  },
  {
   "cell_type": "markdown",
   "id": "1aa0c8df-7714-4d36-bb68-ad52e0945c96",
   "metadata": {},
   "source": [
    "1. Can we do a histogram? \n",
    "2. What's with DE95CB654114ADC9B8AD7CA5347A, ADADAA42C5A75DBE52BF8C2EBC,  or 0crbell165o69810qb23000ksfyl or 10bozup0k69eqi1a0wz3j172f732, etc.?"
   ]
  },
  {
   "cell_type": "code",
   "execution_count": 160,
   "id": "7e3c96c7-1dc4-4714-a5d9-547b4f3fb410",
   "metadata": {},
   "outputs": [
    {
     "data": {
      "text/plain": [
       "0"
      ]
     },
     "execution_count": 160,
     "metadata": {},
     "output_type": "execute_result"
    }
   ],
   "source": [
    "de95s = find_processed_by_term(proced,'DE95CB654114ADC9B8AD7CA5347A')\n",
    "len(de95s)"
   ]
  },
  {
   "cell_type": "markdown",
   "id": "556a9561-2aac-4139-92c4-f59860ba4cbe",
   "metadata": {},
   "source": [
    "DE95... looks like a repeated name..from tableau extracts?"
   ]
  },
  {
   "cell_type": "code",
   "execution_count": 161,
   "id": "11db29d0-014d-43ed-85d0-d7499fba82ad",
   "metadata": {},
   "outputs": [
    {
     "data": {
      "text/plain": [
       "1"
      ]
     },
     "execution_count": 161,
     "metadata": {},
     "output_type": "execute_result"
    }
   ],
   "source": [
    "crbells = find_processed_by_term(proced,'0crbell165o69810qb23000ksfyl')\n",
    "len(crbells)"
   ]
  },
  {
   "cell_type": "markdown",
   "id": "5d626e7b-79ce-402d-8db9-756cc77d99eb",
   "metadata": {},
   "source": [
    "looking into crbell[0] - also looks like tableau"
   ]
  },
  {
   "cell_type": "markdown",
   "id": "0b90d0d5-fadc-4c0e-a17e-7e94177418fa",
   "metadata": {},
   "source": [
    "looks like empty string or '1' could be legit, as some files have '-', and '_1_\"..."
   ]
  },
  {
   "cell_type": "markdown",
   "id": "ecb1c36e-67a6-44ed-9a6a-b224366a5f38",
   "metadata": {},
   "source": [
    "Questions for Anne:\n",
    "    \n",
    "    1. Are the \"07jp3yg1rhy0bj1essrgm1ezzkur\" files legit names from tableau?\n",
    "    2. Did she not give me file names for json, etc? Can i get those json?"
   ]
  },
  {
   "cell_type": "code",
   "execution_count": 162,
   "id": "fdf81ad4-680c-48aa-b914-b01bdb22a97f",
   "metadata": {},
   "outputs": [
    {
     "data": {
      "image/png": "[encoded data removed]",
      "text/plain": [
       "<Figure size 640x480 with 1 Axes>"
      ]
     },
     "metadata": {},
     "output_type": "display_data"
    }
   ],
   "source": [
    "plt.bar(sfreqs.keys(),sfreqs.values())\n",
    "ax = plt.gca()\n",
    "ax.get_xaxis().set_visible(False)\n",
    "plt.show()"
   ]
  },
  {
   "cell_type": "markdown",
   "id": "b378d713-44d3-4dfa-984d-f8d659bb7847",
   "metadata": {},
   "source": [
    "202211281515: Status - there are still many names in the file list with patterns like 20200807 or digits like '22', '18', etc. that should be filtered out before use."
   ]
  },
  {
   "cell_type": "markdown",
   "id": "70cea82d-2b5c-45cc-9aea-4b24ea2f4075",
   "metadata": {},
   "source": [
    "things to look for:\n",
    "    \n",
    "    20201118\n",
    "    20210720\n",
    "    20210210\n",
    "    july72021\n",
    "    20210310\n",
    "    20210708"
   ]
  },
  {
   "cell_type": "code",
   "execution_count": 163,
   "id": "81b270ef-0d6c-4f78-bb63-b9761a83e8a7",
   "metadata": {},
   "outputs": [
    {
     "data": {
      "text/plain": [
       "0"
      ]
     },
     "execution_count": 163,
     "metadata": {},
     "output_type": "execute_result"
    }
   ],
   "source": [
    "t1 = find_processed_by_term(proced,'20201118')\n",
    "len(t1)"
   ]
  },
  {
   "cell_type": "code",
   "execution_count": 164,
   "id": "4173fa11-b2da-4f00-b52f-ec427a4bbd1d",
   "metadata": {},
   "outputs": [
    {
     "data": {
      "text/plain": [
       "[]"
      ]
     },
     "execution_count": 164,
     "metadata": {},
     "output_type": "execute_result"
    }
   ],
   "source": [
    "ids = [p['metadataCollectionId'] for p in t1]\n",
    "ids"
   ]
  },
  {
   "cell_type": "code",
   "execution_count": 165,
   "id": "958736e0-cfc4-4edb-96d8-104f35784f8a",
   "metadata": {},
   "outputs": [],
   "source": [
    "# ok. find file name by id...\n",
    "\n",
    "def get_entry_by_id(plist,id):\n",
    "    for p in plist:\n",
    "        if p['metadataCollectionId'] == id:\n",
    "            return p\n",
    "    return None\n",
    "\n",
    "def get_file_names_by_entry_and_string(plist,id,str_val):\n",
    "    res =[]\n",
    "    ent = get_entry_by_id(plist,id)\n",
    "    if ent is None:\n",
    "        return None\n",
    "    for fname  in ent['files']:\n",
    "        if fname.find(str_val) > 0:\n",
    "            res.append(str_val)\n",
    "    return res\n",
    "    \n",
    "    "
   ]
  },
  {
   "cell_type": "code",
   "execution_count": 166,
   "id": "e9f8f5b7-93d0-4515-ac97-78bba1462590",
   "metadata": {},
   "outputs": [],
   "source": [
    "matches =  get_file_names_by_entry_and_string(proced,704,'20201118')"
   ]
  },
  {
   "cell_type": "code",
   "execution_count": 167,
   "id": "36390ffd-5b19-4526-82f5-18b9b6987c60",
   "metadata": {},
   "outputs": [],
   "source": [
    "e704=get_entry_by_id(proced,704)"
   ]
  },
  {
   "cell_type": "code",
   "execution_count": 168,
   "id": "541c9574-5bef-4303-8e61-99fcee848063",
   "metadata": {},
   "outputs": [],
   "source": [
    "files = [fname for fname in e704['files'] if fname.startswith('syndromic') >0 ]"
   ]
  },
  {
   "cell_type": "code",
   "execution_count": 169,
   "id": "a4b3a782-bd2d-460c-beed-a9412b9768a3",
   "metadata": {},
   "outputs": [
    {
     "data": {
      "text/plain": [
       "['syndromic-surveillance-gating-criteria_EXPORT_hospital_surge_capacity_covid-19-maine_2020-11-18.csv',\n",
       " 'syndromic-surveillance-gating-criteria_EXPORT_cases_by_county_covid-19-v2_2020-11-18.csv']"
      ]
     },
     "execution_count": 169,
     "metadata": {},
     "output_type": "execute_result"
    }
   ],
   "source": [
    "files"
   ]
  },
  {
   "cell_type": "code",
   "execution_count": 170,
   "id": "a0fd77ab-ace0-437f-9dd6-663525c049f9",
   "metadata": {},
   "outputs": [
    {
     "data": {
      "text/plain": [
       "[(['syndromic',\n",
       "   'surveillance',\n",
       "   'gating',\n",
       "   'criteria',\n",
       "   'export',\n",
       "   'hospital',\n",
       "   'surge',\n",
       "   'capacity',\n",
       "   'covid',\n",
       "   '19',\n",
       "   'maine'],\n",
       "  'csv')]"
      ]
     },
     "execution_count": 170,
     "metadata": {},
     "output_type": "execute_result"
    }
   ],
   "source": [
    "e704['processed'][29:30]"
   ]
  },
  {
   "cell_type": "code",
   "execution_count": 171,
   "id": "458722b9-e32d-4f2f-bca8-8ed33e144b08",
   "metadata": {},
   "outputs": [],
   "source": [
    "(samp1,samp2) = files"
   ]
  },
  {
   "cell_type": "markdown",
   "id": "4a28a2af-3ef4-46a3-9d9b-61198c551a03",
   "metadata": {},
   "source": [
    "* those with just 2 digit numbers?  -05, 06, 07\n",
    "* race03\n",
    "* highest50\n",
    "* t07"
   ]
  },
  {
   "cell_type": "code",
   "execution_count": 172,
   "id": "70afbda7-5d79-4ce1-8d04-232aeeb09131",
   "metadata": {},
   "outputs": [
    {
     "data": {
      "text/plain": [
       "1"
      ]
     },
     "execution_count": 172,
     "metadata": {},
     "output_type": "execute_result"
    }
   ],
   "source": [
    "t1 =  find_processed_by_term(proced,'19947')\n",
    "len(t1)"
   ]
  },
  {
   "cell_type": "code",
   "execution_count": 173,
   "id": "dbe7ff65-755d-479c-9ef9-d78947a302fd",
   "metadata": {},
   "outputs": [
    {
     "data": {
      "text/plain": [
       "697"
      ]
     },
     "execution_count": 173,
     "metadata": {},
     "output_type": "execute_result"
    }
   ],
   "source": [
    "t1[0]['metadataCollectionId']"
   ]
  },
  {
   "cell_type": "code",
   "execution_count": 174,
   "id": "434e69c9-730a-48b7-bc15-aed9b6a23977",
   "metadata": {},
   "outputs": [
    {
     "data": {
      "text/plain": [
       "dict_keys(['metadataCollectionId', 'titleEnglish', 'files', 'processed'])"
      ]
     },
     "execution_count": 174,
     "metadata": {},
     "output_type": "execute_result"
    }
   ],
   "source": [
    "t1[0].keys()"
   ]
  },
  {
   "cell_type": "code",
   "execution_count": 175,
   "id": "6531bb2c-8a55-4939-af1e-379bc8add3fd",
   "metadata": {},
   "outputs": [
    {
     "data": {
      "text/plain": [
       "'Archived Data from Delaware Health and Social Services: \"Coronavirus (COVID-19) Data Dashboard - Zipcode Level\"'"
      ]
     },
     "execution_count": 175,
     "metadata": {},
     "output_type": "execute_result"
    }
   ],
   "source": [
    "t1[0]['titleEnglish']"
   ]
  },
  {
   "cell_type": "code",
   "execution_count": 176,
   "id": "5a47017d-b263-4a9b-a0cc-7c1859095d55",
   "metadata": {},
   "outputs": [],
   "source": [
    "files = [fname for fname in t1[0]['files'] if fname.__contains__('19947')]"
   ]
  },
  {
   "cell_type": "code",
   "execution_count": 177,
   "id": "4579d8fd-104f-48a1-b41d-4f51ced80b6e",
   "metadata": {},
   "outputs": [
    {
     "data": {
      "text/plain": [
       "2216"
      ]
     },
     "execution_count": 177,
     "metadata": {},
     "output_type": "execute_result"
    }
   ],
   "source": [
    "len(files)"
   ]
  },
  {
   "cell_type": "code",
   "execution_count": 178,
   "id": "5bcaebd3-647e-4c2d-9aa3-12fedef4039b",
   "metadata": {},
   "outputs": [
    {
     "data": {
      "text/plain": [
       "['zip-code-19947-outcomes_2020-10-19_162302.csv',\n",
       " 'zip-code-19947-outcomes_2020-12-05_122304.csv',\n",
       " 'zip-code-19947-cases_2021-10-30_162304.csv',\n",
       " 'zip-code-19947-overview_2021-08-28_162303.csv',\n",
       " 'zip-code-19947-testing_2021-04-09_162304.csv',\n",
       " 'zip-code-19947-deaths_2021-02-01_122303.csv',\n",
       " 'zip-code-19947-overview_2021-07-31_162303.csv',\n",
       " 'zip-code-19947-cases_2020-12-01_122303.csv',\n",
       " 'zip-code-19947-overview_2020-09-17_162304.csv',\n",
       " 'zip-code-19947-testing_2021-03-30_162317.csv']"
      ]
     },
     "execution_count": 178,
     "metadata": {},
     "output_type": "execute_result"
    }
   ],
   "source": [
    "files[:10]"
   ]
  },
  {
   "cell_type": "code",
   "execution_count": 179,
   "id": "889904a5-f092-4bb3-bfc4-3c5ff212520d",
   "metadata": {},
   "outputs": [
    {
     "data": {
      "text/plain": [
       "1"
      ]
     },
     "execution_count": 179,
     "metadata": {},
     "output_type": "execute_result"
    }
   ],
   "source": [
    "t1 =  find_processed_by_term(proced,'48')\n",
    "len(t1)"
   ]
  },
  {
   "cell_type": "code",
   "execution_count": 180,
   "id": "5a41cb22-2cc3-475d-8e49-c4e43d09a4c5",
   "metadata": {},
   "outputs": [
    {
     "data": {
      "text/plain": [
       "7307"
      ]
     },
     "execution_count": 180,
     "metadata": {},
     "output_type": "execute_result"
    }
   ],
   "source": [
    "files = [fname for fname in t1[0]['files'] if fname.__contains__('48')]\n",
    "len(files)"
   ]
  },
  {
   "cell_type": "code",
   "execution_count": 181,
   "id": "640908a5-e694-4730-9ed1-e4e4d2ff1d07",
   "metadata": {},
   "outputs": [
    {
     "data": {
      "text/plain": [
       "['Sheet_48_Payette_2022-06-27_212307.csv',\n",
       " 'Sheet 48_Fremont_2021-11-15_212759.csv',\n",
       " 'Sheet_48_Shoshone_2022-02-22_212535.csv',\n",
       " 'Sheet_48_Bannock_2022-06-06_212307.csv',\n",
       " 'Sheet 48_Boundary_2021-12-02_212910.csv',\n",
       " 'Sheet_48_Teton_2022-03-23_212308.csv',\n",
       " 'Sheet_48_Benewah_2022-05-06_212304.csv',\n",
       " 'Sheet_48_Idaho_2022-07-13_212305.csv',\n",
       " 'Sheet_48_Adams_2022-03-30_212307.csv',\n",
       " 'Sheet_48_Latah_2022-07-20_212307.csv']"
      ]
     },
     "execution_count": 181,
     "metadata": {},
     "output_type": "execute_result"
    }
   ],
   "source": [
    "files[:10]"
   ]
  },
  {
   "cell_type": "code",
   "execution_count": 182,
   "id": "0f01f451-5940-4df2-8492-505c5a4c37d7",
   "metadata": {},
   "outputs": [
    {
     "data": {
      "text/plain": [
       "'Archived Data from Idaho Department of Health and Welfare: \"Idaho COVID-19 Dashbaord - Cases by County\"'"
      ]
     },
     "execution_count": 182,
     "metadata": {},
     "output_type": "execute_result"
    }
   ],
   "source": [
    "t1[0]['titleEnglish']"
   ]
  },
  {
   "cell_type": "code",
   "execution_count": 183,
   "id": "ce72c2bb-491d-435f-a102-b572334a5bb7",
   "metadata": {},
   "outputs": [
    {
     "data": {
      "text/plain": [
       "('Payette', 'csv')"
      ]
     },
     "execution_count": 183,
     "metadata": {},
     "output_type": "execute_result"
    }
   ],
   "source": [
    "patterns = precompile_patterns(patlist)\n",
    "get_base_match(patterns,files[0])"
   ]
  },
  {
   "cell_type": "code",
   "execution_count": 184,
   "id": "74d30f9e-ad0a-4b09-8691-1d68f8e3f10b",
   "metadata": {},
   "outputs": [
    {
     "data": {
      "text/plain": [
       "(['fremont'], 'csv')"
      ]
     },
     "execution_count": 184,
     "metadata": {},
     "output_type": "execute_result"
    }
   ],
   "source": [
    "get_tokens(patterns,files[1])"
   ]
  },
  {
   "cell_type": "code",
   "execution_count": 185,
   "id": "e159349f-29f0-4e09-80ff-a18b7d6e4402",
   "metadata": {},
   "outputs": [
    {
     "data": {
      "text/plain": [
       "2"
      ]
     },
     "execution_count": 185,
     "metadata": {},
     "output_type": "execute_result"
    }
   ],
   "source": [
    "t1 =  find_processed_by_term(proced,'t12')\n",
    "len(t1)"
   ]
  },
  {
   "cell_type": "code",
   "execution_count": 188,
   "id": "52857a27-af3b-4d6c-9902-ce733fa3667e",
   "metadata": {},
   "outputs": [
    {
     "data": {
      "text/plain": [
       "{836: [(['tableau',\n",
       "    'temp',\n",
       "    'temp',\n",
       "    '0crbell165o69810qb23000ksfyl',\n",
       "    '',\n",
       "    'a561',\n",
       "    'e12',\n",
       "    'f30',\n",
       "    'd144',\n",
       "    'd7',\n",
       "    'bae479139647f319',\n",
       "    ''],\n",
       "   'csv'),\n",
       "  (['new',\n",
       "    'dashboard',\n",
       "    'extract',\n",
       "    'new',\n",
       "    'dashboard',\n",
       "    'data',\n",
       "    '',\n",
       "    'a561',\n",
       "    'e12',\n",
       "    'f30',\n",
       "    'd144',\n",
       "    'd7',\n",
       "    'bae479139647f319',\n",
       "    ''],\n",
       "   'csv'),\n",
       "  (['tableau',\n",
       "    'temp',\n",
       "    'temp',\n",
       "    '0zc5ris00zoail189kj1g1dby17z',\n",
       "    '',\n",
       "    'a561',\n",
       "    'e12',\n",
       "    'f30',\n",
       "    'd144',\n",
       "    'd7',\n",
       "    'bae479139647f319',\n",
       "    ''],\n",
       "   'csv'),\n",
       "  (['tableau',\n",
       "    'temp',\n",
       "    'temp',\n",
       "    '0o8mdh91840tc515x9g910is6eam',\n",
       "    '',\n",
       "    'a561',\n",
       "    'e12',\n",
       "    'f30',\n",
       "    'd144',\n",
       "    'd7',\n",
       "    'bae479139647f319',\n",
       "    ''],\n",
       "   'csv'),\n",
       "  (['tableau',\n",
       "    'temp',\n",
       "    'temp',\n",
       "    '0y76x9y1mm0ebe17r5huj10lvlsf',\n",
       "    '',\n",
       "    'a561',\n",
       "    'e12',\n",
       "    'f30',\n",
       "    'd144',\n",
       "    'd7',\n",
       "    'bae479139647f319',\n",
       "    ''],\n",
       "   'csv'),\n",
       "  (['tableau',\n",
       "    'temp',\n",
       "    'temp',\n",
       "    '087e4bu1m04dtn17wfyym1cy4inn',\n",
       "    '',\n",
       "    'a561',\n",
       "    'e12',\n",
       "    'f30',\n",
       "    'd144',\n",
       "    'd7',\n",
       "    'bae479139647f319',\n",
       "    ''],\n",
       "   'csv'),\n",
       "  (['tableau',\n",
       "    'temp',\n",
       "    'temp',\n",
       "    '0ads6zq0wa0oen13dbm880zcdymr',\n",
       "    '',\n",
       "    'a561',\n",
       "    'e12',\n",
       "    'f30',\n",
       "    'd144',\n",
       "    'd7',\n",
       "    'bae479139647f319',\n",
       "    ''],\n",
       "   'csv'),\n",
       "  (['tableau',\n",
       "    'temp',\n",
       "    'temp',\n",
       "    '1i78ap019xhvk616b29vv16pwiq6',\n",
       "    '',\n",
       "    'a561',\n",
       "    'e12',\n",
       "    'f30',\n",
       "    'd144',\n",
       "    'd7',\n",
       "    'bae479139647f319',\n",
       "    ''],\n",
       "   'csv'),\n",
       "  (['tableau',\n",
       "    'temp',\n",
       "    'temp',\n",
       "    '027b0791avr5v0148h00l08uxda6',\n",
       "    '',\n",
       "    'a561',\n",
       "    'e12',\n",
       "    'f30',\n",
       "    'd144',\n",
       "    'd7',\n",
       "    'bae479139647f319',\n",
       "    ''],\n",
       "   'csv'),\n",
       "  (['tableau',\n",
       "    'temp',\n",
       "    'temp',\n",
       "    '1s716py1xqrodj17ykezv00nhq5c',\n",
       "    '',\n",
       "    'a561',\n",
       "    'e12',\n",
       "    'f30',\n",
       "    'd144',\n",
       "    'd7',\n",
       "    'bae479139647f319',\n",
       "    ''],\n",
       "   'csv'),\n",
       "  (['tableau',\n",
       "    'temp',\n",
       "    'temp',\n",
       "    '14dhh920e3ra6q13bovo60b8hlgt',\n",
       "    '',\n",
       "    'a561',\n",
       "    'e12',\n",
       "    'f30',\n",
       "    'd144',\n",
       "    'd7',\n",
       "    'bae479139647f319',\n",
       "    ''],\n",
       "   'csv'),\n",
       "  (['tableau',\n",
       "    'temp',\n",
       "    'temp',\n",
       "    '18v0jkw02ige5f10yr8641q21h2n',\n",
       "    '',\n",
       "    'a561',\n",
       "    'e12',\n",
       "    'f30',\n",
       "    'd144',\n",
       "    'd7',\n",
       "    'bae479139647f319',\n",
       "    ''],\n",
       "   'csv'),\n",
       "  (['tableau',\n",
       "    'temp',\n",
       "    'temp',\n",
       "    '1xvdus419186vv1fkftmw1yqjdr5',\n",
       "    '',\n",
       "    'a561',\n",
       "    'e12',\n",
       "    'f30',\n",
       "    'd144',\n",
       "    'd7',\n",
       "    'bae479139647f319',\n",
       "    ''],\n",
       "   'csv'),\n",
       "  (['tableau',\n",
       "    'totals',\n",
       "    'dashboard',\n",
       "    'data',\n",
       "    '',\n",
       "    'a561',\n",
       "    'e12',\n",
       "    'f30',\n",
       "    'd144',\n",
       "    'd7',\n",
       "    'bae479139647f319',\n",
       "    ''],\n",
       "   'csv'),\n",
       "  (['tableau',\n",
       "    'temp',\n",
       "    'temp',\n",
       "    '1pl1fir12odv4x10j5dex0mjkdnh',\n",
       "    '',\n",
       "    'a561',\n",
       "    'e12',\n",
       "    'f30',\n",
       "    'd144',\n",
       "    'd7',\n",
       "    'bae479139647f319',\n",
       "    ''],\n",
       "   'csv')]}"
      ]
     },
     "execution_count": 188,
     "metadata": {},
     "output_type": "execute_result"
    }
   ],
   "source": [
    "d7s= find_tokens_by_term(proced,'d7')\n",
    "d7s"
   ]
  },
  {
   "cell_type": "code",
   "execution_count": null,
   "id": "9969d5e7-1447-4678-8cc3-fe676034718f",
   "metadata": {},
   "outputs": [],
   "source": [
    "d7sinit = find_initial_by_substring(proced,'d7')\n",
    "d7sinit.keys()"
   ]
  },
  {
   "cell_type": "code",
   "execution_count": null,
   "id": "a2a9a76a-7619-42fb-874d-9612288afdd9",
   "metadata": {},
   "outputs": [],
   "source": [
    "d7sinit[762]"
   ]
  },
  {
   "cell_type": "code",
   "execution_count": null,
   "id": "db94ba3d-8384-40bc-b846-5485ef638801",
   "metadata": {},
   "outputs": [],
   "source": [
    "edge_case = find_initial_by_substring(proced,'0o8mdh91840tc515')\n",
    "edge_case"
   ]
  },
  {
   "cell_type": "markdown",
   "id": "66f2e5cd-cfd9-4d26-9a37-9d19af914e2e",
   "metadata": {},
   "source": [
    "so some of these are getting butchered."
   ]
  },
  {
   "cell_type": "code",
   "execution_count": null,
   "id": "b30e1c27-8cec-49d2-83b2-1cb2a653d582",
   "metadata": {},
   "outputs": [],
   "source": [
    "samp = edge_case[836][0]\n",
    "get_base_match(patterns, edge_case)"
   ]
  },
  {
   "cell_type": "code",
   "execution_count": null,
   "id": "2f14c75b-7036-491c-acd0-a8922cf840ef",
   "metadata": {},
   "outputs": [],
   "source": [
    "(base_name,ext)=get_base_match(patterns,samp)\n",
    "base_name_words = re.split(r'\\s|_|-',base_name)"
   ]
  },
  {
   "cell_type": "code",
   "execution_count": null,
   "id": "9460323f-4ad6-490a-ab15-c5bb976c86ad",
   "metadata": {},
   "outputs": [],
   "source": [
    "base_name_words"
   ]
  },
  {
   "cell_type": "code",
   "execution_count": null,
   "id": "b4e98ddd-354e-42fc-bafc-3e20f3149f18",
   "metadata": {},
   "outputs": [],
   "source": [
    "base_words_no_camel = [camel_case_split(bnw) for bnw in base_name_words]"
   ]
  },
  {
   "cell_type": "code",
   "execution_count": null,
   "id": "494b2b17-3370-4f9c-a210-240c2cd76f5d",
   "metadata": {},
   "outputs": [],
   "source": [
    "base_words_no_camel"
   ]
  },
  {
   "cell_type": "markdown",
   "id": "cb03b6e3-12c8-4b85-96f5-a214e7f877ce",
   "metadata": {},
   "source": [
    "ok. so, these strings break camel case. consider not camel case-splitting if start with 'TableauTemp'"
   ]
  },
  {
   "cell_type": "markdown",
   "id": "22c81057-4208-40c3-b70d-d301a43140ac",
   "metadata": {},
   "source": [
    "----\n",
    "# Summary of patterns\n",
    "*  \"zip-code-19947-outcomes_2020-10-19_162302.csv\" - we will keep the zip code (\"19947\") as a semantically-meaningful component\n",
    "* Idaho has \"sheet_48\" patterns - Sheet_48_Teton_2022-03-23_212308.csv  - filter those out.\n",
    "\n"
   ]
  },
  {
   "cell_type": "code",
   "execution_count": null,
   "id": "848e3147-8668-4562-9a34-fe0493c4035e",
   "metadata": {},
   "outputs": [],
   "source": []
  },
  {
   "cell_type": "markdown",
   "id": "30a5d41e-1656-49e1-a129-4c78d9ef125c",
   "metadata": {},
   "source": [
    "---- \n",
    "# NMF Clustering\n",
    "\n",
    "* https://predictivehacks.com/topic-modelling-with-nmf-in-python/\n",
    "* https://towardsdatascience.com/nmf-a-visual-explainer-and-python-implementation-7ecdd73491f8\n",
    "\n",
    "TOBEDONE"
   ]
  },
  {
   "cell_type": "code",
   "execution_count": null,
   "id": "0dd23cf0-20e3-4e9a-acb9-f7138e7e72ed",
   "metadata": {},
   "outputs": [],
   "source": []
  },
  {
   "cell_type": "code",
   "execution_count": null,
   "id": "08635b91-5d57-4084-97df-97e1b98d2992",
   "metadata": {},
   "outputs": [],
   "source": []
  }
 ],
 "metadata": {
  "kernelspec": {
   "display_name": "py39",
   "language": "python",
   "name": "py39"
  },
  "language_info": {
   "codemirror_mode": {
    "name": "ipython",
    "version": 3
   },
   "file_extension": ".py",
   "mimetype": "text/x-python",
   "name": "python",
   "nbconvert_exporter": "python",
   "pygments_lexer": "ipython3",
   "version": "3.9.7"
  }
 },
 "nbformat": 4,
 "nbformat_minor": 5
}
