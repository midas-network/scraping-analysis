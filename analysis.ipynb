{
 "cells": [
  {
   "cell_type": "markdown",
   "id": "5302d93a-ee0b-4d2e-bb7d-fa6189222b01",
   "metadata": {
    "tags": []
   },
   "source": [
    "# Analyzing data from scrapes...\n",
    "\n",
    "The MIDAS collection of scraped data contains files from a broad range of COVID public health agencies collected starting in 2020. \n",
    "To understand the breadth and variety of tools and practices used, we will analyze these scraped data to understand patterns in data types, file names, and content. Specifically, we will\n",
    "\n",
    "1. Generate descriptive reports of the range of data types used\n",
    "2. analyze file names in an attempt to understand patterns in naming \n",
    "3. for structured (json, csv, xls, etc.) data, review file contents to identify patterns and to attempt to cluster files into common groups\n",
    "\n",
    "# Requirements"
   ]
  },
  {
   "cell_type": "code",
   "execution_count": 44,
   "id": "0fccf748-416a-4b23-9f9c-2fd221e57432",
   "metadata": {},
   "outputs": [],
   "source": [
    "import json\n",
    "import pandas as pd\n",
    "import os\n",
    "import re\n",
    "import itertools\n",
    "import nltk\n",
    "import sklearn\n",
    "from nltk.stem.porter import PorterStemmer\n",
    "from nltk.stem.lancaster import LancasterStemmer\n",
    "from nltk.stem import SnowballStemmer \n",
    "from nltk.corpus import stopwords\n",
    "import matplotlib.pyplot as plt"
   ]
  },
  {
   "cell_type": "code",
   "execution_count": 45,
   "id": "b1b9ff26-234f-48ae-9b52-65534cc0c6df",
   "metadata": {},
   "outputs": [
    {
     "name": "stdout",
     "output_type": "stream",
     "text": [
      "\n",
      "System:\n",
      "    python: 3.9.7 | packaged by conda-forge | (default, Sep 29 2021, 20:33:18)  [Clang 11.1.0 ]\n",
      "executable: /Users/harry/miniconda3/envs/py39/bin/python\n",
      "   machine: macOS-13.0.1-x86_64-i386-64bit\n",
      "\n",
      "Python dependencies:\n",
      "      sklearn: 1.1.2\n",
      "          pip: 22.2.2\n",
      "   setuptools: 65.2.0\n",
      "        numpy: 1.23.2\n",
      "        scipy: 1.9.0\n",
      "       Cython: 0.29.24\n",
      "       pandas: 1.3.3\n",
      "   matplotlib: 3.5.1\n",
      "       joblib: 1.2.0\n",
      "threadpoolctl: 3.1.0\n",
      "\n",
      "Built with OpenMP: True\n",
      "\n",
      "threadpoolctl info:\n",
      "       user_api: blas\n",
      "   internal_api: openblas\n",
      "         prefix: libopenblas\n",
      "       filepath: /Users/harry/miniconda3/envs/py39/lib/libopenblasp-r0.3.21.dylib\n",
      "        version: 0.3.21\n",
      "threading_layer: openmp\n",
      "   architecture: Haswell\n",
      "    num_threads: 16\n",
      "\n",
      "       user_api: openmp\n",
      "   internal_api: openmp\n",
      "         prefix: libomp\n",
      "       filepath: /Users/harry/miniconda3/envs/py39/lib/libomp.dylib\n",
      "        version: None\n",
      "    num_threads: 16\n"
     ]
    }
   ],
   "source": [
    "sklearn.show_versions()"
   ]
  },
  {
   "cell_type": "code",
   "execution_count": 46,
   "id": "86239063-488b-4459-bb84-e04dedd8f81c",
   "metadata": {},
   "outputs": [
    {
     "name": "stdout",
     "output_type": "stream",
     "text": [
      "3.6.5\n"
     ]
    }
   ],
   "source": [
    "print(nltk.__version__)"
   ]
  },
  {
   "cell_type": "code",
   "execution_count": 47,
   "id": "cf326e5d-92a7-42e2-99ff-97cf27c8aec6",
   "metadata": {},
   "outputs": [
    {
     "name": "stdout",
     "output_type": "stream",
     "text": [
      "1.3.3\n"
     ]
    }
   ],
   "source": [
    "print(pd.__version__)"
   ]
  },
  {
   "cell_type": "markdown",
   "id": "dcb0acf9-b70e-4bd5-9916-23c016ab8730",
   "metadata": {},
   "source": [
    "# Build up list of all files. for each, get ID, title, and fileType set\n",
    "\n",
    "Data extracted from the archive represents each scraping dataset in a JSON blob. We are particularly concerned about the ID, title, and the 'fileTypeSet', which contains information on contained files, as a list."
   ]
  },
  {
   "cell_type": "code",
   "execution_count": 48,
   "id": "95af6dc1-b622-4b29-a080-ec9e9a7409f6",
   "metadata": {},
   "outputs": [],
   "source": [
    "def read_file(fname):\n",
    "    with open(fname,'r') as jfile:\n",
    "        data = json.load(jfile)\n",
    "    return data\n",
    "\n",
    "def get_files(path):\n",
    "    files=[]\n",
    "    for file in os.listdir(path):\n",
    "        file =path+\"/\"+file\n",
    "        if file.endswith(\".json\"):\n",
    "            files.append(file) \n",
    "    return files\n",
    "\n",
    "def get_titles(entry):\n",
    "    res ={}\n",
    "    res['fileTypeSet']=entry['fileTypeSet']\n",
    "    res['metadataCollectionId']=entry['metadataCollectionId']\n",
    "    res['titleEnglish']=entry['titleEnglish']\n",
    "    if 'fileSet' in entry:\n",
    "        res['files'] =[fs['filename'] for fs in entry['fileSet']]\n",
    "    return res\n",
    "\n"
   ]
  },
  {
   "cell_type": "markdown",
   "id": "76a2a18a-92b7-40ef-9f60-995df87bdab9",
   "metadata": {},
   "source": [
    "*Note*: As of December 14, we are working with the original \"10_rows\" collection. This should probably be revised to use the more complete \"10_rows_with_zips\" collection"
   ]
  },
  {
   "cell_type": "code",
   "execution_count": 49,
   "id": "031a62bd-d84d-49b4-81f8-7efec5999cf6",
   "metadata": {},
   "outputs": [],
   "source": [
    "entries = [read_file(fname) for fname in get_files(\"../10_rows\")]\n",
    "collection = [get_titles(e) for e in entries]\n"
   ]
  },
  {
   "cell_type": "code",
   "execution_count": 50,
   "id": "394b2bbc-fff1-451e-b543-d60e684dffdb",
   "metadata": {},
   "outputs": [
    {
     "data": {
      "text/plain": [
       "294"
      ]
     },
     "execution_count": 50,
     "metadata": {},
     "output_type": "execute_result"
    }
   ],
   "source": [
    "len(collection)"
   ]
  },
  {
   "cell_type": "code",
   "execution_count": 72,
   "id": "f520cb40-6e35-428f-a0ba-0c707f085ffd",
   "metadata": {},
   "outputs": [
    {
     "data": {
      "text/plain": [
       "354576"
      ]
     },
     "execution_count": 72,
     "metadata": {},
     "output_type": "execute_result"
    }
   ],
   "source": [
    "cnt = 0\n",
    "for f in collection:\n",
    "    if 'files' in f:\n",
    "        cnt = cnt +len(f['files'])\n",
    "cnt"
   ]
  },
  {
   "cell_type": "markdown",
   "id": "6487fe96-47f3-4e4b-b711-1255cfa17a39",
   "metadata": {},
   "source": [
    "Question - how many of these summaries have more than one file type?"
   ]
  },
  {
   "cell_type": "code",
   "execution_count": 51,
   "id": "f6c4a7d6-967f-45cb-9ca7-5581a9c710ef",
   "metadata": {},
   "outputs": [
    {
     "data": {
      "text/html": [
       "<div>\n",
       "<style scoped>\n",
       "    .dataframe tbody tr th:only-of-type {\n",
       "        vertical-align: middle;\n",
       "    }\n",
       "\n",
       "    .dataframe tbody tr th {\n",
       "        vertical-align: top;\n",
       "    }\n",
       "\n",
       "    .dataframe thead th {\n",
       "        text-align: right;\n",
       "    }\n",
       "</style>\n",
       "<table border=\"1\" class=\"dataframe\">\n",
       "  <thead>\n",
       "    <tr style=\"text-align: right;\">\n",
       "      <th></th>\n",
       "      <th>0</th>\n",
       "    </tr>\n",
       "  </thead>\n",
       "  <tbody>\n",
       "    <tr>\n",
       "      <th>1</th>\n",
       "      <td>148</td>\n",
       "    </tr>\n",
       "    <tr>\n",
       "      <th>2</th>\n",
       "      <td>105</td>\n",
       "    </tr>\n",
       "    <tr>\n",
       "      <th>3</th>\n",
       "      <td>34</td>\n",
       "    </tr>\n",
       "    <tr>\n",
       "      <th>4</th>\n",
       "      <td>6</td>\n",
       "    </tr>\n",
       "    <tr>\n",
       "      <th>5</th>\n",
       "      <td>1</td>\n",
       "    </tr>\n",
       "  </tbody>\n",
       "</table>\n",
       "</div>"
      ],
      "text/plain": [
       "     0\n",
       "1  148\n",
       "2  105\n",
       "3   34\n",
       "4    6\n",
       "5    1"
      ]
     },
     "execution_count": 51,
     "metadata": {},
     "output_type": "execute_result"
    }
   ],
   "source": [
    "type_counts=[len(f['fileTypeSet']) for f in collection]\n",
    "tcseries = pd.Series(type_counts)\n",
    "bar  = pd.DataFrame(tcseries.value_counts())\n",
    "bar"
   ]
  },
  {
   "cell_type": "code",
   "execution_count": 52,
   "id": "e33bcb97-b9c1-469a-9777-d1342e9d3535",
   "metadata": {},
   "outputs": [
    {
     "data": {
      "text/plain": [
       "<AxesSubplot:>"
      ]
     },
     "execution_count": 52,
     "metadata": {},
     "output_type": "execute_result"
    },
    {
     "data": {
      "image/png": "[encoded data removed]",
      "text/plain": [
       "<Figure size 640x480 with 1 Axes>"
      ]
     },
     "metadata": {},
     "output_type": "display_data"
    }
   ],
   "source": [
    "bar.plot(kind=\"bar\",rot=0)"
   ]
  },
  {
   "cell_type": "markdown",
   "id": "00b82761-d9ac-48af-a4e5-98aa00e5337d",
   "metadata": {},
   "source": [
    "ok. so 146/294, slightly less than 50% have multiple file types"
   ]
  },
  {
   "cell_type": "markdown",
   "id": "296e1718-985b-4dba-bd91-5388e7144b8c",
   "metadata": {},
   "source": [
    "#### look at type distribution - how many have pdf,json,csv, html,png, etc."
   ]
  },
  {
   "cell_type": "code",
   "execution_count": 53,
   "id": "72e6a6bc-aeda-44ca-a7a9-097f6f884c73",
   "metadata": {},
   "outputs": [],
   "source": [
    "type_sum={}\n",
    "for s in collection:\n",
    "    ftypes = s['fileTypeSet']\n",
    "    for ftype in ftypes:\n",
    "        atype = ftype['fileType']\n",
    "        if atype not in type_sum:\n",
    "            type_sum[atype]=0\n",
    "        type_sum[atype]=type_sum[atype]+1"
   ]
  },
  {
   "cell_type": "code",
   "execution_count": 54,
   "id": "9ff067e9-dca5-43f0-9da4-1792f110c76f",
   "metadata": {},
   "outputs": [
    {
     "data": {
      "text/plain": [
       "{'html': 78,\n",
       " 'xlsx': 28,\n",
       " 'pdf': 47,\n",
       " 'csv': 132,\n",
       " 'png': 114,\n",
       " 'twbx': 5,\n",
       " 'json': 74,\n",
       " 'docx': 1,\n",
       " 'zip': 3,\n",
       " 'tsv': 1,\n",
       " 'xls': 2,\n",
       " 'js': 1,\n",
       " 'ods': 1,\n",
       " 'rds': 1,\n",
       " 'jpg': 1}"
      ]
     },
     "execution_count": 54,
     "metadata": {},
     "output_type": "execute_result"
    }
   ],
   "source": [
    "type_sum"
   ]
  },
  {
   "cell_type": "code",
   "execution_count": 55,
   "id": "1c7cbe40-01b4-4605-8de8-07dd491fbd34",
   "metadata": {},
   "outputs": [
    {
     "data": {
      "text/plain": [
       "[78, 28, 47, 132, 114, 5, 74, 1, 3, 1, 2, 1, 1, 1, 1]"
      ]
     },
     "execution_count": 55,
     "metadata": {},
     "output_type": "execute_result"
    }
   ],
   "source": [
    "counts = list(type_sum.values())\n",
    "counts"
   ]
  },
  {
   "cell_type": "code",
   "execution_count": 56,
   "id": "9376379e-73df-48d1-baec-e0123eceb71e",
   "metadata": {},
   "outputs": [
    {
     "data": {
      "text/plain": [
       "489"
      ]
     },
     "execution_count": 56,
     "metadata": {},
     "output_type": "execute_result"
    }
   ],
   "source": [
    "sum(counts)"
   ]
  },
  {
   "cell_type": "markdown",
   "id": "9342abb0-1ec1-4994-846c-d15f7208a95b",
   "metadata": {},
   "source": [
    "# <span style='color:red'>*TODO*</span> develop some additional descriptives as necessary to clarify insight\n",
    "\n",
    "1. Specifically how many sites using tools like Tableau, ArcGIS, or BI\n",
    "2. How many sites had stayed with one approach vs.  changed over time?\n",
    "3. Common combinations for sites providing multiple data types?\n",
    "4. Anything else?"
   ]
  },
  {
   "cell_type": "markdown",
   "id": "1c0ec6e5-63cf-4841-b323-8f8a074df772",
   "metadata": {},
   "source": [
    "# <span style='color:red'>*TODO*</span> work on identifying and segregating out tableau and other \"dashboard\" file types - arcgis, Microsoft, BI. We should count them and not use them.\n"
   ]
  },
  {
   "cell_type": "markdown",
   "id": "1599348d-7326-47b9-b484-d69cbfff5399",
   "metadata": {},
   "source": [
    "# Filter summaries (and files) by type), then dig into types"
   ]
  },
  {
   "cell_type": "code",
   "execution_count": 57,
   "id": "ee3a816b-8569-4bc6-9c86-7280870fbded",
   "metadata": {},
   "outputs": [],
   "source": [
    "def get_entries_by_types(entries,targets):\n",
    "    res = []\n",
    "    for e in entries:\n",
    "        match = False\n",
    "        fts  = e['fileTypeSet']\n",
    "        for ft in fts:\n",
    "            atype = ft['fileType']\n",
    "            if atype in targets:\n",
    "                match = True\n",
    "        if match == True:\n",
    "            res.append(e)\n",
    "    return res\n",
    "\n",
    "def find_entry_by_id(coll,id):\n",
    "    for ent in coll:\n",
    "        if ent['metadataCollectionId'] == id:\n",
    "            return ent\n",
    "    return None"
   ]
  },
  {
   "cell_type": "markdown",
   "id": "5c34293f-9a38-4b41-871f-7f9a07a17c46",
   "metadata": {},
   "source": [
    "#  Look at included file names?"
   ]
  },
  {
   "cell_type": "code",
   "execution_count": 58,
   "id": "7758bd41-7d97-4269-993c-a03c64e899e6",
   "metadata": {},
   "outputs": [],
   "source": [
    "def get_titles(entry):\n",
    "    res ={}\n",
    "    res['metadataCollectionId']=entry['metadataCollectionId']\n",
    "    res['titleEnglish']=entry['titleEnglish']\n",
    "    if 'fileSet' in entry:\n",
    "        res['files'] =[fs['filename'] for fs in entry['fileSet']]\n",
    "    return res"
   ]
  },
  {
   "cell_type": "markdown",
   "id": "0ac6dca1-dfb7-435c-be43-dab4c51e5556",
   "metadata": {},
   "source": [
    "Note that we can find the scraping catalog entry for these names at https://catalog.midasnetwork.us/scrapecat/id,\n",
    "where id is the medatadataCollectionId. \n",
    "\n",
    "Thus, we have the link for [collection 816](https://catalog.midasnetwork.us/scrapecat/816)"
   ]
  },
  {
   "cell_type": "markdown",
   "id": "c5081aab-5f4e-4265-8598-c5a89ee6be9a",
   "metadata": {},
   "source": [
    "# PLAN: CLUSTERING ON FILE NAMES\n",
    "\n",
    "Each of the 200+ sources has a list of files. Our goal will be to do a lexical analysis so that we can tokenize the files, and then to use those tokens to cluster the files via non-negative matrix factorization. We will then use this to see what we can confirm about commonalities or differences between files.\n",
    "\n",
    "Eventually, we might move from there to do file contents."
   ]
  },
  {
   "cell_type": "markdown",
   "id": "caa0dd5a-6e23-482d-8ed0-5ac841a909d4",
   "metadata": {},
   "source": [
    "Grab all file names\n",
    "\n",
    "2. Tokenize files by Removing dates, spliting on underscores, splitting on camel case,cleaning other patterns that might be messy\n",
    "4. Cluster using non-negative matrix factorization (NNMF)\n",
    "5. Map back from individual items to see what they cluster in\n",
    "6. Look at the diversity of file names contents within each cluster\n",
    "7. Add in column names.\n",
    "\n",
    "For background on NNMF:\n",
    "* https://predictivehacks.com/topic-modelling-with-nmf-in-python/\n",
    "* https://towardsdatascience.com/nmf-a-visual-explainer-and-python-implementation-7ecdd73491f8\n"
   ]
  },
  {
   "cell_type": "code",
   "execution_count": 133,
   "id": "c7ebf827-3de7-4b9b-ad13-c08ca3f95dfc",
   "metadata": {},
   "outputs": [],
   "source": [
    "# ok. Extract name before the date and extension\n",
    "# split name before the date into indivual words separated by underscore. \n",
    "# then further split each by camel case\n",
    "\n",
    "\n",
    "# a list of patterns that will pull out, for each file name, the key informative tokens and the extension.\n",
    "# tokens that are time stamps or are otherwise unhelpful are filtered out.\n",
    "patlist =  [# delaware - 697-has zip codes\n",
    "            # zip-code-19947-outcomes_2020-10-19_162302.csv'\n",
    "            # but we will keep these in place, as zip codes are potentially\n",
    "            # semantically meaningful\n",
    "        \n",
    "    \n",
    "            #'covid-19-raw-data-july-20-2021.xlsx',\n",
    "            \"(.*)-w+-\\d{2}-\\d{4}.(\\w+)$\",\n",
    "            # idaho Sheet_48_Shoshone_2022-02-22_212535.csv\n",
    "            #  or \"Sheet 48\"\n",
    "            \"Sheet[\\s|_]\\d{2}_(.*)_\\d{4}-\\d{2}-\\d{2}_\\d{6}.(\\w+)$\",\n",
    "            #VDH-COVID-19-PublicUseDataset-Cases_By-Age-Group2020-05-12_12231589300583.csv\n",
    "            \"(.*)\\d{4}-\\d{2}-\\d{2}\\_\\d+.(\\w+)$\",\n",
    "            # 'DC-COVID-19-Data-for-April-05-2021.xlsx'\n",
    "            \"(.*)-\\w+-\\d{2}-\\d{4}.(\\w+)$\",\n",
    "            #' illinois_demo_race05_20_2022.csv'\n",
    "            \"(.*)\\d{2}_\\d{2}_\\d{4}.(\\w+)$\",\n",
    "            \"(.*)[-_]{0,1}\\d{4}-\\d{2}[-\\s]*\\d{2}\\[_-]\\d+.(\\w+)$\",\n",
    "            \"(.*)_\\d{4}-\\d{2}-\\d{2}_\\d{6,}.(\\w+)$\",\n",
    "            \"(.*)_\\d_\\d_\\d{4}_\\d.(\\w+)$\",\n",
    "            \"(.*)_\\d_\\d_\\d{4}_\\d.(\\w+)$\",\n",
    "            \"(.*)_\\d{1,2}_\\d{1,2}_\\d{4}.(\\w+)$\",\n",
    "            \"(.*)_\\d{1,2}-\\d{1,2}-\\d{2}_corrected.(\\w+)$\",\n",
    "            #COVID-19_OB_weekly_report_7_8_2020_corrected_7-9.xlsx\n",
    "            \"(.*)_\\d{1,2}_\\d{1,2}_\\d{2,4}_corrected_\\d{1,2}-\\d{1,2}.(\\w+)$\",\n",
    "            #covid_outbreak_weekly_report_6-10-20.xlsx,\n",
    "            \"(.*)\\_\\d{1,2}\\-\\d{1,2}\\-\\d{2,4}.(\\w+)$\",\n",
    "            # \"COVID-19_OB_weekly_report_8_20_2020-2.xlsx\"\n",
    "            \"(.*)\\_\\d{1,2}\\_\\d{1,2}\\_\\d{2,4}\\-\\d.(\\w+)$\",\n",
    "            #COVID-19_OB_weekly_report_7_8_2020_corrected_7-9.xlsx            \n",
    "            \"(.*)_\\d{1,2}_\\d{1,2}_\\d{2,4}-corrected_\\d{1,2}.(\\w+)$\",\n",
    "            #covid_outbreak_weekly_report_5-20-20_.xlsx\n",
    "            \"(.*)_\\d{1,2}-\\d{1,2}-\\d{2,4}_.(\\w+)$\",\n",
    "            #colorado_covid-19_outbreaks_2.xlsx\n",
    "            \"(.*)_\\d+.(\\w+)$\",\n",
    "            #COVID-19_OB_weekly_report_8.5.2020.xlsx\n",
    "            \"(.*)_\\d{1,2}.\\d{1,2}.\\d{2,4}.(\\w+)$\",\n",
    "            # syndromic-surveillance-gating-criteria_EXPORT_cases_by_county_covid-19-v2_2020-11-18.csv\n",
    "            \"(.*)_\\d{4}-\\d{2}-\\d{2}.(\\w+)$\",\n",
    "            #\" NYTIMES names start with dates... 20220407_us.csv', \n",
    "            #'20220512_us.csv', '20220512_us-counties.csv', '20220512_us-states.csv'\n",
    "            \"^\\d{8}_([^.]+).(\\w+)$\",\n",
    "            # ***** FIX -ADD \n",
    "            # colorado_covid-19_outbreaks.xlsx   - this one means we'll catch almost anything\n",
    "            \"(.*)\\.(\\w+)$\"\n",
    "           ]\n",
    "# turn the patterns into regular expressions.\n",
    "\n",
    "def precompile_patterns(patlist):\n",
    "    res = []\n",
    "    for p in patlist:\n",
    "        res.append(re.compile(p))\n",
    "    return res\n",
    "\n",
    "# iterate through the patterns to find match to the file name. Grab the content part of the file name \n",
    "# and the extension\n",
    "def get_base_match(patterns,fname):\n",
    "    # try one of several patterns, using the first that matches\n",
    "\n",
    "    for reg in patterns:\n",
    "        p = re.compile(reg)\n",
    "        m = p.match(fname)\n",
    "        if m is not None:\n",
    "            break\n",
    "\n",
    "    try: \n",
    "        base_name = m.group(1)\n",
    "        ext = m.group(2)\n",
    "        return (base_name,ext)\n",
    "    except:\n",
    "        print(\"can't match...\"+fname)\n",
    "\n",
    "# split camel case entries like \"CovidCases\" into the constiutent words.\n",
    "# Note that I don't understand the regexp completely, but it seems to work.\n",
    "def camel_case_split(str):\n",
    "    # modified from https://www.geeksforgeeks.org/python-split-camelcase-string-to-individual-strings/\n",
    "    res = re.findall(r'[A-Z](?:[a-z0-9\\-]+|[A-Z0-9\\-]*(?=[A-Z0-9\\-]|$))', str)\n",
    "    if len(res) ==0:\n",
    "        res = [str]\n",
    "    return res\n",
    "    \n",
    "def trim_to_alpha_num(s):\n",
    "    return ''.join(c for c in s if c.isalnum())\n",
    "\n",
    "# parse out the tokens and lower-case them\n",
    "def get_tokens(patterns,fname):\n",
    "\n",
    "    fname=fname.replace(\"%20\",\"_\")\n",
    "    (base_name,ext)=get_base_match(patterns,fname)\n",
    "    base_words_no_camel = re.split(r'\\s|_|-',base_name)\n",
    "    # split by camel case, but not for special -case - those that start with 'TableauTemp'\n",
    "    #if base_name.startswith('TableauTemp') == False:\n",
    "    base_words_no_camel = [camel_case_split(bnw) for bnw in base_words_no_camel]\n",
    "    # flatten the list\n",
    "    words = list(itertools.chain(*base_words_no_camel))\n",
    "    # trim to alphanumeric\n",
    "    words = [trim_to_alpha_num(w) for w in words]\n",
    "    # tolower \n",
    "    words = [w.lower() for w in words]\n",
    "    # porter stem to get common routes\n",
    "    return (words,ext)\n",
    "\n",
    "#def process_collection_files(coll):\n",
    "#    if 'files' in coll:\n",
    "#        files = coll['files']\n",
    "#        coll['processed'] = set([get_tokens(f) for f in files])\n",
    "#    return coll\n",
    "\n",
    "# process all of the files in a collection \n",
    "def process_collection_files(patterns,coll):\n",
    "    \n",
    "    res = []\n",
    "    if 'files' in coll:\n",
    "        files = coll['files']\n",
    "       \n",
    "        seen={}\n",
    "        for f in files:\n",
    "            (words,ext)=get_tokens(patterns,f)\n",
    "            # now, we have a list of tokens and an extension. need to see if we have seen this one before.\n",
    "            hash = ''.join(words)+ext\n",
    "            if hash not in seen:\n",
    "                seen[hash]=True\n",
    "                res.append((words,ext))\n",
    "    return res\n",
    "\n",
    "# process evertyhing in a collection \n",
    "def process_collection(patlist,collection):\n",
    "    patterns = precompile_patterns(patlist)\n",
    "    res= []\n",
    "    for coll in collection:\n",
    "        processed = process_collection_files(patterns,coll)\n",
    "        coll['processed']=processed\n",
    "        res.append(coll)\n",
    "    return res"
   ]
  },
  {
   "cell_type": "code",
   "execution_count": 134,
   "id": "786a6267-3b83-4f1f-8361-a68d48e62244",
   "metadata": {},
   "outputs": [],
   "source": [
    "proced = process_collection(patlist,collection)"
   ]
  },
  {
   "cell_type": "code",
   "execution_count": 135,
   "id": "f2dbecc2-5088-42f5-adc5-26fcd9e201df",
   "metadata": {},
   "outputs": [],
   "source": [
    "total =0\n",
    "for p in proced:\n",
    "    if 'processed' in p:\n",
    "        total = total + len(p['processed'])"
   ]
  },
  {
   "cell_type": "code",
   "execution_count": 136,
   "id": "31518e9f-e9c2-4144-b7ac-1b983ca4f66d",
   "metadata": {},
   "outputs": [
    {
     "data": {
      "text/plain": [
       "7496"
      ]
     },
     "execution_count": 136,
     "metadata": {},
     "output_type": "execute_result"
    }
   ],
   "source": [
    "total"
   ]
  },
  {
   "cell_type": "code",
   "execution_count": 137,
   "id": "fb5b5387-3bfd-4f9d-8ded-b22d84269453",
   "metadata": {},
   "outputs": [],
   "source": [
    "ratio = float(total)/float(cnt)"
   ]
  },
  {
   "cell_type": "code",
   "execution_count": 138,
   "id": "16741d87-d369-4248-8e6a-279450947d0e",
   "metadata": {},
   "outputs": [
    {
     "data": {
      "text/plain": [
       "0.021140742746265963"
      ]
     },
     "execution_count": 138,
     "metadata": {},
     "output_type": "execute_result"
    }
   ],
   "source": [
    "ratio"
   ]
  },
  {
   "cell_type": "code",
   "execution_count": 139,
   "id": "f3102499-8223-4272-885d-91d9c3826a92",
   "metadata": {},
   "outputs": [
    {
     "data": {
      "text/plain": [
       "294"
      ]
     },
     "execution_count": 139,
     "metadata": {},
     "output_type": "execute_result"
    }
   ],
   "source": [
    "len(proced)"
   ]
  },
  {
   "cell_type": "markdown",
   "id": "c0c11aaf-ae1c-4865-8ee5-1f3951f7dbeb",
   "metadata": {},
   "source": [
    "ok. so, 7496 unique patterns across 294.\n",
    "\n",
    "This includes the possibility that the same pattern might come across in different collections, so the number of unique patterns is likely smalelr"
   ]
  },
  {
   "cell_type": "code",
   "execution_count": 140,
   "id": "6c7504d1-2ad4-4225-8c4d-d660af0819c8",
   "metadata": {},
   "outputs": [
    {
     "data": {
      "text/plain": [
       "25.496598639455783"
      ]
     },
     "execution_count": 140,
     "metadata": {},
     "output_type": "execute_result"
    }
   ],
   "source": [
    "rate = float(total)/294.0\n",
    "rate"
   ]
  },
  {
   "cell_type": "markdown",
   "id": "dabc8bc2-613e-4cb8-8e24-991b71ebfe2c",
   "metadata": {},
   "source": [
    "average 25.5 items for collection"
   ]
  },
  {
   "cell_type": "markdown",
   "id": "829e77c0-fb50-4ef6-a5c5-b478d0dd6b2a",
   "metadata": {},
   "source": [
    "---- \n",
    "Let's get some descriptive.\n",
    "Frequence of words used?"
   ]
  },
  {
   "cell_type": "code",
   "execution_count": 141,
   "id": "99898102-0f7c-4ad7-aad0-93f2abe08240",
   "metadata": {},
   "outputs": [
    {
     "data": {
      "text/plain": [
       "'vaccin'"
      ]
     },
     "execution_count": 141,
     "metadata": {},
     "output_type": "execute_result"
    }
   ],
   "source": [
    "porter_stemmer = PorterStemmer()\n",
    "porter_stemmer.stem(\"vaccination\")"
   ]
  },
  {
   "cell_type": "code",
   "execution_count": 142,
   "id": "450f761f-20d7-4ec9-bd57-1ec48a8d7abb",
   "metadata": {},
   "outputs": [],
   "source": [
    "def get_frequencies(proced):\n",
    "    porter_stemmer = PorterStemmer()\n",
    "    stop_words = set(stopwords.words('english'))\n",
    "    freqs={}\n",
    "    types={}\n",
    "    for p in proced:\n",
    "        if 'processed' in p:\n",
    "            procs=p['processed']\n",
    "            for ent in procs:\n",
    "                # each one is a pair of words and extensions\n",
    "                (words,ext) = ent\n",
    "                if ext not in types:\n",
    "                    types[ext]=0\n",
    "                types[ext]=types[ext]+1\n",
    "                for w in words:\n",
    "                    if w not in stop_words:\n",
    "                        w = porter_stemmer.stem(w)\n",
    "                        if w not in freqs:\n",
    "                            freqs[w]=0\n",
    "                        freqs[w]=freqs[w]+1\n",
    "    return (freqs,types)"
   ]
  },
  {
   "cell_type": "code",
   "execution_count": 143,
   "id": "592748ff-807d-44ad-a4b8-6feb16978b94",
   "metadata": {},
   "outputs": [],
   "source": [
    "(freqs,types) = get_frequencies(proced)"
   ]
  },
  {
   "cell_type": "code",
   "execution_count": 144,
   "id": "7efa3914-bd55-40b9-a44b-c78928604881",
   "metadata": {},
   "outputs": [
    {
     "data": {
      "text/plain": [
       "3782"
      ]
     },
     "execution_count": 144,
     "metadata": {},
     "output_type": "execute_result"
    }
   ],
   "source": [
    "len(freqs)"
   ]
  },
  {
   "cell_type": "code",
   "execution_count": 145,
   "id": "bc6b63cd-f342-482c-b212-f6e970d594a3",
   "metadata": {},
   "outputs": [
    {
     "data": {
      "text/plain": [
       "5"
      ]
     },
     "execution_count": 145,
     "metadata": {},
     "output_type": "execute_result"
    }
   ],
   "source": [
    "len(types)"
   ]
  },
  {
   "cell_type": "code",
   "execution_count": 146,
   "id": "00593699-7c51-4840-ad62-1dffc9fc1dec",
   "metadata": {},
   "outputs": [
    {
     "data": {
      "text/plain": [
       "{'xlsx': 527, 'csv': 6964, 'tsv': 1, 'xls': 3, 'ods': 1}"
      ]
     },
     "execution_count": 146,
     "metadata": {},
     "output_type": "execute_result"
    }
   ],
   "source": [
    "types"
   ]
  },
  {
   "cell_type": "markdown",
   "id": "781e4752-7e7e-45b0-a7bd-d3477044b64a",
   "metadata": {},
   "source": [
    "ok. what's up with this. should be more types than these? and numbers seem off?"
   ]
  },
  {
   "cell_type": "markdown",
   "id": "6c5aa903-b423-4aad-b468-8c8365887157",
   "metadata": {},
   "source": [
    "write a routine to look for items with given extensions. "
   ]
  },
  {
   "cell_type": "markdown",
   "id": "24324ba7-d724-4ac7-aa6f-7c3b0c62d6e0",
   "metadata": {},
   "source": [
    " # Some utility routines"
   ]
  },
  {
   "cell_type": "code",
   "execution_count": 147,
   "id": "d0160c52-1a39-4526-8b1b-3330050fb343",
   "metadata": {},
   "outputs": [],
   "source": [
    "def find_processed_by_type(procs,type):\n",
    "    res=[]\n",
    "    for p in procs:\n",
    "        if 'processed' in p:\n",
    "            ps = p['processed']\n",
    "            for ent in ps:\n",
    "                (words,ext) =ent\n",
    "                if ext == type:\n",
    "                    res.append(p)\n",
    "    return res\n",
    "\n",
    "\n",
    "def find_initial_by_type(procs,type):\n",
    "    res=[]\n",
    "    for p in procs:\n",
    "        if 'files' in p:\n",
    "            ps = p['files']\n",
    "            for fname in ps:\n",
    "                toks = fname.split(\".\")\n",
    "                if toks[-1] == type:\n",
    "                    res.append(p)\n",
    "    return res\n",
    "\n",
    "def find_processed_by_term(procs,term):\n",
    "    res = []\n",
    "    seen = {}\n",
    "    for p in proced:\n",
    "        if 'processed' in p:\n",
    "            procs=p['processed']\n",
    "            for ent in procs:\n",
    "                # each one is a pair of words and extensions\n",
    "                (words,ext) = ent\n",
    "                for w in words:\n",
    "                    if w == term:\n",
    "                        if p['metadataCollectionId'] not in seen:\n",
    "                            seen[p['metadataCollectionId']] =  True\n",
    "                            res.append(p)\n",
    "    return res\n",
    "\n",
    "def find_tokens_by_term(procs,term):\n",
    "    seen = {}\n",
    "    for p in proced:\n",
    "        if 'processed' in p:\n",
    "            procs=p['processed']\n",
    "            for ent in procs:\n",
    "                # each one is a pair of words and extensions\n",
    "                (words,ext) = ent\n",
    "                for w in words:\n",
    "                    if w == term:\n",
    "                        if p['metadataCollectionId'] not in seen:\n",
    "                            seen[p['metadataCollectionId']]=[]\n",
    "                        seen[p['metadataCollectionId']].append(ent)\n",
    "    return seen\n",
    "\n",
    "def find_initial_by_substring(procs,substring):\n",
    "    seen = {}\n",
    "    for p in proced:\n",
    "        if 'files' in p:\n",
    "            for fname in p['files']:\n",
    "                if fname.find(substring) >=0:\n",
    "                    if p['metadataCollectionId'] not in seen:\n",
    "                        seen[p['metadataCollectionId']]=[]\n",
    "                    seen[p['metadataCollectionId']].append(fname)\n",
    "    return seen\n",
    "\n",
    "\n",
    "# ok. find file name by id...\n",
    "\n",
    "def get_entry_by_id(plist,id):\n",
    "    for p in plist:\n",
    "        if p['metadataCollectionId'] == id:\n",
    "            return p\n",
    "    return None\n",
    "\n",
    "def get_file_names_by_entry_and_string(plist,id,str_val):\n",
    "    res =[]\n",
    "    ent = get_entry_by_id(plist,id)\n",
    "    if ent is None:\n",
    "        return None\n",
    "    for fname  in ent['files']:\n",
    "        if fname.find(str_val) > 0:\n",
    "            res.append(str_val)\n",
    "    return res\n",
    "\n",
    "def find_file_names_with_string(plist,str_val):\n",
    "    res ={}\n",
    "    for p in plist:\n",
    "        id = p['metadataCollectionId']\n",
    "        if 'files' in p:\n",
    "            matches=[]\n",
    "            for fname in p['files']:\n",
    "                if fname.find(str_val)> 0:\n",
    "                    matches.append(fname)\n",
    "            if len(matches) > 0:\n",
    "                res[id]=matches\n",
    "    return res"
   ]
  },
  {
   "cell_type": "markdown",
   "id": "8dc1bb71-5bf1-482c-bc2f-0642e9fce896",
   "metadata": {},
   "source": [
    " # Filtering out \"noisy\" or uninformative tokens"
   ]
  },
  {
   "cell_type": "markdown",
   "id": "c894e1ce-0669-48e3-801d-7b71201a0c81",
   "metadata": {},
   "source": [
    "let's look at descriptives on words"
   ]
  },
  {
   "cell_type": "markdown",
   "id": "cd623a1d-4843-4b10-b07e-17a52f054a92",
   "metadata": {
    "tags": []
   },
   "source": [
    "# <span style='color:red'>*TODO*</span> work on filtering out uninformativer tokens. Ideally, do this by improving the regular expressions above. Alternatively, look at post-filtering.\n"
   ]
  },
  {
   "cell_type": "markdown",
   "id": "c138d601-7fa5-4063-b8df-c6257840ea60",
   "metadata": {},
   "source": [
    "# Look at frequently found terms"
   ]
  },
  {
   "cell_type": "code",
   "execution_count": 148,
   "id": "3c0dd2b7-bfe7-4da4-b522-527fca4771c8",
   "metadata": {},
   "outputs": [],
   "source": [
    "topfreqs = sorted(freqs.items(),key=lambda x:x[1],reverse=True)\n",
    "sfreqs=dict(topfreqs[:100])"
   ]
  },
  {
   "cell_type": "code",
   "execution_count": 149,
   "id": "ee9e5e01-e5a7-4411-9404-f9467a7de4ae",
   "metadata": {},
   "outputs": [
    {
     "data": {
      "text/plain": [
       "100"
      ]
     },
     "execution_count": 149,
     "metadata": {},
     "output_type": "execute_result"
    }
   ],
   "source": [
    "len(sfreqs)"
   ]
  },
  {
   "cell_type": "code",
   "execution_count": 170,
   "id": "621838d6-0f77-4516-a93a-6e3602ce2816",
   "metadata": {},
   "outputs": [
    {
     "data": {
      "text/plain": [
       "{'': 7349,\n",
       " 'temp': 6127,\n",
       " 'tableau': 3101,\n",
       " 'extract': 2972,\n",
       " 'counti': 1585,\n",
       " 'death': 794,\n",
       " 'age': 781,\n",
       " 'covid': 723,\n",
       " 'data': 678,\n",
       " '19': 666,\n",
       " 'vaccin': 664,\n",
       " 'race': 479,\n",
       " 'peopl': 463,\n",
       " 'demograph': 415,\n",
       " 'date': 377,\n",
       " 'case': 350,\n",
       " 'dc': 312,\n",
       " 'cti': 288,\n",
       " 'gender': 265,\n",
       " 'eth': 237,\n",
       " 'daili': 235,\n",
       " 'pc': 232,\n",
       " 'time': 229,\n",
       " 'test': 226,\n",
       " 'sex': 219,\n",
       " 'seri': 219,\n",
       " 'dose': 216,\n",
       " 'complet': 211,\n",
       " '2021': 205,\n",
       " 'zip': 191,\n",
       " 'curv': 189,\n",
       " 'feder': 181,\n",
       " 'code': 179,\n",
       " 'epi': 178,\n",
       " 'ethnic': 175,\n",
       " 'dashboard': 175,\n",
       " 'rate': 158,\n",
       " 'file': 138,\n",
       " 'booster': 133,\n",
       " 'twb': 132,\n",
       " 'raw': 131,\n",
       " 'pcr': 118,\n",
       " '1': 111,\n",
       " 'onset': 110,\n",
       " '2': 108,\n",
       " 'mortal': 103,\n",
       " '2020': 99,\n",
       " 'new': 77,\n",
       " 'wy': 72,\n",
       " 'rc': 65,\n",
       " 'count': 63,\n",
       " 'total': 63,\n",
       " 'group': 62,\n",
       " 'd9': 62,\n",
       " 'updat': 61,\n",
       " 'state': 60,\n",
       " 'number': 60,\n",
       " 'sqlproxi': 57,\n",
       " 'averag': 57,\n",
       " '22': 57,\n",
       " 'demo': 55,\n",
       " '3': 51,\n",
       " 'posit': 50,\n",
       " '6': 49,\n",
       " '4': 47,\n",
       " 'may': 47,\n",
       " 'd1': 46,\n",
       " 'f1': 46,\n",
       " 'de95cb654114adc9b8ad7ca5347a': 46,\n",
       " 'result': 46,\n",
       " 'adadaa42c5a75dbe52bf8c2ebc': 46,\n",
       " 'fbb11af558784cf89da259bbafd342a6': 46,\n",
       " 'd8': 46,\n",
       " 'ed03d1345f29b0bfec84b1c4656': 46,\n",
       " 'cf205f44a80248ef91625997e6a1ba27': 46,\n",
       " 'st': 46,\n",
       " 'juli': 44,\n",
       " '2022': 44,\n",
       " 'trend': 43,\n",
       " '7': 43,\n",
       " 'vax': 43,\n",
       " '8': 41,\n",
       " '9': 41,\n",
       " 'april': 41,\n",
       " '5': 40,\n",
       " 'unspecifi': 38,\n",
       " 'june': 38,\n",
       " 'tabl': 37,\n",
       " 'chart': 37,\n",
       " 'histo': 36,\n",
       " 'pfizer': 36,\n",
       " 'report': 35,\n",
       " 'march': 35,\n",
       " 'summari': 34,\n",
       " 'map': 34,\n",
       " '21': 34,\n",
       " 'butterfli': 34,\n",
       " 'hospit': 33,\n",
       " 'nc': 32,\n",
       " 'a80': 31}"
      ]
     },
     "execution_count": 170,
     "metadata": {},
     "output_type": "execute_result"
    }
   ],
   "source": [
    "sfreqs"
   ]
  },
  {
   "cell_type": "markdown",
   "id": "1aa0c8df-7714-4d36-bb68-ad52e0945c96",
   "metadata": {},
   "source": [
    "1. Can we do a histogram? \n",
    "2. What's with DE95CB654114ADC9B8AD7CA5347A, ADADAA42C5A75DBE52BF8C2EBC,  or 0crbell165o69810qb23000ksfyl or 10bozup0k69eqi1a0wz3j172f732, etc.?"
   ]
  },
  {
   "cell_type": "code",
   "execution_count": 157,
   "id": "7e3c96c7-1dc4-4714-a5d9-547b4f3fb410",
   "metadata": {},
   "outputs": [
    {
     "data": {
      "text/plain": [
       "0"
      ]
     },
     "execution_count": 157,
     "metadata": {},
     "output_type": "execute_result"
    }
   ],
   "source": [
    "de95s = find_processed_by_term(proced,'DE95CB654114ADC9B8AD7CA5347A')\n",
    "len(de95s)"
   ]
  },
  {
   "cell_type": "markdown",
   "id": "556a9561-2aac-4139-92c4-f59860ba4cbe",
   "metadata": {},
   "source": [
    "DE95... looks like a repeated name..from tableau extracts?"
   ]
  },
  {
   "cell_type": "code",
   "execution_count": 158,
   "id": "11db29d0-014d-43ed-85d0-d7499fba82ad",
   "metadata": {},
   "outputs": [
    {
     "data": {
      "text/plain": [
       "1"
      ]
     },
     "execution_count": 158,
     "metadata": {},
     "output_type": "execute_result"
    }
   ],
   "source": [
    "crbells = find_processed_by_term(proced,'0crbell165o69810qb23000ksfyl')\n",
    "len(crbells)"
   ]
  },
  {
   "cell_type": "markdown",
   "id": "5d626e7b-79ce-402d-8db9-756cc77d99eb",
   "metadata": {},
   "source": [
    "looking into crbell[0] - also looks like tableau"
   ]
  },
  {
   "cell_type": "markdown",
   "id": "0b90d0d5-fadc-4c0e-a17e-7e94177418fa",
   "metadata": {},
   "source": [
    "looks like empty string or '1' could be legit, as some files have '-', and '_1_\"..."
   ]
  },
  {
   "cell_type": "markdown",
   "id": "ecb1c36e-67a6-44ed-9a6a-b224366a5f38",
   "metadata": {},
   "source": [
    "Questions for Anne:\n",
    "    \n",
    "    1. Are the \"07jp3yg1rhy0bj1essrgm1ezzkur\" files legit names from tableau?\n",
    "    2. Did she not give me file names for json, etc? Can i get those json?"
   ]
  },
  {
   "cell_type": "markdown",
   "id": "511dcd95-0593-4c41-bd13-ae50893ec0ce",
   "metadata": {},
   "source": [
    "# look for patterns that might be inappropriate. filter them out"
   ]
  },
  {
   "cell_type": "code",
   "execution_count": 165,
   "id": "81b270ef-0d6c-4f78-bb63-b9761a83e8a7",
   "metadata": {},
   "outputs": [
    {
     "data": {
      "text/plain": [
       "0"
      ]
     },
     "execution_count": 165,
     "metadata": {},
     "output_type": "execute_result"
    }
   ],
   "source": [
    "t1 = find_processed_by_term(proced,'ju')\n",
    "len(t1)"
   ]
  },
  {
   "cell_type": "code",
   "execution_count": 166,
   "id": "4173fa11-b2da-4f00-b52f-ec427a4bbd1d",
   "metadata": {},
   "outputs": [
    {
     "data": {
      "text/plain": [
       "[]"
      ]
     },
     "execution_count": 166,
     "metadata": {},
     "output_type": "execute_result"
    }
   ],
   "source": [
    "ids = [p['metadataCollectionId'] for p in t1]\n",
    "ids"
   ]
  },
  {
   "cell_type": "code",
   "execution_count": 164,
   "id": "958736e0-cfc4-4edb-96d8-104f35784f8a",
   "metadata": {},
   "outputs": [
    {
     "ename": "IndexError",
     "evalue": "list index out of range",
     "output_type": "error",
     "traceback": [
      "\u001b[0;31m---------------------------------------------------------------------------\u001b[0m",
      "\u001b[0;31mIndexError\u001b[0m                                Traceback (most recent call last)",
      "\u001b[0;32m/var/folders/k2/y6bpnttn43lf_bnftmvczc9w0000gp/T/ipykernel_39314/2317180367.py\u001b[0m in \u001b[0;36m<cell line: 1>\u001b[0;34m()\u001b[0m\n\u001b[0;32m----> 1\u001b[0;31m \u001b[0mt1\u001b[0m\u001b[0;34m[\u001b[0m\u001b[0;36m0\u001b[0m\u001b[0;34m]\u001b[0m\u001b[0;34m[\u001b[0m\u001b[0;34m'titleEnglish'\u001b[0m\u001b[0;34m]\u001b[0m\u001b[0;34m\u001b[0m\u001b[0;34m\u001b[0m\u001b[0m\n\u001b[0m",
      "\u001b[0;31mIndexError\u001b[0m: list index out of range"
     ]
    }
   ],
   "source": [
    "t1[0]['titleEnglish']"
   ]
  },
  {
   "cell_type": "code",
   "execution_count": null,
   "id": "e9f8f5b7-93d0-4515-ac97-78bba1462590",
   "metadata": {},
   "outputs": [],
   "source": [
    "matches =  get_file_names_by_entry_and_string(proced,836,'rc')\n",
    "matches"
   ]
  },
  {
   "cell_type": "code",
   "execution_count": null,
   "id": "36390ffd-5b19-4526-82f5-18b9b6987c60",
   "metadata": {},
   "outputs": [],
   "source": [
    "e864=get_entry_by_id(proced,864)"
   ]
  },
  {
   "cell_type": "code",
   "execution_count": null,
   "id": "541c9574-5bef-4303-8e61-99fcee848063",
   "metadata": {},
   "outputs": [],
   "source": [
    "files = [fname for fname in e864['files'] if fname.find('rc') >0 ]"
   ]
  },
  {
   "cell_type": "code",
   "execution_count": null,
   "id": "a4b3a782-bd2d-460c-beed-a9412b9768a3",
   "metadata": {},
   "outputs": [],
   "source": [
    "files[:10]"
   ]
  },
  {
   "cell_type": "code",
   "execution_count": 167,
   "id": "a59ac7d7-12ec-4d56-a929-f9e736a7878c",
   "metadata": {},
   "outputs": [
    {
     "data": {
      "text/plain": [
       "'covid-19-raw-data-july-23-2021.xlsx'"
      ]
     },
     "execution_count": 167,
     "metadata": {},
     "output_type": "execute_result"
    }
   ],
   "source": [
    "test=julis[815][0]\n",
    "test"
   ]
  },
  {
   "cell_type": "code",
   "execution_count": 172,
   "id": "acc120c4-90be-4f87-ae97-e292fa49eef5",
   "metadata": {},
   "outputs": [
    {
     "data": {
      "text/plain": [
       "0"
      ]
     },
     "execution_count": 172,
     "metadata": {},
     "output_type": "execute_result"
    }
   ],
   "source": [
    "t1 = find_processed_by_term(proced,'cti')\n",
    "len(t1)"
   ]
  },
  {
   "cell_type": "code",
   "execution_count": 174,
   "id": "db5260f2-7d5f-4f37-b527-d3e38591bb05",
   "metadata": {},
   "outputs": [
    {
     "data": {
      "text/plain": [
       "{695: ['data_dictionary_covid_19_cases_by_zip_2020-10-22_162302.xlsx',\n",
       "  'data_dictionary_highest50_population_zip_codes_2020-10-22_162302.xlsx'],\n",
       " 800: ['data_dictionary_2020-06-25_21261593134765.csv',\n",
       "  'data_dictionary_2020-06-26_12511593190289.csv',\n",
       "  'data_dictionary_2020-10-22_162302.csv'],\n",
       " 699: ['covid_report_county_date_datadictionary_2020-08-27_002302.xlsx',\n",
       "  'covid_report_county_date_datadictionary_2022-02-25_082302.xlsx',\n",
       "  'covid_report_county_date_datadictionary_2022-03-31_162302.xlsx',\n",
       "  'covid_report_county_date_datadictionary_2020-10-22_162302.xlsx',\n",
       "  'covid_report_county_date_datadictionary_2020-12-31_122303.xlsx',\n",
       "  'covid_report_county_date_datadictionary_2020-09-25_122320.xlsx',\n",
       "  'covid_report_county_date_datadictionary_2020-08-20_202311.xlsx'],\n",
       " 749: ['TexasCOVID-19ActiveCaseDatabyCounty_2021-09-14_122303.xlsx',\n",
       "  'TexasCOVID-19ActiveCaseDatabyCounty_2020-10-06_162304.xlsx',\n",
       "  'TexasCOVID-19ActiveCaseDatabyCounty_2021-09-03_162303.xlsx',\n",
       "  'TexasCOVID-19ActiveCaseDatabyCounty_2020-07-20_170641.xlsx',\n",
       "  'TexasCOVID-19ActiveCaseDatabyCounty_2021-03-31_162304.xlsx',\n",
       "  'TexasCOVID-19ActiveCaseDatabyCounty_2020-11-17_162306.xlsx',\n",
       "  'TexasCOVID-19ActiveCaseDatabyCounty_2020-11-20_162303.xlsx',\n",
       "  'TexasCOVID-19ActiveCaseDatabyCounty_2021-02-09_162303.xlsx',\n",
       "  'TexasCOVID-19ActiveCaseDatabyCounty_2021-01-23_162302.xlsx',\n",
       "  'TexasCOVID-19ActiveCaseDatabyCounty_2021-08-08_122303.xlsx',\n",
       "  'TexasCOVID-19ActiveCaseDatabyCounty_2020-12-06_162303.xlsx',\n",
       "  'TexasCOVID-19ActiveCaseDatabyCounty_2020-09-19_202302.xlsx',\n",
       "  'TexasCOVID-19ActiveCaseDatabyCounty_2021-05-05_162302.xlsx',\n",
       "  'TexasCOVID-19ActiveCaseDatabyCounty_2021-03-14_162302.xlsx',\n",
       "  'TexasCOVID-19ActiveCaseDatabyCounty_2020-08-03_202303.xlsx',\n",
       "  'TexasCOVID-19ActiveCaseDatabyCounty_2021-05-04_202328.xlsx',\n",
       "  'TexasCOVID-19ActiveCaseDatabyCounty_2020-11-04_162304.xlsx',\n",
       "  'TexasCOVID-19ActiveCaseDatabyCounty_2021-04-27_162304.xlsx',\n",
       "  'TexasCOVID-19ActiveCaseDatabyCounty_2021-06-17_122303.xlsx',\n",
       "  'TexasCOVID-19ActiveCaseDatabyCounty_2021-05-21_122302.xlsx',\n",
       "  'TexasCOVID-19ActiveCaseDatabyCounty_2020-06-30_16231593548582.xlsx',\n",
       "  'TexasCOVID-19ActiveCaseDatabyCounty_2021-10-03_122302.xlsx',\n",
       "  'TexasCOVID-19ActiveCaseDatabyCounty_2021-04-16_162302.xlsx',\n",
       "  'TexasCOVID-19ActiveCaseDatabyCounty_2021-10-26_162302.xlsx',\n",
       "  'TexasCOVID-19ActiveCaseDatabyCounty_2020-08-05_202302.xlsx',\n",
       "  'TexasCOVID-19ActiveCaseDatabyCounty_2021-06-25_122303.xlsx',\n",
       "  'TexasCOVID-19ActiveCaseDatabyCounty_2020-07-24_170444.xlsx',\n",
       "  'TexasCOVID-19ActiveCaseDatabyCounty_2021-07-09_162303.xlsx',\n",
       "  'TexasCOVID-19ActiveCaseDatabyCounty_2021-05-16_162303.xlsx',\n",
       "  'TexasCOVID-19ActiveCaseDatabyCounty_2020-07-29_202303.xlsx',\n",
       "  'TexasCOVID-19ActiveCaseDatabyCounty_2021-06-18_122305.xlsx',\n",
       "  'TexasCOVID-19ActiveCaseDatabyCounty_2020-11-26_162303.xlsx',\n",
       "  'TexasCOVID-19ActiveCaseDatabyCounty_2021-02-02_122302.xlsx',\n",
       "  'TexasCOVID-19ActiveCaseDatabyCounty_2021-02-27_122303.xlsx',\n",
       "  'TexasCOVID-19ActiveCaseDatabyCounty_2021-02-22_162303.xlsx',\n",
       "  'TexasCOVID-19ActiveCaseDatabyCounty_2021-01-06_162303.xlsx',\n",
       "  'TexasCOVID-19ActiveCaseDatabyCounty_2020-11-05_162302.xlsx',\n",
       "  'TexasCOVID-19ActiveCaseDatabyCounty_2021-10-10_122303.xlsx',\n",
       "  'TexasCOVID-19ActiveCaseDatabyCounty_2020-10-08_202302.xlsx',\n",
       "  'TexasCOVID-19ActiveCaseDatabyCounty_2021-04-30_122306.xlsx',\n",
       "  'TexasCOVID-19ActiveCaseDatabyCounty_2021-04-21_162301.xlsx',\n",
       "  'TexasCOVID-19ActiveCaseDatabyCounty_2020-12-25_162303.xlsx',\n",
       "  'TexasCOVID-19ActiveCaseDatabyCounty_2021-01-16_122304.xlsx',\n",
       "  'TexasCOVID-19ActiveCaseDatabyCounty_2020-09-16_202307.xlsx',\n",
       "  'TexasCOVID-19ActiveCaseDatabyCounty_2020-12-14_162302.xlsx',\n",
       "  'TexasCOVID-19ActiveCaseDatabyCounty_2021-01-01_162303.xlsx',\n",
       "  'TexasCOVID-19ActiveCaseDatabyCounty_2022-01-10_122302.xlsx',\n",
       "  'TexasCOVID-19ActiveCaseDatabyCounty_2021-01-07_162303.xlsx',\n",
       "  'TexasCOVID-19ActiveCaseDatabyCounty_2020-09-06_202302.xlsx',\n",
       "  'TexasCOVID-19ActiveCaseDatabyCounty_2021-05-31_162302.xlsx',\n",
       "  'TexasCOVID-19ActiveCaseDatabyCounty_2021-03-03_162301.xlsx',\n",
       "  'TexasCOVID-19ActiveCaseDatabyCounty_2021-12-23_122303.xlsx',\n",
       "  'TexasCOVID-19ActiveCaseDatabyCounty_2021-09-20_122304.xlsx',\n",
       "  'TexasCOVID-19ActiveCaseDatabyCounty_2021-01-30_122303.xlsx',\n",
       "  'TexasCOVID-19ActiveCaseDatabyCounty_2021-01-24_162303.xlsx',\n",
       "  'TexasCOVID-19ActiveCaseDatabyCounty_2020-11-11_202304.xlsx',\n",
       "  'TexasCOVID-19ActiveCaseDatabyCounty_2021-12-15_122305.xlsx',\n",
       "  'TexasCOVID-19ActiveCaseDatabyCounty_2020-05-30_20231590884582.xlsx',\n",
       "  'TexasCOVID-19ActiveCaseDatabyCounty_2021-05-09_162302.xlsx',\n",
       "  'TexasCOVID-19ActiveCaseDatabyCounty_2020-11-19_162302.xlsx',\n",
       "  'TexasCOVID-19ActiveCaseDatabyCounty_2021-12-13_122303.xlsx',\n",
       "  'TexasCOVID-19ActiveCaseDatabyCounty_2021-01-26_162304.xlsx',\n",
       "  'TexasCOVID-19ActiveCaseDatabyCounty_2021-09-05_162303.xlsx',\n",
       "  'TexasCOVID-19ActiveCaseDatabyCounty_2021-11-21_162303.xlsx',\n",
       "  'TexasCOVID-19ActiveCaseDatabyCounty_2021-05-02_162303.xlsx',\n",
       "  'TexasCOVID-19ActiveCaseDatabyCounty_2022-01-08_122303.xlsx',\n",
       "  'TexasCOVID-19ActiveCaseDatabyCounty_2021-10-17_122302.xlsx',\n",
       "  'TexasCOVID-19ActiveCaseDatabyCounty_2020-10-29_162303.xlsx',\n",
       "  'TexasCOVID-19ActiveCaseDatabyCounty_2020-10-22_162302.xlsx',\n",
       "  'TexasCOVID-19ActiveCaseDatabyCounty_2021-12-05_122448.xlsx',\n",
       "  'TexasCOVID-19ActiveCaseDatabyCounty_2020-06-03_16231591215782.xlsx',\n",
       "  'TexasCOVID-19ActiveCaseDatabyCounty_2020-08-15_162302.xlsx',\n",
       "  'TexasCOVID-19ActiveCaseDatabyCounty_2021-08-16_162302.xlsx',\n",
       "  'TexasCOVID-19ActiveCaseDatabyCounty_2021-04-13_122302.xlsx',\n",
       "  'TexasCOVID-19ActiveCaseDatabyCounty_2021-06-22_202303.xlsx',\n",
       "  'TexasCOVID-19ActiveCaseDatabyCounty_2021-08-05_122302.xlsx',\n",
       "  'TexasCOVID-19ActiveCaseDatabyCounty_2021-11-03_122302.xlsx',\n",
       "  'TexasCOVID-19ActiveCaseDatabyCounty_2021-07-30_162303.xlsx',\n",
       "  'TexasCOVID-19ActiveCaseDatabyCounty_2020-12-07_162303.xlsx',\n",
       "  'TexasCOVID-19ActiveCaseDatabyCounty_2020-07-18_202304.xlsx',\n",
       "  'TexasCOVID-19ActiveCaseDatabyCounty_2021-09-09_162412.xlsx',\n",
       "  'TexasCOVID-19ActiveCaseDatabyCounty_2021-10-14_122302.xlsx',\n",
       "  'TexasCOVID-19ActiveCaseDatabyCounty_2021-08-06_162304.xlsx',\n",
       "  'TexasCOVID-19ActiveCaseDatabyCounty_2020-09-30_202302.xlsx',\n",
       "  'TexasCOVID-19ActiveCaseDatabyCounty_2021-07-16_122303.xlsx',\n",
       "  'TexasCOVID-19ActiveCaseDatabyCounty_2021-04-04_162303.xlsx',\n",
       "  'TexasCOVID-19ActiveCaseDatabyCounty_2021-01-11_122303.xlsx',\n",
       "  'TexasCOVID-19ActiveCaseDatabyCounty_2021-05-27_122302.xlsx',\n",
       "  'TexasCOVID-19ActiveCaseDatabyCounty_2021-07-01_162303.xlsx',\n",
       "  'TexasCOVID-19ActiveCaseDatabyCounty_2021-02-15_162302.xlsx',\n",
       "  'TexasCOVID-19ActiveCaseDatabyCounty_2020-07-28_202305.xlsx',\n",
       "  'TexasCOVID-19ActiveCaseDatabyCounty_2020-08-20_202311.xlsx',\n",
       "  'TexasCOVID-19ActiveCaseDatabyCounty_2021-10-21_162303.xlsx',\n",
       "  'TexasCOVID-19ActiveCaseDatabyCounty_2022-01-07_162302.xlsx',\n",
       "  'TexasCOVID-19ActiveCaseDatabyCounty_2021-02-17_122303.xlsx',\n",
       "  'TexasCOVID-19ActiveCaseDatabyCounty_2021-11-16_122302.xlsx',\n",
       "  'TexasCOVID-19ActiveCaseDatabyCounty_2021-05-01_162304.xlsx',\n",
       "  'TexasCOVID-19ActiveCaseDatabyCounty_2021-06-12_122303.xlsx',\n",
       "  'TexasCOVID-19ActiveCaseDatabyCounty_2021-03-18_202303.xlsx',\n",
       "  'TexasCOVID-19ActiveCaseDatabyCounty_2021-08-24_162303.xlsx',\n",
       "  'TexasCOVID-19ActiveCaseDatabyCounty_2021-11-18_162303.xlsx',\n",
       "  'TexasCOVID-19ActiveCaseDatabyCounty_2021-08-20_162303.xlsx',\n",
       "  'TexasCOVID-19ActiveCaseDatabyCounty_2020-10-24_162302.xlsx',\n",
       "  'TexasCOVID-19ActiveCaseDatabyCounty_2021-05-24_162303.xlsx',\n",
       "  'TexasCOVID-19ActiveCaseDatabyCounty_2021-11-06_162304.xlsx',\n",
       "  'TexasCOVID-19ActiveCaseDatabyCounty_2021-12-20_122303.xlsx',\n",
       "  'TexasCOVID-19ActiveCaseDatabyCounty_2021-12-11_122319.xlsx',\n",
       "  'TexasCOVID-19ActiveCaseDatabyCounty_2021-04-01_002302.xlsx',\n",
       "  'TexasCOVID-19ActiveCaseDatabyCounty_2021-05-13_122302.xlsx',\n",
       "  'TexasCOVID-19ActiveCaseDatabyCounty_2021-07-02_162303.xlsx',\n",
       "  'TexasCOVID-19ActiveCaseDatabyCounty_2021-09-24_162302.xlsx',\n",
       "  'TexasCOVID-19ActiveCaseDatabyCounty_2021-03-26_162301.xlsx',\n",
       "  'TexasCOVID-19ActiveCaseDatabyCounty_2021-10-27_122302.xlsx',\n",
       "  'TexasCOVID-19ActiveCaseDatabyCounty_2020-09-24_202307.xlsx',\n",
       "  'TexasCOVID-19ActiveCaseDatabyCounty_2021-01-25_162303.xlsx',\n",
       "  'TexasCOVID-19ActiveCaseDatabyCounty_2021-01-02_162302.xlsx',\n",
       "  'TexasCOVID-19ActiveCaseDatabyCounty_2021-08-04_202303.xlsx',\n",
       "  'TexasCOVID-19ActiveCaseDatabyCounty_2021-08-23_002302.xlsx',\n",
       "  'TexasCOVID-19ActiveCaseDatabyCounty_2021-09-23_162303.xlsx',\n",
       "  'TexasCOVID-19ActiveCaseDatabyCounty_2021-06-15_122302.xlsx',\n",
       "  'TexasCOVID-19ActiveCaseDatabyCounty_2021-01-17_122304.xlsx',\n",
       "  'TexasCOVID-19ActiveCaseDatabyCounty_2020-12-29_162303.xlsx',\n",
       "  'TexasCOVID-19ActiveCaseDatabyCounty_2021-10-19_131209.xlsx',\n",
       "  'TexasCOVID-19ActiveCaseDatabyCounty_2020-10-25_162302.xlsx',\n",
       "  'TexasCOVID-19ActiveCaseDatabyCounty_2021-11-17_162301.xlsx',\n",
       "  'TexasCOVID-19ActiveCaseDatabyCounty_2020-12-30_162302.xlsx',\n",
       "  'TexasCOVID-19ActiveCaseDatabyCounty_2020-10-14_202303.xlsx',\n",
       "  'TexasCOVID-19ActiveCaseDatabyCounty_2021-05-11_122305.xlsx',\n",
       "  'TexasCOVID-19ActiveCaseDatabyCounty_2020-12-31_162302.xlsx',\n",
       "  'TexasCOVID-19ActiveCaseDatabyCounty_2022-01-13_162304.xlsx',\n",
       "  'TexasCOVID-19ActiveCaseDatabyCounty_2021-07-29_162302.xlsx',\n",
       "  'TexasCOVID-19ActiveCaseDatabyCounty_2021-07-19_122304.xlsx',\n",
       "  'TexasCOVID-19ActiveCaseDatabyCounty_2020-09-29_202303.xlsx',\n",
       "  'TexasCOVID-19ActiveCaseDatabyCounty_2021-12-09_162305.xlsx',\n",
       "  'TexasCOVID-19ActiveCaseDatabyCounty_2020-07-01_00231593577388.xlsx',\n",
       "  'TexasCOVID-19ActiveCaseDatabyCounty_2021-07-17_162304.xlsx',\n",
       "  'TexasCOVID-19ActiveCaseDatabyCounty_2020-12-11_162302.xlsx',\n",
       "  'TexasCOVID-19ActiveCaseDatabyCounty_2020-11-13_162303.xlsx',\n",
       "  'TexasCOVID-19ActiveCaseDatabyCounty_2020-07-01_20231593649382.xlsx',\n",
       "  'TexasCOVID-19ActiveCaseDatabyCounty_2021-02-28_122303.xlsx',\n",
       "  'TexasCOVID-19ActiveCaseDatabyCounty_2020-07-17_202308.xlsx',\n",
       "  'TexasCOVID-19ActiveCaseDatabyCounty_2020-08-12_202305.xlsx',\n",
       "  'TexasCOVID-19ActiveCaseDatabyCounty_2020-07-05_16231593980583.xlsx',\n",
       "  'TexasCOVID-19ActiveCaseDatabyCounty_2020-09-04_202302.xlsx',\n",
       "  'TexasCOVID-19ActiveCaseDatabyCounty_2021-05-07_122303.xlsx',\n",
       "  'TexasCOVID-19ActiveCaseDatabyCounty_2021-07-14_162303.xlsx',\n",
       "  'TexasCOVID-19ActiveCaseDatabyCounty_2021-09-13_131631.xlsx',\n",
       "  'TexasCOVID-19ActiveCaseDatabyCounty_2021-02-11_162302.xlsx',\n",
       "  'TexasCOVID-19ActiveCaseDatabyCounty_2021-07-04_162304.xlsx',\n",
       "  'TexasCOVID-19ActiveCaseDatabyCounty_2021-03-16_162303.xlsx',\n",
       "  'TexasCOVID-19ActiveCaseDatabyCounty_2021-11-07_162303.xlsx',\n",
       "  'TexasCOVID-19ActiveCaseDatabyCounty_2021-02-24_162302.xlsx',\n",
       "  'TexasCOVID-19ActiveCaseDatabyCounty_2020-09-13_202302.xlsx',\n",
       "  'TexasCOVID-19ActiveCaseDatabyCounty_2021-01-21_162303.xlsx',\n",
       "  'TexasCOVID-19ActiveCaseDatabyCounty_2021-11-16_162838.xlsx',\n",
       "  'TexasCOVID-19ActiveCaseDatabyCounty_2020-05-21_12231590078185.xlsx',\n",
       "  'TexasCOVID-19ActiveCaseDatabyCounty_2020-07-04_16231593894182.xlsx',\n",
       "  'TexasCOVID-19ActiveCaseDatabyCounty_2020-06-12_00231591935787.xlsx',\n",
       "  'TexasCOVID-19ActiveCaseDatabyCounty_2020-06-15_16231592252582.xlsx',\n",
       "  'TexasCOVID-19ActiveCaseDatabyCounty_2021-03-09_162301.xlsx',\n",
       "  'TexasCOVID-19ActiveCaseDatabyCounty_2021-09-10_202303.xlsx',\n",
       "  'TexasCOVID-19ActiveCaseDatabyCounty_2021-02-18_122302.xlsx',\n",
       "  'TexasCOVID-19ActiveCaseDatabyCounty_2020-10-22_122302.xlsx',\n",
       "  'TexasCOVID-19ActiveCaseDatabyCounty_2020-11-16_162306.xlsx',\n",
       "  'TexasCOVID-19ActiveCaseDatabyCounty_2021-09-18_122303.xlsx',\n",
       "  'TexasCOVID-19ActiveCaseDatabyCounty_2020-06-10_20231591834982.xlsx',\n",
       "  'TexasCOVID-19ActiveCaseDatabyCounty_2021-04-26_162303.xlsx',\n",
       "  'TexasCOVID-19ActiveCaseDatabyCounty_2021-01-04_162303.xlsx',\n",
       "  'TexasCOVID-19ActiveCaseDatabyCounty_2020-09-12_202304.xlsx',\n",
       "  'TexasCOVID-19ActiveCaseDatabyCounty_2021-12-17_122303.xlsx',\n",
       "  'TexasCOVID-19ActiveCaseDatabyCounty_2021-04-06_162308.xlsx',\n",
       "  'TexasCOVID-19ActiveCaseDatabyCounty_2021-03-10_162301.xlsx',\n",
       "  'TexasCOVID-19ActiveCaseDatabyCounty_2021-12-30_122302.xlsx',\n",
       "  'TexasCOVID-19ActiveCaseDatabyCounty_2021-05-28_162304.xlsx',\n",
       "  'TexasCOVID-19ActiveCaseDatabyCounty_2020-07-13_202308.xlsx',\n",
       "  'TexasCOVID-19ActiveCaseDatabyCounty_2020-06-21_20231592785382.xlsx',\n",
       "  'TexasCOVID-19ActiveCaseDatabyCounty_2021-01-27_122303.xlsx',\n",
       "  'TexasCOVID-19ActiveCaseDatabyCounty_2020-08-27_202303.xlsx',\n",
       "  'TexasCOVID-19ActiveCaseDatabyCounty_2021-08-14_162303.xlsx',\n",
       "  'TexasCOVID-19ActiveCaseDatabyCounty_2020-11-29_162303.xlsx',\n",
       "  'TexasCOVID-19ActiveCaseDatabyCounty_2021-07-10_122303.xlsx',\n",
       "  'TexasCOVID-19ActiveCaseDatabyCounty_2020-10-07_202303.xlsx',\n",
       "  'TexasCOVID-19ActiveCaseDatabyCounty_2021-08-17_202304.xlsx',\n",
       "  'TexasCOVID-19ActiveCaseDatabyCounty_2021-03-28_162303.xlsx',\n",
       "  'TexasCOVID-19ActiveCaseDatabyCounty_2021-11-15_162303.xlsx',\n",
       "  'TexasCOVID-19ActiveCaseDatabyCounty_2020-11-27_162304.xlsx',\n",
       "  'TexasCOVID-19ActiveCaseDatabyCounty_2021-09-08_162302.xlsx',\n",
       "  'TexasCOVID-19ActiveCaseDatabyCounty_2020-07-14_202312.xlsx',\n",
       "  'TexasCOVID-19ActiveCaseDatabyCounty_2021-07-06_162303.xlsx',\n",
       "  'TexasCOVID-19ActiveCaseDatabyCounty_2020-12-20_122302.xlsx',\n",
       "  'TexasCOVID-19ActiveCaseDatabyCounty_2020-10-13_162301.xlsx',\n",
       "  'TexasCOVID-19ActiveCaseDatabyCounty_2021-07-18_122303.xlsx',\n",
       "  'TexasCOVID-19ActiveCaseDatabyCounty_2020-06-25_20231593130982.xlsx',\n",
       "  'TexasCOVID-19ActiveCaseDatabyCounty_2020-07-25_162307.xlsx',\n",
       "  'TexasCOVID-19ActiveCaseDatabyCounty_2020-08-14_202302.xlsx',\n",
       "  'TexasCOVID-19ActiveCaseDatabyCounty_2021-06-21_122302.xlsx',\n",
       "  'TexasCOVID-19ActiveCaseDatabyCounty_2021-12-22_162303.xlsx',\n",
       "  'TexasCOVID-19ActiveCaseDatabyCounty_2021-07-15_162304.xlsx',\n",
       "  'TexasCOVID-19ActiveCaseDatabyCounty_2021-07-24_162303.xlsx',\n",
       "  'TexasCOVID-19ActiveCaseDatabyCounty_2021-12-29_122303.xlsx',\n",
       "  'TexasCOVID-19ActiveCaseDatabyCounty_2020-06-27_16231593289383.xlsx',\n",
       "  'TexasCOVID-19ActiveCaseDatabyCounty_2021-10-13_162302.xlsx',\n",
       "  'TexasCOVID-19ActiveCaseDatabyCounty_2021-01-29_122302.xlsx',\n",
       "  'TexasCOVID-19ActiveCaseDatabyCounty_2020-10-11_162302.xlsx',\n",
       "  'TexasCOVID-19ActiveCaseDatabyCounty_2020-09-03_202304.xlsx',\n",
       "  'TexasCOVID-19ActiveCaseDatabyCounty_2021-12-21_162303.xlsx',\n",
       "  'TexasCOVID-19ActiveCaseDatabyCounty_2020-11-19_002302.xlsx',\n",
       "  'TexasCOVID-19ActiveCaseDatabyCounty_2021-02-19_162302.xlsx',\n",
       "  'TexasCOVID-19ActiveCaseDatabyCounty_2021-06-08_122302.xlsx',\n",
       "  'TexasCOVID-19ActiveCaseDatabyCounty_2021-02-16_162303.xlsx',\n",
       "  'TexasCOVID-19ActiveCaseDatabyCounty_2020-07-31_202302.xlsx',\n",
       "  'TexasCOVID-19ActiveCaseDatabyCounty_2021-10-23_162303.xlsx',\n",
       "  'TexasCOVID-19ActiveCaseDatabyCounty_2021-02-12_162302.xlsx',\n",
       "  'TexasCOVID-19ActiveCaseDatabyCounty_2021-10-09_122348.xlsx',\n",
       "  'TexasCOVID-19ActiveCaseDatabyCounty_2021-10-01_162302.xlsx',\n",
       "  'TexasCOVID-19ActiveCaseDatabyCounty_2021-02-08_122304.xlsx',\n",
       "  'TexasCOVID-19ActiveCaseDatabyCounty_2021-04-23_122304.xlsx',\n",
       "  'TexasCOVID-19ActiveCaseDatabyCounty_2020-10-12_162301.xlsx',\n",
       "  'TexasCOVID-19ActiveCaseDatabyCounty_2021-03-08_162301.xlsx',\n",
       "  'TexasCOVID-19ActiveCaseDatabyCounty_2021-08-05_162302.xlsx',\n",
       "  'TexasCOVID-19ActiveCaseDatabyCounty_2021-11-05_162301.xlsx',\n",
       "  'TexasCOVID-19ActiveCaseDatabyCounty_2020-09-21_202302.xlsx',\n",
       "  'TexasCOVID-19ActiveCaseDatabyCounty_2020-06-13_20231592094182.xlsx',\n",
       "  'TexasCOVID-19ActiveCaseDatabyCounty_2020-09-20_162302.xlsx',\n",
       "  'TexasCOVID-19ActiveCaseDatabyCounty_2020-07-03_16231593807783.xlsx',\n",
       "  'TexasCOVID-19ActiveCaseDatabyCounty_2021-08-02_122302.xlsx',\n",
       "  'TexasCOVID-19ActiveCaseDatabyCounty_2021-07-28_162302.xlsx',\n",
       "  'TexasCOVID-19ActiveCaseDatabyCounty_2020-05-25_20231590452583.xlsx',\n",
       "  'TexasCOVID-19ActiveCaseDatabyCounty_2020-07-08_202302.xlsx',\n",
       "  'TexasCOVID-19ActiveCaseDatabyCounty_2021-10-06_162302.xlsx',\n",
       "  'TexasCOVID-19ActiveCaseDatabyCounty_2020-11-10_162303.xlsx',\n",
       "  'TexasCOVID-19ActiveCaseDatabyCounty_2020-07-27_202305.xlsx',\n",
       "  'TexasCOVID-19ActiveCaseDatabyCounty_2021-06-05_162303.xlsx',\n",
       "  'TexasCOVID-19ActiveCaseDatabyCounty_2021-03-07_122302.xlsx',\n",
       "  'TexasCOVID-19ActiveCaseDatabyCounty_2020-07-11_202307.xlsx',\n",
       "  'TexasCOVID-19ActiveCaseDatabyCounty_2021-02-10_122302.xlsx',\n",
       "  'TexasCOVID-19ActiveCaseDatabyCounty_2021-04-12_162302.xlsx',\n",
       "  'TexasCOVID-19ActiveCaseDatabyCounty_2021-11-20_162302.xlsx',\n",
       "  'TexasCOVID-19ActiveCaseDatabyCounty_2021-12-07_162302.xlsx',\n",
       "  'TexasCOVID-19ActiveCaseDatabyCounty_2020-09-25_202302.xlsx',\n",
       "  'TexasCOVID-19ActiveCaseDatabyCounty_2021-10-18_122302.xlsx',\n",
       "  'TexasCOVID-19ActiveCaseDatabyCounty_2020-07-09_162308.xlsx',\n",
       "  'TexasCOVID-19ActiveCaseDatabyCounty_2021-04-18_122302.xlsx',\n",
       "  'TexasCOVID-19ActiveCaseDatabyCounty_2021-11-12_162302.xlsx',\n",
       "  'TexasCOVID-19ActiveCaseDatabyCounty_2020-10-01_202306.xlsx',\n",
       "  'TexasCOVID-19ActiveCaseDatabyCounty_2020-07-26_202303.xlsx',\n",
       "  'TexasCOVID-19ActiveCaseDatabyCounty_2020-10-05_162312.xlsx',\n",
       "  'TexasCOVID-19ActiveCaseDatabyCounty_2020-08-16_202305.xlsx',\n",
       "  'TexasCOVID-19ActiveCaseDatabyCounty_2020-09-15_202304.xlsx',\n",
       "  'TexasCOVID-19ActiveCaseDatabyCounty_2021-06-19_122303.xlsx',\n",
       "  'TexasCOVID-19ActiveCaseDatabyCounty_2021-03-22_162303.xlsx',\n",
       "  'TexasCOVID-19ActiveCaseDatabyCounty_2021-10-22_122302.xlsx',\n",
       "  'TexasCOVID-19ActiveCaseDatabyCounty_2021-08-30_162303.xlsx',\n",
       "  'TexasCOVID-19ActiveCaseDatabyCounty_2021-04-03_122303.xlsx',\n",
       "  'TexasCOVID-19ActiveCaseDatabyCounty_2021-08-02_202302.xlsx',\n",
       "  'TexasCOVID-19ActiveCaseDatabyCounty_2020-09-17_202302.xlsx',\n",
       "  'TexasCOVID-19ActiveCaseDatabyCounty_2021-04-10_162303.xlsx',\n",
       "  'TexasCOVID-19ActiveCaseDatabyCounty_2020-07-30_202308.xlsx',\n",
       "  'TexasCOVID-19ActiveCaseDatabyCounty_2021-06-24_162302.xlsx',\n",
       "  'TexasCOVID-19ActiveCaseDatabyCounty_2021-05-19_162523.xlsx',\n",
       "  'TexasCOVID-19ActiveCaseDatabyCounty_2020-07-28_122302.xlsx',\n",
       "  'TexasCOVID-19ActiveCaseDatabyCounty_2020-06-01_20231591057383.xlsx',\n",
       "  'TexasCOVID-19ActiveCaseDatabyCounty_2021-09-06_122303.xlsx',\n",
       "  'TexasCOVID-19ActiveCaseDatabyCounty_2020-06-01_16231591042988.xlsx',\n",
       "  'TexasCOVID-19ActiveCaseDatabyCounty_2021-10-29_162302.xlsx',\n",
       "  'TexasCOVID-19ActiveCaseDatabyCounty_2020-06-18_20231592526182.xlsx',\n",
       "  'TexasCOVID-19ActiveCaseDatabyCounty_2021-09-16_122303.xlsx',\n",
       "  'TexasCOVID-19ActiveCaseDatabyCounty_2020-10-02_202303.xlsx',\n",
       "  'TexasCOVID-19ActiveCaseDatabyCounty_2021-02-13_162303.xlsx',\n",
       "  'TexasCOVID-19ActiveCaseDatabyCounty_2020-12-01_202302.xlsx',\n",
       "  'TexasCOVID-19ActiveCaseDatabyCounty_2021-07-05_122303.xlsx',\n",
       "  'TexasCOVID-19ActiveCaseDatabyCounty_2021-01-22_162302.xlsx',\n",
       "  'TexasCOVID-19ActiveCaseDatabyCounty_2021-09-27_122304.xlsx',\n",
       "  'TexasCOVID-19ActiveCaseDatabyCounty_2020-11-11_162327.xlsx',\n",
       "  'TexasCOVID-19ActiveCaseDatabyCounty_2021-03-06_122303.xlsx',\n",
       "  'TexasCOVID-19ActiveCaseDatabyCounty_2020-09-23_202302.xlsx',\n",
       "  'TexasCOVID-19ActiveCaseDatabyCounty_2021-08-23_162302.xlsx',\n",
       "  'TexasCOVID-19ActiveCaseDatabyCounty_2020-08-31_162307.xlsx',\n",
       "  'TexasCOVID-19ActiveCaseDatabyCounty_2021-02-21_162302.xlsx',\n",
       "  'TexasCOVID-19ActiveCaseDatabyCounty_2020-05-23_20231590279783.xlsx',\n",
       "  'TexasCOVID-19ActiveCaseDatabyCounty_2020-11-02_162302.xlsx',\n",
       "  'TexasCOVID-19ActiveCaseDatabyCounty_2020-12-28_162303.xlsx',\n",
       "  'TexasCOVID-19ActiveCaseDatabyCounty_2021-08-27_162303.xlsx',\n",
       "  'TexasCOVID-19ActiveCaseDatabyCounty_2020-11-12_162302.xlsx',\n",
       "  'TexasCOVID-19ActiveCaseDatabyCounty_2021-06-20_122302.xlsx',\n",
       "  'TexasCOVID-19ActiveCaseDatabyCounty_2020-08-27_002302.xlsx',\n",
       "  'TexasCOVID-19ActiveCaseDatabyCounty_2020-11-08_162303.xlsx',\n",
       "  'TexasCOVID-19ActiveCaseDatabyCounty_2021-11-23_162302.xlsx',\n",
       "  'TexasCOVID-19ActiveCaseDatabyCounty_2021-08-22_162302.xlsx',\n",
       "  'TexasCOVID-19ActiveCaseDatabyCounty_2020-08-30_162310.xlsx',\n",
       "  'TexasCOVID-19ActiveCaseDatabyCounty_2021-09-19_122303.xlsx',\n",
       "  'TexasCOVID-19ActiveCaseDatabyCounty_2021-01-08_162302.xlsx',\n",
       "  'TexasCOVID-19ActiveCaseDatabyCounty_2020-09-27_162314.xlsx',\n",
       "  'TexasCOVID-19ActiveCaseDatabyCounty_2021-12-12_122305.xlsx',\n",
       "  'TexasCOVID-19ActiveCaseDatabyCounty_2021-04-28_162302.xlsx',\n",
       "  'TexasCOVID-19ActiveCaseDatabyCounty_2021-09-11_162303.xlsx',\n",
       "  'TexasCOVID-19ActiveCaseDatabyCounty_2021-06-01_162330.xlsx',\n",
       "  'TexasCOVID-19ActiveCaseDatabyCounty_2021-04-14_122303.xlsx',\n",
       "  'TexasCOVID-19ActiveCaseDatabyCounty_2020-08-18_202311.xlsx',\n",
       "  'TexasCOVID-19ActiveCaseDatabyCounty_2020-11-09_162302.xlsx',\n",
       "  'TexasCOVID-19ActiveCaseDatabyCounty_2020-12-10_162303.xlsx',\n",
       "  'TexasCOVID-19ActiveCaseDatabyCounty_2021-12-18_122302.xlsx',\n",
       "  'TexasCOVID-19ActiveCaseDatabyCounty_2021-10-25_162303.xlsx',\n",
       "  'TexasCOVID-19ActiveCaseDatabyCounty_2021-02-20_162303.xlsx',\n",
       "  'TexasCOVID-19ActiveCaseDatabyCounty_2021-12-16_122303.xlsx',\n",
       "  'TexasCOVID-19ActiveCaseDatabyCounty_2021-10-08_162840.xlsx',\n",
       "  'TexasCOVID-19ActiveCaseDatabyCounty_2021-10-04_122302.xlsx',\n",
       "  'TexasCOVID-19ActiveCaseDatabyCounty_2021-12-27_202302.xlsx',\n",
       "  'TexasCOVID-19ActiveCaseDatabyCounty_2020-05-31_16231590956583.xlsx',\n",
       "  'TexasCOVID-19ActiveCaseDatabyCounty_2021-09-26_162302.xlsx',\n",
       "  'TexasCOVID-19ActiveCaseDatabyCounty_2021-08-09_162303.xlsx',\n",
       "  'TexasCOVID-19ActiveCaseDatabyCounty_2021-08-25_162302.xlsx',\n",
       "  'TexasCOVID-19ActiveCaseDatabyCounty_2020-11-24_202303.xlsx',\n",
       "  'TexasCOVID-19ActiveCaseDatabyCounty_2021-03-04_162301.xlsx',\n",
       "  'TexasCOVID-19ActiveCaseDatabyCounty_2020-06-09_16231591734182.xlsx',\n",
       "  'TexasCOVID-19ActiveCaseDatabyCounty_2021-09-10_162302.xlsx',\n",
       "  'TexasCOVID-19ActiveCaseDatabyCounty_2020-09-08_202302.xlsx',\n",
       "  'TexasCOVID-19ActiveCaseDatabyCounty_2020-05-27_20231590625382.xlsx',\n",
       "  'TexasCOVID-19ActiveCaseDatabyCounty_2020-06-23_20231592958184.xlsx',\n",
       "  'TexasCOVID-19ActiveCaseDatabyCounty_2021-02-25_162301.xlsx',\n",
       "  'TexasCOVID-19ActiveCaseDatabyCounty_2021-01-09_202303.xlsx',\n",
       "  'TexasCOVID-19ActiveCaseDatabyCounty_2020-07-22_202305.xlsx',\n",
       "  'TexasCOVID-19ActiveCaseDatabyCounty_2021-08-26_162302.xlsx',\n",
       "  'TexasCOVID-19ActiveCaseDatabyCounty_2021-10-02_162302.xlsx',\n",
       "  'TexasCOVID-19ActiveCaseDatabyCounty_2021-03-30_202303.xlsx',\n",
       "  'TexasCOVID-19ActiveCaseDatabyCounty_2021-03-23_202303.xlsx',\n",
       "  'TexasCOVID-19ActiveCaseDatabyCounty_2020-12-08_162302.xlsx',\n",
       "  'TexasCOVID-19ActiveCaseDatabyCounty_2021-11-01_162321.xlsx',\n",
       "  'TexasCOVID-19ActiveCaseDatabyCounty_2020-08-19_202302.xlsx',\n",
       "  'TexasCOVID-19ActiveCaseDatabyCounty_2022-04-27_162303.xlsx',\n",
       "  'TexasCOVID-19ActiveCaseDatabyCounty_2021-12-03_162459.xlsx',\n",
       "  'TexasCOVID-19ActiveCaseDatabyCounty_2020-10-15_162305.xlsx',\n",
       "  'TexasCOVID-19ActiveCaseDatabyCounty_2021-01-15_162303.xlsx',\n",
       "  'TexasCOVID-19ActiveCaseDatabyCounty_2021-04-17_122303.xlsx',\n",
       "  'TexasCOVID-19ActiveCaseDatabyCounty_2021-06-07_162302.xlsx',\n",
       "  'TexasCOVID-19ActiveCaseDatabyCounty_2021-07-26_122303.xlsx',\n",
       "  'TexasCOVID-19ActiveCaseDatabyCounty_2021-07-03_122303.xlsx',\n",
       "  'TexasCOVID-19ActiveCaseDatabyCounty_2021-05-03_162325.xlsx',\n",
       "  'TexasCOVID-19ActiveCaseDatabyCounty_2021-11-29_162302.xlsx',\n",
       "  'TexasCOVID-19ActiveCaseDatabyCounty_2021-07-12_162302.xlsx',\n",
       "  'TexasCOVID-19ActiveCaseDatabyCounty_2021-10-15_162302.xlsx',\n",
       "  'TexasCOVID-19ActiveCaseDatabyCounty_2021-04-11_122309.xlsx',\n",
       "  'TexasCOVID-19ActiveCaseDatabyCounty_2021-08-29_162303.xlsx',\n",
       "  'TexasCOVID-19ActiveCaseDatabyCounty_2020-12-24_122303.xlsx',\n",
       "  'TexasCOVID-19ActiveCaseDatabyCounty_2021-01-03_162303.xlsx',\n",
       "  'TexasCOVID-19ActiveCaseDatabyCounty_2021-09-30_162302.xlsx',\n",
       "  'TexasCOVID-19ActiveCaseDatabyCounty_2021-09-07_122303.xlsx',\n",
       "  'TexasCOVID-19ActiveCaseDatabyCounty_2020-11-28_162303.xlsx',\n",
       "  'TexasCOVID-19ActiveCaseDatabyCounty_2021-03-13_162303.xlsx',\n",
       "  'TexasCOVID-19ActiveCaseDatabyCounty_2021-04-07_122302.xlsx',\n",
       "  'TexasCOVID-19ActiveCaseDatabyCounty_2021-06-16_162303.xlsx',\n",
       "  'TexasCOVID-19ActiveCaseDatabyCounty_2022-01-06_122302.xlsx',\n",
       "  'TexasCOVID-19ActiveCaseDatabyCounty_2021-01-12_122303.xlsx',\n",
       "  'TexasCOVID-19ActiveCaseDatabyCounty_2021-06-23_162311.xlsx',\n",
       "  'TexasCOVID-19ActiveCaseDatabyCounty_2020-08-13_202305.xlsx',\n",
       "  'TexasCOVID-19ActiveCaseDatabyCounty_2020-07-07_20231594167788.xlsx',\n",
       "  'TexasCOVID-19ActiveCaseDatabyCounty_2020-08-10_202308.xlsx',\n",
       "  'TexasCOVID-19ActiveCaseDatabyCounty_2020-06-22_16231592857382.xlsx',\n",
       "  'TexasCOVID-19ActiveCaseDatabyCounty_2020-08-22_202303.xlsx',\n",
       "  'TexasCOVID-19ActiveCaseDatabyCounty_2020-12-23_162302.xlsx',\n",
       "  'TexasCOVID-19ActiveCaseDatabyCounty_2020-12-15_162303.xlsx',\n",
       "  'TexasCOVID-19ActiveCaseDatabyCounty_2020-09-11_202311.xlsx',\n",
       "  'TexasCOVID-19ActiveCaseDatabyCounty_2021-12-10_202304.xlsx',\n",
       "  'TexasCOVID-19ActiveCaseDatabyCounty_2021-09-22_162302.xlsx',\n",
       "  'TexasCOVID-19ActiveCaseDatabyCounty_2021-11-19_162525.xlsx',\n",
       "  'TexasCOVID-19ActiveCaseDatabyCounty_2021-08-07_122302.xlsx',\n",
       "  'TexasCOVID-19ActiveCaseDatabyCounty_2021-05-30_122302.xlsx',\n",
       "  'TexasCOVID-19ActiveCaseDatabyCounty_2021-10-31_162303.xlsx',\n",
       "  'TexasCOVID-19ActiveCaseDatabyCounty_2020-12-04_162302.xlsx',\n",
       "  'TexasCOVID-19ActiveCaseDatabyCounty_2021-04-25_162303.xlsx',\n",
       "  'TexasCOVID-19ActiveCaseDatabyCounty_2020-10-27_162302.xlsx',\n",
       "  'TexasCOVID-19ActiveCaseDatabyCounty_2020-09-02_202303.xlsx',\n",
       "  'TexasCOVID-19ActiveCaseDatabyCounty_2021-12-28_162302.xlsx',\n",
       "  'TexasCOVID-19ActiveCaseDatabyCounty_2021-06-26_162303.xlsx',\n",
       "  'TexasCOVID-19ActiveCaseDatabyCounty_2021-11-13_162303.xlsx',\n",
       "  'TexasCOVID-19ActiveCaseDatabyCounty_2021-08-04_162302.xlsx',\n",
       "  'TexasCOVID-19ActiveCaseDatabyCounty_2021-06-04_162302.xlsx',\n",
       "  'TexasCOVID-19ActiveCaseDatabyCounty_2021-02-01_122303.xlsx',\n",
       "  'TexasCOVID-19ActiveCaseDatabyCounty_2020-08-08_162303.xlsx',\n",
       "  'TexasCOVID-19ActiveCaseDatabyCounty_2021-10-07_162302.xlsx',\n",
       "  'TexasCOVID-19ActiveCaseDatabyCounty_2020-09-26_162303.xlsx',\n",
       "  'TexasCOVID-19ActiveCaseDatabyCounty_2020-08-01_202303.xlsx',\n",
       "  'TexasCOVID-19ActiveCaseDatabyCounty_2021-02-23_162301.xlsx',\n",
       "  'TexasCOVID-19ActiveCaseDatabyCounty_2020-06-08_20231591662181.xlsx',\n",
       "  'TexasCOVID-19ActiveCaseDatabyCounty_2020-10-30_162914.xlsx',\n",
       "  'TexasCOVID-19ActiveCaseDatabyCounty_2021-12-06_122302.xlsx',\n",
       "  'TexasCOVID-19ActiveCaseDatabyCounty_2021-08-01_002303.xlsx',\n",
       "  'TexasCOVID-19ActiveCaseDatabyCounty_2021-10-05_122303.xlsx',\n",
       "  'TexasCOVID-19ActiveCaseDatabyCounty_2021-10-24_122302.xlsx',\n",
       "  'TexasCOVID-19ActiveCaseDatabyCounty_2021-02-06_122303.xlsx',\n",
       "  'TexasCOVID-19ActiveCaseDatabyCounty_2021-11-11_122303.xlsx',\n",
       "  'TexasCOVID-19ActiveCaseDatabyCounty_2020-06-07_16231591561383.xlsx',\n",
       "  'TexasCOVID-19ActiveCaseDatabyCounty_2022-01-12_122303.xlsx',\n",
       "  'TexasCOVID-19ActiveCaseDatabyCounty_2021-02-03_122302.xlsx',\n",
       "  'TexasCOVID-19ActiveCaseDatabyCounty_2021-05-25_122303.xlsx',\n",
       "  'TexasCOVID-19ActiveCaseDatabyCounty_2021-03-20_162303.xlsx',\n",
       "  'TexasCOVID-19ActiveCaseDatabyCounty_2020-07-21_202308.xlsx',\n",
       "  'TexasCOVID-19ActiveCaseDatabyCounty_2021-01-18_162302.xlsx',\n",
       "  'TexasCOVID-19ActiveCaseDatabyCounty_2020-11-22_122303.xlsx',\n",
       "  'TexasCOVID-19ActiveCaseDatabyCounty_2021-09-29_162303.xlsx',\n",
       "  'TexasCOVID-19ActiveCaseDatabyCounty_2021-03-11_122303.xlsx',\n",
       "  'TexasCOVID-19ActiveCaseDatabyCounty_2021-04-29_122325.xlsx',\n",
       "  'TexasCOVID-19ActiveCaseDatabyCounty_2020-06-04_20231591316582.xlsx',\n",
       "  'TexasCOVID-19ActiveCaseDatabyCounty_2021-12-29_162303.xlsx',\n",
       "  'TexasCOVID-19ActiveCaseDatabyCounty_2020-08-07_202304.xlsx',\n",
       "  'TexasCOVID-19ActiveCaseDatabyCounty_2021-08-19_202302.xlsx',\n",
       "  'TexasCOVID-19ActiveCaseDatabyCounty_2021-04-02_122302.xlsx',\n",
       "  'TexasCOVID-19ActiveCaseDatabyCounty_2021-05-06_122303.xlsx',\n",
       "  'TexasCOVID-19ActiveCaseDatabyCounty_2020-06-29_20231593476583.xlsx',\n",
       "  'TexasCOVID-19ActiveCaseDatabyCounty_2020-09-14_202302.xlsx',\n",
       "  'TexasCOVID-19ActiveCaseDatabyCounty_2021-09-02_162303.xlsx',\n",
       "  'TexasCOVID-19ActiveCaseDatabyCounty_2020-08-06_202302.xlsx',\n",
       "  'TexasCOVID-19ActiveCaseDatabyCounty_2021-10-16_162304.xlsx',\n",
       "  'TexasCOVID-19ActiveCaseDatabyCounty_2021-05-15_122304.xlsx',\n",
       "  'TexasCOVID-19ActiveCaseDatabyCounty_2021-03-17_202302.xlsx',\n",
       "  'TexasCOVID-19ActiveCaseDatabyCounty_2021-05-23_122303.xlsx',\n",
       "  'TexasCOVID-19ActiveCaseDatabyCounty_2021-11-24_122303.xlsx',\n",
       "  'TexasCOVID-19ActiveCaseDatabyCounty_2021-08-12_122303.xlsx',\n",
       "  'TexasCOVID-19ActiveCaseDatabyCounty_2020-06-20_16231592684583.xlsx',\n",
       "  'TexasCOVID-19ActiveCaseDatabyCounty_2020-07-12_162303.xlsx',\n",
       "  'TexasCOVID-19ActiveCaseDatabyCounty_2021-09-17_162302.xlsx',\n",
       "  'TexasCOVID-19ActiveCaseDatabyCounty_2021-07-30_202303.xlsx',\n",
       "  'TexasCOVID-19ActiveCaseDatabyCounty_2021-03-27_122302.xlsx',\n",
       "  'TexasCOVID-19ActiveCaseDatabyCounty_2020-06-24_20231593044585.xlsx',\n",
       "  'TexasCOVID-19ActiveCaseDatabyCounty_2021-01-13_162303.xlsx',\n",
       "  'TexasCOVID-19ActiveCaseDatabyCounty_2021-02-04_162303.xlsx',\n",
       "  'TexasCOVID-19ActiveCaseDatabyCounty_2021-01-14_162303.xlsx',\n",
       "  'TexasCOVID-19ActiveCaseDatabyCounty_2021-08-21_162303.xlsx',\n",
       "  'TexasCOVID-19ActiveCaseDatabyCounty_2020-07-02_20231593735788.xlsx',\n",
       "  'TexasCOVID-19ActiveCaseDatabyCounty_2021-12-02_162302.xlsx',\n",
       "  'TexasCOVID-19ActiveCaseDatabyCounty_2022-01-03_162304.xlsx',\n",
       "  'TexasCOVID-19ActiveCaseDatabyCounty_2021-08-31_202304.xlsx',\n",
       "  'TexasCOVID-19ActiveCaseDatabyCounty_2020-10-16_202302.xlsx',\n",
       "  'TexasCOVID-19ActiveCaseDatabyCounty_2020-09-28_202302.xlsx',\n",
       "  'TexasCOVID-19ActiveCaseDatabyCounty_2021-08-15_122302.xlsx',\n",
       "  'TexasCOVID-19ActiveCaseDatabyCounty_2020-11-14_162303.xlsx',\n",
       "  'TexasCOVID-19ActiveCaseDatabyCounty_2021-09-15_122304.xlsx',\n",
       "  'TexasCOVID-19ActiveCaseDatabyCounty_2020-09-01_202302.xlsx',\n",
       "  'TexasCOVID-19ActiveCaseDatabyCounty_2021-05-14_122302.xlsx',\n",
       "  'TexasCOVID-19ActiveCaseDatabyCounty_2021-08-01_162302.xlsx',\n",
       "  'TexasCOVID-19ActiveCaseDatabyCounty_2021-09-21_162504.xlsx',\n",
       "  'TexasCOVID-19ActiveCaseDatabyCounty_2021-12-01_162307.xlsx',\n",
       "  'TexasCOVID-19ActiveCaseDatabyCounty_2021-06-10_162302.xlsx',\n",
       "  'TexasCOVID-19ActiveCaseDatabyCounty_2021-11-08_122540.xlsx',\n",
       "  'TexasCOVID-19ActiveCaseDatabyCounty_2021-06-22_162303.xlsx',\n",
       "  'TexasCOVID-19ActiveCaseDatabyCounty_2020-07-06_22541594090441.xlsx',\n",
       "  'TexasCOVID-19ActiveCaseDatabyCounty_2021-06-28_162302.xlsx',\n",
       "  'TexasCOVID-19ActiveCaseDatabyCounty_2021-05-08_122303.xlsx',\n",
       "  'TexasCOVID-19ActiveCaseDatabyCounty_2021-05-10_162302.xlsx',\n",
       "  'TexasCOVID-19ActiveCaseDatabyCounty_2021-11-02_122956.xlsx',\n",
       "  'TexasCOVID-19ActiveCaseDatabyCounty_2021-07-13_162301.xlsx',\n",
       "  'TexasCOVID-19ActiveCaseDatabyCounty_2020-06-12_16231591993382.xlsx',\n",
       "  'TexasCOVID-19ActiveCaseDatabyCounty_2020-11-03_162303.xlsx',\n",
       "  'TexasCOVID-19ActiveCaseDatabyCounty_2021-12-08_122302.xlsx',\n",
       "  'TexasCOVID-19ActiveCaseDatabyCounty_2021-06-03_162302.xlsx',\n",
       "  'TexasCOVID-19ActiveCaseDatabyCounty_2021-05-12_202303.xlsx',\n",
       "  'TexasCOVID-19ActiveCaseDatabyCounty_2021-11-09_162308.xlsx',\n",
       "  'TexasCOVID-19ActiveCaseDatabyCounty_2021-03-21_162303.xlsx',\n",
       "  'TexasCOVID-19ActiveCaseDatabyCounty_2021-11-04_122302.xlsx',\n",
       "  'TexasCOVID-19ActiveCaseDatabyCounty_2020-10-21_042302.xlsx',\n",
       "  'TexasCOVID-19ActiveCaseDatabyCounty_2020-08-29_162302.xlsx',\n",
       "  'TexasCOVID-19ActiveCaseDatabyCounty_2021-12-14_162601.xlsx',\n",
       "  'TexasCOVID-19ActiveCaseDatabyCounty_2021-10-11_122302.xlsx',\n",
       "  'TexasCOVID-19ActiveCaseDatabyCounty_2021-03-19_162301.xlsx',\n",
       "  'TexasCOVID-19ActiveCaseDatabyCounty_2021-09-01_162303.xlsx',\n",
       "  'TexasCOVID-19ActiveCaseDatabyCounty_2021-07-31_162303.xlsx',\n",
       "  'TexasCOVID-19ActiveCaseDatabyCounty_2020-10-26_122303.xlsx',\n",
       "  'TexasCOVID-19ActiveCaseDatabyCounty_2020-05-26_20231590538983.xlsx',\n",
       "  'TexasCOVID-19ActiveCaseDatabyCounty_2021-06-14_172827.xlsx',\n",
       "  'TexasCOVID-19ActiveCaseDatabyCounty_2020-12-16_162302.xlsx',\n",
       "  'TexasCOVID-19ActiveCaseDatabyCounty_2020-09-18_162307.xlsx',\n",
       "  'TexasCOVID-19ActiveCaseDatabyCounty_2021-10-28_162302.xlsx',\n",
       "  'TexasCOVID-19ActiveCaseDatabyCounty_2021-01-28_122303.xlsx',\n",
       "  'TexasCOVID-19ActiveCaseDatabyCounty_2021-11-22_162303.xlsx',\n",
       "  'TexasCOVID-19ActiveCaseDatabyCounty_2021-01-31_122304.xlsx',\n",
       "  'TexasCOVID-19ActiveCaseDatabyCounty_2021-08-03_162302.xlsx',\n",
       "  'TexasCOVID-19ActiveCaseDatabyCounty_2020-09-10_202302.xlsx',\n",
       "  'TexasCOVID-19ActiveCaseDatabyCounty_2021-01-20_162303.xlsx',\n",
       "  'TexasCOVID-19ActiveCaseDatabyCounty_2021-12-19_122303.xlsx',\n",
       "  'TexasCOVID-19ActiveCaseDatabyCounty_2021-05-17_162302.xlsx',\n",
       "  'TexasCOVID-19ActiveCaseDatabyCounty_2021-04-08_162433.xlsx',\n",
       "  'TexasCOVID-19ActiveCaseDatabyCounty_2021-04-22_162303.xlsx',\n",
       "  'TexasCOVID-19ActiveCaseDatabyCounty_2020-10-10_162308.xlsx',\n",
       "  'TexasCOVID-19ActiveCaseDatabyCounty_2020-06-02_16231591129387.xlsx',\n",
       "  'TexasCOVID-19ActiveCaseDatabyCounty_2020-05-22_20231590193385.xlsx',\n",
       "  'TexasCOVID-19ActiveCaseDatabyCounty_2021-05-29_122302.xlsx',\n",
       "  'TexasCOVID-19ActiveCaseDatabyCounty_2022-01-11_122304.xlsx',\n",
       "  'TexasCOVID-19ActiveCaseDatabyCounty_2020-08-24_202303.xlsx',\n",
       "  'TexasCOVID-19ActiveCaseDatabyCounty_2021-01-19_202303.xlsx',\n",
       "  'TexasCOVID-19ActiveCaseDatabyCounty_2020-08-28_202304.xlsx',\n",
       "  'TexasCOVID-19ActiveCaseDatabyCounty_2020-12-12_162303.xlsx',\n",
       "  'TexasCOVID-19ActiveCaseDatabyCounty_2020-06-16_20231592353383.xlsx',\n",
       "  'TexasCOVID-19ActiveCaseDatabyCounty_2022-01-04_162302.xlsx',\n",
       "  'TexasCOVID-19ActiveCaseDatabyCounty_2021-05-04_162303.xlsx',\n",
       "  'TexasCOVID-19ActiveCaseDatabyCounty_2021-02-14_122302.xlsx',\n",
       "  'TexasCOVID-19ActiveCaseDatabyCounty_2021-06-29_122302.xlsx',\n",
       "  'TexasCOVID-19ActiveCaseDatabyCounty_2020-08-23_202303.xlsx',\n",
       "  'TexasCOVID-19ActiveCaseDatabyCounty_2021-04-09_162304.xlsx',\n",
       "  'TexasCOVID-19ActiveCaseDatabyCounty_2021-09-28_162303.xlsx',\n",
       "  'TexasCOVID-19ActiveCaseDatabyCounty_2021-07-25_162302.xlsx',\n",
       "  'TexasCOVID-19ActiveCaseDatabyCounty_2020-09-07_162302.xlsx',\n",
       "  'TexasCOVID-19ActiveCaseDatabyCounty_2021-07-22_162303.xlsx',\n",
       "  'TexasCOVID-19ActiveCaseDatabyCounty_2021-08-10_162302.xlsx',\n",
       "  'TexasCOVID-19ActiveCaseDatabyCounty_2020-10-04_162307.xlsx',\n",
       "  'TexasCOVID-19ActiveCaseDatabyCounty_2020-10-09_202303.xlsx',\n",
       "  'TexasCOVID-19ActiveCaseDatabyCounty_2020-07-17_093129.xlsx',\n",
       "  'TexasCOVID-19ActiveCaseDatabyCounty_2021-06-06_122303.xlsx',\n",
       "  'TexasCOVID-19ActiveCaseDatabyCounty_2021-07-20_122305.xlsx',\n",
       "  'TexasCOVID-19ActiveCaseDatabyCounty_2021-05-18_162301.xlsx',\n",
       "  'TexasCOVID-19ActiveCaseDatabyCounty_2020-12-28_082303.xlsx',\n",
       "  'TexasCOVID-19ActiveCaseDatabyCounty_2021-03-05_162312.xlsx',\n",
       "  'TexasCOVID-19ActiveCaseDatabyCounty_2021-10-12_162305.xlsx',\n",
       "  'TexasCOVID-19ActiveCaseDatabyCounty_2021-06-11_162304.xlsx',\n",
       "  'TexasCOVID-19ActiveCaseDatabyCounty_2020-07-19_202303.xlsx',\n",
       "  'TexasCOVID-19ActiveCaseDatabyCounty_2021-05-26_122302.xlsx',\n",
       "  'TexasCOVID-19ActiveCaseDatabyCounty_2020-12-17_162303.xlsx',\n",
       "  'TexasCOVID-19ActiveCaseDatabyCounty_2021-08-02_002302.xlsx',\n",
       "  'TexasCOVID-19ActiveCaseDatabyCounty_2021-06-30_162302.xlsx',\n",
       "  'TexasCOVID-19ActiveCaseDatabyCounty_2020-07-10_202305.xlsx',\n",
       "  'TexasCOVID-19ActiveCaseDatabyCounty_2021-06-09_162302.xlsx',\n",
       "  'TexasCOVID-19ActiveCaseDatabyCounty_2021-09-04_162303.xlsx',\n",
       "  'TexasCOVID-19ActiveCaseDatabyCounty_2021-04-05_122306.xlsx',\n",
       "  'TexasCOVID-19ActiveCaseDatabyCounty_2021-11-10_162616.xlsx',\n",
       "  'TexasCOVID-19ActiveCaseDatabyCounty_2020-06-19_16231592598188.xlsx',\n",
       "  'TexasCOVID-19ActiveCaseDatabyCounty_2021-06-02_162302.xlsx',\n",
       "  'TexasCOVID-19ActiveCaseDatabyCounty_2021-02-07_122304.xlsx',\n",
       "  'TexasCOVID-19ActiveCaseDatabyCounty_2021-07-21_162304.xlsx',\n",
       "  'TexasCOVID-19ActiveCaseDatabyCounty_2021-08-28_162309.xlsx',\n",
       "  'TexasCOVID-19ActiveCaseDatabyCounty_2020-06-06_16231591474989.xlsx',\n",
       "  'TexasCOVID-19ActiveCaseDatabyCounty_2020-06-26_20231593217382.xlsx',\n",
       "  'TexasCOVID-19ActiveCaseDatabyCounty_2021-08-17_162302.xlsx',\n",
       "  'TexasCOVID-19ActiveCaseDatabyCounty_2021-06-13_162303.xlsx',\n",
       "  'TexasCOVID-19ActiveCaseDatabyCounty_2021-09-25_122302.xlsx',\n",
       "  'TexasCOVID-19ActiveCaseDatabyCounty_2021-07-11_122303.xlsx',\n",
       "  'TexasCOVID-19ActiveCaseDatabyCounty_2020-12-21_162302.xlsx',\n",
       "  'TexasCOVID-19ActiveCaseDatabyCounty_2021-07-27_162301.xlsx',\n",
       "  'TexasCOVID-19ActiveCaseDatabyCounty_2020-08-09_162302.xlsx',\n",
       "  'TexasCOVID-19ActiveCaseDatabyCounty_2020-12-13_162302.xlsx',\n",
       "  'TexasCOVID-19ActiveCaseDatabyCounty_2020-06-14_16231592166183.xlsx',\n",
       "  'TexasCOVID-19ActiveCaseDatabyCounty_2020-10-26_162302.xlsx',\n",
       "  'TexasCOVID-19ActiveCaseDatabyCounty_2020-11-06_162302.xlsx',\n",
       "  'TexasCOVID-19ActiveCaseDatabyCounty_2021-09-12_122303.xlsx',\n",
       "  'TexasCOVID-19ActiveCaseDatabyCounty_2020-12-22_202303.xlsx',\n",
       "  'TexasCOVID-19ActiveCaseDatabyCounty_2021-03-24_162303.xlsx',\n",
       "  'TexasCOVID-19ActiveCaseDatabyCounty_2021-11-30_162302.xlsx',\n",
       "  'TexasCOVID-19ActiveCaseDatabyCounty_2020-11-21_162303.xlsx',\n",
       "  'TexasCOVID-19ActiveCaseDatabyCounty_2020-12-02_162304.xlsx',\n",
       "  'TexasCOVID-19ActiveCaseDatabyCounty_2020-11-23_202302.xlsx',\n",
       "  'TexasCOVID-19ActiveCaseDatabyCounty_2020-09-05_202303.xlsx',\n",
       "  'TexasCOVID-19ActiveCaseDatabyCounty_2020-06-05_20231591402988.xlsx',\n",
       "  'TexasCOVID-19ActiveCaseDatabyCounty_2020-11-30_162302.xlsx',\n",
       "  'TexasCOVID-19ActiveCaseDatabyCounty_2021-05-20_122302.xlsx',\n",
       "  'TexasCOVID-19ActiveCaseDatabyCounty_2021-10-20_122304.xlsx',\n",
       "  'TexasCOVID-19ActiveCaseDatabyCounty_2020-05-21_20231590106988.xlsx',\n",
       "  'TexasCOVID-19ActiveCaseDatabyCounty_2021-04-01_122302.xlsx',\n",
       "  'TexasCOVID-19ActiveCaseDatabyCounty_2020-10-03_202302.xlsx',\n",
       "  'TexasCOVID-19ActiveCaseDatabyCounty_2021-08-13_122303.xlsx',\n",
       "  'TexasCOVID-19ActiveCaseDatabyCounty_2021-04-24_162304.xlsx',\n",
       "  'TexasCOVID-19ActiveCaseDatabyCounty_2021-03-01_162303.xlsx',\n",
       "  'TexasCOVID-19ActiveCaseDatabyCounty_2021-03-15_162302.xlsx',\n",
       "  'TexasCOVID-19ActiveCaseDatabyCounty_2020-05-28_20231590711788.xlsx',\n",
       "  'TexasCOVID-19ActiveCaseDatabyCounty_2020-10-17_162302.xlsx',\n",
       "  'TexasCOVID-19ActiveCaseDatabyCounty_2020-06-29_04231593418983.xlsx',\n",
       "  'TexasCOVID-19ActiveCaseDatabyCounty_2021-08-18_162302.xlsx',\n",
       "  'TexasCOVID-19ActiveCaseDatabyCounty_2021-06-27_122303.xlsx',\n",
       "  'TexasCOVID-19ActiveCaseDatabyCounty_2020-11-25_162303.xlsx',\n",
       "  'TexasCOVID-19ActiveCaseDatabyCounty_2020-08-11_202305.xlsx',\n",
       "  'TexasCOVID-19ActiveCaseDatabyCounty_2021-03-02_162302.xlsx',\n",
       "  'TexasCOVID-19ActiveCaseDatabyCounty_2020-11-07_162303.xlsx',\n",
       "  'TexasCOVID-19ActiveCaseDatabyCounty_2021-10-30_162304.xlsx',\n",
       "  'TexasCOVID-19ActiveCaseDatabyCounty_2020-07-23_202303.xlsx',\n",
       "  'TexasCOVID-19ActiveCaseDatabyCounty_2020-12-05_162304.xlsx',\n",
       "  'TexasCOVID-19ActiveCaseDatabyCounty_2021-08-06_122302.xlsx',\n",
       "  'TexasCOVID-19ActiveCaseDatabyCounty_2021-05-22_162303.xlsx',\n",
       "  'TexasCOVID-19ActiveCaseDatabyCounty_2021-08-11_162316.xlsx',\n",
       "  'TexasCOVID-19ActiveCaseDatabyCounty_2020-11-16_002303.xlsx',\n",
       "  'TexasCOVID-19ActiveCaseDatabyCounty_2021-11-14_122304.xlsx',\n",
       "  'TexasCOVID-19ActiveCaseDatabyCounty_2020-09-22_202302.xlsx',\n",
       "  'TexasCOVID-19ActiveCaseDatabyCounty_2020-12-03_162303.xlsx',\n",
       "  'TexasCOVID-19ActiveCaseDatabyCounty_2021-03-25_162302.xlsx',\n",
       "  'TexasCOVID-19ActiveCaseDatabyCounty_2020-10-23_202302.xlsx',\n",
       "  'TexasCOVID-19ActiveCaseDatabyCounty_2020-12-09_162302.xlsx',\n",
       "  'TexasCOVID-19ActiveCaseDatabyCounty_2020-10-18_162302.xlsx',\n",
       "  'TexasCOVID-19ActiveCaseDatabyCounty_2020-11-02_002303.xlsx',\n",
       "  'TexasCOVID-19ActiveCaseDatabyCounty_2020-06-17_16231592425382.xlsx',\n",
       "  'TexasCOVID-19ActiveCaseDatabyCounty_2022-01-05_122302.xlsx',\n",
       "  'TexasCOVID-19ActiveCaseDatabyCounty_2021-12-04_162303.xlsx',\n",
       "  'TexasCOVID-19ActiveCaseDatabyCounty_2020-09-09_202304.xlsx',\n",
       "  'TexasCOVID-19ActiveCaseDatabyCounty_2022-01-09_122303.xlsx',\n",
       "  'TexasCOVID-19ActiveCaseDatabyCounty_2020-12-19_162302.xlsx',\n",
       "  'TexasCOVID-19ActiveCaseDatabyCounty_2021-01-10_162302.xlsx',\n",
       "  'TexasCOVID-19ActiveCaseDatabyCounty_2020-10-31_162303.xlsx',\n",
       "  'TexasCOVID-19ActiveCaseDatabyCounty_2021-07-08_162302.xlsx',\n",
       "  'TexasCOVID-19ActiveCaseDatabyCounty_2021-03-29_162302.xlsx',\n",
       "  'TexasCOVID-19ActiveCaseDatabyCounty_2020-05-29_20231590798185.xlsx',\n",
       "  'TexasCOVID-19ActiveCaseDatabyCounty_2021-04-15_162301.xlsx',\n",
       "  'TexasCOVID-19ActiveCaseDatabyCounty_2021-04-20_162302.xlsx',\n",
       "  'TexasCOVID-19ActiveCaseDatabyCounty_2021-02-26_162302.xlsx',\n",
       "  'TexasCOVID-19ActiveCaseDatabyCounty_2020-07-15_202302.xlsx',\n",
       "  'TexasCOVID-19ActiveCaseDatabyCounty_2020-10-28_162303.xlsx',\n",
       "  'TexasCOVID-19ActiveCaseDatabyCounty_2021-04-19_162314.xlsx',\n",
       "  'TexasCOVID-19ActiveCaseDatabyCounty_2021-03-13_002303.xlsx'],\n",
       " 620: ['covid_report_death_date_agegrp_dictionary_2020-10-22_162302.xlsx'],\n",
       " 712: ['TableauTemp_TEMP_15l0fgo0ujcti110c9rw11mo8dvb_Extract_2021-11-17_042303.csv'],\n",
       " 703: ['covid-19_case_demographics_datadictionary_2020-10-22_162302.xlsx'],\n",
       " 754: ['vaccine_dictionary_2021-08-31_162304.xlsx',\n",
       "  'vaccine_dictionary_2021-02-23_202307.xlsx',\n",
       "  'dictionary_2021-04-16_122318.xlsx',\n",
       "  'dictionary_2020-11-02_162302.xlsx',\n",
       "  'dictionary_2021-05-10_122304.xlsx',\n",
       "  'dictionary_2020-11-25_162303.xlsx',\n",
       "  'dictionary_2020-06-12_16231591993382.xlsx',\n",
       "  'dictionary_2020-08-11_162308.xlsx',\n",
       "  'dictionary_2022-02-02_162303.xlsx',\n",
       "  'dictionary_2021-05-03_162325.xlsx',\n",
       "  'dictionary_2022-05-13_042302.xlsx',\n",
       "  'dictionary_2021-05-10_162302.xlsx',\n",
       "  'vaccine_dictionary_2021-03-06_162302.xlsx',\n",
       "  'dictionary_2021-12-10_162302.xlsx',\n",
       "  'dictionary_2020-08-08_162303.xlsx',\n",
       "  'dictionary_2020-06-04_11201591284035.xlsx',\n",
       "  'dictionary_2020-06-29_16231593462193.xlsx',\n",
       "  'dictionary_2020-08-07_162304.xlsx',\n",
       "  'dictionary_2020-10-22_162302.xlsx',\n",
       "  'dictionary_2020-07-31_162302.xlsx'],\n",
       " 648: ['covid-19_statewidetestcasedeathtrends_datadictionary_2020-10-22_162302.xlsx',\n",
       "  'covid-19_statewidetestcasedeathtrends_datadictionary_2020-09-22_122308.xlsx',\n",
       "  'covid-19_statewidetestcasedeathtrends_datadictionary_2021-05-25_202304.xlsx',\n",
       "  'covid-19_statewidetestcasedeathtrends_datadictionary_2022-03-31_162302.xlsx',\n",
       "  'covid-19_statewidetestcasedeathtrends_datadictionary_2022-03-03_162303.xlsx',\n",
       "  'covid-19_statewidetestcasedeathtrends_datadictionary.xlsx'],\n",
       " 609: ['covid19_casedata_datadictionary.xlsx',\n",
       "  'covid19_casedata_datadictionary_2020-10-22_162302.xlsx'],\n",
       " 664: ['covid-19_countystatistics_datadictionary_2020-10-22_162302.xlsx',\n",
       "  'covid-19_countystatistics_datadictionary.xlsx'],\n",
       " 756: ['hospitals_by_county_dictionary_2021-03-12_202304.xlsx'],\n",
       " 795: ['statewide_cases_dictionary_2020-06-26_12511593190289.csv',\n",
       "  'case_demographics_ethnicity_dictionary_2020-10-22_162302.csv',\n",
       "  'case_demographics_ethnicity_dictionary_2021-03-08_162301.csv',\n",
       "  'case_demographics_ethnicity_dictionary_2020-06-25_21261593134765.csv',\n",
       "  'statewide_cases_dictionary_2020-10-22_162302.csv',\n",
       "  'case_demographics_sex_dictionary_2020-10-22_162302.csv',\n",
       "  'case_demographics_ethnicity_dictionary_2020-06-26_04231593159782.csv',\n",
       "  'statewide_cases_dictionary_2020-06-25_21261593134765.csv',\n",
       "  'case_demographics_age_dictionary_2020-10-22_162302.csv'],\n",
       " 645: ['data_dictionary_covid_report_demographics_county_district_2020-10-22_162302.xlsx'],\n",
       " 622: ['vaccination-demographics-data-dictionary_2021-02-26_162302.xlsx',\n",
       "  'vaccination-demographics-data-dictionary_2021-03-11_202302.xlsx'],\n",
       " 696: ['county-vaccination-by-date-data-dictionary_2021-03-11_202302.xlsx',\n",
       "  'county-vaccination-by-date-data-dictionary_2021-02-26_162302.xlsx'],\n",
       " 706: ['Colorado_COVID-19_Positive_Cases_and_Rates_of_Infection_by_County_of_Identification_2020-12-27_162304.csv',\n",
       "  'Colorado_COVID-19_Positive_Cases_and_Rates_of_Infection_by_County_of_Identification_2020-12-02_162304.csv',\n",
       "  'Colorado_COVID-19_Positive_Cases_and_Rates_of_Infection_by_County_of_Identification_2020-08-25_202301.csv',\n",
       "  'Colorado_COVID-19_Positive_Cases_and_Rates_of_Infection_by_County_of_Identification_2020-09-04_202302.csv',\n",
       "  'Colorado_COVID-19_Positive_Cases_and_Rates_of_Infection_by_County_of_Identification_2020-06-11_20231591921382.csv',\n",
       "  'Colorado_COVID-19_Positive_Cases_and_Rates_of_Infection_by_County_of_Identification_2020-11-15_202302.csv',\n",
       "  'Colorado_COVID-19_Positive_Cases_and_Rates_of_Infection_by_County_of_Identification_2020-12-10_202302.csv',\n",
       "  'Colorado_COVID-19_Positive_Cases_and_Rates_of_Infection_by_County_of_Identification_2020-09-18_202302.csv',\n",
       "  'Colorado_COVID-19_Positive_Cases_and_Rates_of_Infection_by_County_of_Identification_2021-04-03_202303.csv',\n",
       "  'Colorado_COVID-19_Positive_Cases_and_Rates_of_Infection_by_County_of_Identification_2020-10-09_202303.csv',\n",
       "  'Colorado_COVID-19_Positive_Cases_and_Rates_of_Infection_by_County_of_Identification_2020-12-06_202302.csv',\n",
       "  'Colorado_COVID-19_Positive_Cases_and_Rates_of_Infection_by_County_of_Identification_2020-08-29_202307.csv',\n",
       "  'Colorado_COVID-19_Positive_Cases_and_Rates_of_Infection_by_County_of_Identification_2021-02-07_162304.csv',\n",
       "  'Colorado_COVID-19_Positive_Cases_and_Rates_of_Infection_by_County_of_Identification_2021-02-01_162303.csv',\n",
       "  'Colorado_COVID-19_Positive_Cases_and_Rates_of_Infection_by_County_of_Identification_2020-10-13_202302.csv',\n",
       "  'Colorado_COVID-19_Positive_Cases_and_Rates_of_Infection_by_County_of_Identification_2020-06-13_20231592094182.csv',\n",
       "  'Colorado_COVID-19_Positive_Cases_and_Rates_of_Infection_by_County_of_Identification_2020-06-04_20231591316582.csv',\n",
       "  'Colorado_COVID-19_Positive_Cases_and_Rates_of_Infection_by_County_of_Identification_2020-07-01_12231593620589.csv',\n",
       "  'Colorado_COVID-19_Positive_Cases_and_Rates_of_Infection_by_County_of_Identification_2020-12-21_162302.csv',\n",
       "  'Colorado_COVID-19_Positive_Cases_and_Rates_of_Infection_by_County_of_Identification_2020-11-09_162302.csv',\n",
       "  'Colorado_COVID-19_Positive_Cases_and_Rates_of_Infection_by_County_of_Identification_2020-05-09_20231589070187.csv',\n",
       "  'Colorado_COVID-19_Positive_Cases_and_Rates_of_Infection_by_County_of_Identification_2020-05-20_20231590020588.csv',\n",
       "  'Colorado_COVID-19_Positive_Cases_and_Rates_of_Infection_by_County_of_Identification_2020-10-27_162302.csv',\n",
       "  'Colorado_COVID-19_Positive_Cases_and_Rates_of_Infection_by_County_of_Identification_2021-03-22_202302.csv',\n",
       "  'Colorado_COVID-19_Positive_Cases_and_Rates_of_Infection_by_County_of_Identification_2021-03-08_202303.csv',\n",
       "  'Colorado_COVID-19_Positive_Cases_and_Rates_of_Infection_by_County_of_Identification_2021-01-23_202303.csv',\n",
       "  'Colorado_COVID-19_Positive_Cases_and_Rates_of_Infection_by_County_of_Identification_2020-12-28_162303.csv',\n",
       "  'Colorado_COVID-19_Positive_Cases_and_Rates_of_Infection_by_County_of_Identification_2020-04-29_20231588206183.csv',\n",
       "  'Colorado_COVID-19_Positive_Cases_and_Rates_of_Infection_by_County_of_Identification_2021-04-05_002304.csv',\n",
       "  'Colorado_COVID-19_Positive_Cases_and_Rates_of_Infection_by_County_of_Identification_2021-01-19_202303.csv',\n",
       "  'Colorado_COVID-19_Positive_Cases_and_Rates_of_Infection_by_County_of_Identification_2021-03-25_202303.csv',\n",
       "  'Colorado_COVID-19_Positive_Cases_and_Rates_of_Infection_by_County_of_Identification_2021-01-12_162302.csv',\n",
       "  'Colorado_COVID-19_Positive_Cases_and_Rates_of_Infection_by_County_of_Identification_2020-10-21_162303.csv',\n",
       "  'Colorado_COVID-19_Positive_Cases_and_Rates_of_Infection_by_County_of_Identification_2020-11-14_202303.csv',\n",
       "  'Colorado_COVID-19_Positive_Cases_and_Rates_of_Infection_by_County_of_Identification_2021-03-07_202302.csv',\n",
       "  'Colorado_COVID-19_Positive_Cases_and_Rates_of_Infection_by_County_of_Identification_2020-05-02_20231588465388.csv',\n",
       "  'Colorado_COVID-19_Positive_Cases_and_Rates_of_Infection_by_County_of_Identification_2020-07-25_202303.csv',\n",
       "  'Colorado_COVID-19_Positive_Cases_and_Rates_of_Infection_by_County_of_Identification_2020-09-03_202304.csv',\n",
       "  'Colorado_COVID-19_Positive_Cases_and_Rates_of_Infection_by_County_of_Identification_2020-06-03_20231591230189.csv',\n",
       "  'Colorado_COVID-19_Positive_Cases_and_Rates_of_Infection_by_County_of_Identification_2020-08-17_202301.csv',\n",
       "  'Colorado_COVID-19_Positive_Cases_and_Rates_of_Infection_by_County_of_Identification_2020-09-29_202303.csv',\n",
       "  'Colorado_COVID-19_Positive_Cases_and_Rates_of_Infection_by_County_of_Identification_2021-03-21_002303.csv',\n",
       "  'Colorado_COVID-19_Positive_Cases_and_Rates_of_Infection_by_County_of_Identification_2021-01-04_162303.csv',\n",
       "  'Colorado_COVID-19_Positive_Cases_and_Rates_of_Infection_by_County_of_Identification_2021-03-24_202302.csv',\n",
       "  'Colorado_COVID-19_Positive_Cases_and_Rates_of_Infection_by_County_of_Identification_2021-01-03_162303.csv',\n",
       "  'Colorado_COVID-19_Positive_Cases_and_Rates_of_Infection_by_County_of_Identification_2020-10-11_202302.csv',\n",
       "  'Colorado_COVID-19_Positive_Cases_and_Rates_of_Infection_by_County_of_Identification_2020-10-28_162303.csv',\n",
       "  'Colorado_COVID-19_Positive_Cases_and_Rates_of_Infection_by_County_of_Identification_2020-07-26_202303.csv',\n",
       "  'Colorado_COVID-19_Positive_Cases_and_Rates_of_Infection_by_County_of_Identification_2020-12-14_202303.csv',\n",
       "  'Colorado_COVID-19_Positive_Cases_and_Rates_of_Infection_by_County_of_Identification_2021-04-02_202303.csv',\n",
       "  'Colorado_COVID-19_Positive_Cases_and_Rates_of_Infection_by_County_of_Identification_2021-03-13_202304.csv',\n",
       "  'Colorado_COVID-19_Positive_Cases_and_Rates_of_Infection_by_County_of_Identification_2020-11-22_202303.csv',\n",
       "  'Colorado_COVID-19_Positive_Cases_and_Rates_of_Infection_by_County_of_Identification_2020-11-16_162306.csv',\n",
       "  'Colorado_COVID-19_Positive_Cases_and_Rates_of_Infection_by_County_of_Identification_2020-05-27_20231590625382.csv',\n",
       "  'Colorado_COVID-19_Positive_Cases_and_Rates_of_Infection_by_County_of_Identification_2020-10-17_202307.csv',\n",
       "  'Colorado_COVID-19_Positive_Cases_and_Rates_of_Infection_by_County_of_Identification_2020-07-31_002303.csv',\n",
       "  'Colorado_COVID-19_Positive_Cases_and_Rates_of_Infection_by_County_of_Identification_2020-05-22_20231590193385.csv',\n",
       "  'Colorado_COVID-19_Positive_Cases_and_Rates_of_Infection_by_County_of_Identification_2021-01-29_162302.csv',\n",
       "  'Colorado_COVID-19_Positive_Cases_and_Rates_of_Infection_by_County_of_Identification_2020-11-05_202309.csv',\n",
       "  'Colorado_COVID-19_Positive_Cases_and_Rates_of_Infection_by_County_of_Identification_2020-06-21_20231592785382.csv',\n",
       "  'Colorado_COVID-19_Positive_Cases_and_Rates_of_Infection_by_County_of_Identification_2020-11-17_202306.csv',\n",
       "  'Colorado_COVID-19_Positive_Cases_and_Rates_of_Infection_by_County_of_Identification_2021-01-07_162303.csv',\n",
       "  'Colorado_COVID-19_Positive_Cases_and_Rates_of_Infection_by_County_of_Identification_2020-11-24_202303.csv',\n",
       "  'Colorado_COVID-19_Positive_Cases_and_Rates_of_Infection_by_County_of_Identification_2021-01-26_202302.csv',\n",
       "  'Colorado_COVID-19_Positive_Cases_and_Rates_of_Infection_by_County_of_Identification_2020-08-19_202302.csv',\n",
       "  'Colorado_COVID-19_Positive_Cases_and_Rates_of_Infection_by_County_of_Identification_2020-05-01_20231588378988.csv',\n",
       "  'Colorado_COVID-19_Positive_Cases_and_Rates_of_Infection_by_County_of_Identification_2021-03-26_202303.csv',\n",
       "  'Colorado_COVID-19_Positive_Cases_and_Rates_of_Infection_by_County_of_Identification_2021-02-10_162303.csv',\n",
       "  'Colorado_COVID-19_Positive_Cases_and_Rates_of_Infection_by_County_of_Identification_2020-12-03_202302.csv',\n",
       "  'Colorado_COVID-19_Positive_Cases_and_Rates_of_Infection_by_County_of_Identification_2021-04-01_202313.csv',\n",
       "  'Colorado_COVID-19_Positive_Cases_and_Rates_of_Infection_by_County_of_Identification_2020-12-17_162303.csv',\n",
       "  'Colorado_COVID-19_Positive_Cases_and_Rates_of_Infection_by_County_of_Identification_2020-09-19_202302.csv',\n",
       "  'Colorado_COVID-19_Positive_Cases_and_Rates_of_Infection_by_County_of_Identification_2020-08-27_202303.csv',\n",
       "  'Colorado_COVID-19_Positive_Cases_and_Rates_of_Infection_by_County_of_Identification_2020-06-02_20231591143788.csv',\n",
       "  'Colorado_COVID-19_Positive_Cases_and_Rates_of_Infection_by_County_of_Identification_2020-05-06_20231588810982.csv',\n",
       "  'Colorado_COVID-19_Positive_Cases_and_Rates_of_Infection_by_County_of_Identification_2020-10-16_202302.csv',\n",
       "  'Colorado_COVID-19_Positive_Cases_and_Rates_of_Infection_by_County_of_Identification_2021-02-18_202303.csv',\n",
       "  'Colorado_COVID-19_Positive_Cases_and_Rates_of_Infection_by_County_of_Identification_2021-01-28_202303.csv',\n",
       "  'Colorado_COVID-19_Positive_Cases_and_Rates_of_Infection_by_County_of_Identification_2020-12-26_202303.csv',\n",
       "  'Colorado_COVID-19_Positive_Cases_and_Rates_of_Infection_by_County_of_Identification_2020-05-10_12231589127783.csv',\n",
       "  'Colorado_COVID-19_Positive_Cases_and_Rates_of_Infection_by_County_of_Identification_2020-12-30_202302.csv',\n",
       "  'Colorado_COVID-19_Positive_Cases_and_Rates_of_Infection_by_County_of_Identification_2021-02-24_202303.csv',\n",
       "  'Colorado_COVID-19_Positive_Cases_and_Rates_of_Infection_by_County_of_Identification_2021-03-11_202302.csv',\n",
       "  'Colorado_COVID-19_Positive_Cases_and_Rates_of_Infection_by_County_of_Identification_2021-02-05_002303.csv',\n",
       "  'Colorado_COVID-19_Positive_Cases_and_Rates_of_Infection_by_County_of_Identification_2020-11-30_202302.csv',\n",
       "  'Colorado_COVID-19_Positive_Cases_and_Rates_of_Infection_by_County_of_Identification_2020-07-03_00231593750182.csv',\n",
       "  'Colorado_COVID-19_Positive_Cases_and_Rates_of_Infection_by_County_of_Identification_2020-10-04_122307.csv',\n",
       "  'Colorado_COVID-19_Positive_Cases_and_Rates_of_Infection_by_County_of_Identification_2020-09-12_202304.csv',\n",
       "  'Colorado_COVID-19_Positive_Cases_and_Rates_of_Infection_by_County_of_Identification_2021-03-10_202304.csv',\n",
       "  'Colorado_COVID-19_Positive_Cases_and_Rates_of_Infection_by_County_of_Identification_2020-09-13_202302.csv',\n",
       "  'Colorado_COVID-19_Positive_Cases_and_Rates_of_Infection_by_County_of_Identification_2021-02-27_202303.csv',\n",
       "  'Colorado_COVID-19_Positive_Cases_and_Rates_of_Infection_by_County_of_Identification_2021-02-03_162303.csv',\n",
       "  'Colorado_COVID-19_Positive_Cases_and_Rates_of_Infection_by_County_of_Identification_2021-01-05_162303.csv',\n",
       "  'Colorado_COVID-19_Positive_Cases_and_Rates_of_Infection_by_County_of_Identification_2021-03-09_202302.csv',\n",
       "  'Colorado_COVID-19_Positive_Cases_and_Rates_of_Infection_by_County_of_Identification_2020-08-07_202304.csv',\n",
       "  'Colorado_COVID-19_Positive_Cases_and_Rates_of_Infection_by_County_of_Identification_2021-02-14_202303.csv',\n",
       "  'Colorado_COVID-19_Positive_Cases_and_Rates_of_Infection_by_County_of_Identification_2020-12-20_162302.csv',\n",
       "  'Colorado_COVID-19_Positive_Cases_and_Rates_of_Infection_by_County_of_Identification_2020-06-30_08231593519788.csv',\n",
       "  'Colorado_COVID-19_Positive_Cases_and_Rates_of_Infection_by_County_of_Identification_2021-03-16_202302.csv',\n",
       "  'Colorado_COVID-19_Positive_Cases_and_Rates_of_Infection_by_County_of_Identification_2021-01-22_162302.csv',\n",
       "  'Colorado_COVID-19_Positive_Cases_and_Rates_of_Infection_by_County_of_Identification_2020-12-13_202303.csv',\n",
       "  'Colorado_COVID-19_Positive_Cases_and_Rates_of_Infection_by_County_of_Identification_2020-05-31_20231590970988.csv',\n",
       "  'Colorado_COVID-19_Positive_Cases_and_Rates_of_Infection_by_County_of_Identification_2020-12-05_202303.csv',\n",
       "  'Colorado_COVID-19_Positive_Cases_and_Rates_of_Infection_by_County_of_Identification_2020-11-29_202303.csv',\n",
       "  'Colorado_COVID-19_Positive_Cases_and_Rates_of_Infection_by_County_of_Identification_2020-06-27_20231593303782.csv',\n",
       "  'Colorado_COVID-19_Positive_Cases_and_Rates_of_Infection_by_County_of_Identification_2020-12-24_202303.csv',\n",
       "  'Colorado_COVID19_Positive_Cases_and_Rates_of_Infection_by_County_of_Identification_2020-04-23_09121587647567.csv',\n",
       "  'Colorado_COVID19_Positive_Cases_and_Rates_of_Infection_by_County_of_Identification_2020-04-23_20231587687783.csv',\n",
       "  'Colorado_COVID-19_Positive_Cases_and_Rates_of_Infection_by_County_of_Identification_2020-05-14_20231589502188.csv',\n",
       "  'Colorado_COVID-19_Positive_Cases_and_Rates_of_Infection_by_County_of_Identification_2021-02-15_202302.csv',\n",
       "  'Colorado_COVID-19_Positive_Cases_and_Rates_of_Infection_by_County_of_Identification_2021-03-19_202302.csv',\n",
       "  'Colorado_COVID-19_Positive_Cases_and_Rates_of_Infection_by_County_of_Identification_2020-10-13_002302.csv',\n",
       "  'Colorado_COVID-19_Positive_Cases_and_Rates_of_Infection_by_County_of_Identification_2021-01-25_202304.csv',\n",
       "  'Colorado_COVID-19_Positive_Cases_and_Rates_of_Infection_by_County_of_Identification_2020-10-24_202302.csv',\n",
       "  'Colorado_COVID-19_Positive_Cases_and_Rates_of_Infection_by_County_of_Identification_2021-03-12_202304.csv',\n",
       "  'Colorado_COVID-19_Positive_Cases_and_Rates_of_Infection_by_County_of_Identification_2020-06-24_20231593044585.csv',\n",
       "  'Colorado_COVID-19_Positive_Cases_and_Rates_of_Infection_by_County_of_Identification_2020-08-30_202303.csv',\n",
       "  'Colorado_COVID-19_Positive_Cases_and_Rates_of_Infection_by_County_of_Identification_2020-08-11_202305.csv',\n",
       "  'Colorado_COVID-19_Positive_Cases_and_Rates_of_Infection_by_County_of_Identification_2020-10-01_202306.csv',\n",
       "  'Colorado_COVID-19_Positive_Cases_and_Rates_of_Infection_by_County_of_Identification_2021-02-19_202302.csv',\n",
       "  'Colorado_COVID-19_Positive_Cases_and_Rates_of_Infection_by_County_of_Identification_2020-11-06_162302.csv',\n",
       "  'Colorado_COVID-19_Positive_Cases_and_Rates_of_Infection_by_County_of_Identification_2020-12-31_202303.csv',\n",
       "  'Colorado_COVID-19_Positive_Cases_and_Rates_of_Infection_by_County_of_Identification_2020-09-23_202302.csv',\n",
       "  'Colorado_COVID-19_Positive_Cases_and_Rates_of_Infection_by_County_of_Identification_2020-07-01_20231593649382.csv',\n",
       "  'Colorado_COVID-19_Positive_Cases_and_Rates_of_Infection_by_County_of_Identification_2021-02-12_162302.csv',\n",
       "  'Colorado_COVID-19_Positive_Cases_and_Rates_of_Infection_by_County_of_Identification_2021-02-13_162303.csv',\n",
       "  'Colorado_COVID-19_Positive_Cases_and_Rates_of_Infection_by_County_of_Identification_2020-05-30_20231590884582.csv',\n",
       "  'Colorado_COVID-19_Positive_Cases_and_Rates_of_Infection_by_County_of_Identification_2021-02-11_150512.csv',\n",
       "  'Colorado_COVID-19_Positive_Cases_and_Rates_of_Infection_by_County_of_Identification_2020-08-05_202302.csv',\n",
       "  'Colorado_COVID-19_Positive_Cases_and_Rates_of_Infection_by_County_of_Identification_2020-08-15_202305.csv',\n",
       "  'Colorado_COVID-19_Positive_Cases_and_Rates_of_Infection_by_County_of_Identification_2020-12-18_162302.csv',\n",
       "  'Colorado_COVID-19_Positive_Cases_and_Rates_of_Infection_by_County_of_Identification_2020-11-20_202302.csv',\n",
       "  'Colorado_COVID-19_Positive_Cases_and_Rates_of_Infection_by_County_of_Identification_2021-02-06_202302.csv',\n",
       "  'Colorado_COVID-19_Positive_Cases_and_Rates_of_Infection_by_County_of_Identification_2020-10-16_090416.csv',\n",
       "  'Colorado_COVID-19_Positive_Cases_and_Rates_of_Infection_by_County_of_Identification_2020-12-16_202303.csv',\n",
       "  'Colorado_COVID-19_Positive_Cases_and_Rates_of_Infection_by_County_of_Identification_2020-08-23_202303.csv',\n",
       "  'Colorado_COVID-19_Positive_Cases_and_Rates_of_Infection_by_County_of_Identification_2021-01-15_162303.csv',\n",
       "  'Colorado_COVID-19_Positive_Cases_and_Rates_of_Infection_by_County_of_Identification_2020-12-11_162302.csv',\n",
       "  'Colorado_COVID-19_Positive_Cases_and_Rates_of_Infection_by_County_of_Identification_2020-07-03_20231593822183.csv',\n",
       "  'Colorado_COVID-19_Positive_Cases_and_Rates_of_Infection_by_County_of_Identification_2020-06-16_20231592353383.csv',\n",
       "  'Colorado_COVID-19_Positive_Cases_and_Rates_of_Infection_by_County_of_Identification_2020-09-02_202303.csv',\n",
       "  'Colorado_COVID-19_Positive_Cases_and_Rates_of_Infection_by_County_of_Identification_2020-10-05_202303.csv',\n",
       "  'Colorado_COVID-19_Positive_Cases_and_Rates_of_Infection_by_County_of_Identification_2020-08-06_202302.csv',\n",
       "  'Colorado_COVID-19_Positive_Cases_and_Rates_of_Infection_by_County_of_Identification_2020-10-18_202302.csv',\n",
       "  'Colorado_COVID-19_Positive_Cases_and_Rates_of_Infection_by_County_of_Identification_2020-05-03_20231588551785.csv',\n",
       "  'Colorado_COVID-19_Positive_Cases_and_Rates_of_Infection_by_County_of_Identification_2020-11-27_202303.csv',\n",
       "  'Colorado_COVID-19_Positive_Cases_and_Rates_of_Infection_by_County_of_Identification_2020-07-24_124745.csv',\n",
       "  'Colorado_COVID-19_Positive_Cases_and_Rates_of_Infection_by_County_of_Identification_2020-12-04_162302.csv',\n",
       "  'Colorado_COVID-19_Positive_Cases_and_Rates_of_Infection_by_County_of_Identification_2020-11-02_162302.csv',\n",
       "  'Colorado_COVID-19_Positive_Cases_and_Rates_of_Infection_by_County_of_Identification_2020-08-09_122307.csv',\n",
       "  'Colorado_COVID-19_Positive_Cases_and_Rates_of_Infection_by_County_of_Identification_2020-05-19_20231589934188.csv',\n",
       "  'Colorado_COVID-19_Positive_Cases_and_Rates_of_Infection_by_County_of_Identification_2020-09-07_162302.csv',\n",
       "  'Colorado_COVID-19_Positive_Cases_and_Rates_of_Infection_by_County_of_Identification_2021-03-15_202302.csv',\n",
       "  'Colorado_COVID-19_Positive_Cases_and_Rates_of_Infection_by_County_of_Identification_2020-08-22_202303.csv',\n",
       "  'Colorado_COVID-19_Positive_Cases_and_Rates_of_Infection_by_County_of_Identification_2021-03-03_202303.csv',\n",
       "  'Colorado_COVID-19_Positive_Cases_and_Rates_of_Infection_by_County_of_Identification_2020-08-04_202304.csv',\n",
       "  'Colorado_COVID-19_Positive_Cases_and_Rates_of_Infection_by_County_of_Identification_2020-06-08_20231591662181.csv',\n",
       "  'Colorado_COVID-19_Positive_Cases_and_Rates_of_Infection_by_County_of_Identification_2020-09-06_122303.csv',\n",
       "  'Colorado_COVID-19_Positive_Cases_and_Rates_of_Infection_by_County_of_Identification_2020-07-22_202305.csv',\n",
       "  'Colorado_COVID-19_Positive_Cases_and_Rates_of_Infection_by_County_of_Identification_2021-01-18_202303.csv',\n",
       "  'Colorado_COVID-19_Positive_Cases_and_Rates_of_Infection_by_County_of_Identification_2021-03-04_202302.csv',\n",
       "  'Colorado_COVID-19_Positive_Cases_and_Rates_of_Infection_by_County_of_Identification_2021-02-22_202303.csv',\n",
       "  'Colorado_COVID-19_Positive_Cases_and_Rates_of_Infection_by_County_of_Identification_2020-08-02_202308.csv',\n",
       "  'Colorado_COVID-19_Positive_Cases_and_Rates_of_Infection_by_County_of_Identification_2020-07-24_202308.csv',\n",
       "  'Colorado_COVID-19_Positive_Cases_and_Rates_of_Infection_by_County_of_Identification_2020-08-11_002303.csv',\n",
       "  'Colorado_COVID-19_Positive_Cases_and_Rates_of_Infection_by_County_of_Identification_2020-11-13_202303.csv',\n",
       "  'Colorado_COVID-19_Positive_Cases_and_Rates_of_Infection_by_County_of_Identification_2020-10-22_202304.csv',\n",
       "  'Colorado_COVID-19_Positive_Cases_and_Rates_of_Infection_by_County_of_Identification_2020-09-15_202304.csv',\n",
       "  'Colorado_COVID-19_Positive_Cases_and_Rates_of_Infection_by_County_of_Identification_2021-02-21_002304.csv',\n",
       "  'Colorado_COVID-19_Positive_Cases_and_Rates_of_Infection_by_County_of_Identification_2020-08-28_202304.csv',\n",
       "  'Colorado_COVID-19_Positive_Cases_and_Rates_of_Infection_by_County_of_Identification_2020-09-21_202302.csv',\n",
       "  'Colorado_COVID-19_Positive_Cases_and_Rates_of_Infection_by_County_of_Identification_2020-09-28_202302.csv',\n",
       "  'Colorado_COVID-19_Positive_Cases_and_Rates_of_Infection_by_County_of_Identification_2020-10-23_202302.csv',\n",
       "  'Colorado_COVID-19_Positive_Cases_and_Rates_of_Infection_by_County_of_Identification_2020-06-19_20231592612582.csv',\n",
       "  'Colorado_COVID-19_Positive_Cases_and_Rates_of_Infection_by_County_of_Identification_2020-10-25_202302.csv',\n",
       "  'Colorado_COVID-19_Positive_Cases_and_Rates_of_Infection_by_County_of_Identification_2020-09-17_202302.csv',\n",
       "  'Colorado_COVID-19_Positive_Cases_and_Rates_of_Infection_by_County_of_Identification_2020-11-21_202303.csv',\n",
       "  'Colorado_COVID-19_Positive_Cases_and_Rates_of_Infection_by_County_of_Identification_2020-07-27_202305.csv',\n",
       "  'Colorado_COVID-19_Positive_Cases_and_Rates_of_Infection_by_County_of_Identification_2020-09-14_202302.csv',\n",
       "  'Colorado_COVID-19_Positive_Cases_and_Rates_of_Infection_by_County_of_Identification_2020-07-14_202312.csv',\n",
       "  'Colorado_COVID-19_Positive_Cases_and_Rates_of_Infection_by_County_of_Identification_2020-11-03_202302.csv',\n",
       "  'Colorado_COVID-19_Positive_Cases_and_Rates_of_Infection_by_County_of_Identification_2020-10-10_202303.csv',\n",
       "  'Colorado_COVID-19_Positive_Cases_and_Rates_of_Infection_by_County_of_Identification_2020-06-29_12231593447782.csv',\n",
       "  'Colorado_COVID-19_Positive_Cases_and_Rates_of_Infection_by_County_of_Identification_2020-09-25_202302.csv',\n",
       "  'Colorado_COVID-19_Positive_Cases_and_Rates_of_Infection_by_County_of_Identification_2020-07-10_202305.csv',\n",
       "  'Colorado_COVID-19_Positive_Cases_and_Rates_of_Infection_by_County_of_Identification_2020-08-24_202303.csv',\n",
       "  'Colorado_COVID-19_Positive_Cases_and_Rates_of_Infection_by_County_of_Identification_2021-03-28_202303.csv',\n",
       "  'Colorado_COVID-19_Positive_Cases_and_Rates_of_Infection_by_County_of_Identification_2021-03-06_202302.csv',\n",
       "  'Colorado_COVID-19_Positive_Cases_and_Rates_of_Infection_by_County_of_Identification_2020-12-08_202303.csv',\n",
       "  'Colorado_COVID-19_Positive_Cases_and_Rates_of_Infection_by_County_of_Identification_2020-09-24_202307.csv',\n",
       "  'Colorado_COVID-19_Positive_Cases_and_Rates_of_Infection_by_County_of_Identification_2021-02-02_162304.csv',\n",
       "  'Colorado_COVID-19_Positive_Cases_and_Rates_of_Infection_by_County_of_Identification_2020-05-25_20231590452583.csv',\n",
       "  'Colorado_COVID-19_Positive_Cases_and_Rates_of_Infection_by_County_of_Identification_2020-07-06_22541594090441.csv',\n",
       "  'Colorado_COVID-19_Positive_Cases_and_Rates_of_Infection_by_County_of_Identification_2020-08-17_122302.csv',\n",
       "  'Colorado_COVID-19_Positive_Cases_and_Rates_of_Infection_by_County_of_Identification_2020-11-26_202302.csv',\n",
       "  'Colorado_COVID-19_Positive_Cases_and_Rates_of_Infection_by_County_of_Identification_2020-06-14_20231592180583.csv',\n",
       "  'Colorado_COVID-19_Positive_Cases_and_Rates_of_Infection_by_County_of_Identification_2020-07-17_202308.csv',\n",
       "  'Colorado_COVID-19_Positive_Cases_and_Rates_of_Infection_by_County_of_Identification_2020-09-11_202311.csv',\n",
       "  'Colorado_COVID-19_Positive_Cases_and_Rates_of_Infection_by_County_of_Identification_2020-11-10_202302.csv',\n",
       "  'Colorado_COVID-19_Positive_Cases_and_Rates_of_Infection_by_County_of_Identification_2021-01-16_162303.csv',\n",
       "  'Colorado_COVID-19_Positive_Cases_and_Rates_of_Infection_by_County_of_Identification_2021-01-10_202303.csv',\n",
       "  'Colorado_COVID-19_Positive_Cases_and_Rates_of_Infection_by_County_of_Identification_2020-05-07_20231588897382.csv',\n",
       "  'Colorado_COVID-19_Positive_Cases_and_Rates_of_Infection_by_County_of_Identification_2020-06-23_20231592958184.csv',\n",
       "  'Colorado_COVID-19_Positive_Cases_and_Rates_of_Infection_by_County_of_Identification_2020-11-08_202302.csv',\n",
       "  'Colorado_COVID-19_Positive_Cases_and_Rates_of_Infection_by_County_of_Identification_2021-01-24_202303.csv',\n",
       "  'Colorado_COVID-19_Positive_Cases_and_Rates_of_Infection_by_County_of_Identification_2021-03-01_002302.csv',\n",
       "  'Colorado_COVID-19_Positive_Cases_and_Rates_of_Infection_by_County_of_Identification_2020-05-28_20231590711788.csv',\n",
       "  'Colorado_COVID-19_Positive_Cases_and_Rates_of_Infection_by_County_of_Identification_2020-07-12_202308.csv',\n",
       "  'Colorado_COVID-19_Positive_Cases_and_Rates_of_Infection_by_County_of_Identification_2021-01-02_162302.csv',\n",
       "  'Colorado_COVID-19_Positive_Cases_and_Rates_of_Infection_by_County_of_Identification_2020-11-12_162302.csv',\n",
       "  'Colorado_COVID-19_Positive_Cases_and_Rates_of_Infection_by_County_of_Identification_2020-05-12_20231589329382.csv',\n",
       "  'Colorado_COVID-19_Positive_Cases_and_Rates_of_Infection_by_County_of_Identification_2021-02-17_162302.csv',\n",
       "  'Colorado_COVID-19_Positive_Cases_and_Rates_of_Infection_by_County_of_Identification_2020-06-05_20231591402988.csv',\n",
       "  'Colorado_COVID-19_Positive_Cases_and_Rates_of_Infection_by_County_of_Identification_2020-08-21_202302.csv',\n",
       "  'Colorado_COVID-19_Positive_Cases_and_Rates_of_Infection_by_County_of_Identification_2021-03-21_202302.csv',\n",
       "  'Colorado_COVID-19_Positive_Cases_and_Rates_of_Infection_by_County_of_Identification_2021-01-13_162303.csv',\n",
       "  'Colorado_COVID-19_Positive_Cases_and_Rates_of_Infection_by_County_of_Identification_2020-10-26_202303.csv',\n",
       "  'Colorado_COVID-19_Positive_Cases_and_Rates_of_Infection_by_County_of_Identification_2020-06-07_20231591575788.csv',\n",
       "  'Colorado_COVID-19_Positive_Cases_and_Rates_of_Infection_by_County_of_Identification_2021-02-05_162303.csv',\n",
       "  'Colorado_COVID-19_Positive_Cases_and_Rates_of_Infection_by_County_of_Identification_2021-03-29_202303.csv',\n",
       "  'Colorado_COVID-19_Positive_Cases_and_Rates_of_Infection_by_County_of_Identification_2020-08-01_202303.csv',\n",
       "  'Colorado_COVID-19_Positive_Cases_and_Rates_of_Infection_by_County_of_Identification_2021-01-21_202302.csv',\n",
       "  'Colorado_COVID-19_Positive_Cases_and_Rates_of_Infection_by_County_of_Identification_2020-07-28_202305.csv',\n",
       "  'Colorado_COVID-19_Positive_Cases_and_Rates_of_Infection_by_County_of_Identification_2021-01-31_162304.csv',\n",
       "  'Colorado_COVID-19_Positive_Cases_and_Rates_of_Infection_by_County_of_Identification_2020-06-06_20231591489382.csv',\n",
       "  'Colorado_COVID-19_Positive_Cases_and_Rates_of_Infection_by_County_of_Identification_2020-09-08_202302.csv',\n",
       "  'Colorado_COVID-19_Positive_Cases_and_Rates_of_Infection_by_County_of_Identification_2020-07-18_202304.csv',\n",
       "  'Colorado_COVID-19_Positive_Cases_and_Rates_of_Infection_by_County_of_Identification_2020-10-04_202303.csv',\n",
       "  'Colorado_COVID-19_Positive_Cases_and_Rates_of_Infection_by_County_of_Identification_2020-06-12_20231592007782.csv',\n",
       "  'Colorado_COVID-19_Positive_Cases_and_Rates_of_Infection_by_County_of_Identification_2021-01-08_202303.csv',\n",
       "  'Colorado_COVID-19_Positive_Cases_and_Rates_of_Infection_by_County_of_Identification_2021-01-27_162304.csv',\n",
       "  'Colorado_COVID-19_Positive_Cases_and_Rates_of_Infection_by_County_of_Identification_2021-01-30_162303.csv',\n",
       "  'Colorado_COVID-19_Positive_Cases_and_Rates_of_Infection_by_County_of_Identification_2020-08-18_202311.csv',\n",
       "  'Colorado_COVID-19_Positive_Cases_and_Rates_of_Infection_by_County_of_Identification_2021-02-23_202307.csv',\n",
       "  'Colorado_COVID-19_Positive_Cases_and_Rates_of_Infection_by_County_of_Identification_2020-06-01_20231591057383.csv',\n",
       "  'Colorado_COVID-19_Positive_Cases_and_Rates_of_Infection_by_County_of_Identification_2020-10-06_202302.csv',\n",
       "  'Colorado_COVID-19_Positive_Cases_and_Rates_of_Infection_by_County_of_Identification_2020-11-19_202303.csv',\n",
       "  'Colorado_COVID-19_Positive_Cases_and_Rates_of_Infection_by_County_of_Identification_2020-06-15_20231592266982.csv',\n",
       "  'Colorado_COVID-19_Positive_Cases_and_Rates_of_Infection_by_County_of_Identification_2020-12-23_162302.csv',\n",
       "  'Colorado_COVID-19_Positive_Cases_and_Rates_of_Infection_by_County_of_Identification_2021-03-05_202304.csv',\n",
       "  'Colorado_COVID-19_Positive_Cases_and_Rates_of_Infection_by_County_of_Identification_2021-03-18_202303.csv',\n",
       "  'Colorado_COVID-19_Positive_Cases_and_Rates_of_Infection_by_County_of_Identification_2020-09-09_202304.csv',\n",
       "  'Colorado_COVID-19_Positive_Cases_and_Rates_of_Infection_by_County_of_Identification_2020-04-30_20231588292583.csv',\n",
       "  'Colorado_COVID-19_Positive_Cases_and_Rates_of_Infection_by_County_of_Identification_2020-11-04_162304.csv',\n",
       "  'Colorado_COVID-19_Positive_Cases_and_Rates_of_Infection_by_County_of_Identification_2020-09-16_202307.csv',\n",
       "  'Colorado_COVID-19_Positive_Cases_and_Rates_of_Infection_by_County_of_Identification_2020-07-20_202308.csv',\n",
       "  'Colorado_COVID-19_Positive_Cases_and_Rates_of_Infection_by_County_of_Identification_2020-07-05_20231593994983.csv',\n",
       "  'Colorado_COVID-19_Positive_Cases_and_Rates_of_Infection_by_County_of_Identification_2020-10-29_162303.csv',\n",
       "  'Colorado_COVID-19_Positive_Cases_and_Rates_of_Infection_by_County_of_Identification_2020-07-29_202303.csv',\n",
       "  'Colorado_COVID-19_Positive_Cases_and_Rates_of_Infection_by_County_of_Identification_2020-11-01_202302.csv',\n",
       "  'Colorado_COVID-19_Positive_Cases_and_Rates_of_Infection_by_County_of_Identification_2020-07-04_20231593908587.csv',\n",
       "  'Colorado_COVID-19_Positive_Cases_and_Rates_of_Infection_by_County_of_Identification_2021-03-23_202303.csv',\n",
       "  'Colorado_COVID-19_Positive_Cases_and_Rates_of_Infection_by_County_of_Identification_2020-07-07_20231594167788.csv',\n",
       "  'Colorado_COVID-19_Positive_Cases_and_Rates_of_Infection_by_County_of_Identification_2020-05-04_20231588638182.csv',\n",
       "  'Colorado_COVID-19_Positive_Cases_and_Rates_of_Infection_by_County_of_Identification_2020-07-14_002302.csv',\n",
       "  'Colorado_COVID-19_Positive_Cases_and_Rates_of_Infection_by_County_of_Identification_2021-03-14_202302.csv',\n",
       "  'Colorado_COVID-19_Positive_Cases_and_Rates_of_Infection_by_County_of_Identification_2020-05-11_20231589242985.csv',\n",
       "  'Colorado_COVID-19_Positive_Cases_and_Rates_of_Infection_by_County_of_Identification_2020-08-20_202311.csv',\n",
       "  'Colorado_COVID-19_Positive_Cases_and_Rates_of_Infection_by_County_of_Identification_2020-05-13_20231589415788.csv',\n",
       "  'Colorado_COVID-19_Positive_Cases_and_Rates_of_Infection_by_County_of_Identification_2020-09-22_202302.csv',\n",
       "  'Colorado_COVID-19_Positive_Cases_and_Rates_of_Infection_by_County_of_Identification_2020-05-21_20231590106988.csv',\n",
       "  'Colorado_COVID-19_Positive_Cases_and_Rates_of_Infection_by_County_of_Identification_2021-03-30_202303.csv',\n",
       "  'Colorado_COVID-19_Positive_Cases_and_Rates_of_Infection_by_County_of_Identification_2020-09-08_002303.csv',\n",
       "  'Colorado_COVID-19_Positive_Cases_and_Rates_of_Infection_by_County_of_Identification_2021-02-26_202302.csv',\n",
       "  'Colorado_COVID-19_Positive_Cases_and_Rates_of_Infection_by_County_of_Identification_2020-12-12_202303.csv',\n",
       "  'Colorado_COVID-19_Positive_Cases_and_Rates_of_Infection_by_County_of_Identification_2020-12-25_162303.csv',\n",
       "  'Colorado_COVID-19_Positive_Cases_and_Rates_of_Infection_by_County_of_Identification_2020-06-26_20231593217382.csv',\n",
       "  'Colorado_COVID-19_Positive_Cases_and_Rates_of_Infection_by_County_of_Identification_2020-07-21_202308.csv',\n",
       "  'Colorado_COVID-19_Positive_Cases_and_Rates_of_Infection_by_County_of_Identification_2020-07-09_100046.csv',\n",
       "  'Colorado_COVID-19_Positive_Cases_and_Rates_of_Infection_by_County_of_Identification_2020-10-08_202302.csv',\n",
       "  'Colorado_COVID-19_Positive_Cases_and_Rates_of_Infection_by_County_of_Identification_2020-05-17_20231589761383.csv',\n",
       "  'Colorado_COVID-19_Positive_Cases_and_Rates_of_Infection_by_County_of_Identification_2021-01-14_162303.csv',\n",
       "  'Colorado_COVID-19_Positive_Cases_and_Rates_of_Infection_by_County_of_Identification_2020-11-18_202303.csv',\n",
       "  'Colorado_COVID-19_Positive_Cases_and_Rates_of_Infection_by_County_of_Identification_2021-03-17_202302.csv',\n",
       "  'Colorado_COVID-19_Positive_Cases_and_Rates_of_Infection_by_County_of_Identification_2020-06-25_20231593130982.csv',\n",
       "  'Colorado_COVID-19_Positive_Cases_and_Rates_of_Infection_by_County_of_Identification_2020-06-18_20231592526182.csv',\n",
       "  'Colorado_COVID-19_Positive_Cases_and_Rates_of_Infection_by_County_of_Identification_2021-03-02_202303.csv',\n",
       "  'Colorado_COVID-19_Positive_Cases_and_Rates_of_Infection_by_County_of_Identification_2020-11-11_162327.csv',\n",
       "  'Colorado_COVID-19_Positive_Cases_and_Rates_of_Infection_by_County_of_Identification_2020-11-23_202302.csv',\n",
       "  'Colorado_COVID-19_Positive_Cases_and_Rates_of_Infection_by_County_of_Identification_2020-08-03_202303.csv',\n",
       "  'Colorado_COVID-19_Positive_Cases_and_Rates_of_Infection_by_County_of_Identification_2021-02-21_202303.csv',\n",
       "  'Colorado_COVID-19_Positive_Cases_and_Rates_of_Infection_by_County_of_Identification_2021-01-17_162303.csv',\n",
       "  'Colorado_COVID-19_Positive_Cases_and_Rates_of_Infection_by_County_of_Identification_2020-07-17_093129.csv',\n",
       "  'Colorado_COVID-19_Positive_Cases_and_Rates_of_Infection_by_County_of_Identification_2021-01-06_162303.csv',\n",
       "  'Colorado_COVID-19_Positive_Cases_and_Rates_of_Infection_by_County_of_Identification_2020-12-15_202304.csv',\n",
       "  'Colorado_COVID-19_Positive_Cases_and_Rates_of_Infection_by_County_of_Identification_2020-12-09_162302.csv',\n",
       "  'Colorado_COVID-19_Positive_Cases_and_Rates_of_Infection_by_County_of_Identification_2020-05-10_20231589156588.csv',\n",
       "  'Colorado_COVID-19_Positive_Cases_and_Rates_of_Infection_by_County_of_Identification_2020-10-14_202303.csv',\n",
       "  'Colorado_COVID-19_Positive_Cases_and_Rates_of_Infection_by_County_of_Identification_2020-06-09_20231591748582.csv',\n",
       "  'Colorado_COVID-19_Positive_Cases_and_Rates_of_Infection_by_County_of_Identification_2020-12-29_162303.csv',\n",
       "  'Colorado_COVID-19_Positive_Cases_and_Rates_of_Infection_by_County_of_Identification_2021-03-01_202302.csv',\n",
       "  'Colorado_COVID-19_Positive_Cases_and_Rates_of_Infection_by_County_of_Identification_2020-06-20_20231592698983.csv',\n",
       "  'Colorado_COVID-19_Positive_Cases_and_Rates_of_Infection_by_County_of_Identification_2021-02-16_202302.csv',\n",
       "  'Colorado_COVID-19_Positive_Cases_and_Rates_of_Infection_by_County_of_Identification_2020-12-19_162302.csv',\n",
       "  'Colorado_COVID-19_Positive_Cases_and_Rates_of_Infection_by_County_of_Identification_2020-08-31_202309.csv',\n",
       "  'Colorado_COVID-19_Positive_Cases_and_Rates_of_Infection_by_County_of_Identification_2020-05-05_20231588724583.csv',\n",
       "  'Colorado_COVID-19_Positive_Cases_and_Rates_of_Infection_by_County_of_Identification_2020-12-07_202303.csv',\n",
       "  'Colorado_COVID-19_Positive_Cases_and_Rates_of_Infection_by_County_of_Identification_2021-02-25_202302.csv',\n",
       "  'Colorado_COVID-19_Positive_Cases_and_Rates_of_Infection_by_County_of_Identification_2020-05-18_20231589847788.csv',\n",
       "  'Colorado_COVID-19_Positive_Cases_and_Rates_of_Infection_by_County_of_Identification_2020-10-02_202303.csv',\n",
       "  'Colorado_COVID-19_Positive_Cases_and_Rates_of_Infection_by_County_of_Identification_2020-11-07_202303.csv',\n",
       "  'Colorado_COVID-19_Positive_Cases_and_Rates_of_Infection_by_County_of_Identification_2020-05-08_20231588983783.csv',\n",
       "  'Colorado_COVID-19_Positive_Cases_and_Rates_of_Infection_by_County_of_Identification_2021-01-11_162303.csv',\n",
       "  'Colorado_COVID-19_Positive_Cases_and_Rates_of_Infection_by_County_of_Identification_2020-09-10_202302.csv',\n",
       "  'Colorado_COVID-19_Positive_Cases_and_Rates_of_Infection_by_County_of_Identification_2020-05-16_20231589674982.csv',\n",
       "  'Colorado_COVID-19_Positive_Cases_and_Rates_of_Infection_by_County_of_Identification_2020-07-16_002308.csv',\n",
       "  'Colorado_COVID-19_Positive_Cases_and_Rates_of_Infection_by_County_of_Identification_2021-01-20_162303.csv',\n",
       "  'Colorado_COVID-19_Positive_Cases_and_Rates_of_Infection_by_County_of_Identification_2020-10-22_162302.csv',\n",
       "  'Colorado_COVID-19_Positive_Cases_and_Rates_of_Infection_by_County_of_Identification_2021-02-08_162303.csv',\n",
       "  'Colorado_COVID-19_Positive_Cases_and_Rates_of_Infection_by_County_of_Identification_2020-12-25_002302.csv',\n",
       "  'Colorado_COVID-19_Positive_Cases_and_Rates_of_Infection_by_County_of_Identification_2020-08-13_202305.csv',\n",
       "  'Colorado_COVID-19_Positive_Cases_and_Rates_of_Infection_by_County_of_Identification_2020-08-14_202302.csv',\n",
       "  'Colorado_COVID-19_Positive_Cases_and_Rates_of_Infection_by_County_of_Identification_2021-01-09_162304.csv',\n",
       "  'Colorado_COVID-19_Positive_Cases_and_Rates_of_Infection_by_County_of_Identification_2020-05-15_20231589588588.csv',\n",
       "  'Colorado_COVID-19_Positive_Cases_and_Rates_of_Infection_by_County_of_Identification_2020-05-26_20231590538983.csv',\n",
       "  'Colorado_COVID-19_Positive_Cases_and_Rates_of_Infection_by_County_of_Identification_2020-07-09_202308.csv',\n",
       "  'Colorado_COVID-19_Positive_Cases_and_Rates_of_Infection_by_County_of_Identification_2020-06-17_20231592439782.csv',\n",
       "  'Colorado_COVID-19_Positive_Cases_and_Rates_of_Infection_by_County_of_Identification_2020-09-21_002302.csv',\n",
       "  'Colorado_COVID-19_Positive_Cases_and_Rates_of_Infection_by_County_of_Identification_2021-03-31_202303.csv',\n",
       "  'Colorado_COVID-19_Positive_Cases_and_Rates_of_Infection_by_County_of_Identification_2021-02-09_162303.csv',\n",
       "  'Colorado_COVID-19_Positive_Cases_and_Rates_of_Infection_by_County_of_Identification_2020-07-19_202303.csv',\n",
       "  'Colorado_COVID-19_Positive_Cases_and_Rates_of_Infection_by_County_of_Identification_2020-10-31_002303.csv',\n",
       "  'Colorado_COVID-19_Positive_Cases_and_Rates_of_Infection_by_County_of_Identification_2021-01-01_162303.csv',\n",
       "  'Colorado_COVID-19_Positive_Cases_and_Rates_of_Infection_by_County_of_Identification_2020-09-26_202303.csv',\n",
       "  'Colorado_COVID-19_Positive_Cases_and_Rates_of_Infection_by_County_of_Identification_2020-05-29_20231590798185.csv',\n",
       "  'Colorado_COVID-19_Positive_Cases_and_Rates_of_Infection_by_County_of_Identification_2020-12-22_202303.csv',\n",
       "  'Colorado_COVID-19_Positive_Cases_and_Rates_of_Infection_by_County_of_Identification_2020-10-08_002308.csv',\n",
       "  'Colorado_COVID-19_Positive_Cases_and_Rates_of_Infection_by_County_of_Identification_2020-10-20_162302.csv',\n",
       "  'Colorado_COVID-19_Positive_Cases_and_Rates_of_Infection_by_County_of_Identification_2020-06-10_20231591834982.csv',\n",
       "  'Colorado_COVID-19_Positive_Cases_and_Rates_of_Infection_by_County_of_Identification_2020-09-28_002311.csv',\n",
       "  'Colorado_COVID-19_Positive_Cases_and_Rates_of_Infection_by_County_of_Identification_2021-03-27_202302.csv',\n",
       "  'Colorado_COVID-19_Positive_Cases_and_Rates_of_Infection_by_County_of_Identification_2020-09-30_202302.csv',\n",
       "  'Colorado_COVID-19_Positive_Cases_and_Rates_of_Infection_by_County_of_Identification_2020-05-24_20231590366187.csv',\n",
       "  'Colorado_COVID-19_Positive_Cases_and_Rates_of_Infection_by_County_of_Identification_2020-06-22_21181592875109.csv',\n",
       "  'Colorado_COVID-19_Positive_Cases_and_Rates_of_Infection_by_County_of_Identification_2020-11-28_202302.csv',\n",
       "  'Colorado_COVID-19_Positive_Cases_and_Rates_of_Infection_by_County_of_Identification_2020-07-11_202307.csv',\n",
       "  'Colorado_COVID-19_Positive_Cases_and_Rates_of_Infection_by_County_of_Identification_2020-12-01_202302.csv',\n",
       "  'Colorado_COVID-19_Positive_Cases_and_Rates_of_Infection_by_County_of_Identification_2020-09-01_202302.csv',\n",
       "  'Colorado_COVID-19_Positive_Cases_and_Rates_of_Infection_by_County_of_Identification_2020-11-25_202303.csv',\n",
       "  'Colorado_COVID-19_Positive_Cases_and_Rates_of_Infection_by_County_of_Identification_2020-07-31_202302.csv',\n",
       "  'Colorado_COVID-19_Positive_Cases_and_Rates_of_Infection_by_County_of_Identification_2020-08-27_002302.csv',\n",
       "  'Colorado_COVID-19_Positive_Cases_and_Rates_of_Infection_by_County_of_Identification_2020-08-12_202305.csv',\n",
       "  'Colorado_COVID-19_Positive_Cases_and_Rates_of_Infection_by_County_of_Identification_2020-11-01_122302.csv',\n",
       "  'Colorado_COVID-19_Positive_Cases_and_Rates_of_Infection_by_County_of_Identification_2020-05-23_20231590279783.csv']}"
      ]
     },
     "execution_count": 174,
     "metadata": {},
     "output_type": "execute_result"
    }
   ],
   "source": [
    "ctis=find_file_names_with_string(proced,'cti')\n",
    "ctis"
   ]
  },
  {
   "cell_type": "markdown",
   "id": "22c81057-4208-40c3-b70d-d301a43140ac",
   "metadata": {},
   "source": [
    "----\n",
    "# Summary of patterns\n",
    "*  \"zip-code-19947-outcomes_2020-10-19_162302.csv\" - we will keep the zip code (\"19947\") as a semantically-meaningful component\n",
    "* Idaho has \"sheet_48\" patterns - Sheet_48_Teton_2022-03-23_212308.csv  - filter those out.\n",
    "* Arizona has files that start with 'RC' not clear why\n",
    "* Strings that come up in Tableau files that we can work on\n",
    "** jul\n",
    "\n",
    "# Open Questions\n",
    "\n",
    "* can we find a way to remove geographic locations?\n"
   ]
  },
  {
   "cell_type": "code",
   "execution_count": null,
   "id": "848e3147-8668-4562-9a34-fe0493c4035e",
   "metadata": {},
   "outputs": [],
   "source": []
  },
  {
   "cell_type": "code",
   "execution_count": null,
   "id": "0dd23cf0-20e3-4e9a-acb9-f7138e7e72ed",
   "metadata": {},
   "outputs": [],
   "source": []
  },
  {
   "cell_type": "code",
   "execution_count": null,
   "id": "08635b91-5d57-4084-97df-97e1b98d2992",
   "metadata": {},
   "outputs": [],
   "source": []
  }
 ],
 "metadata": {
  "kernelspec": {
   "display_name": "py39",
   "language": "python",
   "name": "py39"
  },
  "language_info": {
   "codemirror_mode": {
    "name": "ipython",
    "version": 3
   },
   "file_extension": ".py",
   "mimetype": "text/x-python",
   "name": "python",
   "nbconvert_exporter": "python",
   "pygments_lexer": "ipython3",
   "version": "3.9.7"
  }
 },
 "nbformat": 4,
 "nbformat_minor": 5
}
