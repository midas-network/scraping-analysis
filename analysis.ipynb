{
 "cells": [
  {
   "cell_type": "markdown",
   "id": "5302d93a-ee0b-4d2e-bb7d-fa6189222b01",
   "metadata": {},
   "source": [
    "# analyzing data from scrapes..."
   ]
  },
  {
   "cell_type": "code",
   "execution_count": 1,
   "id": "0fccf748-416a-4b23-9f9c-2fd221e57432",
   "metadata": {},
   "outputs": [],
   "source": [
    "import json\n",
    "import pandas as pd\n",
    "import os\n",
    "import re\n",
    "import itertools\n",
    "import nltk\n",
    "import sklearn\n",
    "from nltk.stem.porter import PorterStemmer\n",
    "from nltk.stem.lancaster import LancasterStemmer\n",
    "from nltk.stem import SnowballStemmer \n",
    "from nltk.corpus import stopwords\n",
    "import matplotlib.pyplot as plt"
   ]
  },
  {
   "cell_type": "code",
   "execution_count": 2,
   "id": "b1b9ff26-234f-48ae-9b52-65534cc0c6df",
   "metadata": {},
   "outputs": [
    {
     "name": "stdout",
     "output_type": "stream",
     "text": [
      "\n",
      "System:\n",
      "    python: 3.10.2 | packaged by conda-forge | (main, Feb  1 2022, 19:29:01) [Clang 11.1.0 ]\n",
      "executable: /Users/HARRYH/miniconda3/envs/py310/bin/python\n",
      "   machine: macOS-12.6.1-arm64-arm-64bit\n",
      "\n",
      "Python dependencies:\n",
      "      sklearn: 1.1.1\n",
      "          pip: 21.2.4\n",
      "   setuptools: 61.2.0\n",
      "        numpy: 1.22.3\n",
      "        scipy: 1.7.3\n",
      "       Cython: None\n",
      "       pandas: 1.4.1\n",
      "   matplotlib: 3.5.1\n",
      "       joblib: 1.1.0\n",
      "threadpoolctl: 2.2.0\n",
      "\n",
      "Built with OpenMP: True\n",
      "\n",
      "threadpoolctl info:\n",
      "       filepath: /Users/HARRYH/miniconda3/envs/py310/lib/libopenblasp-r0.3.20.dylib\n",
      "         prefix: libopenblas\n",
      "       user_api: blas\n",
      "   internal_api: openblas\n",
      "        version: 0.3.20\n",
      "    num_threads: 10\n",
      "threading_layer: pthreads\n",
      "   architecture: armv8\n",
      "\n",
      "       filepath: /Users/HARRYH/miniconda3/envs/py310/lib/libomp.dylib\n",
      "         prefix: libomp\n",
      "       user_api: openmp\n",
      "   internal_api: openmp\n",
      "        version: None\n",
      "    num_threads: 10\n"
     ]
    }
   ],
   "source": [
    "sklearn.show_versions()"
   ]
  },
  {
   "cell_type": "code",
   "execution_count": 3,
   "id": "86239063-488b-4459-bb84-e04dedd8f81c",
   "metadata": {},
   "outputs": [
    {
     "name": "stdout",
     "output_type": "stream",
     "text": [
      "3.7\n"
     ]
    }
   ],
   "source": [
    "print(nltk.__version__)"
   ]
  },
  {
   "cell_type": "code",
   "execution_count": 4,
   "id": "cf326e5d-92a7-42e2-99ff-97cf27c8aec6",
   "metadata": {},
   "outputs": [
    {
     "name": "stdout",
     "output_type": "stream",
     "text": [
      "1.4.1\n"
     ]
    }
   ],
   "source": [
    "print(pd.__version__)"
   ]
  },
  {
   "cell_type": "markdown",
   "id": "dcb0acf9-b70e-4bd5-9916-23c016ab8730",
   "metadata": {},
   "source": [
    "# ok. build up list of all files. for each, get ID, title, and fileType set"
   ]
  },
  {
   "cell_type": "code",
   "execution_count": 5,
   "id": "95af6dc1-b622-4b29-a080-ec9e9a7409f6",
   "metadata": {},
   "outputs": [],
   "source": [
    "def read_file(fname):\n",
    "    with open(fname,'r') as jfile:\n",
    "        data = json.load(jfile)\n",
    "    return data\n",
    "\n",
    "# this next routine really isn't used...\n",
    "def get_summary(fname):\n",
    "    data = read_file(fname)\n",
    "    res={}\n",
    "    res['metadataCollectionId']=data['metadataCollectionId']\n",
    "    res['titleEnglish']=data['titleEnglish']\n",
    "    res['fileTypeSet']=data['fileTypeSet']\n",
    "    return res\n",
    "\n",
    "def get_files(path):\n",
    "    files=[]\n",
    "    for file in os.listdir(path):\n",
    "        file =path+\"/\"+file\n",
    "        if file.endswith(\".json\"):\n",
    "            files.append(file) \n",
    "    return files"
   ]
  },
  {
   "cell_type": "code",
   "execution_count": 6,
   "id": "031a62bd-d84d-49b4-81f8-7efec5999cf6",
   "metadata": {},
   "outputs": [],
   "source": [
    "summaries = [read_file(fname) for fname in get_files(\"../10_rows\")]"
   ]
  },
  {
   "cell_type": "code",
   "execution_count": 7,
   "id": "394b2bbc-fff1-451e-b543-d60e684dffdb",
   "metadata": {},
   "outputs": [
    {
     "data": {
      "text/plain": [
       "294"
      ]
     },
     "execution_count": 7,
     "metadata": {},
     "output_type": "execute_result"
    }
   ],
   "source": [
    "len(summaries)"
   ]
  },
  {
   "cell_type": "code",
   "execution_count": 8,
   "id": "69fd44af-3438-495b-b1c2-38013bb07ec4",
   "metadata": {},
   "outputs": [],
   "source": [
    "## Question - how many of these summaries have more than one file type?"
   ]
  },
  {
   "cell_type": "code",
   "execution_count": 9,
   "id": "8e353fe6-9670-4493-b64d-8654bd9fc85e",
   "metadata": {},
   "outputs": [],
   "source": [
    "multi_files = [f for f in summaries if len(f['fileTypeSet']) > 1]"
   ]
  },
  {
   "cell_type": "code",
   "execution_count": 10,
   "id": "e08705d0-323c-42d5-91eb-67b010f996fe",
   "metadata": {},
   "outputs": [
    {
     "data": {
      "text/plain": [
       "146"
      ]
     },
     "execution_count": 10,
     "metadata": {},
     "output_type": "execute_result"
    }
   ],
   "source": [
    "len(multi_files)"
   ]
  },
  {
   "cell_type": "code",
   "execution_count": 11,
   "id": "697e1302-680f-4542-a98a-b43e3bffe0d8",
   "metadata": {},
   "outputs": [
    {
     "data": {
      "text/plain": [
       "41"
      ]
     },
     "execution_count": 11,
     "metadata": {},
     "output_type": "execute_result"
    }
   ],
   "source": [
    "three_fer = [f for f in summaries if len(f['fileTypeSet'])>2]\n",
    "len(three_fer)"
   ]
  },
  {
   "cell_type": "code",
   "execution_count": 12,
   "id": "bcd13693-0b1e-43c1-b500-f20712ecf21a",
   "metadata": {},
   "outputs": [
    {
     "data": {
      "text/plain": [
       "7"
      ]
     },
     "execution_count": 12,
     "metadata": {},
     "output_type": "execute_result"
    }
   ],
   "source": [
    "four_fer = [f for f in summaries if len(f['fileTypeSet'])>3]\n",
    "len(four_fer)"
   ]
  },
  {
   "cell_type": "code",
   "execution_count": 13,
   "id": "f6c4a7d6-967f-45cb-9ca7-5581a9c710ef",
   "metadata": {},
   "outputs": [],
   "source": [
    "type_counts=[len(f['fileTypeSet']) for f in summaries]"
   ]
  },
  {
   "cell_type": "markdown",
   "id": "ea764346-5647-4057-aee7-d915491280bc",
   "metadata": {},
   "source": [
    "ok. how to get them to spread out a bit and to center on value?"
   ]
  },
  {
   "cell_type": "code",
   "execution_count": 14,
   "id": "d18bb3d2-fe37-42cc-b06e-cb35cb4b8bd1",
   "metadata": {},
   "outputs": [],
   "source": [
    "tcseries = pd.Series(type_counts)"
   ]
  },
  {
   "cell_type": "code",
   "execution_count": 15,
   "id": "4be1c3c6-9854-4146-84b8-07d5a2b9ff06",
   "metadata": {},
   "outputs": [
    {
     "data": {
      "text/html": [
       "<div>\n",
       "<style scoped>\n",
       "    .dataframe tbody tr th:only-of-type {\n",
       "        vertical-align: middle;\n",
       "    }\n",
       "\n",
       "    .dataframe tbody tr th {\n",
       "        vertical-align: top;\n",
       "    }\n",
       "\n",
       "    .dataframe thead th {\n",
       "        text-align: right;\n",
       "    }\n",
       "</style>\n",
       "<table border=\"1\" class=\"dataframe\">\n",
       "  <thead>\n",
       "    <tr style=\"text-align: right;\">\n",
       "      <th></th>\n",
       "      <th>0</th>\n",
       "    </tr>\n",
       "  </thead>\n",
       "  <tbody>\n",
       "    <tr>\n",
       "      <th>1</th>\n",
       "      <td>148</td>\n",
       "    </tr>\n",
       "    <tr>\n",
       "      <th>2</th>\n",
       "      <td>105</td>\n",
       "    </tr>\n",
       "    <tr>\n",
       "      <th>3</th>\n",
       "      <td>34</td>\n",
       "    </tr>\n",
       "    <tr>\n",
       "      <th>4</th>\n",
       "      <td>6</td>\n",
       "    </tr>\n",
       "    <tr>\n",
       "      <th>5</th>\n",
       "      <td>1</td>\n",
       "    </tr>\n",
       "  </tbody>\n",
       "</table>\n",
       "</div>"
      ],
      "text/plain": [
       "     0\n",
       "1  148\n",
       "2  105\n",
       "3   34\n",
       "4    6\n",
       "5    1"
      ]
     },
     "execution_count": 15,
     "metadata": {},
     "output_type": "execute_result"
    }
   ],
   "source": [
    "bar  = pd.DataFrame(tcseries.value_counts())\n",
    "bar"
   ]
  },
  {
   "cell_type": "code",
   "execution_count": 16,
   "id": "e33bcb97-b9c1-469a-9777-d1342e9d3535",
   "metadata": {},
   "outputs": [
    {
     "data": {
      "text/plain": [
       "<AxesSubplot:>"
      ]
     },
     "execution_count": 16,
     "metadata": {},
     "output_type": "execute_result"
    },
    {
     "data": {
      "image/png": "[encoded data removed]",
      "text/plain": [
       "<Figure size 432x288 with 1 Axes>"
      ]
     },
     "metadata": {
      "needs_background": "light"
     },
     "output_type": "display_data"
    }
   ],
   "source": [
    "bar.plot(kind=\"bar\",rot=0)"
   ]
  },
  {
   "cell_type": "markdown",
   "id": "00b82761-d9ac-48af-a4e5-98aa00e5337d",
   "metadata": {},
   "source": [
    "ok. so 146/294, slightly less than 50% have multiple file types"
   ]
  },
  {
   "cell_type": "markdown",
   "id": "296e1718-985b-4dba-bd91-5388e7144b8c",
   "metadata": {},
   "source": [
    "#### look at type distribution - how many have pdf,json,csv, html,png, etc."
   ]
  },
  {
   "cell_type": "code",
   "execution_count": 17,
   "id": "72e6a6bc-aeda-44ca-a7a9-097f6f884c73",
   "metadata": {},
   "outputs": [],
   "source": [
    "type_sum={}\n",
    "for s in summaries:\n",
    "    ftypes = s['fileTypeSet']\n",
    "    for ftype in ftypes:\n",
    "        atype = ftype['fileType']\n",
    "        if atype not in type_sum:\n",
    "            type_sum[atype]=0\n",
    "        type_sum[atype]=type_sum[atype]+1"
   ]
  },
  {
   "cell_type": "code",
   "execution_count": 18,
   "id": "9ff067e9-dca5-43f0-9da4-1792f110c76f",
   "metadata": {},
   "outputs": [
    {
     "data": {
      "text/plain": [
       "{'html': 78,\n",
       " 'xlsx': 28,\n",
       " 'pdf': 47,\n",
       " 'csv': 132,\n",
       " 'png': 114,\n",
       " 'twbx': 5,\n",
       " 'json': 74,\n",
       " 'docx': 1,\n",
       " 'zip': 3,\n",
       " 'tsv': 1,\n",
       " 'xls': 2,\n",
       " 'js': 1,\n",
       " 'ods': 1,\n",
       " 'rds': 1,\n",
       " 'jpg': 1}"
      ]
     },
     "execution_count": 18,
     "metadata": {},
     "output_type": "execute_result"
    }
   ],
   "source": [
    "type_sum"
   ]
  },
  {
   "cell_type": "code",
   "execution_count": 19,
   "id": "1c7cbe40-01b4-4605-8de8-07dd491fbd34",
   "metadata": {},
   "outputs": [
    {
     "data": {
      "text/plain": [
       "[78, 28, 47, 132, 114, 5, 74, 1, 3, 1, 2, 1, 1, 1, 1]"
      ]
     },
     "execution_count": 19,
     "metadata": {},
     "output_type": "execute_result"
    }
   ],
   "source": [
    "counts = list(type_sum.values())\n",
    "counts"
   ]
  },
  {
   "cell_type": "code",
   "execution_count": 20,
   "id": "9376379e-73df-48d1-baec-e0123eceb71e",
   "metadata": {},
   "outputs": [
    {
     "data": {
      "text/plain": [
       "489"
      ]
     },
     "execution_count": 20,
     "metadata": {},
     "output_type": "execute_result"
    }
   ],
   "source": [
    "sum(counts)"
   ]
  },
  {
   "cell_type": "markdown",
   "id": "d7acc2e2-56c1-41ce-8edf-f27ac46114ec",
   "metadata": {},
   "source": [
    "## ok. write a routine to filter summaries (and files) by type), then dig into types"
   ]
  },
  {
   "cell_type": "code",
   "execution_count": 21,
   "id": "ee3a816b-8569-4bc6-9c86-7280870fbded",
   "metadata": {},
   "outputs": [],
   "source": [
    "def get_summaries_by_type(summaries,target):\n",
    "    res = []\n",
    "    for s in summaries:\n",
    "        match = False\n",
    "        fts  = s['fileTypeSet']\n",
    "        for ft in fts:\n",
    "            atype = ft['fileType']\n",
    "            if atype == target:\n",
    "                match = True\n",
    "        if match == True:\n",
    "            res.append(s)\n",
    "    return res"
   ]
  },
  {
   "cell_type": "code",
   "execution_count": 22,
   "id": "d4d9a945-425f-4be0-a4c6-a665fe02ac63",
   "metadata": {},
   "outputs": [
    {
     "data": {
      "text/plain": [
       "74"
      ]
     },
     "execution_count": 22,
     "metadata": {},
     "output_type": "execute_result"
    }
   ],
   "source": [
    "jsons = get_summaries_by_type(summaries,'json')\n",
    "len(jsons)"
   ]
  },
  {
   "cell_type": "code",
   "execution_count": 23,
   "id": "c95ea660-978c-46e3-b91d-73e4459af902",
   "metadata": {},
   "outputs": [
    {
     "data": {
      "text/plain": [
       "78"
      ]
     },
     "execution_count": 23,
     "metadata": {},
     "output_type": "execute_result"
    }
   ],
   "source": [
    "htmls=get_summaries_by_type(summaries,'html')\n",
    "len(htmls)"
   ]
  },
  {
   "cell_type": "code",
   "execution_count": 24,
   "id": "76e212c3-001c-47fa-960d-215495186858",
   "metadata": {},
   "outputs": [],
   "source": [
    "xlsx = get_summaries_by_type(summaries,'xlsx')"
   ]
  },
  {
   "cell_type": "code",
   "execution_count": 25,
   "id": "5216e29c-f3cd-4e52-8b2a-21f78a8c4aac",
   "metadata": {},
   "outputs": [
    {
     "data": {
      "text/plain": [
       "28"
      ]
     },
     "execution_count": 25,
     "metadata": {},
     "output_type": "execute_result"
    }
   ],
   "source": [
    "len(xlsx)"
   ]
  },
  {
   "cell_type": "markdown",
   "id": "58410c1b-45b0-4d04-94b9-8f72995dc3e1",
   "metadata": {},
   "source": [
    "#### try some easy ones - pdf and png"
   ]
  },
  {
   "cell_type": "code",
   "execution_count": 26,
   "id": "bf7460ce-0aca-4366-8048-820c6535fc7a",
   "metadata": {},
   "outputs": [],
   "source": [
    "pdfs = get_summaries_by_type(summaries,'pdf')"
   ]
  },
  {
   "cell_type": "code",
   "execution_count": 27,
   "id": "e7540471-3d56-4dad-8425-04ca2bbab865",
   "metadata": {},
   "outputs": [
    {
     "data": {
      "text/plain": [
       "47"
      ]
     },
     "execution_count": 27,
     "metadata": {},
     "output_type": "execute_result"
    }
   ],
   "source": [
    "len(pdfs)"
   ]
  },
  {
   "cell_type": "code",
   "execution_count": 28,
   "id": "4a7172c0-fbf2-4542-8a78-9601cafe2334",
   "metadata": {},
   "outputs": [
    {
     "data": {
      "text/plain": [
       "{'metadataCollectionId': 683,\n",
       " 'titleEnglish': 'Archived Data from New Jersey Department of Health: \"New Jersey Department of Health COVID-19 Confirmed Case Summary \"',\n",
       " 'fileTypeSet': [{'fileType': 'pdf', 'fileCount': 60}]}"
      ]
     },
     "execution_count": 28,
     "metadata": {},
     "output_type": "execute_result"
    }
   ],
   "source": [
    "pdfs[0]"
   ]
  },
  {
   "cell_type": "code",
   "execution_count": 29,
   "id": "b11efbba-cb5f-44fe-b5a9-57d34020dedc",
   "metadata": {},
   "outputs": [
    {
     "data": {
      "text/plain": [
       "[{'fileType': 'pdf', 'fileCount': 2158},\n",
       " {'fileType': 'csv', 'fileCount': 269},\n",
       " {'fileType': 'png', 'fileCount': 304}]"
      ]
     },
     "execution_count": 29,
     "metadata": {},
     "output_type": "execute_result"
    }
   ],
   "source": [
    "pdfs[1]['fileTypeSet']"
   ]
  },
  {
   "cell_type": "code",
   "execution_count": 30,
   "id": "47750173-e100-4fcf-9ead-80d7daac5eaf",
   "metadata": {},
   "outputs": [
    {
     "data": {
      "text/plain": [
       "dict_keys(['metadataCollectionId', 'titleEnglish', 'fileTypeSet', 'fileSet'])"
      ]
     },
     "execution_count": 30,
     "metadata": {},
     "output_type": "execute_result"
    }
   ],
   "source": [
    "pdfs[1].keys()"
   ]
  },
  {
   "cell_type": "code",
   "execution_count": 31,
   "id": "34e00839-11da-4d5d-8f8d-093fc8e7bad4",
   "metadata": {},
   "outputs": [
    {
     "data": {
      "text/plain": [
       "269"
      ]
     },
     "execution_count": 31,
     "metadata": {},
     "output_type": "execute_result"
    }
   ],
   "source": [
    "len(pdfs[1]['fileSet'])"
   ]
  },
  {
   "cell_type": "code",
   "execution_count": 32,
   "id": "6ceaf477-93b0-46f2-afb6-a2d0f45bc3f1",
   "metadata": {},
   "outputs": [],
   "source": [
    "pdfs1_fsnames = [f['filename'] for f in pdfs[1]['fileSet']]\n"
   ]
  },
  {
   "cell_type": "code",
   "execution_count": 33,
   "id": "819b23d5-1f30-4c40-b303-755d8547c170",
   "metadata": {},
   "outputs": [
    {
     "data": {
      "text/plain": [
       "{'metadataCollectionId': 861,\n",
       " 'titleEnglish': 'Archived Data from Oklahoma State Department of Health: \"Oklahoma Response to Coronavirus Disease 2019 (COVID-19)\"',\n",
       " 'fileTypeSet': [{'fileType': 'pdf', 'fileCount': 294},\n",
       "  {'fileType': 'html', 'fileCount': 165}]}"
      ]
     },
     "execution_count": 33,
     "metadata": {},
     "output_type": "execute_result"
    }
   ],
   "source": [
    "pdfs[5]"
   ]
  },
  {
   "cell_type": "code",
   "execution_count": 34,
   "id": "cf3cdf3b-06a9-4fab-9ea6-aa36f9ad38df",
   "metadata": {},
   "outputs": [],
   "source": [
    "pngs = get_summaries_by_type(summaries,'png')"
   ]
  },
  {
   "cell_type": "code",
   "execution_count": 35,
   "id": "6574f5ed-9288-4da5-8287-e27e896bc766",
   "metadata": {},
   "outputs": [
    {
     "data": {
      "text/plain": [
       "dict_keys(['metadataCollectionId', 'titleEnglish', 'fileTypeSet', 'fileSet'])"
      ]
     },
     "execution_count": 35,
     "metadata": {},
     "output_type": "execute_result"
    }
   ],
   "source": [
    "pngs[0].keys()"
   ]
  },
  {
   "cell_type": "code",
   "execution_count": 36,
   "id": "c0d56763-c600-4b00-8627-ff8e2aea243c",
   "metadata": {},
   "outputs": [
    {
     "data": {
      "text/plain": [
       "[{'fileType': 'pdf', 'fileCount': 2158},\n",
       " {'fileType': 'csv', 'fileCount': 269},\n",
       " {'fileType': 'png', 'fileCount': 304}]"
      ]
     },
     "execution_count": 36,
     "metadata": {},
     "output_type": "execute_result"
    }
   ],
   "source": [
    "pngs[0]['fileTypeSet']"
   ]
  },
  {
   "cell_type": "code",
   "execution_count": 37,
   "id": "3b4a4b98-ad35-47c1-9eb9-4d9078b53949",
   "metadata": {},
   "outputs": [
    {
     "data": {
      "text/plain": [
       "269"
      ]
     },
     "execution_count": 37,
     "metadata": {},
     "output_type": "execute_result"
    }
   ],
   "source": [
    "len(pngs[0]['fileSet'])"
   ]
  },
  {
   "cell_type": "code",
   "execution_count": 38,
   "id": "ea88ee07-abd6-4de6-897f-220a866e1c2b",
   "metadata": {},
   "outputs": [
    {
     "data": {
      "text/plain": [
       "{'filename': 'county_vaccine_2021-12-08_162510.csv',\n",
       " 'data': [{'sheetData': [['County', 'Date', 'Vaccine', 'Administrations'],\n",
       "    [None, '12/14/2020', 'Pfizer', '1'],\n",
       "    [None, '12/15/2020', 'Pfizer', '4'],\n",
       "    [None, '12/15/2020', 'Unspecified', '1'],\n",
       "    [None, '12/16/2020', 'Pfizer', '84'],\n",
       "    [None, '12/17/2020', 'Pfizer', '100'],\n",
       "    [None, '12/18/2020', 'Pfizer', '296'],\n",
       "    [None, '12/18/2020', 'Unspecified', '2'],\n",
       "    [None, '12/19/2020', 'Pfizer', '125'],\n",
       "    [None, '12/19/2020', 'Unspecified', '1']]}]}"
      ]
     },
     "execution_count": 38,
     "metadata": {},
     "output_type": "execute_result"
    }
   ],
   "source": [
    "pngs[0]['fileSet'][93]"
   ]
  },
  {
   "cell_type": "markdown",
   "id": "4cb2a8bf-65a9-4866-857b-27828a49d941",
   "metadata": {},
   "source": [
    "#### ok. look at twbx and zip"
   ]
  },
  {
   "cell_type": "code",
   "execution_count": 39,
   "id": "1b89a792-7642-42f2-9709-a8e3a3a94858",
   "metadata": {},
   "outputs": [],
   "source": [
    "twbx = get_summaries_by_type(summaries,'twbx')"
   ]
  },
  {
   "cell_type": "code",
   "execution_count": 40,
   "id": "2ba838bc-85e7-44f4-89fc-9701d113e7a9",
   "metadata": {},
   "outputs": [
    {
     "data": {
      "text/plain": [
       "5"
      ]
     },
     "execution_count": 40,
     "metadata": {},
     "output_type": "execute_result"
    }
   ],
   "source": [
    "len(twbx)"
   ]
  },
  {
   "cell_type": "markdown",
   "id": "1a44bf60-c113-487a-9d34-b61e07a0cf30",
   "metadata": {},
   "source": [
    "all also have csv"
   ]
  },
  {
   "cell_type": "code",
   "execution_count": 41,
   "id": "efbc77ca-7d60-4a11-9c0b-0ec0c603555e",
   "metadata": {},
   "outputs": [],
   "source": [
    "jsons = get_summaries_by_type(summaries,'json')"
   ]
  },
  {
   "cell_type": "code",
   "execution_count": 42,
   "id": "2df77425-c44b-455e-9403-ed54429f573b",
   "metadata": {},
   "outputs": [
    {
     "data": {
      "text/plain": [
       "6"
      ]
     },
     "execution_count": 42,
     "metadata": {},
     "output_type": "execute_result"
    }
   ],
   "source": [
    "len(jsons[1]['fileSet'])"
   ]
  },
  {
   "cell_type": "code",
   "execution_count": 43,
   "id": "226443e1-e8ec-46c9-9f46-18e409dea23e",
   "metadata": {},
   "outputs": [],
   "source": [
    "js1fs=jsons[1]['fileSet']"
   ]
  },
  {
   "cell_type": "code",
   "execution_count": 44,
   "id": "f8d742cd-d334-419e-a9bf-fe5f60341fa1",
   "metadata": {},
   "outputs": [],
   "source": [
    "js1js= [f  for f in js1fs if f['filename'].endswith('json')]"
   ]
  },
  {
   "cell_type": "code",
   "execution_count": 45,
   "id": "f25ae752-815a-4e63-bca3-4ac396ad8dce",
   "metadata": {},
   "outputs": [
    {
     "data": {
      "text/plain": [
       "[]"
      ]
     },
     "execution_count": 45,
     "metadata": {},
     "output_type": "execute_result"
    }
   ],
   "source": [
    "js1js"
   ]
  },
  {
   "cell_type": "markdown",
   "id": "91eb08e5-a1a8-4176-bab3-8149eb54455f",
   "metadata": {},
   "source": [
    "all also have csv!"
   ]
  },
  {
   "cell_type": "markdown",
   "id": "186790be-4c39-4972-af75-e9aa5ad1050c",
   "metadata": {},
   "source": [
    "# Ok,new routine to get any who have one of several types"
   ]
  },
  {
   "cell_type": "code",
   "execution_count": 46,
   "id": "b43cc9b3-9416-4328-b837-0f40673f9ace",
   "metadata": {},
   "outputs": [],
   "source": [
    "def get_entries_by_types(entries,targets):\n",
    "    res = []\n",
    "    for e in entries:\n",
    "        match = False\n",
    "        fts  = e['fileTypeSet']\n",
    "        for ft in fts:\n",
    "            atype = ft['fileType']\n",
    "            if atype in targets:\n",
    "                match = True\n",
    "        if match == True:\n",
    "            res.append(e)\n",
    "    return res"
   ]
  },
  {
   "cell_type": "code",
   "execution_count": 47,
   "id": "97b8e8a6-fd36-4375-a93d-b68cd44024f2",
   "metadata": {},
   "outputs": [],
   "source": [
    "spreadsheets = get_entries_by_types(summaries,['csv','xlsx','tsv','xlsx','json','ods'])"
   ]
  },
  {
   "cell_type": "code",
   "execution_count": 48,
   "id": "f4f70985-e957-4d00-a330-9192451aed51",
   "metadata": {},
   "outputs": [
    {
     "data": {
      "text/plain": [
       "204"
      ]
     },
     "execution_count": 48,
     "metadata": {},
     "output_type": "execute_result"
    }
   ],
   "source": [
    "len(spreadsheets)"
   ]
  },
  {
   "cell_type": "code",
   "execution_count": 49,
   "id": "83845050-3810-42ae-9f78-70e6800271de",
   "metadata": {},
   "outputs": [
    {
     "data": {
      "text/plain": [
       "{'html': 78,\n",
       " 'xlsx': 28,\n",
       " 'pdf': 47,\n",
       " 'csv': 132,\n",
       " 'png': 114,\n",
       " 'twbx': 5,\n",
       " 'json': 74,\n",
       " 'docx': 1,\n",
       " 'zip': 3,\n",
       " 'tsv': 1,\n",
       " 'xls': 2,\n",
       " 'js': 1,\n",
       " 'ods': 1,\n",
       " 'rds': 1,\n",
       " 'jpg': 1}"
      ]
     },
     "execution_count": 49,
     "metadata": {},
     "output_type": "execute_result"
    }
   ],
   "source": [
    "type_sum"
   ]
  },
  {
   "cell_type": "code",
   "execution_count": 50,
   "id": "0afb577d-e140-4d15-9e0f-4efa1ba95db8",
   "metadata": {},
   "outputs": [
    {
     "data": {
      "text/plain": [
       "163"
      ]
     },
     "execution_count": 50,
     "metadata": {},
     "output_type": "execute_result"
    }
   ],
   "source": [
    "type_sum['xlsx']+type_sum['csv']+type_sum['tsv']+type_sum['xls']"
   ]
  },
  {
   "cell_type": "markdown",
   "id": "a4b1dffa-82de-4c78-b368-b97e11de9e2d",
   "metadata": {},
   "source": [
    "# Starting to look inside the spreadsheets"
   ]
  },
  {
   "cell_type": "code",
   "execution_count": 51,
   "id": "a9b8d696-70fc-4e7b-af6a-bee156b800a6",
   "metadata": {},
   "outputs": [],
   "source": [
    "s0=spreadsheets[0]"
   ]
  },
  {
   "cell_type": "code",
   "execution_count": 52,
   "id": "d20a24e4-9222-4828-bc5c-8e7b943fd8f6",
   "metadata": {},
   "outputs": [
    {
     "data": {
      "text/plain": [
       "dict_keys(['metadataCollectionId', 'titleEnglish', 'fileTypeSet', 'fileSet'])"
      ]
     },
     "execution_count": 52,
     "metadata": {},
     "output_type": "execute_result"
    }
   ],
   "source": [
    "s0.keys()"
   ]
  },
  {
   "cell_type": "code",
   "execution_count": 53,
   "id": "3040d370-cf0d-4733-84a3-24e161b850bf",
   "metadata": {},
   "outputs": [
    {
     "data": {
      "text/plain": [
       "729"
      ]
     },
     "execution_count": 53,
     "metadata": {},
     "output_type": "execute_result"
    }
   ],
   "source": [
    "s0['metadataCollectionId']"
   ]
  },
  {
   "cell_type": "code",
   "execution_count": 54,
   "id": "0bc4d42b-5b2e-4bb0-a293-535013b10ce2",
   "metadata": {},
   "outputs": [],
   "source": [
    "s0fs0=s0['fileSet'][0]"
   ]
  },
  {
   "cell_type": "code",
   "execution_count": 55,
   "id": "3b14d46c-5c9c-45e9-8772-11c328069e5d",
   "metadata": {},
   "outputs": [
    {
     "data": {
      "text/plain": [
       "{'filename': 'Downloadable_Demographic_2022-02-01_042303.xlsx',\n",
       " 'data': [{'sheetName': 'Cases', 'sheetData': [['County']]},\n",
       "  {'sheetName': 'Hospitalizations-State', 'sheetData': [['County']]},\n",
       "  {'sheetName': 'Hospitalizations-County', 'sheetData': [['County']]},\n",
       "  {'sheetName': 'Testing', 'sheetData': [['County']]},\n",
       "  {'sheetName': 'Data Dictionary', 'sheetData': [['Variable']]}]}"
      ]
     },
     "execution_count": 55,
     "metadata": {},
     "output_type": "execute_result"
    }
   ],
   "source": [
    "s0fs0"
   ]
  },
  {
   "cell_type": "code",
   "execution_count": 56,
   "id": "205971db-5288-4243-97ba-485aab66622e",
   "metadata": {},
   "outputs": [
    {
     "data": {
      "text/plain": [
       "{'filename': 'EpiCurve_Count_Cases_Hospitalizations_Deaths_2022-07-07_042304.xlsx',\n",
       " 'data': [{'sheetName': 'Cases',\n",
       "   'sheetData': [['Earliest Specimen Collection Date']]},\n",
       "  {'sheetName': 'Hospitalizations',\n",
       "   'sheetData': [['Hospital Admission Date']]},\n",
       "  {'sheetName': 'Deaths',\n",
       "   'sheetData': [['Earliest Specimen Collection Date']]},\n",
       "  {'sheetName': 'Data Dictionary', 'sheetData': [['Variable Name']]}]}"
      ]
     },
     "execution_count": 56,
     "metadata": {},
     "output_type": "execute_result"
    }
   ],
   "source": [
    "s0['fileSet'][1]"
   ]
  },
  {
   "cell_type": "code",
   "execution_count": 57,
   "id": "29e04c53-272a-48e6-b367-ebf1833c2d78",
   "metadata": {},
   "outputs": [
    {
     "data": {
      "text/plain": [
       "{'filename': 'Downloadable_RaceEthnicity_2022-05-26_042302.xlsx',\n",
       " 'data': [{'sheetName': 'Cases', 'sheetData': [['Statewide']]},\n",
       "  {'sheetName': 'Hospitalizations', 'sheetData': [['Statewide']]},\n",
       "  {'sheetName': 'Testing', 'sheetData': [['Statewide']]},\n",
       "  {'sheetName': 'Data Dictionary', 'sheetData': [['Variable Name']]}]}"
      ]
     },
     "execution_count": 57,
     "metadata": {},
     "output_type": "execute_result"
    }
   ],
   "source": [
    "s0['fileSet'][2]"
   ]
  },
  {
   "cell_type": "code",
   "execution_count": 58,
   "id": "914d181a-ee7b-434f-b159-533c9729e447",
   "metadata": {},
   "outputs": [
    {
     "data": {
      "text/plain": [
       "{'filename': 'Downloadable_RaceEthnicity_2022-03-03_042303.xlsx',\n",
       " 'data': [{'sheetName': 'Cases', 'sheetData': [['Statewide']]},\n",
       "  {'sheetName': 'Hospitalizations', 'sheetData': [['Statewide']]},\n",
       "  {'sheetName': 'Testing', 'sheetData': [['Statewide']]},\n",
       "  {'sheetName': 'Data Dictionary', 'sheetData': [['Variable Name']]}]}"
      ]
     },
     "execution_count": 58,
     "metadata": {},
     "output_type": "execute_result"
    }
   ],
   "source": [
    "s0['fileSet'][3]"
   ]
  },
  {
   "cell_type": "code",
   "execution_count": 59,
   "id": "58ce07e9-13fd-4b6b-8d87-e6d3f165697e",
   "metadata": {},
   "outputs": [
    {
     "data": {
      "text/plain": [
       "{'filename': 'Downloadable_Demographic_2022-06-09_042302.xlsx',\n",
       " 'data': [{'sheetName': 'Cases', 'sheetData': [['County']]},\n",
       "  {'sheetName': 'Hospitalizations-State', 'sheetData': [['County']]},\n",
       "  {'sheetName': 'Hospitalizations-County', 'sheetData': [['County']]},\n",
       "  {'sheetName': 'Testing', 'sheetData': [['County']]},\n",
       "  {'sheetName': 'Data Dictionary', 'sheetData': [['Variable Name']]}]}"
      ]
     },
     "execution_count": 59,
     "metadata": {},
     "output_type": "execute_result"
    }
   ],
   "source": [
    "s0['fileSet'][4]"
   ]
  },
  {
   "cell_type": "code",
   "execution_count": 60,
   "id": "dc553c3d-54c9-419f-a5e9-aeb7ec5f5883",
   "metadata": {},
   "outputs": [
    {
     "data": {
      "text/plain": [
       "{'filename': 'EpiCurve_Count_Cases_Hospitalizations_Deaths_2022-02-19_042303.xlsx',\n",
       " 'data': [{'sheetName': 'Cases',\n",
       "   'sheetData': [['Earliest Specimen Collection Date']]},\n",
       "  {'sheetName': 'Hospitalizations',\n",
       "   'sheetData': [['Hospital Admission Date']]},\n",
       "  {'sheetName': 'Deaths',\n",
       "   'sheetData': [['Earliest Specimen Collection Date']]},\n",
       "  {'sheetName': 'Data Dictionary', 'sheetData': [['VariableName']]}]}"
      ]
     },
     "execution_count": 60,
     "metadata": {},
     "output_type": "execute_result"
    }
   ],
   "source": [
    "s0['fileSet'][5]"
   ]
  },
  {
   "cell_type": "code",
   "execution_count": 61,
   "id": "5338c96a-538f-42e3-b01f-dadb31aaf384",
   "metadata": {},
   "outputs": [
    {
     "data": {
      "text/plain": [
       "{'filename': 'WA_COVID19_Cases_Hospitalizations_Deaths_2021-03-30_122302.xlsx',\n",
       " 'data': [{'sheetName': 'Cases', 'sheetData': [['County']]},\n",
       "  {'sheetName': 'Hospitalizations', 'sheetData': [['County']]},\n",
       "  {'sheetName': 'Deaths', 'sheetData': [['County']]},\n",
       "  {'sheetName': 'DataDictionary', 'sheetData': [['Variable Name']]}]}"
      ]
     },
     "execution_count": 61,
     "metadata": {},
     "output_type": "execute_result"
    }
   ],
   "source": [
    "s0['fileSet'][6]"
   ]
  },
  {
   "cell_type": "code",
   "execution_count": 62,
   "id": "f518907b-d1cc-4ec6-965b-d77171131928",
   "metadata": {},
   "outputs": [
    {
     "data": {
      "text/plain": [
       "{'filename': 'PUBLIC_CDC_Event_Date_SARS_2020-08-30_202303.xlsx',\n",
       " 'data': [{'sheetName': 'Cases',\n",
       "   'sheetData': [['County',\n",
       "     'WeekStartDate',\n",
       "     'NewPos_All',\n",
       "     'Age 0-19',\n",
       "     'Age 20-39',\n",
       "     'Age 40-59',\n",
       "     'Age 60-79',\n",
       "     'Age 80+',\n",
       "     'Positive UnkAge',\n",
       "     'dtm_updated'],\n",
       "    ['Adams County', '2020-03-08', 4, 0, 1, 1, 2, 0, 0, 1598793378678],\n",
       "    ['Adams County', '2020-03-15', 3, 0, 0, 3, 0, 0, 0, 1598793378678],\n",
       "    ['Adams County', '2020-03-22', 9, 0, 1, 4, 4, 0, 0, 1598793378678],\n",
       "    ['Adams County', '2020-03-29', 17, 2, 8, 4, 3, 0, 0, 1598793378678],\n",
       "    ['Adams County', '2020-04-05', 8, 1, 2, 4, 1, 0, 0, 1598793378678],\n",
       "    ['Adams County', '2020-04-12', 2, 0, 1, 1, 0, 0, 0, 1598793378678],\n",
       "    ['Adams County', '2020-04-19', 4, 0, 4, 0, 0, 0, 0, 1598793378678],\n",
       "    ['Adams County', '2020-04-26', 2, 0, 1, 1, 0, 0, 0, 1598793378678],\n",
       "    ['Adams County', '2020-05-03', 1, 1, 0, 0, 0, 0, 0, 1598793378678]]},\n",
       "  {'sheetName': 'Hospitalizations',\n",
       "   'sheetData': [['County',\n",
       "     'WeekStartDate',\n",
       "     'Hospitalizations',\n",
       "     'Age 0-19',\n",
       "     'Age 20-39',\n",
       "     'Age 40-59',\n",
       "     'Age 60-79',\n",
       "     'Age 80+',\n",
       "     'Positive UnkAge',\n",
       "     'dtm_updated'],\n",
       "    ['Adams County', '2020-03-15', 1, 0, 0, 1, 0, 0, 0, 1598793378678],\n",
       "    ['Adams County', '2020-03-22', 4, 0, 0, 1, 3, 0, 0, 1598793378678],\n",
       "    ['Adams County', '2020-04-05', 1, 0, 0, 1, 0, 0, 0, 1598793378678],\n",
       "    ['Adams County', '2020-06-07', 1, 0, 0, 1, 0, 0, 0, 1598793378678],\n",
       "    ['Adams County', '2020-06-14', 1, 0, 0, 1, 0, 0, 0, 1598793378678],\n",
       "    ['Adams County', '2020-06-21', 1, 0, 0, 0, 1, 0, 0, 1598793378678],\n",
       "    ['Adams County', '2020-07-05', 1, 0, 0, 0, 0, 1, 0, 1598793378678],\n",
       "    ['Adams County', '2020-07-12', 4, 0, 1, 1, 2, 0, 0, 1598793378678],\n",
       "    ['Adams County', '2020-07-19', 4, 0, 1, 1, 1, 1, 0, 1598793378678]]},\n",
       "  {'sheetName': 'Deaths',\n",
       "   'sheetData': [['County',\n",
       "     'WeekStartDate',\n",
       "     'Deaths',\n",
       "     'Age 0-19',\n",
       "     'Age 20-39',\n",
       "     'Age 40-59',\n",
       "     'Age 60-79',\n",
       "     'Age 80+',\n",
       "     'Positive UnkAge',\n",
       "     'dtm_updated'],\n",
       "    ['Adams County', '2020-07-12', 2, 0, 0, 0, 1, 1, 0, 1598793378678],\n",
       "    ['Adams County', '2020-07-19', 3, 0, 0, 0, 1, 2, 0, 1598793378678],\n",
       "    ['Adams County', '2020-08-02', 1, 0, 0, 1, 0, 0, 0, 1598793378678],\n",
       "    ['Adams County', '2020-08-16', 1, 0, 0, 0, 0, 1, 0, 1598793378678],\n",
       "    ['Asotin County', '2020-03-15', 1, 0, 0, 0, 1, 0, 0, 1598793378678],\n",
       "    ['Asotin County', '2020-04-05', 1, 0, 0, 0, 0, 1, 0, 1598793378678],\n",
       "    ['Benton County', '2020-03-01', 3, 0, 0, 0, 1, 2, 0, 1598793378678],\n",
       "    ['Benton County', '2020-03-08', 4, 0, 0, 0, 3, 1, 0, 1598793378678],\n",
       "    ['Benton County', '2020-03-15', 8, 0, 0, 0, 5, 3, 0, 1598793378678]]},\n",
       "  {'sheetName': 'DataDictionary',\n",
       "   'sheetData': [['Variable Name', 'Definition'],\n",
       "    ['County', 'County of residence'],\n",
       "    ['WeekStartDate',\n",
       "     'The first date of the week associated with symptom onset, or the closest available date. This date is assigned based on a hierarchy of dates. If a date is not available the next step in the hierarchy is used: 1) Symptom onset date, 2) Diagnosis date, 3) Positive defining lab date, 4) Local health notification date, 5) Record creation date. Weeks are defined as Sunday through Saturday.'],\n",
       "    ['NewPos_All', 'Total number of cases assigned to that day'],\n",
       "    ['Deaths', 'Total number of deaths assigned to that day'],\n",
       "    ['Age 0-19', 'Total number of cases or deaths between 0 and 19 years old'],\n",
       "    ['Age 20-39',\n",
       "     'Total number of cases or deaths between 20 and 39 years old'],\n",
       "    ['Age 40-59',\n",
       "     'Total number of cases or deaths between 40 and 59 years old'],\n",
       "    ['Age 60-79',\n",
       "     'Total number of cases or deaths between 60 and 79 years old'],\n",
       "    ['Age 80+', 'Total number of cases or deaths 80 years old or older']]}]}"
      ]
     },
     "execution_count": 62,
     "metadata": {},
     "output_type": "execute_result"
    }
   ],
   "source": [
    "s0['fileSet'][7]"
   ]
  },
  {
   "cell_type": "markdown",
   "id": "59cbfab5-5fb3-4cd2-b39e-3a09860b0160",
   "metadata": {},
   "source": [
    "There's a great deal here to dig into. Let's take a step back first and look at the file names.\n",
    "---"
   ]
  },
  {
   "cell_type": "markdown",
   "id": "5c34293f-9a38-4b41-871f-7f9a07a17c46",
   "metadata": {},
   "source": [
    "#  Look at included file names?"
   ]
  },
  {
   "cell_type": "code",
   "execution_count": 63,
   "id": "7758bd41-7d97-4269-993c-a03c64e899e6",
   "metadata": {},
   "outputs": [],
   "source": [
    "def get_titles(entry):\n",
    "    res ={}\n",
    "    res['metadataCollectionId']=entry['metadataCollectionId']\n",
    "    res['titleEnglish']=entry['titleEnglish']\n",
    "    if 'fileSet' in entry:\n",
    "        res['files'] =[fs['filename'] for fs in entry['fileSet']]\n",
    "    return res"
   ]
  },
  {
   "cell_type": "code",
   "execution_count": 64,
   "id": "e4343cb8-2026-4009-9e63-e1abeb935245",
   "metadata": {},
   "outputs": [],
   "source": [
    "titles = [get_titles(ss) for ss in spreadsheets]"
   ]
  },
  {
   "cell_type": "code",
   "execution_count": 65,
   "id": "1cdcd8fc-9ec1-4211-b520-1cf3dbbf1a2c",
   "metadata": {},
   "outputs": [
    {
     "data": {
      "text/plain": [
       "1400"
      ]
     },
     "execution_count": 65,
     "metadata": {},
     "output_type": "execute_result"
    }
   ],
   "source": [
    "len(titles[3]['files'])"
   ]
  },
  {
   "cell_type": "code",
   "execution_count": 66,
   "id": "9c46c02c-5c46-4d19-9b9b-9764bad72aff",
   "metadata": {},
   "outputs": [],
   "source": [
    "pdfs = get_entries_by_types(summaries,['pdf'])"
   ]
  },
  {
   "cell_type": "code",
   "execution_count": 67,
   "id": "6b9fe2ad-f3d2-4485-a1d9-22b7e85c9f96",
   "metadata": {},
   "outputs": [
    {
     "data": {
      "text/plain": [
       "47"
      ]
     },
     "execution_count": 67,
     "metadata": {},
     "output_type": "execute_result"
    }
   ],
   "source": [
    "len(pdfs)"
   ]
  },
  {
   "cell_type": "code",
   "execution_count": 68,
   "id": "fdbe20e7-a322-4a51-a61b-3a71564d10f4",
   "metadata": {},
   "outputs": [
    {
     "data": {
      "text/plain": [
       "816"
      ]
     },
     "execution_count": 68,
     "metadata": {},
     "output_type": "execute_result"
    }
   ],
   "source": [
    "pdfs[1]['metadataCollectionId']"
   ]
  },
  {
   "cell_type": "code",
   "execution_count": 69,
   "id": "f8b9b6c4-9909-4c95-8f27-902d9d30c14a",
   "metadata": {},
   "outputs": [],
   "source": [
    "def find_entry_by_id(coll,id):\n",
    "    for ent in coll:\n",
    "        if ent['metadataCollectionId'] == id:\n",
    "            return ent\n",
    "    return None"
   ]
  },
  {
   "cell_type": "code",
   "execution_count": 70,
   "id": "d2f8d555-097e-4793-be73-c16bf5791320",
   "metadata": {},
   "outputs": [],
   "source": [
    "ent = find_entry_by_id(summaries,816)"
   ]
  },
  {
   "cell_type": "markdown",
   "id": "0ac6dca1-dfb7-435c-be43-dab4c51e5556",
   "metadata": {},
   "source": [
    "Note that we can find the scraping catalog entry for these names at https://catalog.midasnetwork.us/scrapecat/id,\n",
    "where id is the medatadataCollectionId. \n",
    "\n",
    "Thus, we have the link for [collection 816](https://catalog.midasnetwork.us/scrapecat/816)"
   ]
  },
  {
   "cell_type": "markdown",
   "id": "c5081aab-5f4e-4265-8598-c5a89ee6be9a",
   "metadata": {},
   "source": [
    "# PLAN: CLUSTERING ON FILE NAMES\n",
    "\n",
    "Each of the 200+ sources has a list of files. Our goal will be to do a lexical analysis so that we can tokenize the files, and then to use those tokens to cluster the files via non-negative matrix factorization. We will then use this to see what we can confirm about commonalities or differences between files.\n",
    "\n",
    "Eventually, we might move from there to do file contents."
   ]
  },
  {
   "cell_type": "markdown",
   "id": "caa0dd5a-6e23-482d-8ed0-5ac841a909d4",
   "metadata": {},
   "source": [
    "Grab all file names\n",
    "\n",
    "1. characterize - who has dates.\n",
    "2. Tokenize those files by Removing dates, spliting on underscores, splitting on camel case,cleaning other patterns that might be messy\n",
    "3. Map the tokens to tf-idf\n",
    "4. Cluster \n",
    "5. Map back from individual items to see what they cluster in\n",
    "6. Look at the diversity of file names contents within each cluster\n",
    "7. Add in column names.\n",
    "\n"
   ]
  },
  {
   "cell_type": "code",
   "execution_count": 71,
   "id": "de81f86a-48d4-4888-beee-6e4bd4821848",
   "metadata": {},
   "outputs": [],
   "source": [
    "collection = [get_titles(ss) for ss in summaries]"
   ]
  },
  {
   "cell_type": "code",
   "execution_count": 72,
   "id": "e5f771b8-7d67-4584-b975-33e44c68d3f4",
   "metadata": {},
   "outputs": [],
   "source": [
    "ent2 = find_entry_by_id(collection,816)"
   ]
  },
  {
   "cell_type": "code",
   "execution_count": 73,
   "id": "bd26d713-b87d-4633-9389-ab09a4e127b9",
   "metadata": {},
   "outputs": [
    {
     "data": {
      "text/plain": [
       "294"
      ]
     },
     "execution_count": 73,
     "metadata": {},
     "output_type": "execute_result"
    }
   ],
   "source": [
    "len(collection)"
   ]
  },
  {
   "cell_type": "code",
   "execution_count": 74,
   "id": "cbf343e6-db70-4245-b0ca-ed1277c81094",
   "metadata": {},
   "outputs": [
    {
     "data": {
      "text/plain": [
       "dict_keys(['metadataCollectionId', 'titleEnglish', 'files'])"
      ]
     },
     "execution_count": 74,
     "metadata": {},
     "output_type": "execute_result"
    }
   ],
   "source": [
    "collection[0].keys()"
   ]
  },
  {
   "cell_type": "code",
   "execution_count": 75,
   "id": "c051f3b8-9462-4ff1-9e9c-2f33502cc381",
   "metadata": {},
   "outputs": [
    {
     "data": {
      "text/plain": [
       "354576"
      ]
     },
     "execution_count": 75,
     "metadata": {},
     "output_type": "execute_result"
    }
   ],
   "source": [
    "cnt = 0\n",
    "for f in collection:\n",
    "    if 'files' in f:\n",
    "        cnt = cnt +len(f['files'])\n",
    "cnt"
   ]
  },
  {
   "cell_type": "markdown",
   "id": "df806823-43b7-4d47-9640-e2232ace6dbe",
   "metadata": {},
   "source": [
    "ok. more than 350K files!"
   ]
  },
  {
   "cell_type": "code",
   "execution_count": 76,
   "id": "0fff3165-2b14-49fc-9326-55c7b64b541d",
   "metadata": {},
   "outputs": [
    {
     "data": {
      "text/plain": [
       "['Downloadable_Demographic_2022-02-01_042303.xlsx',\n",
       " 'EpiCurve_Count_Cases_Hospitalizations_Deaths_2022-07-07_042304.xlsx',\n",
       " 'Downloadable_RaceEthnicity_2022-05-26_042302.xlsx',\n",
       " 'Downloadable_RaceEthnicity_2022-03-03_042303.xlsx',\n",
       " 'Downloadable_Demographic_2022-06-09_042302.xlsx',\n",
       " 'EpiCurve_Count_Cases_Hospitalizations_Deaths_2022-02-19_042303.xlsx',\n",
       " 'WA_COVID19_Cases_Hospitalizations_Deaths_2021-03-30_122302.xlsx',\n",
       " 'PUBLIC_CDC_Event_Date_SARS_2020-08-30_202303.xlsx',\n",
       " 'Downloadable_RaceEthnicity_2022-04-19_042302.xlsx',\n",
       " 'Downloadable_Demographic_2022-07-12_042303.xlsx']"
      ]
     },
     "execution_count": 76,
     "metadata": {},
     "output_type": "execute_result"
    }
   ],
   "source": [
    "collection[0]['files'][:10]"
   ]
  },
  {
   "cell_type": "code",
   "execution_count": 77,
   "id": "dd965a9c-75b6-485a-babe-9e6475b3bdc9",
   "metadata": {},
   "outputs": [
    {
     "data": {
      "text/plain": [
       "['T1._Hosp_Sex_2022-04-15_061646.csv',\n",
       " 'T2._Hosp_Age_2022-05-06_062609.csv',\n",
       " 'T7._Deaths_Race_2022-02-24_213254.csv',\n",
       " 'Deaths_Ethnicity_2022-01-13_173706.csv',\n",
       " 'Hosp Age_2021-12-09_173957.csv',\n",
       " 'T1._Hosp_Sex_2022-05-27_071043.csv',\n",
       " 'Hosp_Sex_2022-02-10_133308.csv',\n",
       " 'Deaths_Ethnicity_2022-01-06_173240.csv',\n",
       " 'T7._Deaths_Race_2022-05-06_062609.csv',\n",
       " 'T3._Hosp_Race_2022-04-15_061646.csv']"
      ]
     },
     "execution_count": 77,
     "metadata": {},
     "output_type": "execute_result"
    }
   ],
   "source": [
    "collection[11]['files'][30:40]"
   ]
  },
  {
   "cell_type": "markdown",
   "id": "132456bc-826f-4f5c-854f-f7d34b9f8f47",
   "metadata": {},
   "source": [
    "All have dates. Must remove."
   ]
  },
  {
   "cell_type": "code",
   "execution_count": 78,
   "id": "3571bb52-d652-47a9-a8c5-722444bcad15",
   "metadata": {},
   "outputs": [
    {
     "data": {
      "text/plain": [
       "['Downloadable_Demographic_2022-02-01_042303.xlsx',\n",
       " 'EpiCurve_Count_Cases_Hospitalizations_Deaths_2022-07-07_042304.xlsx',\n",
       " 'Downloadable_RaceEthnicity_2022-05-26_042302.xlsx',\n",
       " 'Downloadable_RaceEthnicity_2022-03-03_042303.xlsx',\n",
       " 'Downloadable_Demographic_2022-06-09_042302.xlsx',\n",
       " 'EpiCurve_Count_Cases_Hospitalizations_Deaths_2022-02-19_042303.xlsx',\n",
       " 'WA_COVID19_Cases_Hospitalizations_Deaths_2021-03-30_122302.xlsx',\n",
       " 'PUBLIC_CDC_Event_Date_SARS_2020-08-30_202303.xlsx',\n",
       " 'Downloadable_RaceEthnicity_2022-04-19_042302.xlsx',\n",
       " 'Downloadable_Demographic_2022-07-12_042303.xlsx']"
      ]
     },
     "execution_count": 78,
     "metadata": {},
     "output_type": "execute_result"
    }
   ],
   "source": [
    "f = collection[0]\n",
    "f['files'][:10]"
   ]
  },
  {
   "cell_type": "code",
   "execution_count": 79,
   "id": "a749b386-7a21-4e6b-a4a1-2bea26344de6",
   "metadata": {},
   "outputs": [
    {
     "data": {
      "text/plain": [
       "'EpiCurve_Count_Cases_Hospitalizations_Deaths_2022-07-07_042304.xlsx'"
      ]
     },
     "execution_count": 79,
     "metadata": {},
     "output_type": "execute_result"
    }
   ],
   "source": [
    "sampfile = f['files'][1]\n",
    "sampfile"
   ]
  },
  {
   "cell_type": "markdown",
   "id": "77037f56-a145-4aa3-84b3-5742c974684d",
   "metadata": {},
   "source": [
    "Most files have dates as appended by MIDAS. However, there are many other patterns that appear. We'll attempt to clean them as best possible"
   ]
  },
  {
   "cell_type": "code",
   "execution_count": 80,
   "id": "c7ebf827-3de7-4b9b-ad13-c08ca3f95dfc",
   "metadata": {},
   "outputs": [],
   "source": [
    "# ok. Extract name before the date and extension\n",
    "# split name before the date into indivual words separated by underscore. \n",
    "# then further split each by camel case\n",
    "\n",
    "def get_base_match(fname):\n",
    "    # try one of several patterns, using the first that matches\n",
    "    res =  [\"(.*)_\\d{4}-\\d{2}-\\d{2}_\\d{6,}.(\\w+)$\",\n",
    "            \"(.*)_\\d_\\d_\\d{4}_\\d.(\\w+)$\",\n",
    "            \"(.*)_\\d_\\d_\\d{4}_\\d.(\\w+)$\",\n",
    "            \"(.*)_\\d{1,2}_\\d{1,2}_\\d{4}.(\\w+)$\",\n",
    "            \"(.*)_\\d{1,2}-\\d{1,2}-\\d{2}_corrected.(\\w+)$\",\n",
    "            #COVID-19_OB_weekly_report_7_8_2020_corrected_7-9.xlsx\n",
    "            \"(.*)_\\d{1,2}_\\d{1,2}_\\d{2,4}_corrected_\\d{1,2}-\\d{1,2}.(\\w+)$\",\n",
    "            #covid_outbreak_weekly_report_6-10-20.xlsx,\n",
    "            \"(.*)\\_\\d{1,2}\\-\\d{1,2}\\-\\d{2,4}.(\\w+)$\",\n",
    "            # \"COVID-19_OB_weekly_report_8_20_2020-2.xlsx\"\n",
    "            \"(.*)\\_\\d{1,2}\\_\\d{1,2}\\_\\d{2,4}\\-\\d.(\\w+)$\",\n",
    "            #COVID-19_OB_weekly_report_7_8_2020_corrected_7-9.xlsx            \n",
    "            \"(.*)_\\d{1,2}_\\d{1,2}_\\d{2,4}-corrected_\\d{1,2}.(\\w+)$\",\n",
    "            #covid_outbreak_weekly_report_5-20-20_.xlsx\n",
    "            \"(.*)_\\d{1,2}-\\d{1,2}-\\d{2,4}_.(\\w+)$\",\n",
    "            #colorado_covid-19_outbreaks_2.xlsx\n",
    "            \"(.*)_\\d+.(\\w+)$\",\n",
    "            #COVID-19_OB_weekly_report_8.5.2020.xlsx\n",
    "            \"(.*)_\\d{1,2}.\\d{1,2}.\\d{2,4}.(\\w+)$\",\n",
    "            # colorado_covid-19_outbreaks.xlsx   - this one means we'll catch almost anything\n",
    "            \"(.*)\\.(\\w+)$\"\n",
    "           ]\n",
    "\n",
    "    for reg in res:\n",
    "        p = re.compile(reg)\n",
    "        m = p.match(fname)\n",
    "        if m is not None:\n",
    "            break\n",
    "\n",
    "    try: \n",
    "        base_name = m.group(1)\n",
    "        ext = m.group(2)\n",
    "        return (base_name,ext)\n",
    "    except:\n",
    "        print(\"can't match...\"+fname)\n",
    "\n",
    "# split camel case entries like \"CovidCases\" into the constiutent words.\n",
    "def camel_case_split(str):\n",
    "    # modified from https://www.geeksforgeeks.org/python-split-camelcase-string-to-individual-strings/\n",
    "    res = re.findall(r'[A-Z](?:[a-z0-9\\-]+|[A-Z0-9\\-]*(?=[A-Z0-9\\-]|$))', str)\n",
    "    if len(res) ==0:\n",
    "        res = [str]\n",
    "    return res\n",
    "    \n",
    "def trim_to_alpha_num(s):\n",
    "    return ''.join(c for c in s if c.isalnum())\n",
    "\n",
    "def get_tokens(fname):\n",
    "    fname=fname.replace(\"%20\",\"_\")\n",
    "    (base_name,ext)=get_base_match(fname)\n",
    "    base_name_words = re.split(r'\\s|_',base_name)\n",
    "    base_words_no_camel = [camel_case_split(bnw) for bnw in base_name_words]\n",
    "    # flatten the list\n",
    "    words = list(itertools.chain(*base_words_no_camel))\n",
    "    # trim to alphanumeric\n",
    "    words = [trim_to_alpha_num(w) for w in words]\n",
    "    # tolower \n",
    "    words = [w.lower() for w in words]\n",
    "    # porter stem to get common routes\n",
    "    return (words,ext)"
   ]
  },
  {
   "cell_type": "code",
   "execution_count": 81,
   "id": "0c66a2ed-32db-43c9-8160-d7aad8cd35e7",
   "metadata": {},
   "outputs": [
    {
     "data": {
      "text/plain": [
       "dict_keys(['metadataCollectionId', 'titleEnglish', 'files'])"
      ]
     },
     "execution_count": 81,
     "metadata": {},
     "output_type": "execute_result"
    }
   ],
   "source": [
    "collection[0].keys()"
   ]
  },
  {
   "cell_type": "code",
   "execution_count": 82,
   "id": "e0a9e3f2-bac7-4d95-a9a0-c16389dfc3ad",
   "metadata": {},
   "outputs": [],
   "source": [
    "#def process_collection_files(coll):\n",
    "#    if 'files' in coll:\n",
    "#        files = coll['files']\n",
    "#        coll['processed'] = set([get_tokens(f) for f in files])\n",
    "#    return coll\n",
    "\n",
    "def process_collection_files(coll):\n",
    "    res = []\n",
    "    if 'files' in coll:\n",
    "        files = coll['files']\n",
    "       \n",
    "        seen={}\n",
    "        for f in files:\n",
    "            (words,ext)=get_tokens(f)\n",
    "            # now, we have a list of tokens and an extension. need to see if we have seen this one before.\n",
    "            hash = ''.join(words)+ext\n",
    "            if hash not in seen:\n",
    "                seen[hash]=True\n",
    "                res.append((words,ext))\n",
    "    return res\n",
    "    \n",
    "def process_collection(collection):\n",
    "    res= []\n",
    "    for coll in collection:\n",
    "        processed = process_collection_files(coll)\n",
    "        coll['processed']=processed\n",
    "        res.append(coll)\n",
    "    return res"
   ]
  },
  {
   "cell_type": "code",
   "execution_count": 83,
   "id": "786a6267-3b83-4f1f-8361-a68d48e62244",
   "metadata": {},
   "outputs": [],
   "source": [
    "proced = process_collection(collection)"
   ]
  },
  {
   "cell_type": "code",
   "execution_count": 84,
   "id": "525b87a0-44a8-47ad-b030-7f6da85cd637",
   "metadata": {},
   "outputs": [
    {
     "data": {
      "text/plain": [
       "[(['downloadable', 'demographic'], 'xlsx'),\n",
       " (['epi', 'curve', 'count', 'cases', 'hospitalizations', 'deaths'], 'xlsx'),\n",
       " (['downloadable', 'race', 'ethnicity'], 'xlsx'),\n",
       " (['wa', 'covid19', 'cases', 'hospitalizations', 'deaths'], 'xlsx'),\n",
       " (['public', 'cdc', 'event', 'date', 'sars'], 'xlsx')]"
      ]
     },
     "execution_count": 84,
     "metadata": {},
     "output_type": "execute_result"
    }
   ],
   "source": [
    "proced[0]['processed']"
   ]
  },
  {
   "cell_type": "code",
   "execution_count": 85,
   "id": "39ebce06-5ba8-4465-bccc-f471daabcfe7",
   "metadata": {},
   "outputs": [
    {
     "data": {
      "text/plain": [
       "[]"
      ]
     },
     "execution_count": 85,
     "metadata": {},
     "output_type": "execute_result"
    }
   ],
   "source": [
    "proced[1]['processed']"
   ]
  },
  {
   "cell_type": "code",
   "execution_count": 86,
   "id": "653ecb0a-2e7b-409a-bdc6-a569786274d8",
   "metadata": {},
   "outputs": [
    {
     "data": {
      "text/plain": [
       "{'metadataCollectionId': 683,\n",
       " 'titleEnglish': 'Archived Data from New Jersey Department of Health: \"New Jersey Department of Health COVID-19 Confirmed Case Summary \"',\n",
       " 'processed': []}"
      ]
     },
     "execution_count": 86,
     "metadata": {},
     "output_type": "execute_result"
    }
   ],
   "source": [
    "proced[1]"
   ]
  },
  {
   "cell_type": "code",
   "execution_count": 87,
   "id": "4931683a-3653-462b-b6cc-814bb612fbcf",
   "metadata": {},
   "outputs": [
    {
     "data": {
      "text/plain": [
       "[(['county', 'vaccine'], 'csv')]"
      ]
     },
     "execution_count": 87,
     "metadata": {},
     "output_type": "execute_result"
    }
   ],
   "source": [
    "proced[2]['processed']"
   ]
  },
  {
   "cell_type": "code",
   "execution_count": 88,
   "id": "b66e90a5-c011-409c-98d6-afb4acb50e76",
   "metadata": {},
   "outputs": [
    {
     "data": {
      "text/plain": [
       "[(['demographic', 'data', 'county'], 'csv'),\n",
       " (['demographic', 'data', 'county', 'and', 'sex'], 'csv'),\n",
       " (['county', 'ethnicity'], 'csv'),\n",
       " (['county', 'race'], 'csv'),\n",
       " (['demographic', 'data', 'county', 'and', 'age'], 'csv'),\n",
       " (['demographic', 'data', 'county', 'and', 'ethnicity'], 'csv'),\n",
       " (['county', 'age'], 'csv'),\n",
       " (['demographic', 'data', 'county', 'and', 'race'], 'csv'),\n",
       " (['county', 'sex'], 'csv'),\n",
       " (['vaccinated', 'wisconsin', 'administered'], 'csv'),\n",
       " (['vaccinated', 'wisconsin', 'allocated'], 'csv'),\n",
       " (['vaccinated', 'wisconsin', 'county'], 'csv'),\n",
       " (['extracts', 'federated', '16wehl60l6mj1414c0u1n1', 'extract'], 'csv'),\n",
       " (['demographic', 'data'], 'csv')]"
      ]
     },
     "execution_count": 88,
     "metadata": {},
     "output_type": "execute_result"
    }
   ],
   "source": [
    "proced[3]['processed']"
   ]
  },
  {
   "cell_type": "code",
   "execution_count": 89,
   "id": "f2dbecc2-5088-42f5-adc5-26fcd9e201df",
   "metadata": {},
   "outputs": [],
   "source": [
    "total =0\n",
    "for p in proced:\n",
    "    if 'processed' in p:\n",
    "        total = total + len(p['processed'])"
   ]
  },
  {
   "cell_type": "code",
   "execution_count": 90,
   "id": "31518e9f-e9c2-4144-b7ac-1b983ca4f66d",
   "metadata": {},
   "outputs": [
    {
     "data": {
      "text/plain": [
       "11746"
      ]
     },
     "execution_count": 90,
     "metadata": {},
     "output_type": "execute_result"
    }
   ],
   "source": [
    "total"
   ]
  },
  {
   "cell_type": "code",
   "execution_count": 91,
   "id": "fb5b5387-3bfd-4f9d-8ded-b22d84269453",
   "metadata": {},
   "outputs": [],
   "source": [
    "ratio = float(total)/float(cnt)"
   ]
  },
  {
   "cell_type": "code",
   "execution_count": 92,
   "id": "16741d87-d369-4248-8e6a-279450947d0e",
   "metadata": {},
   "outputs": [
    {
     "data": {
      "text/plain": [
       "0.03312688958079509"
      ]
     },
     "execution_count": 92,
     "metadata": {},
     "output_type": "execute_result"
    }
   ],
   "source": [
    "ratio"
   ]
  },
  {
   "cell_type": "code",
   "execution_count": 93,
   "id": "f3102499-8223-4272-885d-91d9c3826a92",
   "metadata": {},
   "outputs": [
    {
     "data": {
      "text/plain": [
       "294"
      ]
     },
     "execution_count": 93,
     "metadata": {},
     "output_type": "execute_result"
    }
   ],
   "source": [
    "len(proced)"
   ]
  },
  {
   "cell_type": "markdown",
   "id": "c0c11aaf-ae1c-4865-8ee5-1f3951f7dbeb",
   "metadata": {},
   "source": [
    "ok. so, 12,166 patterns across 294"
   ]
  },
  {
   "cell_type": "code",
   "execution_count": 94,
   "id": "6c7504d1-2ad4-4225-8c4d-d660af0819c8",
   "metadata": {},
   "outputs": [
    {
     "data": {
      "text/plain": [
       "39.95238095238095"
      ]
     },
     "execution_count": 94,
     "metadata": {},
     "output_type": "execute_result"
    }
   ],
   "source": [
    "rate = float(total)/294.0\n",
    "rate"
   ]
  },
  {
   "cell_type": "markdown",
   "id": "dabc8bc2-613e-4cb8-8e24-991b71ebfe2c",
   "metadata": {},
   "source": [
    "average 41.4 items for collection"
   ]
  },
  {
   "cell_type": "markdown",
   "id": "829e77c0-fb50-4ef6-a5c5-b478d0dd6b2a",
   "metadata": {},
   "source": [
    "---- \n",
    "Let's get some descriptive.\n",
    "Frequence of words used?"
   ]
  },
  {
   "cell_type": "code",
   "execution_count": 95,
   "id": "99898102-0f7c-4ad7-aad0-93f2abe08240",
   "metadata": {},
   "outputs": [
    {
     "data": {
      "text/plain": [
       "'vaccin'"
      ]
     },
     "execution_count": 95,
     "metadata": {},
     "output_type": "execute_result"
    }
   ],
   "source": [
    "porter_stemmer = PorterStemmer()\n",
    "porter_stemmer.stem(\"vaccination\")"
   ]
  },
  {
   "cell_type": "code",
   "execution_count": 96,
   "id": "450f761f-20d7-4ec9-bd57-1ec48a8d7abb",
   "metadata": {},
   "outputs": [],
   "source": [
    "def get_frequencies(proced):\n",
    "    porter_stemmer = PorterStemmer()\n",
    "    stop_words = set(stopwords.words('english'))\n",
    "    freqs={}\n",
    "    types={}\n",
    "    for p in proced:\n",
    "        if 'processed' in p:\n",
    "            procs=p['processed']\n",
    "            for ent in procs:\n",
    "                # each one is a pair of words and extensions\n",
    "                (words,ext) = ent\n",
    "                if ext not in types:\n",
    "                    types[ext]=0\n",
    "                types[ext]=types[ext]+1\n",
    "                for w in words:\n",
    "                    if w not in stop_words:\n",
    "                        w = porter_stemmer.stem(w)\n",
    "                        if w not in freqs:\n",
    "                            freqs[w]=0\n",
    "                        freqs[w]=freqs[w]+1\n",
    "    return (freqs,types)"
   ]
  },
  {
   "cell_type": "code",
   "execution_count": 97,
   "id": "592748ff-807d-44ad-a4b8-6feb16978b94",
   "metadata": {},
   "outputs": [],
   "source": [
    "(freqs,types) = get_frequencies(proced)"
   ]
  },
  {
   "cell_type": "code",
   "execution_count": 98,
   "id": "7efa3914-bd55-40b9-a44b-c78928604881",
   "metadata": {},
   "outputs": [
    {
     "data": {
      "text/plain": [
       "6421"
      ]
     },
     "execution_count": 98,
     "metadata": {},
     "output_type": "execute_result"
    }
   ],
   "source": [
    "len(freqs)"
   ]
  },
  {
   "cell_type": "code",
   "execution_count": 99,
   "id": "bc6b63cd-f342-482c-b212-f6e970d594a3",
   "metadata": {},
   "outputs": [
    {
     "data": {
      "text/plain": [
       "5"
      ]
     },
     "execution_count": 99,
     "metadata": {},
     "output_type": "execute_result"
    }
   ],
   "source": [
    "len(types)"
   ]
  },
  {
   "cell_type": "code",
   "execution_count": 100,
   "id": "00593699-7c51-4840-ad62-1dffc9fc1dec",
   "metadata": {},
   "outputs": [
    {
     "data": {
      "text/plain": [
       "{'xlsx': 1171, 'csv': 10570, 'tsv': 1, 'xls': 3, 'ods': 1}"
      ]
     },
     "execution_count": 100,
     "metadata": {},
     "output_type": "execute_result"
    }
   ],
   "source": [
    "types"
   ]
  },
  {
   "cell_type": "markdown",
   "id": "781e4752-7e7e-45b0-a7bd-d3477044b64a",
   "metadata": {},
   "source": [
    "ok. what's up with this. should be more types than these? and numbers seem off?"
   ]
  },
  {
   "cell_type": "markdown",
   "id": "6c5aa903-b423-4aad-b468-8c8365887157",
   "metadata": {},
   "source": [
    "write a routine to look for items with given extensions. "
   ]
  },
  {
   "cell_type": "code",
   "execution_count": 115,
   "id": "d0160c52-1a39-4526-8b1b-3330050fb343",
   "metadata": {},
   "outputs": [],
   "source": [
    "def find_processed_by_type(procs,type):\n",
    "    res=[]\n",
    "    for p in procs:\n",
    "        if 'processed' in p:\n",
    "            ps = p['processed']\n",
    "            for ent in ps:\n",
    "                (words,ext) =ent\n",
    "                if ext == type:\n",
    "                    res.append(p)\n",
    "    return res\n",
    "\n",
    "\n",
    "def find_initial_by_type(procs,type):\n",
    "    res=[]\n",
    "    for p in procs:\n",
    "        if 'files' in p:\n",
    "            ps = p['files']\n",
    "            for fname in ps:\n",
    "                toks = fname.split(\".\")\n",
    "                if toks[-1] == type:\n",
    "                    res.append(p)\n",
    "    return res\n",
    "\n",
    "def find_processed_by_term(procs,term):\n",
    "    res = []\n",
    "    seen = {}\n",
    "    for p in proced:\n",
    "        if 'processed' in p:\n",
    "            procs=p['processed']\n",
    "            for ent in procs:\n",
    "                # each one is a pair of words and extensions\n",
    "                (words,ext) = ent\n",
    "                for w in words:\n",
    "                    if w == term:\n",
    "                        if p['metadataCollectionId'] not in seen:\n",
    "                            seen[p['metadataCollectionId']] =  True\n",
    "                            res.append(p)\n",
    "    return res"
   ]
  },
  {
   "cell_type": "markdown",
   "id": "7609d99b-5925-4892-93c3-2409f428c455",
   "metadata": {},
   "source": [
    "I think Anne didn't me file names for pdf, json, etc... confirm."
   ]
  },
  {
   "cell_type": "markdown",
   "id": "c894e1ce-0669-48e3-801d-7b71201a0c81",
   "metadata": {},
   "source": [
    "let's look at descriptives on words"
   ]
  },
  {
   "cell_type": "code",
   "execution_count": 102,
   "id": "3c0dd2b7-bfe7-4da4-b522-527fca4771c8",
   "metadata": {},
   "outputs": [],
   "source": [
    "topfreqs = sorted(freqs.items(),key=lambda x:x[1],reverse=True)\n",
    "sfreqs=dict(topfreqs[:100])"
   ]
  },
  {
   "cell_type": "code",
   "execution_count": 103,
   "id": "ee9e5e01-e5a7-4411-9404-f9467a7de4ae",
   "metadata": {},
   "outputs": [
    {
     "data": {
      "text/plain": [
       "100"
      ]
     },
     "execution_count": 103,
     "metadata": {},
     "output_type": "execute_result"
    }
   ],
   "source": [
    "len(sfreqs)"
   ]
  },
  {
   "cell_type": "code",
   "execution_count": 104,
   "id": "621838d6-0f77-4516-a93a-6e3602ce2816",
   "metadata": {},
   "outputs": [
    {
     "data": {
      "text/plain": [
       "{'temp': 6106,\n",
       " 'tableau': 3080,\n",
       " 'extract': 2972,\n",
       " 'counti': 1561,\n",
       " 'age': 1012,\n",
       " 'death': 852,\n",
       " 'case': 732,\n",
       " 'us': 709,\n",
       " 'usstat': 709,\n",
       " 'demo': 649,\n",
       " 'vaccin': 643,\n",
       " 'uscounti': 631,\n",
       " 'dccovid19': 629,\n",
       " 'illinoi': 597,\n",
       " 'race': 510,\n",
       " 'datafor': 507,\n",
       " 'peopl': 463,\n",
       " 'public': 439,\n",
       " 'use': 432,\n",
       " 'vdhcovid19': 428,\n",
       " 'dataset': 428,\n",
       " 'gender': 415,\n",
       " 'demograph': 413,\n",
       " '': 406,\n",
       " 'date': 375,\n",
       " 'cti': 288,\n",
       " 'eth': 237,\n",
       " 'daili': 234,\n",
       " 'covid19': 232,\n",
       " 'pc': 232,\n",
       " 'time': 229,\n",
       " 'sex': 219,\n",
       " 'seri': 219,\n",
       " 'dose': 216,\n",
       " 'complet': 211,\n",
       " 'test': 202,\n",
       " 'curv': 189,\n",
       " 'data': 186,\n",
       " 'feder': 181,\n",
       " 'epi': 178,\n",
       " 'ethnic': 175,\n",
       " 'dashboard': 175,\n",
       " 'rate': 158,\n",
       " 'file': 138,\n",
       " 'booster': 133,\n",
       " 'twb': 132,\n",
       " 'pcr': 118,\n",
       " 'onset': 110,\n",
       " 'mortal': 103,\n",
       " 'district': 86,\n",
       " 'updat': 82,\n",
       " 'wy': 72,\n",
       " 'new': 71,\n",
       " 'uscounties2022': 66,\n",
       " 'rc': 65,\n",
       " 'count': 63,\n",
       " 'total': 62,\n",
       " 'group': 62,\n",
       " 'd9': 62,\n",
       " 'number': 60,\n",
       " 'sqlproxi': 57,\n",
       " 'averag': 57,\n",
       " 'state': 53,\n",
       " '1': 51,\n",
       " 'posit': 50,\n",
       " 'sheet': 48,\n",
       " 'd1': 46,\n",
       " 'f1': 46,\n",
       " 'de95cb654114adc9b8ad7ca5347a': 46,\n",
       " 'result': 46,\n",
       " 'adadaa42c5a75dbe52bf8c2ebc': 46,\n",
       " 'fbb11af558784cf89da259bbafd342a6': 46,\n",
       " 'd8': 46,\n",
       " 'ed03d1345f29b0bfec84b1c4656': 46,\n",
       " 'cf205f44a80248ef91625997e6a1ba27': 46,\n",
       " 'st': 46,\n",
       " '48': 46,\n",
       " 'trend': 43,\n",
       " 'vax': 43,\n",
       " 'covid': 41,\n",
       " '2': 41,\n",
       " 'unspecifi': 38,\n",
       " 'chart': 37,\n",
       " 'histo': 36,\n",
       " 'pfizer': 36,\n",
       " 'report': 35,\n",
       " 'map': 34,\n",
       " 'butterfli': 34,\n",
       " 'hospit': 33,\n",
       " 'tabl': 33,\n",
       " 'nc': 32,\n",
       " 'a80': 31,\n",
       " 'fc6f1d746afa756acac09363765': 31,\n",
       " 'c6': 31,\n",
       " 'a3': 31,\n",
       " 'fcae8a4d70ae052bca5c26b172': 31,\n",
       " 'aa2625d8d847a396710618530db221': 31,\n",
       " 'a85': 31,\n",
       " 'fbe4536b4b66b6073847d0aaea9a': 31,\n",
       " 'ba54e48c8a06267fff05d6187': 31}"
      ]
     },
     "execution_count": 104,
     "metadata": {},
     "output_type": "execute_result"
    }
   ],
   "source": [
    "sfreqs"
   ]
  },
  {
   "cell_type": "code",
   "execution_count": 105,
   "id": "84ffbfbd-d942-4349-b5f5-a4bf774b1619",
   "metadata": {},
   "outputs": [
    {
     "data": {
      "text/plain": [
       "[('temp', 6106),\n",
       " ('tableau', 3080),\n",
       " ('extract', 2972),\n",
       " ('counti', 1561),\n",
       " ('age', 1012),\n",
       " ('death', 852),\n",
       " ('case', 732),\n",
       " ('us', 709),\n",
       " ('usstat', 709),\n",
       " ('demo', 649),\n",
       " ('vaccin', 643),\n",
       " ('uscounti', 631),\n",
       " ('dccovid19', 629),\n",
       " ('illinoi', 597),\n",
       " ('race', 510),\n",
       " ('datafor', 507),\n",
       " ('peopl', 463),\n",
       " ('public', 439),\n",
       " ('use', 432),\n",
       " ('vdhcovid19', 428),\n",
       " ('dataset', 428),\n",
       " ('gender', 415),\n",
       " ('demograph', 413),\n",
       " ('', 406),\n",
       " ('date', 375),\n",
       " ('cti', 288),\n",
       " ('eth', 237),\n",
       " ('daili', 234),\n",
       " ('covid19', 232),\n",
       " ('pc', 232),\n",
       " ('time', 229),\n",
       " ('sex', 219),\n",
       " ('seri', 219),\n",
       " ('dose', 216),\n",
       " ('complet', 211),\n",
       " ('test', 202),\n",
       " ('curv', 189),\n",
       " ('data', 186),\n",
       " ('feder', 181),\n",
       " ('epi', 178),\n",
       " ('ethnic', 175),\n",
       " ('dashboard', 175),\n",
       " ('rate', 158),\n",
       " ('file', 138),\n",
       " ('booster', 133),\n",
       " ('twb', 132),\n",
       " ('pcr', 118),\n",
       " ('onset', 110),\n",
       " ('mortal', 103),\n",
       " ('district', 86),\n",
       " ('updat', 82),\n",
       " ('wy', 72),\n",
       " ('new', 71),\n",
       " ('uscounties2022', 66),\n",
       " ('rc', 65),\n",
       " ('count', 63),\n",
       " ('total', 62),\n",
       " ('group', 62),\n",
       " ('d9', 62),\n",
       " ('number', 60),\n",
       " ('sqlproxi', 57),\n",
       " ('averag', 57),\n",
       " ('state', 53),\n",
       " ('1', 51),\n",
       " ('posit', 50),\n",
       " ('sheet', 48),\n",
       " ('d1', 46),\n",
       " ('f1', 46),\n",
       " ('de95cb654114adc9b8ad7ca5347a', 46),\n",
       " ('result', 46),\n",
       " ('adadaa42c5a75dbe52bf8c2ebc', 46),\n",
       " ('fbb11af558784cf89da259bbafd342a6', 46),\n",
       " ('d8', 46),\n",
       " ('ed03d1345f29b0bfec84b1c4656', 46),\n",
       " ('cf205f44a80248ef91625997e6a1ba27', 46),\n",
       " ('st', 46),\n",
       " ('48', 46),\n",
       " ('trend', 43),\n",
       " ('vax', 43),\n",
       " ('covid', 41),\n",
       " ('2', 41),\n",
       " ('unspecifi', 38),\n",
       " ('chart', 37),\n",
       " ('histo', 36),\n",
       " ('pfizer', 36),\n",
       " ('report', 35),\n",
       " ('map', 34),\n",
       " ('butterfli', 34),\n",
       " ('hospit', 33),\n",
       " ('tabl', 33),\n",
       " ('nc', 32),\n",
       " ('a80', 31),\n",
       " ('fc6f1d746afa756acac09363765', 31),\n",
       " ('c6', 31),\n",
       " ('a3', 31),\n",
       " ('fcae8a4d70ae052bca5c26b172', 31),\n",
       " ('aa2625d8d847a396710618530db221', 31),\n",
       " ('a85', 31),\n",
       " ('fbe4536b4b66b6073847d0aaea9a', 31),\n",
       " ('ba54e48c8a06267fff05d6187', 31),\n",
       " ('aa38b39fdd64560a58fa933a92eb0bf', 31),\n",
       " ('f5', 31),\n",
       " ('ef8b2671f04d0b9c3a40e67f49e4f', 31),\n",
       " ('jefferson', 31),\n",
       " ('race03', 31),\n",
       " ('race05', 31),\n",
       " ('race07', 31),\n",
       " ('age07', 31),\n",
       " ('gender05', 31),\n",
       " ('gender07', 31),\n",
       " ('age03', 31),\n",
       " ('age05', 31),\n",
       " ('gender03', 31),\n",
       " ('summari', 30),\n",
       " ('washington', 30),\n",
       " ('gender04', 30),\n",
       " ('gender06', 30),\n",
       " ('race04', 30),\n",
       " ('age06', 30),\n",
       " ('race06', 30),\n",
       " ('age04', 30),\n",
       " ('19', 28),\n",
       " ('22', 28),\n",
       " ('18', 28),\n",
       " ('age02', 28),\n",
       " ('gender02', 28),\n",
       " ('race02', 28),\n",
       " ('percent', 27),\n",
       " ('be7f7e5b1e406b8834dabf1bbe1144', 27),\n",
       " ('12', 27),\n",
       " ('variant', 26),\n",
       " ('a546709', 26),\n",
       " ('b46', 26),\n",
       " ('eda3eb15e2c2c6b6d6', 26),\n",
       " ('14', 26),\n",
       " ('ae84d13b2e42b79881bc04530598f0', 26),\n",
       " ('20', 26),\n",
       " ('idaho', 26),\n",
       " ('download', 25),\n",
       " ('dph', 25),\n",
       " ('lincoln', 24),\n",
       " ('23', 24),\n",
       " ('21', 24),\n",
       " ('dem', 24),\n",
       " ('10', 23),\n",
       " ('16', 23),\n",
       " ('11', 23),\n",
       " ('13', 23),\n",
       " ('franklin', 23),\n",
       " ('24', 23),\n",
       " ('statewid', 22),\n",
       " ('zip', 22),\n",
       " ('montgomeri', 22),\n",
       " ('28', 22),\n",
       " ('27', 22),\n",
       " ('dc', 22),\n",
       " ('oregon', 21),\n",
       " ('hosp', 21),\n",
       " ('15', 21),\n",
       " ('tableautemp', 21),\n",
       " ('26', 21),\n",
       " ('25', 21),\n",
       " ('level', 20),\n",
       " ('17', 20),\n",
       " ('graham', 20),\n",
       " ('yuma', 20),\n",
       " ('01', 20),\n",
       " ('ncdhh', 20),\n",
       " ('marion', 20),\n",
       " ('jackson', 20),\n",
       " ('dougla', 20),\n",
       " ('one', 19),\n",
       " ('30', 19),\n",
       " ('29', 19),\n",
       " ('linn', 19),\n",
       " ('lab', 18),\n",
       " ('madison', 18),\n",
       " ('lewi', 18),\n",
       " ('putnam', 18),\n",
       " ('columbia', 18),\n",
       " ('schuyler', 18),\n",
       " ('gender01', 18),\n",
       " ('08', 18),\n",
       " ('race01', 18),\n",
       " ('02', 18),\n",
       " ('09', 18),\n",
       " ('age01', 18),\n",
       " ('06', 18),\n",
       " ('07', 18),\n",
       " ('04', 18),\n",
       " ('05', 18),\n",
       " ('03', 18),\n",
       " ('green', 17),\n",
       " ('monro', 17),\n",
       " ('livingston', 17),\n",
       " ('clinton', 17),\n",
       " ('sullivan', 17),\n",
       " ('warren', 17),\n",
       " ('york', 17),\n",
       " ('lawrenc', 17),\n",
       " ('wayn', 17),\n",
       " ('export', 17),\n",
       " ('high', 17),\n",
       " ('risk', 17),\n",
       " ('comorb', 17),\n",
       " ('pima', 17),\n",
       " ('maricopa', 17),\n",
       " ('brand', 17),\n",
       " ('administ', 16),\n",
       " ('popul', 16),\n",
       " ('johnson', 16),\n",
       " ('hamilton', 16),\n",
       " ('santa', 16),\n",
       " ('cruz', 16),\n",
       " ('mohav', 16),\n",
       " ('cochis', 16),\n",
       " ('pinal', 16),\n",
       " ('gila', 16),\n",
       " ('la', 16),\n",
       " ('paz', 16),\n",
       " ('yavapai', 16),\n",
       " ('coconino', 16),\n",
       " ('navajo', 16),\n",
       " ('greenle', 16),\n",
       " ('apach', 16),\n",
       " ('vacc', 16),\n",
       " ('yamhil', 16),\n",
       " ('cnti', 16),\n",
       " ('least', 15),\n",
       " ('albani', 15),\n",
       " ('a561', 15),\n",
       " ('e12', 15),\n",
       " ('f30', 15),\n",
       " ('d144', 15),\n",
       " ('d7', 15),\n",
       " ('bae479139647f319', 15),\n",
       " ('cc730fe2c75741f6a263610099dcd628', 15),\n",
       " ('texa', 15),\n",
       " ('polk', 15),\n",
       " ('benton', 15),\n",
       " ('1pl1fir12odv4x10j5dex0mjkdnh', 14),\n",
       " ('1xvdus419186vv1fkftmw1yqjdr5', 14),\n",
       " ('citi', 14),\n",
       " ('chautauqua', 14),\n",
       " ('provid', 14),\n",
       " ('loui', 14),\n",
       " ('two', 14),\n",
       " ('fulli', 13),\n",
       " ('6', 13),\n",
       " ('3', 13),\n",
       " ('20201118', 13),\n",
       " ('week', 13),\n",
       " ('perform', 13),\n",
       " ('publish', 13),\n",
       " ('clark', 13),\n",
       " ('dictionari', 12),\n",
       " ('cumul', 12),\n",
       " ('first', 12),\n",
       " ('crook', 12),\n",
       " ('0crbell165o69810qb23000ksfyl', 12),\n",
       " ('087e4bu1m04dtn17wfyym1cy4inn', 12),\n",
       " ('0zc5ris00zoail189kj1g1dby17z', 12),\n",
       " ('1s716py1xqrodj17ykezv00nhq5c', 12),\n",
       " ('027b0791avr5v0148h00l08uxda6', 12),\n",
       " ('0otnitj03av1b818vb16710px1i3', 12),\n",
       " ('0o8mdh91840tc515x9g910is6eam', 12),\n",
       " ('14dhh920e3ra6q13bovo60b8hlgt', 12),\n",
       " ('0ads6zq0wa0oen13dbm880zcdymr', 12),\n",
       " ('0y76x9y1mm0ebe17r5huj10lvlsf', 12),\n",
       " ('histor', 12),\n",
       " ('31', 12),\n",
       " ('lake', 12),\n",
       " ('barton', 12),\n",
       " ('clay', 12),\n",
       " ('crawford', 12),\n",
       " ('butler', 12),\n",
       " ('salin', 12),\n",
       " ('atchison', 12),\n",
       " ('sherman', 12),\n",
       " ('grant', 12),\n",
       " ('lane', 12),\n",
       " ('platt', 11),\n",
       " ('breakthroughbyco', 11),\n",
       " ('1aisq5u10j7en116wyyy30ef9si0', 11),\n",
       " ('oneida', 11),\n",
       " ('chemung', 11),\n",
       " ('copi', 11),\n",
       " ('town', 11),\n",
       " ('osag', 11),\n",
       " ('scott', 11),\n",
       " ('code', 10),\n",
       " ('statu', 10),\n",
       " ('0pbec4d0qabp6s1012fa91du5r8j', 10),\n",
       " ('0tqcwx00swa69f1bc9afr16t7df', 10),\n",
       " ('164pvsf1trx984189yi8y1wto8ta', 10),\n",
       " ('4', 10),\n",
       " ('0y50uhj1yomxkq1gxnazt16nomgb', 10),\n",
       " ('0ry4lzf1sndt76109l6qf08yj90x', 10),\n",
       " ('1eiesyh006srq213ouwv90zdn4av', 10),\n",
       " ('0nxitbu17aydln13koxtd1y3lemc', 10),\n",
       " ('1cmfd5o0jqm5m8109luxg06rw4bt', 10),\n",
       " ('02prrdl03205sr1cpdonc0jva2fw', 10),\n",
       " ('1nxftb60owgkmg1f5yczy0ywhl7o', 10),\n",
       " ('0snvj5r17zj928109adsa0ymm9cg', 10),\n",
       " ('schenectadi', 10),\n",
       " ('ulster', 10),\n",
       " ('otsego', 10),\n",
       " ('saratoga', 10),\n",
       " ('nassau', 10),\n",
       " ('cayuga', 10),\n",
       " ('oswego', 10),\n",
       " ('yate', 10),\n",
       " ('wyom', 10),\n",
       " ('essex', 10),\n",
       " ('dutchess', 10),\n",
       " ('king', 10),\n",
       " ('ontario', 10),\n",
       " ('bronx', 10),\n",
       " ('fulton', 10),\n",
       " ('renssela', 10),\n",
       " ('queen', 10),\n",
       " ('broom', 10),\n",
       " ('cattaraugu', 10),\n",
       " ('allegani', 10),\n",
       " ('schohari', 10),\n",
       " ('onondaga', 10),\n",
       " ('steuben', 10),\n",
       " ('orang', 10),\n",
       " ('tioga', 10),\n",
       " ('suffolk', 10),\n",
       " ('seneca', 10),\n",
       " ('chenango', 10),\n",
       " ('tompkin', 10),\n",
       " ('orlean', 10),\n",
       " ('eri', 10),\n",
       " ('rockland', 10),\n",
       " ('herkim', 10),\n",
       " ('cortland', 10),\n",
       " ('westchest', 10),\n",
       " ('richmond', 10),\n",
       " ('genese', 10),\n",
       " ('delawar', 10),\n",
       " ('niagara', 10),\n",
       " ('health', 10),\n",
       " ('20210322', 10),\n",
       " ('second', 10),\n",
       " ('wasco', 10),\n",
       " ('april', 10),\n",
       " ('may', 10),\n",
       " ('18v0jkw02ige5f10yr8641q21h2n', 9),\n",
       " ('elr', 9),\n",
       " ('sheridan', 8),\n",
       " ('last', 8),\n",
       " ('0dvm9mf03s3umb138rchk1403oq8', 8),\n",
       " ('1i78ap019xhvk616b29vv16pwiq6', 8),\n",
       " ('covid19v2', 8),\n",
       " ('harrison', 8),\n",
       " ('knox', 8),\n",
       " ('wright', 8),\n",
       " ('clair', 8),\n",
       " ('lacled', 8),\n",
       " ('worth', 8),\n",
       " ('holt', 8),\n",
       " ('coo', 8),\n",
       " ('clatsop', 8),\n",
       " ('curri', 8),\n",
       " ('baker', 8),\n",
       " ('klamath', 8),\n",
       " ('union', 8),\n",
       " ('clackama', 8),\n",
       " ('wallowa', 8),\n",
       " ('gilliam', 8),\n",
       " ('tillamook', 8),\n",
       " ('malheur', 8),\n",
       " ('morrow', 8),\n",
       " ('deschut', 8),\n",
       " ('umatilla', 8),\n",
       " ('josephin', 8),\n",
       " ('multnomah', 8),\n",
       " ('wheeler', 8),\n",
       " ('harney', 8),\n",
       " ('hood', 8),\n",
       " ('river', 8),\n",
       " ('j', 8),\n",
       " ('initi', 8),\n",
       " ('wisconsin', 7),\n",
       " ('metadata', 7),\n",
       " ('agegroup', 7),\n",
       " ('bt', 7),\n",
       " ('17bd4tl1o0f7r91cc0ic01cavfjz', 7),\n",
       " ('068t98j0poa42r1g5bg3n1xrxrdp', 7),\n",
       " ('datasourc', 7),\n",
       " ('integr', 7),\n",
       " ('20210318', 7),\n",
       " ('provision', 7),\n",
       " ('audrain', 7),\n",
       " ('chariton', 7),\n",
       " ('dunklin', 7),\n",
       " ('carrol', 7),\n",
       " ('howard', 7),\n",
       " ('shannon', 7),\n",
       " ('buchanan', 7),\n",
       " ('nodaway', 7),\n",
       " ('christian', 7),\n",
       " ('moniteau', 7),\n",
       " ('charl', 7),\n",
       " ('cooper', 7),\n",
       " ('gasconad', 7),\n",
       " ('mcdonald', 7),\n",
       " ('taney', 7),\n",
       " ('pemiscot', 7),\n",
       " ('grundi', 7),\n",
       " ('ripley', 7),\n",
       " ('cape', 7),\n",
       " ('girardeau', 7),\n",
       " ('rall', 7),\n",
       " ('cole', 7),\n",
       " ('francoi', 7),\n",
       " ('gentri', 7),\n",
       " ('vernon', 7),\n",
       " ('hickori', 7),\n",
       " ('ste', 7),\n",
       " ('geneviev', 7),\n",
       " ('andrew', 7),\n",
       " ('perri', 7),\n",
       " ('miller', 7),\n",
       " ('jasper', 7),\n",
       " ('camden', 7),\n",
       " ('madrid', 7),\n",
       " ('iron', 7),\n",
       " ('henri', 7),\n",
       " ('cass', 7),\n",
       " ('scotland', 7),\n",
       " ('macon', 7),\n",
       " ('dade', 7),\n",
       " ('petti', 7),\n",
       " ('mississippi', 7),\n",
       " ('bolling', 7),\n",
       " ('dalla', 7),\n",
       " ('caldwel', 7),\n",
       " ('ozark', 7),\n",
       " ('stone', 7),\n",
       " ('newton', 7),\n",
       " ('webster', 7),\n",
       " ('phelp', 7),\n",
       " ('howel', 7),\n",
       " ('adair', 7),\n",
       " ('mari', 7),\n",
       " ('barri', 7),\n",
       " ('boon', 7),\n",
       " ('dent', 7),\n",
       " ('callaway', 7),\n",
       " ('cedar', 7),\n",
       " ('shelbi', 7),\n",
       " ('pike', 7),\n",
       " ('morgan', 7),\n",
       " ('ray', 7),\n",
       " ('bate', 7),\n",
       " ('daviess', 7),\n",
       " ('reynold', 7),\n",
       " ('pulaski', 7),\n",
       " ('stoddard', 7),\n",
       " ('dekalb', 7),\n",
       " ('lafayett', 7),\n",
       " ('carter', 7),\n",
       " ('diseas', 6),\n",
       " ('underli', 6),\n",
       " ('condit', 6),\n",
       " ('vs', 6),\n",
       " ('current', 6),\n",
       " ('5', 6),\n",
       " ('confirm', 6),\n",
       " ('8', 6),\n",
       " ('weekli', 6),\n",
       " ('v2', 6),\n",
       " ('region', 6),\n",
       " ('agregroup', 6),\n",
       " ('raceethn', 6),\n",
       " ('randolph', 6),\n",
       " ('mercer', 6),\n",
       " ('cowley', 6),\n",
       " ('link', 6),\n",
       " ('28129', 6),\n",
       " ('cdc', 5),\n",
       " ('symptom', 5),\n",
       " ('datadictionari', 5),\n",
       " ('fremont', 5),\n",
       " ('0e3hvpr1iqzksh1gv2ay80f3v2d8', 5),\n",
       " ('teton', 5),\n",
       " ('02l4nht0s13rx71ao8kee09ta2vm', 5),\n",
       " ('05i1io61hk58re10dkkgc01d8sh8', 5),\n",
       " ('0bn23q01q8onup1g5etu40dzkim2', 5),\n",
       " ('0mlwva10flspls17iycd21kyjnfg', 5),\n",
       " ('01m9nzu1enqews13hg7lz1dp3s89', 5),\n",
       " ('0pahcos1vw7c9015mc9ad0r099xd', 5),\n",
       " ('0b3jl5m042buod1ad1me61wjri3t', 5),\n",
       " ('7', 5),\n",
       " ('0u9heyh0egmtv60zqpyxw05v1ht1', 5),\n",
       " ('0q8qrjh0iipwvm16jo2ks0oxw4wx', 5),\n",
       " ('0qr6ox21jp614110jb08t0ycih4g', 5),\n",
       " ('1s35rnw04d966c16pk52f1puayfj', 5),\n",
       " ('1jc621d0hs6r341g5lqqz1jtwlal', 5),\n",
       " ('0bs5i1a0wllwuu1apd4jf0r7byiv', 5),\n",
       " ('1ijdoyg1rystg2185pgpe03g6y1l', 5),\n",
       " ('1uhz36n0g2rrsa142crif122lomq', 5),\n",
       " ('08lseqp04vtryh11kf4fx100niv4', 5),\n",
       " ('1yovzny03910121betqv10k0zkwi', 5),\n",
       " ('0caoils1bjh65j1e9ee731f15xvq', 5),\n",
       " ('07ai74c0m5pdaf12jbdk419y4278', 5),\n",
       " ('1tlkw0b0hpkl3c12l77cj1o16lgb', 5),\n",
       " ('0ie8ed516y6z8611llcnw0hf351g', 5),\n",
       " ('0ik9bg11qfv30f1gzhm3c0lqevxn', 5),\n",
       " ('0j8012l1mv0ula14dqo0l02ljy7t', 5),\n",
       " ('0touy9z15ujudg12h0iqf1qpdhvt', 5),\n",
       " ('1bfmba11v28jve17fswsf046t4o', 5),\n",
       " ('0vfs2nt0l5q92p19topaj1c62i2z', 5),\n",
       " ('0b7oluu055dyjd1527jso0cz2ng', 5),\n",
       " ('056ytoc18jmpbu18lvmpn1s2y4l8', 5),\n",
       " ('0if4yca1t593po15eiocb128zka7', 5),\n",
       " ('1rt4vlw17ny1z01dc2d9z1pt8tm0', 5),\n",
       " ('1ueodwt1hvm92114qc7xb0pecuhj', 5),\n",
       " ('cdphe', 5),\n",
       " ('icu', 5),\n",
       " ('header', 5),\n",
       " ('v1', 5),\n",
       " ('censu', 5),\n",
       " ('immun', 5),\n",
       " ('curren', 5),\n",
       " ('20210215', 5),\n",
       " ('20210312', 5),\n",
       " ('20210309', 5),\n",
       " ('20210308', 5),\n",
       " ('wn', 5),\n",
       " ('l', 5),\n",
       " ('hspitiz', 5),\n",
       " ('con', 5),\n",
       " ('riley', 5),\n",
       " ('wyandott', 5),\n",
       " ('harvey', 5),\n",
       " ('shawne', 5),\n",
       " ('dickinson', 5),\n",
       " ('hodgeman', 5),\n",
       " ('kingman', 5),\n",
       " ('ford', 5),\n",
       " ('cloud', 5),\n",
       " ('sedgwick', 5),\n",
       " ('geari', 5),\n",
       " ('elk', 5),\n",
       " ('reno', 5),\n",
       " ('bourbon', 5),\n",
       " ('russel', 5),\n",
       " ('neosho', 5),\n",
       " ('elli', 5),\n",
       " ('lyon', 5),\n",
       " ('labett', 5),\n",
       " ('allen', 5),\n",
       " ('seward', 5),\n",
       " ('finney', 5),\n",
       " ('comanch', 5),\n",
       " ('leavenworth', 5),\n",
       " ('chase', 5),\n",
       " ('brown', 5),\n",
       " ('wilson', 5),\n",
       " ('sumner', 5),\n",
       " ('marshal', 5),\n",
       " ('kearni', 5),\n",
       " ('coffey', 5),\n",
       " ('mc', 5),\n",
       " ('pherson', 5),\n",
       " ('cheroke', 5),\n",
       " ('anderson', 5),\n",
       " ('pottawatomi', 5),\n",
       " ('gove', 5),\n",
       " ('greenwood', 5),\n",
       " ('miami', 5),\n",
       " ('decatur', 5),\n",
       " ('nemaha', 5),\n",
       " ('ellsworth', 5),\n",
       " ('kiowa', 5),\n",
       " ('thoma', 5),\n",
       " ('greeley', 5),\n",
       " ('barber', 5),\n",
       " ('cheyenn', 5),\n",
       " ('2800229', 5),\n",
       " ('vaccinated2', 5),\n",
       " ('vaccinated4', 5),\n",
       " ('sever', 4),\n",
       " ('fatal', 4),\n",
       " ('addit', 4),\n",
       " ('goshen', 4),\n",
       " ('niobrara', 4),\n",
       " ('probabl', 4),\n",
       " ('convers', 4),\n",
       " ('washaki', 4),\n",
       " ('natrona', 4),\n",
       " ('weston', 4),\n",
       " ('campbel', 4),\n",
       " ('carbon', 4),\n",
       " ('hot', 4),\n",
       " ('spring', 4),\n",
       " ('statist', 4),\n",
       " ('big', 4),\n",
       " ('horn', 4),\n",
       " ('sublett', 4),\n",
       " ('larami', 4),\n",
       " ('sweetwat', 4),\n",
       " ('uinta', 4),\n",
       " ('b9', 4),\n",
       " ('a90648554', 4),\n",
       " ('bf594a870457456b45b', 4),\n",
       " ('park', 4),\n",
       " ('breakthroughcurv', 4),\n",
       " ('c873', 4),\n",
       " ('ed646c4985f05071f5fdb9b', 4),\n",
       " ('hospbi', 4),\n",
       " ('ea718fb841d58bf06f8e79896b23', 4),\n",
       " ('d7266', 4),\n",
       " ('b541', 4),\n",
       " ('c43578', 4),\n",
       " ('af375c31f203ff0', 4),\n",
       " ('outbreak', 4),\n",
       " ('2020', 4),\n",
       " ('casetablesandsummari', 4),\n",
       " ('stat', 4),\n",
       " ('email', 4),\n",
       " ('metric', 4),\n",
       " ('boundari', 4),\n",
       " ('imm', 4),\n",
       " ('20210310', 4),\n",
       " ('20210708', 4),\n",
       " ('island', 4),\n",
       " ('smith', 4),\n",
       " ('gray', 4),\n",
       " ('morton', 4),\n",
       " ('pratt', 4),\n",
       " ('edward', 4),\n",
       " ('stafford', 4),\n",
       " ('morri', 4),\n",
       " ('woodson', 4),\n",
       " ('harper', 4),\n",
       " ('rice', 4),\n",
       " ('mead', 4),\n",
       " ('mitchel', 4),\n",
       " ('norton', 4),\n",
       " ('ottawa', 4),\n",
       " ('logan', 4),\n",
       " ('doniphan', 4),\n",
       " ('rook', 4),\n",
       " ('steven', 4),\n",
       " ('rawlin', 4),\n",
       " ('phillip', 4),\n",
       " ('haskel', 4),\n",
       " ('pawne', 4),\n",
       " ('wabaunse', 4),\n",
       " ('ness', 4),\n",
       " ('republ', 4),\n",
       " ('osborn', 4),\n",
       " ('year', 4),\n",
       " ('pop', 4),\n",
       " ('progress', 4),\n",
       " ('primari', 4),\n",
       " ('output', 3),\n",
       " ('crosstab', 3),\n",
       " ('stamp', 3),\n",
       " ('vaccinationsbi', 3),\n",
       " ('today', 3),\n",
       " ('recov', 3),\n",
       " ('deathsbi', 3),\n",
       " ('cb64a7aa5a2a45ffa26fdea1faaa0134', 3),\n",
       " ('016dniy110kh9717ubpa70s7cyt7', 3),\n",
       " ('10bozup0k69eqi1a0wz3j172f732', 3),\n",
       " ('breakthroughtest', 3),\n",
       " ('ob', 3),\n",
       " ('timebi', 3),\n",
       " ('table1', 3),\n",
       " ('max', 3),\n",
       " ('histori', 3),\n",
       " ('note', 3),\n",
       " ('ventil', 3),\n",
       " ('draft08052021', 3),\n",
       " ('covid1', 3),\n",
       " ('person', 3),\n",
       " ('author', 3),\n",
       " ('hist', 3),\n",
       " ('onedos', 3),\n",
       " ('resid', 3),\n",
       " ('valley', 3),\n",
       " ('long', 3),\n",
       " ('capit', 3),\n",
       " ('finger', 3),\n",
       " ('dataupd', 3),\n",
       " ('bar', 3),\n",
       " ('titl', 3),\n",
       " ('categori', 3),\n",
       " ('day', 3),\n",
       " ('aggreg', 3),\n",
       " ('pneu', 3),\n",
       " ('cov', 3),\n",
       " ('trego', 3),\n",
       " ('rush', 3),\n",
       " ('stanton', 3),\n",
       " ('jewel', 3),\n",
       " ('wichita', 3),\n",
       " ('wallac', 3),\n",
       " ('gener', 3),\n",
       " ('july72021', 3),\n",
       " ('vaccinated1', 3),\n",
       " ('vaccinated3', 3),\n",
       " ('20210720', 3),\n",
       " ('20210210', 3),\n",
       " ('20220407', 3),\n",
       " ('20220309', 3),\n",
       " ('20200804', 3),\n",
       " ('20200912', 3),\n",
       " ('20201130', 3),\n",
       " ('20211115', 3),\n",
       " ('20210502', 3),\n",
       " ('20220217', 3),\n",
       " ('20220305', 3),\n",
       " ('20200817', 3),\n",
       " ('20210705', 3),\n",
       " ('20200818', 3),\n",
       " ('20200726', 3),\n",
       " ('20201020', 3),\n",
       " ('20200811', 3),\n",
       " ('20220509', 3),\n",
       " ('20220708', 3),\n",
       " ('20201231', 3),\n",
       " ('20211130', 3),\n",
       " ('20211218', 3),\n",
       " ('20220415', 3),\n",
       " ('20210519', 3),\n",
       " ('20210829', 3),\n",
       " ('20211229', 3),\n",
       " ('20220313', 3),\n",
       " ('20220703', 3),\n",
       " ('20220105', 3),\n",
       " ('20200822', 3),\n",
       " ('20201104', 3),\n",
       " ('20211123', 3),\n",
       " ('20210125', 3),\n",
       " ('20210825', 3),\n",
       " ('20220712', 3),\n",
       " ('20210311', 3),\n",
       " ('20210304', 3),\n",
       " ('20200622', 3),\n",
       " ('20220308', 3),\n",
       " ('20210118', 3),\n",
       " ('20211213', 3),\n",
       " ('20210731', 3),\n",
       " ('20201120', 3),\n",
       " ('20201009', 3),\n",
       " ('20210501', 3),\n",
       " ('20220614', 3),\n",
       " ('20201105', 3),\n",
       " ('20210307', 3),\n",
       " ('20210602', 3),\n",
       " ('20210313', 3),\n",
       " ('20201217', 3),\n",
       " ('20211129', 3),\n",
       " ('20200925', 3),\n",
       " ('20200709', 3),\n",
       " ('20210203', 3),\n",
       " ('20220727', 3),\n",
       " ('20210528', 3),\n",
       " ('20220112', 3),\n",
       " ('20220715', 3),\n",
       " ('20201031', 3),\n",
       " ('20220612', 3),\n",
       " ('20210817', 3),\n",
       " ('20220212', 3),\n",
       " ('20210119', 3),\n",
       " ('20210713', 3),\n",
       " ('20210804', 3),\n",
       " ('20210623', 3),\n",
       " ('20200802', 3),\n",
       " ('20200801', 3),\n",
       " ('20200708', 3),\n",
       " ('20211207', 3),\n",
       " ('20211221', 3),\n",
       " ('20220725', 3),\n",
       " ('20210507', 3),\n",
       " ('20200808', 3),\n",
       " ('20210219', 3),\n",
       " ('20210826', 3),\n",
       " ('20210323', 3),\n",
       " ('20210317', 3),\n",
       " ('20210123', 3),\n",
       " ('20210617', 3),\n",
       " ('20200919', 3),\n",
       " ('20220716', 3),\n",
       " ('20220416', 3),\n",
       " ('20200803', 3),\n",
       " ('20220512', 3),\n",
       " ('20220320', 3),\n",
       " ('20220225', 3),\n",
       " ('20201012', 3),\n",
       " ('20211224', 3),\n",
       " ('20220208', 3),\n",
       " ('20210603', 3),\n",
       " ('20210504', 3),\n",
       " ('20200721', 3),\n",
       " ('20220514', 3),\n",
       " ('20210401', 3),\n",
       " ('20220306', 3),\n",
       " ('20210414', 3),\n",
       " ('20201015', 3),\n",
       " ('20210505', 3),\n",
       " ('20210114', 3),\n",
       " ('20210320', 3),\n",
       " ('20220615', 3),\n",
       " ('20201224', 3),\n",
       " ('20210516', 3),\n",
       " ('20210828', 3),\n",
       " ('20220429', 3),\n",
       " ('20220412', 3),\n",
       " ('20200701', 3),\n",
       " ('20220605', 3),\n",
       " ('20210822', 3),\n",
       " ('20210510', 3),\n",
       " ('20200903', 3),\n",
       " ('20200619', 3),\n",
       " ('20201023', 3),\n",
       " ('20200823', 3),\n",
       " ('20210426', 3),\n",
       " ('20210410', 3),\n",
       " ('20210218', 3),\n",
       " ('20210412', 3),\n",
       " ('20201016', 3),\n",
       " ('20201103', 3),\n",
       " ('20210419', 3),\n",
       " ('20210314', 3),\n",
       " ('20210408', 3),\n",
       " ('20220124', 3),\n",
       " ('20220128', 3),\n",
       " ('20220312', 3),\n",
       " ('20200922', 3),\n",
       " ('20200624', 3),\n",
       " ('20201017', 3),\n",
       " ('20220402', 3),\n",
       " ('20220214', 3),\n",
       " ('20210213', 3),\n",
       " ('20220503', 3),\n",
       " ('20210609', 3),\n",
       " ('20200710', 3),\n",
       " ('20210624', 3),\n",
       " ('20210703', 3),\n",
       " ('20220707', 3),\n",
       " ('20200904', 3),\n",
       " ('20201218', 3),\n",
       " ('20220714', 3),\n",
       " ('20220328', 3),\n",
       " ('20201228', 3),\n",
       " ('20210116', 3),\n",
       " ('20210102', 3),\n",
       " ('20210830', 3),\n",
       " ('20200907', 3),\n",
       " ('20210305', 3),\n",
       " ('20220604', 3),\n",
       " ('20210228', 3),\n",
       " ('20210509', 3),\n",
       " ('20220528', 3),\n",
       " ('20220618', 3),\n",
       " ('20201121', 3),\n",
       " ('20210606', 3),\n",
       " ('20210513', 3),\n",
       " ('20210806', 3),\n",
       " ('20210402', 3),\n",
       " ('20220505', 3),\n",
       " ('20201210', 3),\n",
       " ('20220623', 3),\n",
       " ('20201125', 3),\n",
       " ('20201119', 3),\n",
       " ('20210531', 3),\n",
       " ('20220602', 3),\n",
       " ('20211225', 3),\n",
       " ('20201022', 3),\n",
       " ('20200723', 3),\n",
       " ('20210324', 3),\n",
       " ('20210413', 3),\n",
       " ('20220501', 3),\n",
       " ('20210810', 3),\n",
       " ('20201005', 3),\n",
       " ('20220103', 3),\n",
       " ('20200815', 3),\n",
       " ('20210620', 3),\n",
       " ('20220620', 3),\n",
       " ('20210415', 3),\n",
       " ('20210629', 3),\n",
       " ('20201212', 3),\n",
       " ('20220206', 3),\n",
       " ('20201028', 3),\n",
       " ('20210328', 3),\n",
       " ('20210610', 3),\n",
       " ('20220303', 3),\n",
       " ('20220115', 3),\n",
       " ('20220425', 3),\n",
       " ('20201201', 3),\n",
       " ('20211223', 3),\n",
       " ('20210520', 3),\n",
       " ('20220709', 3),\n",
       " ('20201002', 3),\n",
       " ('20200921', 3),\n",
       " ('20200825', 3),\n",
       " ('20210319', 3),\n",
       " ('20210222', 3),\n",
       " ('20200807', 3),\n",
       " ('20210608', 3),\n",
       " ('20201128', 3),\n",
       " ('20200928', 3),\n",
       " ('20201127', 3),\n",
       " ('20220102', 3),\n",
       " ('20200714', 3),\n",
       " ('20220506', 3),\n",
       " ('20201115', 3),\n",
       " ('20210604', 3),\n",
       " ('20210823', 3),\n",
       " ('20210801', 3),\n",
       " ('20210103', 3),\n",
       " ('20201223', 3),\n",
       " ('20200707', 3),\n",
       " ('20200620', 3),\n",
       " ('20210815', 3),\n",
       " ('20220405', 3),\n",
       " ('20220529', 3),\n",
       " ('20200929', 3),\n",
       " ('20220511', 3),\n",
       " ('20220120', 3),\n",
       " ('20220302', 3),\n",
       " ('20211205', 3),\n",
       " ('20210723', 3),\n",
       " ('20210628', 3),\n",
       " ('20210226', 3),\n",
       " ('20220718', 3),\n",
       " ('20210411', 3),\n",
       " ('20200629', 3),\n",
       " ('20201227', 3),\n",
       " ('20220222', 3),\n",
       " ('20200703', 3),\n",
       " ('20200616', 3),\n",
       " ('20200830', 3),\n",
       " ('20220710', 3),\n",
       " ('20201117', 3),\n",
       " ('20200628', 3),\n",
       " ('20210601', 3),\n",
       " ('20220213', 3),\n",
       " ('20220211', 3),\n",
       " ('20211125', 3),\n",
       " ('20211120', 3),\n",
       " ('20200829', 3),\n",
       " ('20200626', 3),\n",
       " ('20220117', 3),\n",
       " ('20201106', 3),\n",
       " ('20201112', 3),\n",
       " ('20220508', 3),\n",
       " ('20200713', 3),\n",
       " ('20210802', 3),\n",
       " ('20220401', 3),\n",
       " ('20200719', 3),\n",
       " ('20200611', 3),\n",
       " ('20220502', 3),\n",
       " ('20220507', 3),\n",
       " ('20220403', 3),\n",
       " ('20220204', 3),\n",
       " ('20210726', 3),\n",
       " ('20211227', 3),\n",
       " ('20220410', 3),\n",
       " ('20220118', 3),\n",
       " ('20220617', 3),\n",
       " ('20210607', 3),\n",
       " ('20210618', 3),\n",
       " ('20210630', 3),\n",
       " ('20210329', 3),\n",
       " ('20220201', 3),\n",
       " ('20210325', 3),\n",
       " ('20220426', 3),\n",
       " ('20210112', 3),\n",
       " ('20220414', 3),\n",
       " ('20210327', 3),\n",
       " ('20200914', 3),\n",
       " ('20201205', 3),\n",
       " ('20211204', 3),\n",
       " ('20210421', 3),\n",
       " ('20210126', 3),\n",
       " ('20220127', 3),\n",
       " ('20210827', 3),\n",
       " ('20220731', 3),\n",
       " ('20201001', 3),\n",
       " ('20201027', 3),\n",
       " ('20200706', 3),\n",
       " ('20210719', 3),\n",
       " ('20210605', 3),\n",
       " ('20211208', 3),\n",
       " ('20210803', 3),\n",
       " ('20220629', 3),\n",
       " ('20201204', 3),\n",
       " ('20210404', 3),\n",
       " ('20211116', 3),\n",
       " ('20210216', 3),\n",
       " ('20220513', 3),\n",
       " ...]"
      ]
     },
     "execution_count": 105,
     "metadata": {},
     "output_type": "execute_result"
    }
   ],
   "source": [
    "topfreqs"
   ]
  },
  {
   "cell_type": "markdown",
   "id": "1aa0c8df-7714-4d36-bb68-ad52e0945c96",
   "metadata": {},
   "source": [
    "1. Can we do a histogram? \n",
    "2. What's with DE95CB654114ADC9B8AD7CA5347A, ADADAA42C5A75DBE52BF8C2EBC,  or 0crbell165o69810qb23000ksfyl or 10bozup0k69eqi1a0wz3j172f732, etc.?"
   ]
  },
  {
   "cell_type": "code",
   "execution_count": 106,
   "id": "7e3c96c7-1dc4-4714-a5d9-547b4f3fb410",
   "metadata": {},
   "outputs": [
    {
     "data": {
      "text/plain": [
       "0"
      ]
     },
     "execution_count": 106,
     "metadata": {},
     "output_type": "execute_result"
    }
   ],
   "source": [
    "de95s = find_processed_by_term(proced,'DE95CB654114ADC9B8AD7CA5347A')\n",
    "len(de95s)"
   ]
  },
  {
   "cell_type": "markdown",
   "id": "556a9561-2aac-4139-92c4-f59860ba4cbe",
   "metadata": {},
   "source": [
    "DE95... looks like a repeated name..from tableau extracts?"
   ]
  },
  {
   "cell_type": "code",
   "execution_count": 107,
   "id": "11db29d0-014d-43ed-85d0-d7499fba82ad",
   "metadata": {},
   "outputs": [
    {
     "data": {
      "text/plain": [
       "12"
      ]
     },
     "execution_count": 107,
     "metadata": {},
     "output_type": "execute_result"
    }
   ],
   "source": [
    "crbells = find_processed_by_term(proced,'0crbell165o69810qb23000ksfyl')\n",
    "len(crbells)"
   ]
  },
  {
   "cell_type": "markdown",
   "id": "5d626e7b-79ce-402d-8db9-756cc77d99eb",
   "metadata": {},
   "source": [
    "looking into crbell[0] - also looks like tableau"
   ]
  },
  {
   "cell_type": "markdown",
   "id": "0b90d0d5-fadc-4c0e-a17e-7e94177418fa",
   "metadata": {},
   "source": [
    "looks like empty string or '1' could be legit, as some files have '-', and '_1_\"..."
   ]
  },
  {
   "cell_type": "markdown",
   "id": "ecb1c36e-67a6-44ed-9a6a-b224366a5f38",
   "metadata": {},
   "source": [
    "Questions for Anne:\n",
    "    \n",
    "    1. Are the \"07jp3yg1rhy0bj1essrgm1ezzkur\" files legit names from tableau?\n",
    "    2. Did she not give me file names for json, etc? Can i get those json?"
   ]
  },
  {
   "cell_type": "code",
   "execution_count": 108,
   "id": "fdf81ad4-680c-48aa-b914-b01bdb22a97f",
   "metadata": {},
   "outputs": [
    {
     "data": {
      "image/png": "[encoded data removed]",
      "text/plain": [
       "<Figure size 432x288 with 1 Axes>"
      ]
     },
     "metadata": {
      "needs_background": "light"
     },
     "output_type": "display_data"
    }
   ],
   "source": [
    "plt.bar(sfreqs.keys(),sfreqs.values())\n",
    "ax = plt.gca()\n",
    "ax.get_xaxis().set_visible(False)\n",
    "plt.show()"
   ]
  },
  {
   "cell_type": "markdown",
   "id": "b378d713-44d3-4dfa-984d-f8d659bb7847",
   "metadata": {},
   "source": [
    "202211281515: Status - there are still many names in the file list with patterns like 20200807 or digits like '22', '18', etc. that should be filtered out before use."
   ]
  },
  {
   "cell_type": "markdown",
   "id": "70cea82d-2b5c-45cc-9aea-4b24ea2f4075",
   "metadata": {},
   "source": [
    "things to look for:\n",
    "    \n",
    "    20201118\n",
    "    20210720\n",
    "    20210210\n",
    "    july72021\n",
    "    20210310\n",
    "    20210708"
   ]
  },
  {
   "cell_type": "code",
   "execution_count": 116,
   "id": "81b270ef-0d6c-4f78-bb63-b9761a83e8a7",
   "metadata": {},
   "outputs": [
    {
     "data": {
      "text/plain": [
       "2"
      ]
     },
     "execution_count": 116,
     "metadata": {},
     "output_type": "execute_result"
    }
   ],
   "source": [
    "t1 = find_processed_by_term(proced,'20201118')\n",
    "len(t1)"
   ]
  },
  {
   "cell_type": "code",
   "execution_count": 117,
   "id": "4173fa11-b2da-4f00-b52f-ec427a4bbd1d",
   "metadata": {},
   "outputs": [
    {
     "data": {
      "text/plain": [
       "[704, 878]"
      ]
     },
     "execution_count": 117,
     "metadata": {},
     "output_type": "execute_result"
    }
   ],
   "source": [
    "ids = [p['metadataCollectionId'] for p in t1]\n",
    "ids"
   ]
  },
  {
   "cell_type": "code",
   "execution_count": 123,
   "id": "958736e0-cfc4-4edb-96d8-104f35784f8a",
   "metadata": {},
   "outputs": [],
   "source": [
    "# ok. find file name by id...\n",
    "\n",
    "def get_entry_by_id(plist,id):\n",
    "    for p in plist:\n",
    "        if p['metadataCollectionId'] == id:\n",
    "            return p\n",
    "    return None\n",
    "\n",
    "def get_file_names_by_entry_and_string(plist,id,str_val):\n",
    "    res =[]\n",
    "    ent = get_entry_by_id(plist,id)\n",
    "    if ent is None:\n",
    "        return None\n",
    "    for fname  in ent['files']:\n",
    "        if fname.find(str_val) > 0:\n",
    "            res.append(str_val)\n",
    "    return res\n",
    "    \n",
    "    "
   ]
  },
  {
   "cell_type": "code",
   "execution_count": 126,
   "id": "e9f8f5b7-93d0-4515-ac97-78bba1462590",
   "metadata": {},
   "outputs": [],
   "source": [
    "matches =  get_file_names_by_entry_and_string(proced,704,'20201118')"
   ]
  },
  {
   "cell_type": "code",
   "execution_count": 130,
   "id": "36390ffd-5b19-4526-82f5-18b9b6987c60",
   "metadata": {},
   "outputs": [],
   "source": [
    "e704=get_entry_by_id(proced,704)"
   ]
  },
  {
   "cell_type": "code",
   "execution_count": 139,
   "id": "541c9574-5bef-4303-8e61-99fcee848063",
   "metadata": {},
   "outputs": [],
   "source": [
    "files = [fname for fname in e704['files'] if fname.startswith('syndromic') >0 ]"
   ]
  },
  {
   "cell_type": "code",
   "execution_count": 142,
   "id": "a4b3a782-bd2d-460c-beed-a9412b9768a3",
   "metadata": {},
   "outputs": [
    {
     "data": {
      "text/plain": [
       "['syndromic-surveillance-gating-criteria_EXPORT_hospital_surge_capacity_covid-19-maine_2020-11-18.csv',\n",
       " 'syndromic-surveillance-gating-criteria_EXPORT_cases_by_county_covid-19-v2_2020-11-18.csv']"
      ]
     },
     "execution_count": 142,
     "metadata": {},
     "output_type": "execute_result"
    }
   ],
   "source": [
    "files"
   ]
  },
  {
   "cell_type": "code",
   "execution_count": 143,
   "id": "a0fd77ab-ace0-437f-9dd6-663525c049f9",
   "metadata": {},
   "outputs": [
    {
     "data": {
      "text/plain": [
       "[(['syndromicsurveillancegatingcriteria',\n",
       "   'export',\n",
       "   'hospital',\n",
       "   'surge',\n",
       "   'capacity',\n",
       "   'covid19maine',\n",
       "   '20201118'],\n",
       "  'csv')]"
      ]
     },
     "execution_count": 143,
     "metadata": {},
     "output_type": "execute_result"
    }
   ],
   "source": [
    "e704['processed'][29:30]"
   ]
  },
  {
   "cell_type": "code",
   "execution_count": 144,
   "id": "458722b9-e32d-4f2f-bca8-8ed33e144b08",
   "metadata": {},
   "outputs": [],
   "source": [
    "(samp1,samp2) = files"
   ]
  },
  {
   "cell_type": "markdown",
   "id": "30a5d41e-1656-49e1-a129-4c78d9ef125c",
   "metadata": {},
   "source": [
    "---- \n",
    "# NMF Clustering\n",
    "\n",
    "* https://predictivehacks.com/topic-modelling-with-nmf-in-python/\n",
    "* https://towardsdatascience.com/nmf-a-visual-explainer-and-python-implementation-7ecdd73491f8\n",
    "\n",
    "TOBEDONE"
   ]
  },
  {
   "cell_type": "code",
   "execution_count": null,
   "id": "08635b91-5d57-4084-97df-97e1b98d2992",
   "metadata": {},
   "outputs": [],
   "source": []
  }
 ],
 "metadata": {
  "kernelspec": {
   "display_name": "Python [conda env:py310] *",
   "language": "python",
   "name": "conda-env-py310-py"
  },
  "language_info": {
   "codemirror_mode": {
    "name": "ipython",
    "version": 3
   },
   "file_extension": ".py",
   "mimetype": "text/x-python",
   "name": "python",
   "nbconvert_exporter": "python",
   "pygments_lexer": "ipython3",
   "version": "3.10.2"
  }
 },
 "nbformat": 4,
 "nbformat_minor": 5
}
